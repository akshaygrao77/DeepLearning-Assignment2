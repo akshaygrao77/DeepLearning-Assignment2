{
  "nbformat": 4,
  "nbformat_minor": 0,
  "metadata": {
    "colab": {
      "name": "PART_A.ipynb",
      "provenance": [],
      "collapsed_sections": [],
      "authorship_tag": "ABX9TyMQfU9gYcrpIIUb8CXfTcLr",
      "include_colab_link": true
    },
    "kernelspec": {
      "name": "python3",
      "display_name": "Python 3"
    },
    "language_info": {
      "name": "python"
    }
  },
  "cells": [
    {
      "cell_type": "markdown",
      "metadata": {
        "id": "view-in-github",
        "colab_type": "text"
      },
      "source": [
        "<a href=\"https://colab.research.google.com/github/akshaygrao77/DeepLearning-Assignment2/blob/main/PART_A.ipynb\" target=\"_parent\"><img src=\"https://colab.research.google.com/assets/colab-badge.svg\" alt=\"Open In Colab\"/></a>"
      ]
    },
    {
      "cell_type": "code",
      "execution_count": 30,
      "metadata": {
        "colab": {
          "base_uri": "https://localhost:8080/"
        },
        "id": "aQHrzscZjmv_",
        "outputId": "d13c00a4-e827-4452-93bb-d23aa902ab19"
      },
      "outputs": [
        {
          "output_type": "stream",
          "name": "stdout",
          "text": [
            "Requirement already satisfied: wandb in /usr/local/lib/python3.7/dist-packages (0.12.11)\n",
            "Requirement already satisfied: pathtools in /usr/local/lib/python3.7/dist-packages (from wandb) (0.1.2)\n",
            "Requirement already satisfied: PyYAML in /usr/local/lib/python3.7/dist-packages (from wandb) (3.13)\n",
            "Requirement already satisfied: requests<3,>=2.0.0 in /usr/local/lib/python3.7/dist-packages (from wandb) (2.23.0)\n",
            "Requirement already satisfied: GitPython>=1.0.0 in /usr/local/lib/python3.7/dist-packages (from wandb) (3.1.27)\n",
            "Requirement already satisfied: promise<3,>=2.0 in /usr/local/lib/python3.7/dist-packages (from wandb) (2.3)\n",
            "Requirement already satisfied: shortuuid>=0.5.0 in /usr/local/lib/python3.7/dist-packages (from wandb) (1.0.8)\n",
            "Requirement already satisfied: six>=1.13.0 in /usr/local/lib/python3.7/dist-packages (from wandb) (1.15.0)\n",
            "Requirement already satisfied: docker-pycreds>=0.4.0 in /usr/local/lib/python3.7/dist-packages (from wandb) (0.4.0)\n",
            "Requirement already satisfied: setproctitle in /usr/local/lib/python3.7/dist-packages (from wandb) (1.2.2)\n",
            "Requirement already satisfied: python-dateutil>=2.6.1 in /usr/local/lib/python3.7/dist-packages (from wandb) (2.8.2)\n",
            "Requirement already satisfied: sentry-sdk>=1.0.0 in /usr/local/lib/python3.7/dist-packages (from wandb) (1.5.8)\n",
            "Requirement already satisfied: psutil>=5.0.0 in /usr/local/lib/python3.7/dist-packages (from wandb) (5.4.8)\n",
            "Requirement already satisfied: Click!=8.0.0,>=7.0 in /usr/local/lib/python3.7/dist-packages (from wandb) (7.1.2)\n",
            "Requirement already satisfied: yaspin>=1.0.0 in /usr/local/lib/python3.7/dist-packages (from wandb) (2.1.0)\n",
            "Requirement already satisfied: protobuf>=3.12.0 in /usr/local/lib/python3.7/dist-packages (from wandb) (3.17.3)\n",
            "Requirement already satisfied: gitdb<5,>=4.0.1 in /usr/local/lib/python3.7/dist-packages (from GitPython>=1.0.0->wandb) (4.0.9)\n",
            "Requirement already satisfied: typing-extensions>=3.7.4.3 in /usr/local/lib/python3.7/dist-packages (from GitPython>=1.0.0->wandb) (3.10.0.2)\n",
            "Requirement already satisfied: smmap<6,>=3.0.1 in /usr/local/lib/python3.7/dist-packages (from gitdb<5,>=4.0.1->GitPython>=1.0.0->wandb) (5.0.0)\n",
            "Requirement already satisfied: urllib3!=1.25.0,!=1.25.1,<1.26,>=1.21.1 in /usr/local/lib/python3.7/dist-packages (from requests<3,>=2.0.0->wandb) (1.24.3)\n",
            "Requirement already satisfied: certifi>=2017.4.17 in /usr/local/lib/python3.7/dist-packages (from requests<3,>=2.0.0->wandb) (2021.10.8)\n",
            "Requirement already satisfied: chardet<4,>=3.0.2 in /usr/local/lib/python3.7/dist-packages (from requests<3,>=2.0.0->wandb) (3.0.4)\n",
            "Requirement already satisfied: idna<3,>=2.5 in /usr/local/lib/python3.7/dist-packages (from requests<3,>=2.0.0->wandb) (2.10)\n",
            "Requirement already satisfied: termcolor<2.0.0,>=1.1.0 in /usr/local/lib/python3.7/dist-packages (from yaspin>=1.0.0->wandb) (1.1.0)\n"
          ]
        }
      ],
      "source": [
        "#Import and install required libraries\n",
        "import os\n",
        "import glob\n",
        "import tensorflow as tf\n",
        "from tensorflow import keras\n",
        "from tensorflow.keras.preprocessing.image import ImageDataGenerator\n",
        "from tensorflow.keras.models import Sequential, Model\n",
        "from tensorflow.keras.layers import Dense, Flatten, Conv2D, MaxPooling2D, Activation, Dropout, BatchNormalization\n",
        "import numpy as np\n",
        "\n",
        "!pip install wandb\n",
        "import wandb\n",
        "from wandb.keras import WandbCallback\n",
        "\n",
        "from PIL import Image\n",
        "\n",
        "%matplotlib inline\n",
        "%config InlineBackend.figure_format = 'svg'\n",
        "import matplotlib.pyplot as plt\n",
        "import matplotlib.image as mpimg"
      ]
    },
    {
      "cell_type": "code",
      "source": [
        ""
      ],
      "metadata": {
        "id": "ydeuXv4h7KwO"
      },
      "execution_count": 30,
      "outputs": []
    },
    {
      "cell_type": "code",
      "source": [
        "#Mount google drive\n",
        "from google.colab import drive\n",
        "drive.mount('/content/drive')"
      ],
      "metadata": {
        "colab": {
          "base_uri": "https://localhost:8080/"
        },
        "id": "0TuvWgGwkuR0",
        "outputId": "3e9e16f9-ed2d-4968-ab4e-39e57626b660"
      },
      "execution_count": 31,
      "outputs": [
        {
          "output_type": "stream",
          "name": "stdout",
          "text": [
            "Drive already mounted at /content/drive; to attempt to forcibly remount, call drive.mount(\"/content/drive\", force_remount=True).\n"
          ]
        }
      ]
    },
    {
      "cell_type": "code",
      "source": [
        "\n",
        "#Unzip and load file data file onto server, then delete zip file for optimizing performance\n",
        "zip_path = \"drive/MyDrive/nature_12K.zip\"\n",
        "!cp \"{zip_path}\" .\n",
        "!unzip -q nature_12K.zip\n",
        "!rm nature_12K.zip"
      ],
      "metadata": {
        "id": "rq-vHP-llAzH",
        "colab": {
          "base_uri": "https://localhost:8080/"
        },
        "outputId": "22530f1c-5155-4319-98b2-583ac9b23e6e"
      },
      "execution_count": 32,
      "outputs": [
        {
          "output_type": "stream",
          "name": "stdout",
          "text": [
            "replace inaturalist_12K/.DS_Store? [y]es, [n]o, [A]ll, [N]one, [r]ename: y\n",
            "replace inaturalist_12K/train/Plantae/1dfc3916ad58af6ce9af9fc8b36ceedd.jpg? [y]es, [n]o, [A]ll, [N]one, [r]ename: A\n",
            "y\n"
          ]
        }
      ]
    },
    {
      "cell_type": "code",
      "source": [
        "##  building of CNN Model\n",
        "def CNN_Model(num_filters=32, filter_multiplier=1, dropout=0.2, batch_norm=False, dense_size=64, num_classes=10, image_size=200):\n",
        "    cnn_model = Sequential()\n",
        "    \n",
        "    for i in range(5):\n",
        "        filter_dim = 11 - 2*i\n",
        "        filter_size = (filter_dim, filter_dim)\n",
        "        if i==0:\n",
        "            cnn_model.add(Conv2D(num_filters, filter_size, input_shape=(image_size, image_size, 3), data_format=\"channels_last\"))\n",
        "        else:\n",
        "            cnn_model.add(Conv2D(num_filters, filter_size))\n",
        "        if batch_norm:\n",
        "            cnn_model.add(BatchNormalization())\n",
        "        cnn_model.add(Activation(\"relu\"))\n",
        "        cnn_model.add(MaxPooling2D(pool_size=(2,2)))\n",
        "        num_filters = int(num_filters * filter_multiplier)\n",
        "    \n",
        "    cnn_model.add(Flatten())\n",
        "    cnn_model.add(Dense(dense_size))\n",
        "    cnn_model.add(Dropout(dropout))\n",
        "    cnn_model.add(Activation(\"relu\"))\n",
        "    cnn_model.add(Dense(num_classes))\n",
        "    cnn_model.add(Activation(\"softmax\"))\n",
        "\n",
        "    return cnn_model"
      ],
      "metadata": {
        "id": "CGlQYAwqrMBD"
      },
      "execution_count": 33,
      "outputs": []
    },
    {
      "cell_type": "code",
      "source": [
        "## Prepare the dataset for training\n",
        "def prepare_dataset(DATA_DIR=\"inaturalist_12K\", augment_data=False):\n",
        "    train_dir = os.path.join(DATA_DIR, \"train\")\n",
        "    test_dir = os.path.join(DATA_DIR, \"val\")\n",
        "\n",
        "    if augment_data:\n",
        "        train_datagen = ImageDataGenerator(rescale=1./255,\n",
        "                                          rotation_range=90,\n",
        "                                          zoom_range=0.2,\n",
        "                                          shear_range=0.2,\n",
        "                                          validation_split=0.1,\n",
        "                                          horizontal_flip=True)\n",
        "        test_datagen = ImageDataGenerator(rescale=1./255)\n",
        "\n",
        "    else:\n",
        "        train_datagen = ImageDataGenerator(rescale=1./255, validation_split=0.1)\n",
        "        test_datagen = ImageDataGenerator(rescale=1./255)\n",
        "\n",
        "    train_generator = train_datagen.flow_from_directory(train_dir, target_size=(200, 200), batch_size=256, subset=\"training\")\n",
        "    val_generator = train_datagen.flow_from_directory(train_dir, target_size=(200, 200), batch_size=256, subset=\"validation\")\n",
        "    test_generator = test_datagen.flow_from_directory(test_dir, target_size=(200, 200), batch_size=256)\n",
        "    \n",
        "    return train_generator, val_generator, test_generator;"
      ],
      "metadata": {
        "id": "R9U6xd1Z7NJF"
      },
      "execution_count": 34,
      "outputs": []
    },
    {
      "cell_type": "code",
      "source": [
        "#Customise run names for WandB to enhance readability\n",
        "def setRunName(num_filters=32, filter_multiplier=1, augment_data=False, dropout=0.2, batch_norm=False):\n",
        "    \n",
        "    augment_data_options = {True: \"Y\", False: \"N\"}\n",
        "    batch_norm_options = {True: \"Y\", False: \"N\"}\n",
        "\n",
        "    run_name = \"_\".join([\"num\", str(num_filters), \"org\", str(filter_multiplier), \"aug\", augment_data_options[augment_data],\n",
        "                      \"drop\", str(dropout), \"norm\", batch_norm_options[batch_norm]])\n",
        "    \n",
        "    return run_name;"
      ],
      "metadata": {
        "id": "XYk6pP-w7Wj-"
      },
      "execution_count": 35,
      "outputs": []
    },
    {
      "cell_type": "code",
      "source": [
        "#Integrate WandB with training and validation process\n",
        "def train():\n",
        "\n",
        "    config_defaults = {\n",
        "        \"num_filters\": 32,\n",
        "        \"filter_multiplier\": 2,\n",
        "        \"augment_data\": False,\n",
        "        \"dropout\": 0.3,\n",
        "        \"batch_norm\": False,\n",
        "        \"epochs\": 10,\n",
        "        \"dense_size\": 64,\n",
        "        \"lr\": 0.001\n",
        "    }\n",
        "    wandb.init(config=config_defaults, magic=True)\n",
        "    config = wandb.config\n",
        "    wandb.run.name = setRunName(config.num_filters, config.filter_multiplier, config.augment_data, config.dropout, config.batch_norm)\n",
        "\n",
        "    train_generator, val_generator, test_generator = prepare_dataset(augment_data=config.augment_data)\n",
        "    model = CNN_Model(num_filters=config.num_filters, filter_multiplier=config.filter_multiplier,\n",
        "                      dropout=config.dropout, batch_norm=config.batch_norm, dense_size=config.dense_size)\n",
        "    model.compile(optimizer=keras.optimizers.Adam(config.lr), loss=\"categorical_crossentropy\", metrics=\"categorical_accuracy\")\n",
        "    model.fit(train_generator, epochs=config.epochs, validation_data=val_generator, callbacks=[WandbCallback()])"
      ],
      "metadata": {
        "id": "JjNp8sEG7fA2"
      },
      "execution_count": 36,
      "outputs": []
    },
    {
      "cell_type": "code",
      "source": [
        "#Prepare training and test generators for testing\n",
        "def prepare_test_dataset(DATA_DIR=\"inaturalist_12K\", augment_data=False, image_size=200):\n",
        "    train_dir = os.path.join(DATA_DIR, \"train\")\n",
        "    test_dir = os.path.join(DATA_DIR, \"val\")\n",
        "\n",
        "    if augment_data:\n",
        "        train_datagen = ImageDataGenerator(rescale=1./255,\n",
        "                                          rotation_range=90,\n",
        "                                          zoom_range=0.2,\n",
        "                                          shear_range=0.2,\n",
        "                                          horizontal_flip=True)\n",
        "        test_datagen = ImageDataGenerator(rescale=1./255)\n",
        "\n",
        "    else:\n",
        "        train_datagen = ImageDataGenerator(rescale=1./255)\n",
        "        test_datagen = ImageDataGenerator(rescale=1./255)\n",
        "\n",
        "    train_generator = train_datagen.flow_from_directory(train_dir, target_size=(image_size, image_size), batch_size=256)\n",
        "    test_generator = test_datagen.flow_from_directory(test_dir, target_size=(image_size, image_size), batch_size=30)\n",
        "    \n",
        "    return train_generator, test_generator;"
      ],
      "metadata": {
        "id": "SmaUZOtm7-kA"
      },
      "execution_count": 37,
      "outputs": []
    },
    {
      "cell_type": "code",
      "source": [
        "#Display sample test images with their predictions and labels\n",
        "def plot_test_results(test_data, predictions, labels):\n",
        "    fig, ax = plt.subplots(nrows=5, ncols=6, figsize=(15,15))\n",
        "    output_map = {0: 'Amphibia', 1: 'Animalia', 2: 'Arachnida', 3: 'Aves', 4: 'Fungi', \n",
        "                  5: 'Insecta', 6: 'Mammalia', 7: 'Mollusca', 8: 'Plantae', 9: 'Reptilia'}\n",
        "    for i in range(30):\n",
        "        img = test_data[0][0][i]\n",
        "        ax[int(i/6), i%6].imshow(img)\n",
        "        ax[int(i/6), i%6].axis('off')\n",
        "        ax[int(i/6), i%6].set_aspect('equal')\n",
        "        ax[int(i/6), i%6].set_title(\"Predicted: \" + output_map[np.argmax(predictions, axis=1)[i]] + \"\\nLabel: \" + output_map[np.argmax(labels, axis=1)[i]])"
      ],
      "metadata": {
        "id": "q6lP52Hv8CvH"
      },
      "execution_count": 38,
      "outputs": []
    },
    {
      "cell_type": "code",
      "source": [
        "#Visualise feature maps from the first Conv layer for a test image\n",
        "def plot_filters(model, test_data, sample_num):\n",
        "    sub_model = Model(inputs=model.inputs, outputs=model.layers[1].output)\n",
        "    plt.imshow(test_data[0][0][sample_num])\n",
        "    plt.axis('off')\n",
        "    feature_maps = sub_model(test_data[0][0])\n",
        "    fig, ax = plt.subplots(4, 8, figsize=(12,6))\n",
        "    for i in range(feature_maps.shape[-1]):\n",
        "        ax[int(i/8), i%8].imshow(feature_maps[sample_num, :, :, i], cmap='gray')\n",
        "        ax[int(i/8), i%8].axis('off')"
      ],
      "metadata": {
        "id": "4Rkk0p7V8G8v"
      },
      "execution_count": 39,
      "outputs": []
    },
    {
      "cell_type": "code",
      "source": [
        "#Integrate WandB with testing and evaluation process\n",
        "def test():\n",
        "\n",
        "    config_defaults = {\n",
        "        \"num_filters\": 32,\n",
        "        \"filter_multiplier\": 2,\n",
        "        \"augment_data\": True,\n",
        "        \"dropout\": 0.3,\n",
        "        \"batch_norm\": True,\n",
        "        \"epochs\": 10,\n",
        "        \"dense_size\": 64,\n",
        "        \"lr\": 0.001\n",
        "    }\n",
        "\n",
        "    wandb.init(config=config_defaults, magic=True)\n",
        "    config = wandb.config\n",
        "    wandb.run.name = setRunName(config.num_filters, config.filter_multiplier, config.augment_data, config.dropout, config.batch_norm)\n",
        "\n",
        "    train_generator, test_generator = prepare_test_dataset(augment_data=config.augment_data, image_size=256)\n",
        "    model = CNN_Model(num_filters=config.num_filters, filter_multiplier=config.filter_multiplier,\n",
        "                      dropout=config.dropout, batch_norm=config.batch_norm, dense_size=config.dense_size, image_size=256)\n",
        "    model.compile(optimizer=keras.optimizers.Adam(config.lr), loss=\"categorical_crossentropy\", metrics=\"categorical_accuracy\")\n",
        "    model.fit(train_generator, epochs=config.epochs, callbacks=[WandbCallback()])\n",
        "\n",
        "    print(\"Evaluating Model:\")\n",
        "    model.evaluate(test_generator, batch_size=256)\n",
        "    predictions = model(test_generator[0][0])\n",
        "    plot_test_results(test_generator, predictions, test_generator[0][1])\n",
        "    sample_num = 11\n",
        "    plot_filters(model, test_generator, sample_num)\n",
        "    model.save(\"Best_model.h5\")"
      ],
      "metadata": {
        "id": "IWEO2UXU8OpU"
      },
      "execution_count": 40,
      "outputs": []
    },
    {
      "cell_type": "code",
      "source": [
        "#Set up a sweep config\n",
        "sweep_config = {\n",
        "    \"name\": \"Test and Save Best Model Again\",\n",
        "    \"description\": \"Checking the performance of CNN on sample of test data\",\n",
        "    \"metric\": \"Val Accuracy\",\n",
        "    \"method\": \"grid\",\n",
        "    \"project\": \"CS6910_Assignment2\",\n",
        "    \"parameters\": {\n",
        "        \"num_filters\": {\n",
        "            \"values\": [32]\n",
        "        },\n",
        "        \"filter_multiplier\": {\n",
        "            \"values\": [2]\n",
        "        },\n",
        "        \"augment_data\": {\n",
        "            \"values\": [True]\n",
        "        },\n",
        "        \"dropout\": {\n",
        "            \"values\": [0.3]\n",
        "        },\n",
        "        \"batch_norm\": {\n",
        "            \"values\": [True]\n",
        "        },\n",
        "        \"epochs\": {\n",
        "            \"values\": [1]\n",
        "        },\n",
        "        \"dense_size\": {\n",
        "            \"values\": [64]\n",
        "        },\n",
        "        \"lr\": {\n",
        "            \"values\": [0.001]\n",
        "        },\n",
        "        \"epochs\": {\n",
        "            \"values\": [10]\n",
        "        }\n",
        "    }\n",
        "}\n",
        "\n",
        "# creating the sweep\n",
        "sweep_id = wandb.sweep(sweep_config, project=\"CS6910_Assignment2\")"
      ],
      "metadata": {
        "colab": {
          "base_uri": "https://localhost:8080/"
        },
        "id": "7XW1c4ejrVXf",
        "outputId": "948146d7-c269-4d15-c64e-b8cb941ab401"
      },
      "execution_count": 41,
      "outputs": [
        {
          "output_type": "stream",
          "name": "stderr",
          "text": [
            "\u001b[34m\u001b[1mwandb\u001b[0m: \u001b[33mWARNING\u001b[0m Malformed sweep config detected! This may cause your sweep to behave in unexpected ways.\n",
            "\u001b[34m\u001b[1mwandb\u001b[0m: \u001b[33mWARNING\u001b[0m To avoid this, please fix the sweep config schema violations below:\n",
            "\u001b[34m\u001b[1mwandb\u001b[0m: \u001b[33mWARNING\u001b[0m   Violation 1. 'Val Accuracy' is not of type 'object'\n"
          ]
        },
        {
          "output_type": "stream",
          "name": "stdout",
          "text": [
            "Create sweep with ID: 2xy9o64w\n",
            "Sweep URL: https://wandb.ai/manu_data_analyst/CS6910_Assignment2/sweeps/2xy9o64w\n"
          ]
        }
      ]
    },
    {
      "cell_type": "code",
      "source": [
        "wandb.agent(sweep_id, function=test)"
      ],
      "metadata": {
        "colab": {
          "base_uri": "https://localhost:8080/",
          "height": 312
        },
        "id": "a0MH5GaarbgK",
        "outputId": "5a31758e-f5da-4d77-c62c-3e3e1f4d37fe"
      },
      "execution_count": null,
      "outputs": [
        {
          "metadata": {
            "tags": null
          },
          "name": "stderr",
          "output_type": "stream",
          "text": [
            "\u001b[34m\u001b[1mwandb\u001b[0m: Agent Starting Run: yj6x7fx5 with config:\n",
            "\u001b[34m\u001b[1mwandb\u001b[0m: \taugment_data: True\n",
            "\u001b[34m\u001b[1mwandb\u001b[0m: \tbatch_norm: True\n",
            "\u001b[34m\u001b[1mwandb\u001b[0m: \tdense_size: 64\n",
            "\u001b[34m\u001b[1mwandb\u001b[0m: \tdropout: 0.3\n",
            "\u001b[34m\u001b[1mwandb\u001b[0m: \tepochs: 10\n",
            "\u001b[34m\u001b[1mwandb\u001b[0m: \tfilter_multiplier: 2\n",
            "\u001b[34m\u001b[1mwandb\u001b[0m: \tlr: 0.001\n",
            "\u001b[34m\u001b[1mwandb\u001b[0m: \tnum_filters: 32\n"
          ]
        },
        {
          "data": {
            "text/html": [
              "Tracking run with wandb version 0.12.11"
            ],
            "text/plain": [
              "<IPython.core.display.HTML object>"
            ]
          },
          "metadata": {},
          "output_type": "display_data"
        },
        {
          "data": {
            "text/html": [
              "Run data is saved locally in <code>/content/wandb/run-20220327_093338-yj6x7fx5</code>"
            ],
            "text/plain": [
              "<IPython.core.display.HTML object>"
            ]
          },
          "metadata": {},
          "output_type": "display_data"
        },
        {
          "data": {
            "text/html": [
              "Syncing run <strong><a href=\"https://wandb.ai/manu_data_analyst/CS6910_Assignment2/runs/yj6x7fx5\" target=\"_blank\">earthy-sweep-1</a></strong> to <a href=\"https://wandb.ai/manu_data_analyst/CS6910_Assignment2\" target=\"_blank\">Weights & Biases</a> (<a href=\"https://wandb.me/run\" target=\"_blank\">docs</a>)<br/>Sweep page:  <a href=\"https://wandb.ai/manu_data_analyst/CS6910_Assignment2/sweeps/2xy9o64w\" target=\"_blank\">https://wandb.ai/manu_data_analyst/CS6910_Assignment2/sweeps/2xy9o64w</a>"
            ],
            "text/plain": [
              "<IPython.core.display.HTML object>"
            ]
          },
          "metadata": {},
          "output_type": "display_data"
        },
        {
          "metadata": {
            "tags": null
          },
          "name": "stdout",
          "output_type": "stream",
          "text": [
            "Found 9999 images belonging to 10 classes.\n",
            "Found 2000 images belonging to 10 classes.\n",
            "Epoch 1/10\n",
            "32/40 [=======================>......] - ETA: 26:56 - loss: 2.6354 - categorical_accuracy: 0.1055"
          ]
        }
      ]
    },
    {
      "cell_type": "code",
      "source": [
        "train_generator, test_generator = prepare_test_dataset(image_size=256)"
      ],
      "metadata": {
        "id": "Arf0JpI2rcst"
      },
      "execution_count": null,
      "outputs": []
    },
    {
      "cell_type": "code",
      "source": [
        "model = keras.models.load_model(\"Best_model.h5\")"
      ],
      "metadata": {
        "id": "JSMNfdtprgkc"
      },
      "execution_count": null,
      "outputs": []
    },
    {
      "cell_type": "code",
      "source": [
        "def guided_backprop(model_path, n_images):\n",
        "\n",
        "    # loading the data and the model\n",
        "    train_generator, test_generator = prepare_test_dataset(image_size=256)\n",
        "    model = tf.keras.models.load_model(model_path)\n",
        "\n",
        "    # take upto 5th convolutional layer\n",
        "    model_upto_conv5 = tf.keras.models.Model([model.inputs],[model.get_layer(\"conv2d_4\").output])\n",
        "\n",
        "    # creating a custom gradient to track actual non-zero gradients\n",
        "    @tf.custom_gradient\n",
        "    def guidedRelU(x):\n",
        "        def grad(dy):\n",
        "            return tf.cast(dy>0, tf.float32) * tf.cast(x>0, tf.float32) * dy\n",
        "        return tf.nn.relu(x), grad\n",
        "\n",
        "    for layer in model.layers[1:]:\n",
        "        if hasattr(layer, 'activation') and layer.activation==tf.keras.activations.relu:\n",
        "            layer.activation = guidedRelU\n",
        "\n",
        "    # plotting the images\n",
        "    fig, axs = plt.subplots(n_images, 2, figsize=(2*4, n_images*4))\n",
        "    inputs = tf.convert_to_tensor(test_generator[0][0][:n_images], dtype=tf.float32)\n",
        "\n",
        "    for i in range(n_images):\n",
        "\n",
        "        with tf.GradientTape() as tape:\n",
        "            input = tf.expand_dims(inputs[i], 0)\n",
        "            tape.watch(input)\n",
        "            output = model_upto_conv5(input)[0]\n",
        "        \n",
        "        gradients = tape.gradient(output,input)[0]\n",
        "\n",
        "        axs[i][0].set_title(\"Original Image\")\n",
        "        axs[i][0].imshow(inputs[i])\n",
        "        axs[i][1].set_title(\"Guided backpropagation\")\n",
        "        axs[i][1].imshow(gradients)\n",
        "\n",
        "    plt.show()"
      ],
      "metadata": {
        "id": "lWBQtS4WrrWy"
      },
      "execution_count": null,
      "outputs": []
    },
    {
      "cell_type": "code",
      "source": [
        "guided_backprop(\"Best_model.h5\", 10)"
      ],
      "metadata": {
        "id": "qT3ayXikru8g"
      },
      "execution_count": null,
      "outputs": []
    }
  ]
}