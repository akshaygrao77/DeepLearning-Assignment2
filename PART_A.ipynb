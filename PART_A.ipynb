{
  "cells": [
    {
      "cell_type": "markdown",
      "metadata": {
        "id": "view-in-github",
        "colab_type": "text"
      },
      "source": [
        "<a href=\"https://colab.research.google.com/github/akshaygrao77/DeepLearning-Assignment2/blob/main/PART_A.ipynb\" target=\"_parent\"><img src=\"https://colab.research.google.com/assets/colab-badge.svg\" alt=\"Open In Colab\"/></a>"
      ]
    },
    {
      "cell_type": "code",
      "source": [
        "%%capture\n",
        "!curl -SL https://storage.googleapis.com/wandb_datasets/nature_12K.zip > dataset.zip"
      ],
      "metadata": {
        "id": "H0VBBPiG-FCI"
      },
      "execution_count": 1,
      "outputs": []
    },
    {
      "cell_type": "code",
      "source": [
        "!unzip dataset.zip"
      ],
      "metadata": {
        "id": "o2xXgKzC-M-S",
        "colab": {
          "base_uri": "https://localhost:8080/"
        },
        "outputId": "e73e4723-1a81-4aa6-c052-2db55d5f8702"
      },
      "execution_count": 2,
      "outputs": [
        {
          "output_type": "stream",
          "name": "stdout",
          "text": [
            "Archive:  dataset.zip\n",
            "replace inaturalist_12K/.DS_Store? [y]es, [n]o, [A]ll, [N]one, [r]ename: N\n"
          ]
        }
      ]
    },
    {
      "cell_type": "code",
      "source": [
        "#Import and install required libraries\n",
        "import os\n",
        "import glob\n",
        "import tensorflow as tf\n",
        "\n",
        "import tensorflow as tf\n",
        "from tensorflow import keras\n",
        "from keras.models import Sequential, Model\n",
        "from keras.layers import *\n",
        "from keras.optimizers import *\n",
        "from keras.preprocessing.image import ImageDataGenerator\n",
        "from keras.utils.vis_utils import plot_model\n",
        "from keras.callbacks import History\n",
        "import numpy as np\n",
        "import matplotlib.pyplot as plt\n",
        "from PIL import Image\n",
        "import os\n",
        "import cv2\n",
        "!pip install wandb\n",
        "!wandb login\n",
        "import wandb\n",
        "from wandb.keras import WandbCallback\n",
        "import os\n",
        "from PIL import Image\n",
        "\n",
        "%matplotlib inline\n",
        "%config InlineBackend.figure_format = 'svg'\n",
        "import matplotlib.pyplot as plt\n",
        "import matplotlib.image as mpimg\n",
        "from keras.layers import LeakyReLU\n",
        "from keras.layers import PReLU\n",
        "from keras.initializers import Constant"
      ],
      "metadata": {
        "id": "d8fj2YtYQDwW",
        "colab": {
          "base_uri": "https://localhost:8080/"
        },
        "outputId": "62f48c48-1546-4ecf-9d19-c49b804afbc6"
      },
      "execution_count": 3,
      "outputs": [
        {
          "output_type": "stream",
          "name": "stdout",
          "text": [
            "Requirement already satisfied: wandb in /usr/local/lib/python3.7/dist-packages (0.12.11)\n",
            "Requirement already satisfied: yaspin>=1.0.0 in /usr/local/lib/python3.7/dist-packages (from wandb) (2.1.0)\n",
            "Requirement already satisfied: six>=1.13.0 in /usr/local/lib/python3.7/dist-packages (from wandb) (1.15.0)\n",
            "Requirement already satisfied: protobuf>=3.12.0 in /usr/local/lib/python3.7/dist-packages (from wandb) (3.17.3)\n",
            "Requirement already satisfied: promise<3,>=2.0 in /usr/local/lib/python3.7/dist-packages (from wandb) (2.3)\n",
            "Requirement already satisfied: psutil>=5.0.0 in /usr/local/lib/python3.7/dist-packages (from wandb) (5.4.8)\n",
            "Requirement already satisfied: shortuuid>=0.5.0 in /usr/local/lib/python3.7/dist-packages (from wandb) (1.0.8)\n",
            "Requirement already satisfied: pathtools in /usr/local/lib/python3.7/dist-packages (from wandb) (0.1.2)\n",
            "Requirement already satisfied: docker-pycreds>=0.4.0 in /usr/local/lib/python3.7/dist-packages (from wandb) (0.4.0)\n",
            "Requirement already satisfied: setproctitle in /usr/local/lib/python3.7/dist-packages (from wandb) (1.2.2)\n",
            "Requirement already satisfied: Click!=8.0.0,>=7.0 in /usr/local/lib/python3.7/dist-packages (from wandb) (7.1.2)\n",
            "Requirement already satisfied: PyYAML in /usr/local/lib/python3.7/dist-packages (from wandb) (3.13)\n",
            "Requirement already satisfied: GitPython>=1.0.0 in /usr/local/lib/python3.7/dist-packages (from wandb) (3.1.27)\n",
            "Requirement already satisfied: sentry-sdk>=1.0.0 in /usr/local/lib/python3.7/dist-packages (from wandb) (1.5.8)\n",
            "Requirement already satisfied: requests<3,>=2.0.0 in /usr/local/lib/python3.7/dist-packages (from wandb) (2.23.0)\n",
            "Requirement already satisfied: python-dateutil>=2.6.1 in /usr/local/lib/python3.7/dist-packages (from wandb) (2.8.2)\n",
            "Requirement already satisfied: typing-extensions>=3.7.4.3 in /usr/local/lib/python3.7/dist-packages (from GitPython>=1.0.0->wandb) (3.10.0.2)\n",
            "Requirement already satisfied: gitdb<5,>=4.0.1 in /usr/local/lib/python3.7/dist-packages (from GitPython>=1.0.0->wandb) (4.0.9)\n",
            "Requirement already satisfied: smmap<6,>=3.0.1 in /usr/local/lib/python3.7/dist-packages (from gitdb<5,>=4.0.1->GitPython>=1.0.0->wandb) (5.0.0)\n",
            "Requirement already satisfied: certifi>=2017.4.17 in /usr/local/lib/python3.7/dist-packages (from requests<3,>=2.0.0->wandb) (2021.10.8)\n",
            "Requirement already satisfied: chardet<4,>=3.0.2 in /usr/local/lib/python3.7/dist-packages (from requests<3,>=2.0.0->wandb) (3.0.4)\n",
            "Requirement already satisfied: idna<3,>=2.5 in /usr/local/lib/python3.7/dist-packages (from requests<3,>=2.0.0->wandb) (2.10)\n",
            "Requirement already satisfied: urllib3!=1.25.0,!=1.25.1,<1.26,>=1.21.1 in /usr/local/lib/python3.7/dist-packages (from requests<3,>=2.0.0->wandb) (1.24.3)\n",
            "Requirement already satisfied: termcolor<2.0.0,>=1.1.0 in /usr/local/lib/python3.7/dist-packages (from yaspin>=1.0.0->wandb) (1.1.0)\n",
            "\u001b[34m\u001b[1mwandb\u001b[0m: Currently logged in as: \u001b[33makshaygrao\u001b[0m (use `wandb login --relogin` to force relogin)\n"
          ]
        }
      ]
    },
    {
      "cell_type": "code",
      "source": [
        "import argparse"
      ],
      "metadata": {
        "id": "SRxGK7YqC3KV"
      },
      "execution_count": 4,
      "outputs": []
    },
    {
      "cell_type": "code",
      "execution_count": 5,
      "metadata": {
        "id": "euNbSGV-uiQZ"
      },
      "outputs": [],
      "source": [
        "train_Data_Path = os.getcwd()+\"/inaturalist_12K/train\"\n",
        "test_Data_Path = os.getcwd()+\"/inaturalist_12K/val\"\n",
        "\n",
        "width, height = 200, 200\n",
        "\n",
        "batch_size = 128"
      ]
    },
    {
      "cell_type": "code",
      "execution_count": 6,
      "metadata": {
        "id": "XHLz1V8otVdO",
        "colab": {
          "base_uri": "https://localhost:8080/",
          "height": 109
        },
        "outputId": "c6b8f3ec-802a-4c75-90c1-8d30230521ea"
      },
      "outputs": [
        {
          "output_type": "stream",
          "name": "stderr",
          "text": [
            "\u001b[34m\u001b[1mwandb\u001b[0m: Currently logged in as: \u001b[33makshaygrao\u001b[0m (use `wandb login --relogin` to force relogin)\n"
          ]
        },
        {
          "output_type": "display_data",
          "data": {
            "text/plain": [
              "<IPython.core.display.HTML object>"
            ],
            "text/html": [
              "Tracking run with wandb version 0.12.11"
            ]
          },
          "metadata": {}
        },
        {
          "output_type": "display_data",
          "data": {
            "text/plain": [
              "<IPython.core.display.HTML object>"
            ],
            "text/html": [
              "Run data is saved locally in <code>/content/wandb/run-20220403_163219-1x9dr43q</code>"
            ]
          },
          "metadata": {}
        },
        {
          "output_type": "display_data",
          "data": {
            "text/plain": [
              "<IPython.core.display.HTML object>"
            ],
            "text/html": [
              "Syncing run <strong><a href=\"https://wandb.ai/cs21s002-ee21s113-dlassignment-1/DLAssignment2/runs/1x9dr43q\" target=\"_blank\">northern-disco-101</a></strong> to <a href=\"https://wandb.ai/cs21s002-ee21s113-dlassignment-1/DLAssignment2\" target=\"_blank\">Weights & Biases</a> (<a href=\"https://wandb.me/run\" target=\"_blank\">docs</a>)<br/>"
            ]
          },
          "metadata": {}
        },
        {
          "output_type": "execute_result",
          "data": {
            "text/html": [
              "<button onClick=\"this.nextSibling.style.display='block';this.style.display='none';\">Display W&B run</button><iframe src=\"https://wandb.ai/cs21s002-ee21s113-dlassignment-1/DLAssignment2/runs/1x9dr43q?jupyter=true\" style=\"border:none;width:100%;height:420px;display:none;\"></iframe>"
            ],
            "text/plain": [
              "<wandb.sdk.wandb_run.Run at 0x7fdd7baed5d0>"
            ]
          },
          "metadata": {},
          "execution_count": 6
        }
      ],
      "source": [
        "wandb.init(project=\"DLAssignment2\", entity='cs21s002-ee21s113-dlassignment-1')\n",
        "#wandb.init(project=\"DeepLearningAssignment2-parta\", entity='akshaygrao')"
      ]
    },
    {
      "cell_type": "markdown",
      "source": [
        "# **BUILD CNN BASIC MODEL**"
      ],
      "metadata": {
        "id": "6LHuSCBaNNAS"
      }
    },
    {
      "cell_type": "code",
      "execution_count": 7,
      "metadata": {
        "id": "L8r6VJxqt6Ti"
      },
      "outputs": [],
      "source": [
        "def cnn_Model(filter_list=[64, 32, 48, 32, 32], dropout=0.2, batch_norm=False, dense_layer_size=512, conv_activations=[\"relu\", \"relu\", \"relu\", \"relu\", \"relu\"], dense_layer_activation=\"relu\", output_activation=\"softmax\"):\n",
        "\n",
        "    model = Sequential()\n",
        "\n",
        "    for i in range(5):\n",
        "        model.add(Conv2D(filter_list[i], (5, 5), input_shape=(200,200,3), padding=\"same\"))\n",
        "        if batch_norm:\n",
        "            model.add(BatchNormalization())\n",
        "        if(conv_activations[i] == 'leakyrelu'):\n",
        "          model.add(LeakyReLU())\n",
        "        elif(conv_activations[i] == 'prelu'):\n",
        "          model.add(PReLU(alpha_initializer=Constant(value=0.25)))\n",
        "        else:\n",
        "          model.add(Activation(conv_activations[i]))\n",
        "        model.add(MaxPooling2D(pool_size=(2, 2)))\n",
        "    \n",
        "    model.add(Flatten())\n",
        "    model.add(Dense(dense_layer_size))\n",
        "    model.add(Dropout(dropout))\n",
        "    if(dense_layer_activation == 'leakyrelu'):\n",
        "      model.add(LeakyReLU())\n",
        "    elif(dense_layer_activation == 'prelu'):\n",
        "      model.add(PReLU(alpha_initializer=Constant(value=0.25)))\n",
        "    else:\n",
        "      model.add(Activation(dense_layer_activation))\n",
        "    model.add(Dense(10))\n",
        "    model.add(Activation(output_activation))\n",
        "\n",
        "    return model;"
      ]
    },
    {
      "cell_type": "markdown",
      "source": [
        "**DATA GENERATORS -PRE PROCESSING OF IMAGE TRAIN ,VAL AND TEST DATA **"
      ],
      "metadata": {
        "id": "YpZS27poNcSp"
      }
    },
    {
      "cell_type": "code",
      "execution_count": 8,
      "metadata": {
        "id": "LsZnAaC9u5xQ"
      },
      "outputs": [],
      "source": [
        "def dataset_Generators(train_data_aug=False):\n",
        "    if train_data_aug:\n",
        "        train_idg = ImageDataGenerator(\n",
        "            rescale=1. /255,\n",
        "            validation_split=0.1,              \n",
        "            horizontal_flip=True,\n",
        "            vertical_flip=False,\n",
        "            rotation_range=15,\n",
        "            shear_range=0.1,\n",
        "            zoom_range=0.1,\n",
        "            width_shift_range=0.2,\n",
        "            height_shift_range=0.2\n",
        "        )\n",
        "    else:\n",
        "        train_idg = ImageDataGenerator(\n",
        "            rescale=1. /255,\n",
        "            validation_split=0.1                 \n",
        "        )\n",
        "   #10% of data as validation data is to be kept aside \n",
        "    test_idg = ImageDataGenerator(\n",
        "            rescale=1. /255\n",
        "        )\n",
        "    \n",
        "    print(f\"{train_Data_Path}\")\n",
        "    train_Generator = train_idg.flow_from_directory(\n",
        "        train_Data_Path,\n",
        "        batch_size=batch_size,\n",
        "        target_size=(width, height),\n",
        "        subset='training',\n",
        "        class_mode='categorical'\n",
        "    )\n",
        "\n",
        "    val_Generator = train_idg.flow_from_directory(\n",
        "        train_Data_Path,\n",
        "        batch_size=batch_size,\n",
        "        target_size=(width, height),\n",
        "        subset='validation',\n",
        "        class_mode='categorical'\n",
        "    )\n",
        "\n",
        "    print(f\"{test_Data_Path}\")\n",
        "    test_Generator = test_idg.flow_from_directory(\n",
        "        test_Data_Path,\n",
        "        batch_size=batch_size, \n",
        "        target_size=(width, height)\n",
        "    )\n",
        "    \n",
        "    return train_Generator, val_Generator, test_Generator"
      ]
    },
    {
      "cell_type": "markdown",
      "source": [
        "DEFAULT CONFIG FOR SWEEPS"
      ],
      "metadata": {
        "id": "uKXdVzH7OUhR"
      }
    },
    {
      "cell_type": "code",
      "execution_count": 9,
      "metadata": {
        "id": "qMaq3SoFvTOa"
      },
      "outputs": [],
      "source": [
        "default_config = {\n",
        "        \"filter_list\":[64, 32, 48, 32, 32], \n",
        "        \"dropout\":0.2, \n",
        "        \"batch_norm\":False, \n",
        "        \"dense_layer_size\":512,\n",
        "        \"epochs\": 10,\n",
        "        \"lr\": 0.001,\n",
        "        \"train_data_aug\":False,\n",
        "        \"activations\": \"relu\"\n",
        "    }\n",
        "\n",
        "#Keras callback    \n",
        "history = History()"
      ]
    },
    {
      "cell_type": "markdown",
      "source": [
        "# **CODE FOR HYPERPARAMETER TUNING**"
      ],
      "metadata": {
        "id": "XfgPuA8sN4Tq"
      }
    },
    {
      "cell_type": "code",
      "execution_count": 10,
      "metadata": {
        "id": "XgpPLPqOwDfJ"
      },
      "outputs": [],
      "source": [
        "def HP_tuning_run():\n",
        "    # Create a MirroredStrategy.\n",
        "    if tf.config.list_physical_devices('GPU'):\n",
        "        strategy = tf.distribute.MirroredStrategy()\n",
        "    else:  # use default strategy\n",
        "        strategy = tf.distribute.get_strategy()\n",
        "    print('Number of devices: {}'.format(strategy.num_replicas_in_sync))\n",
        "\n",
        "    # wandb.init(config=default_config, magic=True, project='DLAssignment2', entity='cs21s002-ee21s113-dlassignment-1')\n",
        "    wandb.init(config=default_config, magic=True, project='DeepLearningAssignment2-parta', entity='akshaygrao')\n",
        "    config = wandb.config\n",
        "    print(\"Config: \"+str(config))\n",
        "    run_name = str(config).replace(\"{\", \"\").replace(\"}\",\"\").replace(\":\",\"-\")\n",
        "    wandb.run.name = run_name\n",
        "\n",
        "    # Open a strategy scope and create the model\n",
        "    with strategy.scope():\n",
        "      acts = [config.activations] * 5\n",
        "      model = cnn_Model(config.filter_list, config.dropout, config.batch_norm, config.dense_layer_size,dense_layer_activation=config.activations,conv_activations=acts)\n",
        "\n",
        "    plot_model(model)\n",
        "\n",
        "    model.summary()\n",
        "\n",
        "    train_Generator, val_Generator, test_Generator = dataset_Generators(config.train_data_aug)\n",
        "\n",
        "    model.compile(loss=\"categorical_crossentropy\", optimizer=keras.optimizers.Adam(config.lr), metrics=\"categorical_accuracy\")\n",
        "\n",
        "    model.fit(train_Generator, epochs=config.epochs, validation_data=val_Generator, callbacks=[WandbCallback(), history])\n",
        "\n",
        "    model.evaluate(test_Generator)\n",
        "\n",
        "    model.save(f'{run_name.replace(\",\",\"-\")}.h5')  # creates a HDF5 file 'my_model.h5'"
      ]
    },
    {
      "cell_type": "markdown",
      "source": [
        "**SWEEP CONFIG FOR HP TUNING USING WAND-b**"
      ],
      "metadata": {
        "id": "EKaPtmDOOeh2"
      }
    },
    {
      "cell_type": "code",
      "execution_count": 11,
      "metadata": {
        "id": "CZ3SHcbUxjq4"
      },
      "outputs": [],
      "source": [
        "sweep_config = {\n",
        "    \"name\": \"Assignment 2 - alpha\",\n",
        "    \"method\": \"bayes\",\n",
        "    \"metric\":{\n",
        "      \"goal\": \"maximize\",\n",
        "      \"name\": \"val_categorical_accuracy\"\n",
        "    },\n",
        "    \"early_terminate\":{\n",
        "      \"type\": \"hyperband\",\n",
        "      \"min_iter\": 2,\n",
        "      \"eta\":2\n",
        "    },\n",
        "    \"project\": 'Assignment 2',\n",
        "    \"parameters\": {\n",
        "        \"filter_list\": {\n",
        "            \"values\": [[64,128,350,256,128]]\n",
        "        },\n",
        "        \"dropout\": {\n",
        "            \"values\": [0.5,0.7,0.6]\n",
        "        },\n",
        "        \"batch_norm\": {\n",
        "            \"values\": [True,False]\n",
        "        },\n",
        "        \"dense_layer_size\": {\n",
        "            \"values\": [5096]\n",
        "        },\n",
        "        \"train_data_aug\": {\n",
        "            \"values\": [True,False]\n",
        "        },\n",
        "        \"epochs\": {\n",
        "            \"values\": [8]\n",
        "        },\n",
        "        \"lr\": {\n",
        "            \"values\": [0.0001]\n",
        "        },\n",
        "        \"activations\": {\n",
        "            \"values\":[ 'leakyrelu','prelu']\n",
        "        }\n",
        "        \n",
        "    }\n",
        "}"
      ]
    },
    {
      "cell_type": "code",
      "execution_count": 12,
      "metadata": {
        "id": "-e7FC_hPxu2P"
      },
      "outputs": [],
      "source": [
        "# sweep_id = wandb.sweep(sweep_config, project='DLAssignment2', entity='cs21s002-ee21s113-dlassignment-1')\n",
        "# sweep_id = wandb.sweep(sweep_config,  project='DeepLearningAssignment2-parta', entity='akshaygrao')"
      ]
    },
    {
      "cell_type": "code",
      "execution_count": 13,
      "metadata": {
        "id": "vMbmfJsYzSQd"
      },
      "outputs": [],
      "source": [
        "# wandb.agent(sweep_id, function=HP_tuning_run, project='DLAssignment2', entity='cs21s002-ee21s113-dlassignment-1')\n",
        "# wandb.agent(sweep_id, function=HP_tuning_run, project='DeepLearningAssignment2-parta', entity='akshaygrao')"
      ]
    },
    {
      "cell_type": "markdown",
      "source": [
        "**RETRIEVE THE BEST MODEL AND RUN THE MODEL FOR PREDICTIONS**"
      ],
      "metadata": {
        "id": "H9oWdpi3OolX"
      }
    },
    {
      "cell_type": "code",
      "execution_count": 14,
      "metadata": {
        "id": "_SzEy6F8zKoJ",
        "cellView": "code"
      },
      "outputs": [],
      "source": [
        "def run_best_model():\n",
        "  #  MirroredStrategy in GPU\n",
        "  if tf.config.list_physical_devices('GPU'):\n",
        "      strategy = tf.distribute.MirroredStrategy()\n",
        "  else: \n",
        "      strategy = tf.distribute.get_strategy()\n",
        "  print('Number of devices: {}'.format(strategy.num_replicas_in_sync))\n",
        "\n",
        "\n",
        "  with strategy.scope():\n",
        "      model = cnn_Model(filter_list=[64,128,256,256,128], dropout = 0.7, batch_norm = False, dense_layer_size= 4096,conv_activations=['leakyrelu','leakyrelu','leakyrelu','leakyrelu','leakyrelu'],dense_layer_activation='leakyrelu')\n",
        "\n",
        "  plot_model(model)\n",
        "\n",
        "  model.summary()\n",
        "\n",
        "  train_Generator, val_Generator, test_Generator = dataset_Generators(False)\n",
        "\n",
        "  model.compile(loss=\"categorical_crossentropy\", optimizer=keras.optimizers.Adam(0.0001), metrics=\"accuracy\")\n",
        "\n",
        "  model.fit(train_Generator, epochs=8, validation_data=val_Generator, callbacks=[history])\n",
        "\n",
        "  model.evaluate(test_Generator)\n",
        "  return model,test_Generator"
      ]
    },
    {
      "cell_type": "markdown",
      "source": [
        "POPULATING THE PREDICTION IN A TABLE/GRID"
      ],
      "metadata": {
        "id": "eTrQo1MaO7Ya"
      }
    },
    {
      "cell_type": "code",
      "execution_count": 15,
      "metadata": {
        "id": "wHDRe5Mk0EAR"
      },
      "outputs": [],
      "source": [
        "def create_grid_from_best_model(model,test_Generator,pred_classes,images,labels,predictions):\n",
        "  \n",
        "  count = [0]*10\n",
        "  images_list = []\n",
        "  f, a = plt.subplots(nrows=10, ncols=3, figsize=(15,50))\n",
        "  columns=[\"id\", \"image\", \"Predictions\"]\n",
        "  wandb.Table.MAX_ROWS = 20\n",
        "  test_table = wandb.Table(columns=columns)\n",
        "  for count, img in enumerate(images):\n",
        "      class_label = np.argmax(labels[count], axis=0)\n",
        "      pred_label = np.argmax(predictions[count], axis=0)\n",
        "      if count[class_label] < 3:\n",
        "          a[class_label, count[class_label]].imshow(img)\n",
        "          a[class_label, count[class_label]].axis('off')\n",
        "          ttl = \"Actual: \" + pred_classes[class_label] + \"\\nPredicted: \" + pred_classes[pred_label]\n",
        "          a[class_label, count[class_label]].set_title(ttl)\n",
        "          count[class_label] += 1\n",
        "          images_list.append((img, ttl))\n",
        "          test_table.add_data(count,wandb.Image(img),ttl)\n",
        "          wandb.log({\"Prediction Grid Table\":test_table}) \n",
        "\n",
        "          \n",
        "  plt.show()"
      ]
    },
    {
      "cell_type": "markdown",
      "source": [
        "**VISUALIZING THE 1ST INITIAL FILTER OUTPUT OF BEST MODEL**"
      ],
      "metadata": {
        "id": "zDGAYw5MPCO8"
      }
    },
    {
      "cell_type": "code",
      "execution_count": 16,
      "metadata": {
        "id": "DkmD5Mes0M8D"
      },
      "outputs": [],
      "source": [
        "def visualize_filter_of_best_model(model):\n",
        "  layer_outputs = [layer.output for layer in model.layers]\n",
        "\n",
        "  activation_model = Model(inputs=model.input, outputs=layer_outputs) # Creates a model that will return these outputs, given the model input\n",
        "  activations = activation_model.predict(images[55:56])\n",
        "  first_layer_activation = activations[0]\n",
        "  print(first_layer_activation.shape)\n",
        "  plt.matshow(first_layer_activation[0, :, :, 63])\n",
        "\n",
        "  plt.figure(figsize=(20,40))\n",
        "  for d in range(64):\n",
        "    plt.subplot(16, 8, d+1)\n",
        "    plt.imshow(first_layer_activation[0, :, :, d])\n",
        "    wandb.log({\"Filters\": wandb.Image(first_layer_activation[0, :, :, d])})\n",
        "    plt.savefig(\"filters.png\")\n",
        "  plt.show()\n",
        "\n",
        "  filters_img = Image.open(\"filters.png\") \n",
        "  wandb.log({\"Filters of Layer 1\": wandb.Image(filters_img)})"
      ]
    },
    {
      "cell_type": "markdown",
      "source": [
        "# **CODE FOR GUIDED BACK PROPOGATION **"
      ],
      "metadata": {
        "id": "dcurl_P9POEv"
      }
    },
    {
      "cell_type": "code",
      "execution_count": 17,
      "metadata": {
        "id": "0GKYilwu0WPw"
      },
      "outputs": [],
      "source": [
        "def generate_guided_propogation_plots():\n",
        "  model_upto_conv5 = tf.keras.models.Model([model.inputs],[model.get_layer(\"conv2d_4\").output]) \n",
        "  @tf.custom_gradient\n",
        "  def guidedRelU(x):\n",
        "      def grad(dy):\n",
        "          return tf.cast(dy>0, tf.float32) * tf.cast(x>0, tf.float32) * dy\n",
        "      return tf.nn.relu(x), grad\n",
        "\n",
        "  for layer in model.layers[1:]:\n",
        "      if hasattr(layer, 'activation') and layer.activation==tf.keras.activations.relu:\n",
        "          layer.activation = guidedRelU\n",
        "\n",
        "  f, a = plt.subplots(10, 2, figsize=(10, 40))\n",
        "  inputs = tf.convert_to_tensor(images[55:65], dtype=tf.float32)\n",
        "\n",
        "  for i in range(10):\n",
        "\n",
        "      with tf.GradientTape() as tape:\n",
        "          input = tf.expand_dims(inputs[i], 0)\n",
        "          tape.watch(input)\n",
        "          out = model_upto_conv5(input)[0]\n",
        "      \n",
        "      gradients = tape.gradient(out,input)[0]\n",
        "\n",
        "      a[i][0].set_title(\"Original\")\n",
        "      a[i][0].imshow(inputs[i])\n",
        "      a[i][1].set_title(\"Guided backpropagation\")\n",
        "      a[i][1].imshow(gradients)\n",
        "  wandb.log({\"Guided Backpropagation\": wandb.Image(f)})\n",
        "  f.savefig(\"guided_backprop.png\")\n",
        "  plt.show()\n"
      ]
    },
    {
      "cell_type": "markdown",
      "source": [
        "Run custom model"
      ],
      "metadata": {
        "id": "RTn9_k9eeHH4"
      }
    },
    {
      "cell_type": "code",
      "source": [
        "def run_model(model):\n",
        "\n",
        "  plot_model(model)\n",
        "\n",
        "  model.summary()\n",
        "\n",
        "  train_Generator, val_Generator, test_Generator = dataset_Generators(False)\n",
        "\n",
        "  model.compile(loss=\"categorical_crossentropy\", optimizer=keras.optimizers.Adam(0.0001), metrics=\"accuracy\")\n",
        "\n",
        "  model.fit(train_Generator, epochs=8, validation_data=val_Generator, callbacks=[history])\n",
        "\n",
        "  model.evaluate(test_Generator)"
      ],
      "metadata": {
        "id": "UOwuJcvPeBDB"
      },
      "execution_count": 82,
      "outputs": []
    },
    {
      "cell_type": "markdown",
      "source": [
        "### Alternative for command line (uncomment and run for plots, filter visualization)"
      ],
      "metadata": {
        "id": "0nVOo9N6n8z5"
      }
    },
    {
      "cell_type": "code",
      "source": [
        "model,test_Generator = run_best_model()\n",
        "pred_classes = {0: 'Amphibia', 1: 'Animalia', 2: 'Arachnida', 3: 'Aves', 4: 'Fungi', 5: 'Insecta', 6: 'Mammalia', 7: 'Mollusca', 8: 'Plantae', 9: 'Reptilia'}\n",
        "\n",
        "images, labels = test_Generator.next()\n",
        "predictions = model(images)\n",
        "create_grid_from_best_model(model,test_Generator,pred_classes,images,labels,predictions)\n",
        "visualize_filter_of_best_model(model)"
      ],
      "metadata": {
        "colab": {
          "base_uri": "https://localhost:8080/",
          "height": 1000
        },
        "id": "KYZciXo2nl5k",
        "outputId": "73ccefa1-486b-4186-f40b-f236c4bd605f"
      },
      "execution_count": null,
      "outputs": [
        {
          "output_type": "stream",
          "name": "stdout",
          "text": [
            "Error in callback <bound method _WandbInit._resume_backend of <wandb.sdk.wandb_init._WandbInit object at 0x7fdd7c21e7d0>> (for pre_run_cell):\n"
          ]
        },
        {
          "output_type": "error",
          "ename": "Exception",
          "evalue": "ignored",
          "traceback": [
            "\u001b[0;31m---------------------------------------------------------------------------\u001b[0m",
            "\u001b[0;31mException\u001b[0m                                 Traceback (most recent call last)",
            "\u001b[0;32m/usr/local/lib/python3.7/dist-packages/wandb/sdk/wandb_init.py\u001b[0m in \u001b[0;36m_resume_backend\u001b[0;34m(self)\u001b[0m\n\u001b[1;32m    326\u001b[0m         \u001b[0;32mif\u001b[0m \u001b[0mself\u001b[0m\u001b[0;34m.\u001b[0m\u001b[0mbackend\u001b[0m \u001b[0;32mis\u001b[0m \u001b[0;32mnot\u001b[0m \u001b[0;32mNone\u001b[0m\u001b[0;34m:\u001b[0m\u001b[0;34m\u001b[0m\u001b[0;34m\u001b[0m\u001b[0m\n\u001b[1;32m    327\u001b[0m             \u001b[0mlogger\u001b[0m\u001b[0;34m.\u001b[0m\u001b[0minfo\u001b[0m\u001b[0;34m(\u001b[0m\u001b[0;34m\"resuming backend\"\u001b[0m\u001b[0;34m)\u001b[0m\u001b[0;34m\u001b[0m\u001b[0;34m\u001b[0m\u001b[0m\n\u001b[0;32m--> 328\u001b[0;31m             \u001b[0mself\u001b[0m\u001b[0;34m.\u001b[0m\u001b[0mbackend\u001b[0m\u001b[0;34m.\u001b[0m\u001b[0minterface\u001b[0m\u001b[0;34m.\u001b[0m\u001b[0mpublish_resume\u001b[0m\u001b[0;34m(\u001b[0m\u001b[0;34m)\u001b[0m\u001b[0;34m\u001b[0m\u001b[0;34m\u001b[0m\u001b[0m\n\u001b[0m\u001b[1;32m    329\u001b[0m \u001b[0;34m\u001b[0m\u001b[0m\n\u001b[1;32m    330\u001b[0m     \u001b[0;32mdef\u001b[0m \u001b[0m_jupyter_teardown\u001b[0m\u001b[0;34m(\u001b[0m\u001b[0mself\u001b[0m\u001b[0;34m)\u001b[0m\u001b[0;34m:\u001b[0m\u001b[0;34m\u001b[0m\u001b[0;34m\u001b[0m\u001b[0m\n",
            "\u001b[0;32m/usr/local/lib/python3.7/dist-packages/wandb/sdk/interface/interface.py\u001b[0m in \u001b[0;36mpublish_resume\u001b[0;34m(self)\u001b[0m\n\u001b[1;32m    579\u001b[0m     \u001b[0;32mdef\u001b[0m \u001b[0mpublish_resume\u001b[0m\u001b[0;34m(\u001b[0m\u001b[0mself\u001b[0m\u001b[0;34m)\u001b[0m \u001b[0;34m->\u001b[0m \u001b[0;32mNone\u001b[0m\u001b[0;34m:\u001b[0m\u001b[0;34m\u001b[0m\u001b[0;34m\u001b[0m\u001b[0m\n\u001b[1;32m    580\u001b[0m         \u001b[0mresume\u001b[0m \u001b[0;34m=\u001b[0m \u001b[0mpb\u001b[0m\u001b[0;34m.\u001b[0m\u001b[0mResumeRequest\u001b[0m\u001b[0;34m(\u001b[0m\u001b[0;34m)\u001b[0m\u001b[0;34m\u001b[0m\u001b[0;34m\u001b[0m\u001b[0m\n\u001b[0;32m--> 581\u001b[0;31m         \u001b[0mself\u001b[0m\u001b[0;34m.\u001b[0m\u001b[0m_publish_resume\u001b[0m\u001b[0;34m(\u001b[0m\u001b[0mresume\u001b[0m\u001b[0;34m)\u001b[0m\u001b[0;34m\u001b[0m\u001b[0;34m\u001b[0m\u001b[0m\n\u001b[0m\u001b[1;32m    582\u001b[0m \u001b[0;34m\u001b[0m\u001b[0m\n\u001b[1;32m    583\u001b[0m     \u001b[0;34m@\u001b[0m\u001b[0mabstractmethod\u001b[0m\u001b[0;34m\u001b[0m\u001b[0;34m\u001b[0m\u001b[0m\n",
            "\u001b[0;32m/usr/local/lib/python3.7/dist-packages/wandb/sdk/interface/interface_shared.py\u001b[0m in \u001b[0;36m_publish_resume\u001b[0;34m(self, resume)\u001b[0m\n\u001b[1;32m    277\u001b[0m     \u001b[0;32mdef\u001b[0m \u001b[0m_publish_resume\u001b[0m\u001b[0;34m(\u001b[0m\u001b[0mself\u001b[0m\u001b[0;34m,\u001b[0m \u001b[0mresume\u001b[0m\u001b[0;34m:\u001b[0m \u001b[0mpb\u001b[0m\u001b[0;34m.\u001b[0m\u001b[0mResumeRequest\u001b[0m\u001b[0;34m)\u001b[0m \u001b[0;34m->\u001b[0m \u001b[0;32mNone\u001b[0m\u001b[0;34m:\u001b[0m\u001b[0;34m\u001b[0m\u001b[0;34m\u001b[0m\u001b[0m\n\u001b[1;32m    278\u001b[0m         \u001b[0mrec\u001b[0m \u001b[0;34m=\u001b[0m \u001b[0mself\u001b[0m\u001b[0;34m.\u001b[0m\u001b[0m_make_request\u001b[0m\u001b[0;34m(\u001b[0m\u001b[0mresume\u001b[0m\u001b[0;34m=\u001b[0m\u001b[0mresume\u001b[0m\u001b[0;34m)\u001b[0m\u001b[0;34m\u001b[0m\u001b[0;34m\u001b[0m\u001b[0m\n\u001b[0;32m--> 279\u001b[0;31m         \u001b[0mself\u001b[0m\u001b[0;34m.\u001b[0m\u001b[0m_publish\u001b[0m\u001b[0;34m(\u001b[0m\u001b[0mrec\u001b[0m\u001b[0;34m)\u001b[0m\u001b[0;34m\u001b[0m\u001b[0;34m\u001b[0m\u001b[0m\n\u001b[0m\u001b[1;32m    280\u001b[0m \u001b[0;34m\u001b[0m\u001b[0m\n\u001b[1;32m    281\u001b[0m     \u001b[0;32mdef\u001b[0m \u001b[0m_publish_run\u001b[0m\u001b[0;34m(\u001b[0m\u001b[0mself\u001b[0m\u001b[0;34m,\u001b[0m \u001b[0mrun\u001b[0m\u001b[0;34m:\u001b[0m \u001b[0mpb\u001b[0m\u001b[0;34m.\u001b[0m\u001b[0mRunRecord\u001b[0m\u001b[0;34m)\u001b[0m \u001b[0;34m->\u001b[0m \u001b[0;32mNone\u001b[0m\u001b[0;34m:\u001b[0m\u001b[0;34m\u001b[0m\u001b[0;34m\u001b[0m\u001b[0m\n",
            "\u001b[0;32m/usr/local/lib/python3.7/dist-packages/wandb/sdk/interface/interface_queue.py\u001b[0m in \u001b[0;36m_publish\u001b[0;34m(self, record, local)\u001b[0m\n\u001b[1;32m     47\u001b[0m     \u001b[0;32mdef\u001b[0m \u001b[0m_publish\u001b[0m\u001b[0;34m(\u001b[0m\u001b[0mself\u001b[0m\u001b[0;34m,\u001b[0m \u001b[0mrecord\u001b[0m\u001b[0;34m:\u001b[0m \u001b[0;34m\"pb.Record\"\u001b[0m\u001b[0;34m,\u001b[0m \u001b[0mlocal\u001b[0m\u001b[0;34m:\u001b[0m \u001b[0mbool\u001b[0m \u001b[0;34m=\u001b[0m \u001b[0;32mNone\u001b[0m\u001b[0;34m)\u001b[0m \u001b[0;34m->\u001b[0m \u001b[0;32mNone\u001b[0m\u001b[0;34m:\u001b[0m\u001b[0;34m\u001b[0m\u001b[0;34m\u001b[0m\u001b[0m\n\u001b[1;32m     48\u001b[0m         \u001b[0;32mif\u001b[0m \u001b[0mself\u001b[0m\u001b[0;34m.\u001b[0m\u001b[0m_process_check\u001b[0m \u001b[0;32mand\u001b[0m \u001b[0mself\u001b[0m\u001b[0;34m.\u001b[0m\u001b[0m_process\u001b[0m \u001b[0;32mand\u001b[0m \u001b[0;32mnot\u001b[0m \u001b[0mself\u001b[0m\u001b[0;34m.\u001b[0m\u001b[0m_process\u001b[0m\u001b[0;34m.\u001b[0m\u001b[0mis_alive\u001b[0m\u001b[0;34m(\u001b[0m\u001b[0;34m)\u001b[0m\u001b[0;34m:\u001b[0m\u001b[0;34m\u001b[0m\u001b[0;34m\u001b[0m\u001b[0m\n\u001b[0;32m---> 49\u001b[0;31m             \u001b[0;32mraise\u001b[0m \u001b[0mException\u001b[0m\u001b[0;34m(\u001b[0m\u001b[0;34m\"The wandb backend process has shutdown\"\u001b[0m\u001b[0;34m)\u001b[0m\u001b[0;34m\u001b[0m\u001b[0;34m\u001b[0m\u001b[0m\n\u001b[0m\u001b[1;32m     50\u001b[0m         \u001b[0;32mif\u001b[0m \u001b[0mlocal\u001b[0m\u001b[0;34m:\u001b[0m\u001b[0;34m\u001b[0m\u001b[0;34m\u001b[0m\u001b[0m\n\u001b[1;32m     51\u001b[0m             \u001b[0mrecord\u001b[0m\u001b[0;34m.\u001b[0m\u001b[0mcontrol\u001b[0m\u001b[0;34m.\u001b[0m\u001b[0mlocal\u001b[0m \u001b[0;34m=\u001b[0m \u001b[0mlocal\u001b[0m\u001b[0;34m\u001b[0m\u001b[0;34m\u001b[0m\u001b[0m\n",
            "\u001b[0;31mException\u001b[0m: The wandb backend process has shutdown"
          ]
        },
        {
          "output_type": "stream",
          "name": "stdout",
          "text": [
            "Number of devices: 1\n",
            "Model: \"sequential_2\"\n",
            "_________________________________________________________________\n",
            " Layer (type)                Output Shape              Param #   \n",
            "=================================================================\n",
            " conv2d_10 (Conv2D)          (None, 200, 200, 64)      4864      \n",
            "                                                                 \n",
            " leaky_re_lu_6 (LeakyReLU)   (None, 200, 200, 64)      0         \n",
            "                                                                 \n",
            " max_pooling2d_10 (MaxPoolin  (None, 100, 100, 64)     0         \n",
            " g2D)                                                            \n",
            "                                                                 \n",
            " conv2d_11 (Conv2D)          (None, 100, 100, 128)     204928    \n",
            "                                                                 \n",
            " leaky_re_lu_7 (LeakyReLU)   (None, 100, 100, 128)     0         \n",
            "                                                                 \n",
            " max_pooling2d_11 (MaxPoolin  (None, 50, 50, 128)      0         \n",
            " g2D)                                                            \n",
            "                                                                 \n",
            " conv2d_12 (Conv2D)          (None, 50, 50, 256)       819456    \n",
            "                                                                 \n",
            " leaky_re_lu_8 (LeakyReLU)   (None, 50, 50, 256)       0         \n",
            "                                                                 \n",
            " max_pooling2d_12 (MaxPoolin  (None, 25, 25, 256)      0         \n",
            " g2D)                                                            \n",
            "                                                                 \n",
            " conv2d_13 (Conv2D)          (None, 25, 25, 256)       1638656   \n",
            "                                                                 \n",
            " leaky_re_lu_9 (LeakyReLU)   (None, 25, 25, 256)       0         \n",
            "                                                                 \n",
            " max_pooling2d_13 (MaxPoolin  (None, 12, 12, 256)      0         \n",
            " g2D)                                                            \n",
            "                                                                 \n",
            " conv2d_14 (Conv2D)          (None, 12, 12, 128)       819328    \n",
            "                                                                 \n",
            " leaky_re_lu_10 (LeakyReLU)  (None, 12, 12, 128)       0         \n",
            "                                                                 \n",
            " max_pooling2d_14 (MaxPoolin  (None, 6, 6, 128)        0         \n",
            " g2D)                                                            \n",
            "                                                                 \n",
            " flatten_2 (Flatten)         (None, 4608)              0         \n",
            "                                                                 \n",
            " dense_4 (Dense)             (None, 4096)              18878464  \n",
            "                                                                 \n",
            " dropout_2 (Dropout)         (None, 4096)              0         \n",
            "                                                                 \n",
            " leaky_re_lu_11 (LeakyReLU)  (None, 4096)              0         \n",
            "                                                                 \n",
            " dense_5 (Dense)             (None, 10)                40970     \n",
            "                                                                 \n",
            " activation_8 (Activation)   (None, 10)                0         \n",
            "                                                                 \n",
            "=================================================================\n",
            "Total params: 22,406,666\n",
            "Trainable params: 22,406,666\n",
            "Non-trainable params: 0\n",
            "_________________________________________________________________\n",
            "/content/inaturalist_12K/train\n",
            "Found 9000 images belonging to 10 classes.\n",
            "Found 999 images belonging to 10 classes.\n",
            "/content/inaturalist_12K/val\n",
            "Found 2000 images belonging to 10 classes.\n",
            "Epoch 1/8\n",
            " 1/71 [..............................] - ETA: 1:33:34 - loss: 2.3034 - accuracy: 0.0938"
          ]
        }
      ]
    },
    {
      "cell_type": "markdown",
      "source": [
        "##**Command line argument handler**"
      ],
      "metadata": {
        "id": "MRNYLAVhDYkz"
      }
    },
    {
      "cell_type": "code",
      "source": [
        "def init_argparse() -> argparse.ArgumentParser:\n",
        "    parser = argparse.ArgumentParser()\n",
        "\n",
        "    parser.add_argument(\"-pgb\",\"--plot_guided_bp\", action=\"store_true\",dest='plotbackprop', help=\"Plot guided backprop on last model(call only after running a model)\")\n",
        "    parser.add_argument(\"-visfilters\", \"--visualize_filters\", action=\"store_true\",dest='visfiltersbestmodel', help=\"Visualize filters of last model(call only after running a model)\")\n",
        "    parser.add_argument(\"-cgbm\", \"--create_grid_model\", action=\"store_true\",dest='creategridbstmodel', help=\"Create grid for last model(call only after running a model)\")\n",
        "    parser.add_argument(\"-runbest\", \"--run_best_model\", action=\"store_true\",dest='runbestmodel', help=\"Run best model\")\n",
        "    \n",
        "    subparsers = parser.add_subparsers(dest='command')\n",
        "    run_model_parser = subparsers.add_parser('run_model')\n",
        "    run_model_parser.add_argument(\"--dropout\", action=\"store\",dest='dropout', help=\"Specify dropout param\",default=0.2)\n",
        "    run_model_parser.add_argument(\"--batch_norm\", action=\"store\",dest='batch_norm', help=\"Specify batch normalization param\",default=False)\n",
        "    run_model_parser.add_argument(\"--dense_layer_size\", action=\"store\",dest='dense_layer_size', help=\"Specify number of neurons in dense layer param\",default=512)\n",
        "    run_model_parser.add_argument(\"--conv_activations_conv\", action=\"append\",dest='conv_activations_conv', help=\"Specify activation in convolution layer param\")\n",
        "    run_model_parser.add_argument(\"--conv_activations_out\", action=\"store\",dest='conv_activations_out', help=\"Specify activation in output layer param\",default='softmax')\n",
        "    run_model_parser.add_argument(\"--conv_activations_dense\", action=\"store\",dest='conv_activations_dense', help=\"Specify activation in dense layer param\",default='relu')\n",
        "    run_model_parser.add_argument(\"--filter_size_list\", action=\"append\",dest='filter_size_list', help=\"Specify number of filters in each layer\")\n",
        "\n",
        "    return parser"
      ],
      "metadata": {
        "id": "WHfRU0YTGMlp"
      },
      "execution_count": 83,
      "outputs": []
    },
    {
      "cell_type": "code",
      "source": [
        "if __name__ == \"__main__\":\n",
        "  parser = init_argparse()\n",
        "  args = parser.parse_args(['--help'])\n",
        "\n",
        "  model = None\n",
        "  test_Generator = None\n",
        "  \n",
        "  if(args.command == 'run_model'):\n",
        "    conv_activations_conv = args.conv_activations_conv \n",
        "    filter_size_list = args.filter_size_list\n",
        "    if(conv_activations_conv is None):\n",
        "      conv_activations_conv = [\"relu\", \"relu\", \"relu\", \"relu\", \"relu\"]\n",
        "    if(filter_size_list is None):\n",
        "      filter_size_list = [64, 32, 48, 32, 32]\n",
        "    \n",
        "    model = cnn_Model(filter_list=filter_size_list, dropout=args.dropout, batch_norm=args.batch_norm, dense_layer_size=args.dense_layer_size, conv_activations=args.conv_activations_conv, dense_layer_activation=args.conv_activations_dense, output_activation=args.conv_activations_out)\n",
        "    model,test_Generator = run_model(model)\n",
        "\n",
        "  if(args.runbestmodel):\n",
        "    print(\"Running best model----\")\n",
        "    model,test_Generator = run_best_model()\n",
        "  if(args.creategridbstmodel):\n",
        "    print(\"Creating grid with best model\")\n",
        "    pred_classes = {0: 'Amphibia', 1: 'Animalia', 2: 'Arachnida', 3: 'Aves', 4: 'Fungi', 5: 'Insecta', 6: 'Mammalia', 7: 'Mollusca', 8: 'Plantae', 9: 'Reptilia'}\n",
        "\n",
        "    images, labels = test_Generator.next()\n",
        "    predictions = model(images)\n",
        "    create_grid_from_best_model(model,test_Generator,pred_classes,images,labels,predictions)\n",
        "  if(args.plotbackprop):\n",
        "    print(\"Plotting guided backpropogation\")\n",
        "    generate_guided_propogation_plots()\n",
        "  if(args.visfiltersbestmodel):\n",
        "    print(\"Visualizing filters of best model\")\n",
        "    visualize_filter_of_best_model(model)\n"
      ],
      "metadata": {
        "colab": {
          "base_uri": "https://localhost:8080/",
          "height": 478
        },
        "id": "FQLa75aADXVb",
        "outputId": "f8d2e965-c4f7-431e-84a8-3114e39a455e"
      },
      "execution_count": 85,
      "outputs": [
        {
          "output_type": "stream",
          "name": "stdout",
          "text": [
            "usage: ipykernel_launcher.py [-h] [-pgb] [-visfilters] [-cgbm] [-runbest]\n",
            "                             {run_model} ...\n",
            "\n",
            "positional arguments:\n",
            "  {run_model}\n",
            "\n",
            "optional arguments:\n",
            "  -h, --help            show this help message and exit\n",
            "  -pgb, --plot_guided_bp\n",
            "                        Plot guided backprop on last model(call only after\n",
            "                        running a model)\n",
            "  -visfilters, --visualize_filters\n",
            "                        Visualize filters of last model(call only after\n",
            "                        running a model)\n",
            "  -cgbm, --create_grid_model\n",
            "                        Create grid for last model(call only after running a\n",
            "                        model)\n",
            "  -runbest, --run_best_model\n",
            "                        Run best model\n"
          ]
        },
        {
          "output_type": "error",
          "ename": "SystemExit",
          "evalue": "ignored",
          "traceback": [
            "An exception has occurred, use %tb to see the full traceback.\n",
            "\u001b[0;31mSystemExit\u001b[0m\u001b[0;31m:\u001b[0m 0\n"
          ]
        },
        {
          "output_type": "stream",
          "name": "stderr",
          "text": [
            "/usr/local/lib/python3.7/dist-packages/IPython/core/interactiveshell.py:2890: UserWarning: To exit: use 'exit', 'quit', or Ctrl-D.\n",
            "  warn(\"To exit: use 'exit', 'quit', or Ctrl-D.\", stacklevel=1)\n"
          ]
        }
      ]
    },
    {
      "cell_type": "code",
      "source": [
        ""
      ],
      "metadata": {
        "id": "-DYj4IWQPpLq"
      },
      "execution_count": 19,
      "outputs": []
    },
    {
      "cell_type": "code",
      "source": [
        ""
      ],
      "metadata": {
        "id": "cwxWmdksPekG"
      },
      "execution_count": 19,
      "outputs": []
    }
  ],
  "metadata": {
    "colab": {
      "collapsed_sections": [],
      "name": "PART_A.ipynb",
      "provenance": [],
      "include_colab_link": true
    },
    "kernelspec": {
      "display_name": "Python 3",
      "name": "python3"
    },
    "language_info": {
      "name": "python"
    }
  },
  "nbformat": 4,
  "nbformat_minor": 0
}