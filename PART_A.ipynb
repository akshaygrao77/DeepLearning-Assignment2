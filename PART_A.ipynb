{
  "nbformat": 4,
  "nbformat_minor": 0,
  "metadata": {
    "colab": {
      "name": "PART_A.ipynb",
      "provenance": [],
      "collapsed_sections": [],
      "include_colab_link": true
    },
    "kernelspec": {
      "name": "python3",
      "display_name": "Python 3"
    },
    "language_info": {
      "name": "python"
    }
  },
  "cells": [
    {
      "cell_type": "markdown",
      "metadata": {
        "id": "view-in-github",
        "colab_type": "text"
      },
      "source": [
        "<a href=\"https://colab.research.google.com/github/akshaygrao77/DeepLearning-Assignment2/blob/main/PART_A.ipynb\" target=\"_parent\"><img src=\"https://colab.research.google.com/assets/colab-badge.svg\" alt=\"Open In Colab\"/></a>"
      ]
    },
    {
      "cell_type": "code",
      "execution_count": null,
      "metadata": {
        "colab": {
          "base_uri": "https://localhost:8080/"
        },
        "id": "aQHrzscZjmv_",
        "outputId": "7c9de22e-0d32-491f-cf48-be64577f549f"
      },
      "outputs": [
        {
          "output_type": "stream",
          "name": "stdout",
          "text": [
            "Collecting wandb\n",
            "  Downloading wandb-0.12.11-py2.py3-none-any.whl (1.7 MB)\n",
            "\u001b[?25l\r\u001b[K     |▏                               | 10 kB 24.0 MB/s eta 0:00:01\r\u001b[K     |▍                               | 20 kB 27.9 MB/s eta 0:00:01\r\u001b[K     |▋                               | 30 kB 32.1 MB/s eta 0:00:01\r\u001b[K     |▊                               | 40 kB 27.7 MB/s eta 0:00:01\r\u001b[K     |█                               | 51 kB 18.5 MB/s eta 0:00:01\r\u001b[K     |█▏                              | 61 kB 20.3 MB/s eta 0:00:01\r\u001b[K     |█▎                              | 71 kB 22.2 MB/s eta 0:00:01\r\u001b[K     |█▌                              | 81 kB 23.9 MB/s eta 0:00:01\r\u001b[K     |█▊                              | 92 kB 26.1 MB/s eta 0:00:01\r\u001b[K     |█▉                              | 102 kB 22.0 MB/s eta 0:00:01\r\u001b[K     |██                              | 112 kB 22.0 MB/s eta 0:00:01\r\u001b[K     |██▎                             | 122 kB 22.0 MB/s eta 0:00:01\r\u001b[K     |██▍                             | 133 kB 22.0 MB/s eta 0:00:01\r\u001b[K     |██▋                             | 143 kB 22.0 MB/s eta 0:00:01\r\u001b[K     |██▉                             | 153 kB 22.0 MB/s eta 0:00:01\r\u001b[K     |███                             | 163 kB 22.0 MB/s eta 0:00:01\r\u001b[K     |███▏                            | 174 kB 22.0 MB/s eta 0:00:01\r\u001b[K     |███▍                            | 184 kB 22.0 MB/s eta 0:00:01\r\u001b[K     |███▋                            | 194 kB 22.0 MB/s eta 0:00:01\r\u001b[K     |███▊                            | 204 kB 22.0 MB/s eta 0:00:01\r\u001b[K     |████                            | 215 kB 22.0 MB/s eta 0:00:01\r\u001b[K     |████▏                           | 225 kB 22.0 MB/s eta 0:00:01\r\u001b[K     |████▎                           | 235 kB 22.0 MB/s eta 0:00:01\r\u001b[K     |████▌                           | 245 kB 22.0 MB/s eta 0:00:01\r\u001b[K     |████▊                           | 256 kB 22.0 MB/s eta 0:00:01\r\u001b[K     |████▉                           | 266 kB 22.0 MB/s eta 0:00:01\r\u001b[K     |█████                           | 276 kB 22.0 MB/s eta 0:00:01\r\u001b[K     |█████▎                          | 286 kB 22.0 MB/s eta 0:00:01\r\u001b[K     |█████▌                          | 296 kB 22.0 MB/s eta 0:00:01\r\u001b[K     |█████▋                          | 307 kB 22.0 MB/s eta 0:00:01\r\u001b[K     |█████▉                          | 317 kB 22.0 MB/s eta 0:00:01\r\u001b[K     |██████                          | 327 kB 22.0 MB/s eta 0:00:01\r\u001b[K     |██████▏                         | 337 kB 22.0 MB/s eta 0:00:01\r\u001b[K     |██████▍                         | 348 kB 22.0 MB/s eta 0:00:01\r\u001b[K     |██████▋                         | 358 kB 22.0 MB/s eta 0:00:01\r\u001b[K     |██████▊                         | 368 kB 22.0 MB/s eta 0:00:01\r\u001b[K     |███████                         | 378 kB 22.0 MB/s eta 0:00:01\r\u001b[K     |███████▏                        | 389 kB 22.0 MB/s eta 0:00:01\r\u001b[K     |███████▎                        | 399 kB 22.0 MB/s eta 0:00:01\r\u001b[K     |███████▌                        | 409 kB 22.0 MB/s eta 0:00:01\r\u001b[K     |███████▊                        | 419 kB 22.0 MB/s eta 0:00:01\r\u001b[K     |███████▉                        | 430 kB 22.0 MB/s eta 0:00:01\r\u001b[K     |████████                        | 440 kB 22.0 MB/s eta 0:00:01\r\u001b[K     |████████▎                       | 450 kB 22.0 MB/s eta 0:00:01\r\u001b[K     |████████▌                       | 460 kB 22.0 MB/s eta 0:00:01\r\u001b[K     |████████▋                       | 471 kB 22.0 MB/s eta 0:00:01\r\u001b[K     |████████▉                       | 481 kB 22.0 MB/s eta 0:00:01\r\u001b[K     |█████████                       | 491 kB 22.0 MB/s eta 0:00:01\r\u001b[K     |█████████▏                      | 501 kB 22.0 MB/s eta 0:00:01\r\u001b[K     |█████████▍                      | 512 kB 22.0 MB/s eta 0:00:01\r\u001b[K     |█████████▋                      | 522 kB 22.0 MB/s eta 0:00:01\r\u001b[K     |█████████▊                      | 532 kB 22.0 MB/s eta 0:00:01\r\u001b[K     |██████████                      | 542 kB 22.0 MB/s eta 0:00:01\r\u001b[K     |██████████▏                     | 552 kB 22.0 MB/s eta 0:00:01\r\u001b[K     |██████████▎                     | 563 kB 22.0 MB/s eta 0:00:01\r\u001b[K     |██████████▌                     | 573 kB 22.0 MB/s eta 0:00:01\r\u001b[K     |██████████▊                     | 583 kB 22.0 MB/s eta 0:00:01\r\u001b[K     |███████████                     | 593 kB 22.0 MB/s eta 0:00:01\r\u001b[K     |███████████                     | 604 kB 22.0 MB/s eta 0:00:01\r\u001b[K     |███████████▎                    | 614 kB 22.0 MB/s eta 0:00:01\r\u001b[K     |███████████▌                    | 624 kB 22.0 MB/s eta 0:00:01\r\u001b[K     |███████████▋                    | 634 kB 22.0 MB/s eta 0:00:01\r\u001b[K     |███████████▉                    | 645 kB 22.0 MB/s eta 0:00:01\r\u001b[K     |████████████                    | 655 kB 22.0 MB/s eta 0:00:01\r\u001b[K     |████████████▏                   | 665 kB 22.0 MB/s eta 0:00:01\r\u001b[K     |████████████▍                   | 675 kB 22.0 MB/s eta 0:00:01\r\u001b[K     |████████████▋                   | 686 kB 22.0 MB/s eta 0:00:01\r\u001b[K     |████████████▊                   | 696 kB 22.0 MB/s eta 0:00:01\r\u001b[K     |█████████████                   | 706 kB 22.0 MB/s eta 0:00:01\r\u001b[K     |█████████████▏                  | 716 kB 22.0 MB/s eta 0:00:01\r\u001b[K     |█████████████▍                  | 727 kB 22.0 MB/s eta 0:00:01\r\u001b[K     |█████████████▌                  | 737 kB 22.0 MB/s eta 0:00:01\r\u001b[K     |█████████████▊                  | 747 kB 22.0 MB/s eta 0:00:01\r\u001b[K     |██████████████                  | 757 kB 22.0 MB/s eta 0:00:01\r\u001b[K     |██████████████                  | 768 kB 22.0 MB/s eta 0:00:01\r\u001b[K     |██████████████▎                 | 778 kB 22.0 MB/s eta 0:00:01\r\u001b[K     |██████████████▌                 | 788 kB 22.0 MB/s eta 0:00:01\r\u001b[K     |██████████████▋                 | 798 kB 22.0 MB/s eta 0:00:01\r\u001b[K     |██████████████▉                 | 808 kB 22.0 MB/s eta 0:00:01\r\u001b[K     |███████████████                 | 819 kB 22.0 MB/s eta 0:00:01\r\u001b[K     |███████████████▏                | 829 kB 22.0 MB/s eta 0:00:01\r\u001b[K     |███████████████▍                | 839 kB 22.0 MB/s eta 0:00:01\r\u001b[K     |███████████████▋                | 849 kB 22.0 MB/s eta 0:00:01\r\u001b[K     |███████████████▊                | 860 kB 22.0 MB/s eta 0:00:01\r\u001b[K     |████████████████                | 870 kB 22.0 MB/s eta 0:00:01\r\u001b[K     |████████████████▏               | 880 kB 22.0 MB/s eta 0:00:01\r\u001b[K     |████████████████▍               | 890 kB 22.0 MB/s eta 0:00:01\r\u001b[K     |████████████████▌               | 901 kB 22.0 MB/s eta 0:00:01\r\u001b[K     |████████████████▊               | 911 kB 22.0 MB/s eta 0:00:01\r\u001b[K     |█████████████████               | 921 kB 22.0 MB/s eta 0:00:01\r\u001b[K     |█████████████████               | 931 kB 22.0 MB/s eta 0:00:01\r\u001b[K     |█████████████████▎              | 942 kB 22.0 MB/s eta 0:00:01\r\u001b[K     |█████████████████▌              | 952 kB 22.0 MB/s eta 0:00:01\r\u001b[K     |█████████████████▋              | 962 kB 22.0 MB/s eta 0:00:01\r\u001b[K     |█████████████████▉              | 972 kB 22.0 MB/s eta 0:00:01\r\u001b[K     |██████████████████              | 983 kB 22.0 MB/s eta 0:00:01\r\u001b[K     |██████████████████▏             | 993 kB 22.0 MB/s eta 0:00:01\r\u001b[K     |██████████████████▍             | 1.0 MB 22.0 MB/s eta 0:00:01\r\u001b[K     |██████████████████▋             | 1.0 MB 22.0 MB/s eta 0:00:01\r\u001b[K     |██████████████████▉             | 1.0 MB 22.0 MB/s eta 0:00:01\r\u001b[K     |███████████████████             | 1.0 MB 22.0 MB/s eta 0:00:01\r\u001b[K     |███████████████████▏            | 1.0 MB 22.0 MB/s eta 0:00:01\r\u001b[K     |███████████████████▍            | 1.1 MB 22.0 MB/s eta 0:00:01\r\u001b[K     |███████████████████▌            | 1.1 MB 22.0 MB/s eta 0:00:01\r\u001b[K     |███████████████████▊            | 1.1 MB 22.0 MB/s eta 0:00:01\r\u001b[K     |████████████████████            | 1.1 MB 22.0 MB/s eta 0:00:01\r\u001b[K     |████████████████████            | 1.1 MB 22.0 MB/s eta 0:00:01\r\u001b[K     |████████████████████▎           | 1.1 MB 22.0 MB/s eta 0:00:01\r\u001b[K     |████████████████████▌           | 1.1 MB 22.0 MB/s eta 0:00:01\r\u001b[K     |████████████████████▋           | 1.1 MB 22.0 MB/s eta 0:00:01\r\u001b[K     |████████████████████▉           | 1.1 MB 22.0 MB/s eta 0:00:01\r\u001b[K     |█████████████████████           | 1.1 MB 22.0 MB/s eta 0:00:01\r\u001b[K     |█████████████████████▏          | 1.2 MB 22.0 MB/s eta 0:00:01\r\u001b[K     |█████████████████████▍          | 1.2 MB 22.0 MB/s eta 0:00:01\r\u001b[K     |█████████████████████▋          | 1.2 MB 22.0 MB/s eta 0:00:01\r\u001b[K     |█████████████████████▉          | 1.2 MB 22.0 MB/s eta 0:00:01\r\u001b[K     |██████████████████████          | 1.2 MB 22.0 MB/s eta 0:00:01\r\u001b[K     |██████████████████████▏         | 1.2 MB 22.0 MB/s eta 0:00:01\r\u001b[K     |██████████████████████▍         | 1.2 MB 22.0 MB/s eta 0:00:01\r\u001b[K     |██████████████████████▌         | 1.2 MB 22.0 MB/s eta 0:00:01\r\u001b[K     |██████████████████████▊         | 1.2 MB 22.0 MB/s eta 0:00:01\r\u001b[K     |███████████████████████         | 1.2 MB 22.0 MB/s eta 0:00:01\r\u001b[K     |███████████████████████         | 1.3 MB 22.0 MB/s eta 0:00:01\r\u001b[K     |███████████████████████▎        | 1.3 MB 22.0 MB/s eta 0:00:01\r\u001b[K     |███████████████████████▌        | 1.3 MB 22.0 MB/s eta 0:00:01\r\u001b[K     |███████████████████████▋        | 1.3 MB 22.0 MB/s eta 0:00:01\r\u001b[K     |███████████████████████▉        | 1.3 MB 22.0 MB/s eta 0:00:01\r\u001b[K     |████████████████████████        | 1.3 MB 22.0 MB/s eta 0:00:01\r\u001b[K     |████████████████████████▎       | 1.3 MB 22.0 MB/s eta 0:00:01\r\u001b[K     |████████████████████████▍       | 1.3 MB 22.0 MB/s eta 0:00:01\r\u001b[K     |████████████████████████▋       | 1.3 MB 22.0 MB/s eta 0:00:01\r\u001b[K     |████████████████████████▉       | 1.4 MB 22.0 MB/s eta 0:00:01\r\u001b[K     |█████████████████████████       | 1.4 MB 22.0 MB/s eta 0:00:01\r\u001b[K     |█████████████████████████▏      | 1.4 MB 22.0 MB/s eta 0:00:01\r\u001b[K     |█████████████████████████▍      | 1.4 MB 22.0 MB/s eta 0:00:01\r\u001b[K     |█████████████████████████▌      | 1.4 MB 22.0 MB/s eta 0:00:01\r\u001b[K     |█████████████████████████▊      | 1.4 MB 22.0 MB/s eta 0:00:01\r\u001b[K     |██████████████████████████      | 1.4 MB 22.0 MB/s eta 0:00:01\r\u001b[K     |██████████████████████████      | 1.4 MB 22.0 MB/s eta 0:00:01\r\u001b[K     |██████████████████████████▎     | 1.4 MB 22.0 MB/s eta 0:00:01\r\u001b[K     |██████████████████████████▌     | 1.4 MB 22.0 MB/s eta 0:00:01\r\u001b[K     |██████████████████████████▊     | 1.5 MB 22.0 MB/s eta 0:00:01\r\u001b[K     |██████████████████████████▉     | 1.5 MB 22.0 MB/s eta 0:00:01\r\u001b[K     |███████████████████████████     | 1.5 MB 22.0 MB/s eta 0:00:01\r\u001b[K     |███████████████████████████▎    | 1.5 MB 22.0 MB/s eta 0:00:01\r\u001b[K     |███████████████████████████▍    | 1.5 MB 22.0 MB/s eta 0:00:01\r\u001b[K     |███████████████████████████▋    | 1.5 MB 22.0 MB/s eta 0:00:01\r\u001b[K     |███████████████████████████▉    | 1.5 MB 22.0 MB/s eta 0:00:01\r\u001b[K     |████████████████████████████    | 1.5 MB 22.0 MB/s eta 0:00:01\r\u001b[K     |████████████████████████████▏   | 1.5 MB 22.0 MB/s eta 0:00:01\r\u001b[K     |████████████████████████████▍   | 1.5 MB 22.0 MB/s eta 0:00:01\r\u001b[K     |████████████████████████████▌   | 1.6 MB 22.0 MB/s eta 0:00:01\r\u001b[K     |████████████████████████████▊   | 1.6 MB 22.0 MB/s eta 0:00:01\r\u001b[K     |█████████████████████████████   | 1.6 MB 22.0 MB/s eta 0:00:01\r\u001b[K     |█████████████████████████████   | 1.6 MB 22.0 MB/s eta 0:00:01\r\u001b[K     |█████████████████████████████▎  | 1.6 MB 22.0 MB/s eta 0:00:01\r\u001b[K     |█████████████████████████████▌  | 1.6 MB 22.0 MB/s eta 0:00:01\r\u001b[K     |█████████████████████████████▊  | 1.6 MB 22.0 MB/s eta 0:00:01\r\u001b[K     |█████████████████████████████▉  | 1.6 MB 22.0 MB/s eta 0:00:01\r\u001b[K     |██████████████████████████████  | 1.6 MB 22.0 MB/s eta 0:00:01\r\u001b[K     |██████████████████████████████▎ | 1.6 MB 22.0 MB/s eta 0:00:01\r\u001b[K     |██████████████████████████████▍ | 1.7 MB 22.0 MB/s eta 0:00:01\r\u001b[K     |██████████████████████████████▋ | 1.7 MB 22.0 MB/s eta 0:00:01\r\u001b[K     |██████████████████████████████▉ | 1.7 MB 22.0 MB/s eta 0:00:01\r\u001b[K     |███████████████████████████████ | 1.7 MB 22.0 MB/s eta 0:00:01\r\u001b[K     |███████████████████████████████▏| 1.7 MB 22.0 MB/s eta 0:00:01\r\u001b[K     |███████████████████████████████▍| 1.7 MB 22.0 MB/s eta 0:00:01\r\u001b[K     |███████████████████████████████▌| 1.7 MB 22.0 MB/s eta 0:00:01\r\u001b[K     |███████████████████████████████▊| 1.7 MB 22.0 MB/s eta 0:00:01\r\u001b[K     |████████████████████████████████| 1.7 MB 22.0 MB/s eta 0:00:01\r\u001b[K     |████████████████████████████████| 1.7 MB 22.0 MB/s \n",
            "\u001b[?25hRequirement already satisfied: protobuf>=3.12.0 in /usr/local/lib/python3.7/dist-packages (from wandb) (3.17.3)\n",
            "Requirement already satisfied: python-dateutil>=2.6.1 in /usr/local/lib/python3.7/dist-packages (from wandb) (2.8.2)\n",
            "Requirement already satisfied: PyYAML in /usr/local/lib/python3.7/dist-packages (from wandb) (3.13)\n",
            "Collecting pathtools\n",
            "  Downloading pathtools-0.1.2.tar.gz (11 kB)\n",
            "Collecting yaspin>=1.0.0\n",
            "  Downloading yaspin-2.1.0-py3-none-any.whl (18 kB)\n",
            "Requirement already satisfied: psutil>=5.0.0 in /usr/local/lib/python3.7/dist-packages (from wandb) (5.4.8)\n",
            "Requirement already satisfied: six>=1.13.0 in /usr/local/lib/python3.7/dist-packages (from wandb) (1.15.0)\n",
            "Requirement already satisfied: requests<3,>=2.0.0 in /usr/local/lib/python3.7/dist-packages (from wandb) (2.23.0)\n",
            "Requirement already satisfied: Click!=8.0.0,>=7.0 in /usr/local/lib/python3.7/dist-packages (from wandb) (7.1.2)\n",
            "Collecting sentry-sdk>=1.0.0\n",
            "  Downloading sentry_sdk-1.5.7-py2.py3-none-any.whl (144 kB)\n",
            "\u001b[K     |████████████████████████████████| 144 kB 37.6 MB/s \n",
            "\u001b[?25hCollecting docker-pycreds>=0.4.0\n",
            "  Downloading docker_pycreds-0.4.0-py2.py3-none-any.whl (9.0 kB)\n",
            "Collecting setproctitle\n",
            "  Downloading setproctitle-1.2.2-cp37-cp37m-manylinux1_x86_64.whl (36 kB)\n",
            "Collecting GitPython>=1.0.0\n",
            "  Downloading GitPython-3.1.27-py3-none-any.whl (181 kB)\n",
            "\u001b[K     |████████████████████████████████| 181 kB 36.6 MB/s \n",
            "\u001b[?25hRequirement already satisfied: promise<3,>=2.0 in /usr/local/lib/python3.7/dist-packages (from wandb) (2.3)\n",
            "Collecting shortuuid>=0.5.0\n",
            "  Downloading shortuuid-1.0.8-py3-none-any.whl (9.5 kB)\n",
            "Collecting gitdb<5,>=4.0.1\n",
            "  Downloading gitdb-4.0.9-py3-none-any.whl (63 kB)\n",
            "\u001b[K     |████████████████████████████████| 63 kB 1.6 MB/s \n",
            "\u001b[?25hRequirement already satisfied: typing-extensions>=3.7.4.3 in /usr/local/lib/python3.7/dist-packages (from GitPython>=1.0.0->wandb) (3.10.0.2)\n",
            "Collecting smmap<6,>=3.0.1\n",
            "  Downloading smmap-5.0.0-py3-none-any.whl (24 kB)\n",
            "Requirement already satisfied: urllib3!=1.25.0,!=1.25.1,<1.26,>=1.21.1 in /usr/local/lib/python3.7/dist-packages (from requests<3,>=2.0.0->wandb) (1.24.3)\n",
            "Requirement already satisfied: chardet<4,>=3.0.2 in /usr/local/lib/python3.7/dist-packages (from requests<3,>=2.0.0->wandb) (3.0.4)\n",
            "Requirement already satisfied: certifi>=2017.4.17 in /usr/local/lib/python3.7/dist-packages (from requests<3,>=2.0.0->wandb) (2021.10.8)\n",
            "Requirement already satisfied: idna<3,>=2.5 in /usr/local/lib/python3.7/dist-packages (from requests<3,>=2.0.0->wandb) (2.10)\n",
            "Requirement already satisfied: termcolor<2.0.0,>=1.1.0 in /usr/local/lib/python3.7/dist-packages (from yaspin>=1.0.0->wandb) (1.1.0)\n",
            "Building wheels for collected packages: pathtools\n",
            "  Building wheel for pathtools (setup.py) ... \u001b[?25l\u001b[?25hdone\n",
            "  Created wheel for pathtools: filename=pathtools-0.1.2-py3-none-any.whl size=8806 sha256=3c31673fd5e7fbf52ccb3e5b290d48e6de44294450f5677a7871843964ebd9d2\n",
            "  Stored in directory: /root/.cache/pip/wheels/3e/31/09/fa59cef12cdcfecc627b3d24273699f390e71828921b2cbba2\n",
            "Successfully built pathtools\n",
            "Installing collected packages: smmap, gitdb, yaspin, shortuuid, setproctitle, sentry-sdk, pathtools, GitPython, docker-pycreds, wandb\n",
            "Successfully installed GitPython-3.1.27 docker-pycreds-0.4.0 gitdb-4.0.9 pathtools-0.1.2 sentry-sdk-1.5.7 setproctitle-1.2.2 shortuuid-1.0.8 smmap-5.0.0 wandb-0.12.11 yaspin-2.1.0\n"
          ]
        }
      ],
      "source": [
        "#Import and install required libraries\n",
        "import os\n",
        "import glob\n",
        "import tensorflow as tf\n",
        "from tensorflow import keras\n",
        "from tensorflow.keras.preprocessing.image import ImageDataGenerator\n",
        "from tensorflow.keras.models import Sequential, Model\n",
        "from tensorflow.keras.layers import Dense, Flatten, Conv2D, MaxPooling2D, Activation, Dropout, BatchNormalization\n",
        "import numpy as np\n",
        "\n",
        "!pip install wandb\n",
        "import wandb\n",
        "from wandb.keras import WandbCallback\n",
        "\n",
        "from PIL import Image\n",
        "\n",
        "%matplotlib inline\n",
        "%config InlineBackend.figure_format = 'svg'\n",
        "import matplotlib.pyplot as plt\n",
        "import matplotlib.image as mpimg"
      ]
    },
    {
      "cell_type": "code",
      "source": [
        "#Mount google drive\n",
        "from google.colab import drive\n",
        "drive.mount('/content/drive')"
      ],
      "metadata": {
        "colab": {
          "base_uri": "https://localhost:8080/"
        },
        "id": "0TuvWgGwkuR0",
        "outputId": "fbb2d8c2-feed-47bd-8538-70442af91e50"
      },
      "execution_count": null,
      "outputs": [
        {
          "output_type": "stream",
          "name": "stdout",
          "text": [
            "Mounted at /content/drive\n"
          ]
        }
      ]
    },
    {
      "cell_type": "code",
      "source": [
        "#Unzip and load file data file onto server, then delete zip file for optimizing performance\n",
        "zip_path = \"drive/MyDrive/nature_12K.zip\"\n",
        "!cp \"{zip_path}\" .\n",
        "!unzip -q nature_12K.zip\n",
        "!rm nature_12K.zip"
      ],
      "metadata": {
        "id": "rq-vHP-llAzH"
      },
      "execution_count": null,
      "outputs": []
    },
    {
      "cell_type": "code",
      "source": [
        "##  building of CNN Model\n",
        "def CNN_Model(num_filters=32, filter_multiplier=1, dropout=0.2, batch_norm=False, dense_size=64, num_classes=10, image_size=200):\n",
        "    cnn_model = Sequential()\n",
        "    \n",
        "    for i in range(5):\n",
        "        filter_dim = 11 - 2*i\n",
        "        filter_size = (filter_dim, filter_dim)\n",
        "        if i==0:\n",
        "            cnn_model.add(Conv2D(num_filters, filter_size, input_shape=(image_size, image_size, 3), data_format=\"channels_last\"))\n",
        "        else:\n",
        "            cnn_model.add(Conv2D(num_filters, filter_size))\n",
        "        if batch_norm:\n",
        "            cnn_model.add(BatchNormalization())\n",
        "        cnn_model.add(Activation(\"relu\"))\n",
        "        cnn_model.add(MaxPooling2D(pool_size=(2,2)))\n",
        "        num_filters = int(num_filters * filter_multiplier)\n",
        "    \n",
        "    cnn_model.add(Flatten())\n",
        "    cnn_model.add(Dense(dense_size))\n",
        "    cnn_model.add(Dropout(dropout))\n",
        "    cnn_model.add(Activation(\"relu\"))\n",
        "    cnn_model.add(Dense(num_classes))\n",
        "    cnn_model.add(Activation(\"softmax\"))\n",
        "\n",
        "    return cnn_model"
      ],
      "metadata": {
        "id": "CGlQYAwqrMBD"
      },
      "execution_count": null,
      "outputs": []
    }
  ]
}