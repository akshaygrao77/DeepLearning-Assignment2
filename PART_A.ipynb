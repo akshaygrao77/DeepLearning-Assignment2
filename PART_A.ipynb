{
  "cells": [
    {
      "cell_type": "markdown",
      "metadata": {
        "id": "view-in-github",
        "colab_type": "text"
      },
      "source": [
        "<a href=\"https://colab.research.google.com/github/akshaygrao77/DeepLearning-Assignment2/blob/main/PART_A.ipynb\" target=\"_parent\"><img src=\"https://colab.research.google.com/assets/colab-badge.svg\" alt=\"Open In Colab\"/></a>"
      ]
    },
    {
      "cell_type": "code",
      "execution_count": 15,
      "metadata": {
        "colab": {
          "base_uri": "https://localhost:8080/"
        },
        "id": "aQHrzscZjmv_",
        "outputId": "cff71cb3-36d2-463e-e9ab-4cb10fe50591"
      },
      "outputs": [
        {
          "output_type": "stream",
          "name": "stdout",
          "text": [
            "Requirement already satisfied: wandb in /usr/local/lib/python3.7/dist-packages (0.12.11)\n",
            "Requirement already satisfied: six>=1.13.0 in /usr/local/lib/python3.7/dist-packages (from wandb) (1.15.0)\n",
            "Requirement already satisfied: Click!=8.0.0,>=7.0 in /usr/local/lib/python3.7/dist-packages (from wandb) (7.1.2)\n",
            "Requirement already satisfied: PyYAML in /usr/local/lib/python3.7/dist-packages (from wandb) (3.13)\n",
            "Requirement already satisfied: pathtools in /usr/local/lib/python3.7/dist-packages (from wandb) (0.1.2)\n",
            "Requirement already satisfied: promise<3,>=2.0 in /usr/local/lib/python3.7/dist-packages (from wandb) (2.3)\n",
            "Requirement already satisfied: psutil>=5.0.0 in /usr/local/lib/python3.7/dist-packages (from wandb) (5.4.8)\n",
            "Requirement already satisfied: protobuf>=3.12.0 in /usr/local/lib/python3.7/dist-packages (from wandb) (3.17.3)\n",
            "Requirement already satisfied: python-dateutil>=2.6.1 in /usr/local/lib/python3.7/dist-packages (from wandb) (2.8.2)\n",
            "Requirement already satisfied: GitPython>=1.0.0 in /usr/local/lib/python3.7/dist-packages (from wandb) (3.1.27)\n",
            "Requirement already satisfied: sentry-sdk>=1.0.0 in /usr/local/lib/python3.7/dist-packages (from wandb) (1.5.8)\n",
            "Requirement already satisfied: requests<3,>=2.0.0 in /usr/local/lib/python3.7/dist-packages (from wandb) (2.23.0)\n",
            "Requirement already satisfied: setproctitle in /usr/local/lib/python3.7/dist-packages (from wandb) (1.2.2)\n",
            "Requirement already satisfied: docker-pycreds>=0.4.0 in /usr/local/lib/python3.7/dist-packages (from wandb) (0.4.0)\n",
            "Requirement already satisfied: shortuuid>=0.5.0 in /usr/local/lib/python3.7/dist-packages (from wandb) (1.0.8)\n",
            "Requirement already satisfied: yaspin>=1.0.0 in /usr/local/lib/python3.7/dist-packages (from wandb) (2.1.0)\n",
            "Requirement already satisfied: gitdb<5,>=4.0.1 in /usr/local/lib/python3.7/dist-packages (from GitPython>=1.0.0->wandb) (4.0.9)\n",
            "Requirement already satisfied: typing-extensions>=3.7.4.3 in /usr/local/lib/python3.7/dist-packages (from GitPython>=1.0.0->wandb) (3.10.0.2)\n",
            "Requirement already satisfied: smmap<6,>=3.0.1 in /usr/local/lib/python3.7/dist-packages (from gitdb<5,>=4.0.1->GitPython>=1.0.0->wandb) (5.0.0)\n",
            "Requirement already satisfied: chardet<4,>=3.0.2 in /usr/local/lib/python3.7/dist-packages (from requests<3,>=2.0.0->wandb) (3.0.4)\n",
            "Requirement already satisfied: urllib3!=1.25.0,!=1.25.1,<1.26,>=1.21.1 in /usr/local/lib/python3.7/dist-packages (from requests<3,>=2.0.0->wandb) (1.24.3)\n",
            "Requirement already satisfied: certifi>=2017.4.17 in /usr/local/lib/python3.7/dist-packages (from requests<3,>=2.0.0->wandb) (2021.10.8)\n",
            "Requirement already satisfied: idna<3,>=2.5 in /usr/local/lib/python3.7/dist-packages (from requests<3,>=2.0.0->wandb) (2.10)\n",
            "Requirement already satisfied: termcolor<2.0.0,>=1.1.0 in /usr/local/lib/python3.7/dist-packages (from yaspin>=1.0.0->wandb) (1.1.0)\n"
          ]
        }
      ],
      "source": [
        "#Import and install required libraries\n",
        "import os\n",
        "import glob\n",
        "import tensorflow as tf\n",
        "\n",
        "import tensorflow as tf\n",
        "from tensorflow import keras\n",
        "from keras.models import Sequential, Model\n",
        "from keras.layers import *\n",
        "from keras.optimizers import *\n",
        "from keras.preprocessing.image import ImageDataGenerator\n",
        "from keras.utils.vis_utils import plot_model\n",
        "from keras.callbacks import History\n",
        "import numpy as np\n",
        "import matplotlib.pyplot as plt\n",
        "from PIL import Image\n",
        "import os\n",
        "import cv2\n",
        "!pip install wandb\n",
        "import wandb\n",
        "from wandb.keras import WandbCallback\n",
        "import os\n",
        "from PIL import Image\n",
        "\n",
        "%matplotlib inline\n",
        "%config InlineBackend.figure_format = 'svg'\n",
        "import matplotlib.pyplot as plt\n",
        "import matplotlib.image as mpimg"
      ]
    },
    {
      "cell_type": "code",
      "execution_count": 15,
      "metadata": {
        "id": "ydeuXv4h7KwO"
      },
      "outputs": [],
      "source": [
        ""
      ]
    },
    {
      "cell_type": "code",
      "execution_count": 16,
      "metadata": {
        "id": "0TuvWgGwkuR0",
        "colab": {
          "base_uri": "https://localhost:8080/"
        },
        "outputId": "7ed6a91f-9678-42a5-a8ea-84fc4070c50d"
      },
      "outputs": [
        {
          "output_type": "stream",
          "name": "stdout",
          "text": [
            "Drive already mounted at /content/drive; to attempt to forcibly remount, call drive.mount(\"/content/drive\", force_remount=True).\n"
          ]
        }
      ],
      "source": [
        "#Mount google drive\n",
        "from google.colab import drive\n",
        "drive.mount('/content/drive')"
      ]
    },
    {
      "cell_type": "code",
      "execution_count": 11,
      "metadata": {
        "id": "rq-vHP-llAzH"
      },
      "outputs": [],
      "source": [
        "\n",
        "#Unzip and load file data file onto server, then delete zip file for optimizing performance\n",
        "zip_path = \"drive/MyDrive/nature_12K.zip\"\n",
        "!cp \"{zip_path}\" .\n",
        "!unzip -q nature_12K.zip\n",
        "!rm nature_12K.zip"
      ]
    },
    {
      "cell_type": "code",
      "execution_count": 12,
      "metadata": {
        "id": "lh4yBEkNbqU2"
      },
      "outputs": [],
      "source": [
        "train_dir='inaturalist_12K/train/'\n",
        "test_dir='inaturalist_12K/val/'\n",
        "categories=['Amphibia','Animalia','Arachnida','Aves','Fungi','Insecta','Mammalia','Mollusca','Plantae','Reptilia']"
      ]
    },
    {
      "cell_type": "code",
      "execution_count": 13,
      "metadata": {
        "id": "euNbSGV-uiQZ"
      },
      "outputs": [],
      "source": [
        "path_train_data = os.getcwd()+\"/inaturalist_12K/train\"\n",
        "path_test_data = os.getcwd()+\"/inaturalist_12K/val\"\n",
        "\n",
        "width, height = 200, 200\n",
        "\n",
        "batch_size = 128"
      ]
    },
    {
      "cell_type": "code",
      "execution_count": 17,
      "metadata": {
        "id": "XHLz1V8otVdO",
        "colab": {
          "base_uri": "https://localhost:8080/",
          "height": 559
        },
        "outputId": "467ee315-705a-48d8-f4c9-e071b2ac0d2d"
      },
      "outputs": [
        {
          "output_type": "display_data",
          "data": {
            "text/plain": [
              "<IPython.core.display.Javascript object>"
            ],
            "application/javascript": [
              "\n",
              "        window._wandbApiKey = new Promise((resolve, reject) => {\n",
              "            function loadScript(url) {\n",
              "            return new Promise(function(resolve, reject) {\n",
              "                let newScript = document.createElement(\"script\");\n",
              "                newScript.onerror = reject;\n",
              "                newScript.onload = resolve;\n",
              "                document.body.appendChild(newScript);\n",
              "                newScript.src = url;\n",
              "            });\n",
              "            }\n",
              "            loadScript(\"https://cdn.jsdelivr.net/npm/postmate/build/postmate.min.js\").then(() => {\n",
              "            const iframe = document.createElement('iframe')\n",
              "            iframe.style.cssText = \"width:0;height:0;border:none\"\n",
              "            document.body.appendChild(iframe)\n",
              "            const handshake = new Postmate({\n",
              "                container: iframe,\n",
              "                url: 'https://wandb.ai/authorize'\n",
              "            });\n",
              "            const timeout = setTimeout(() => reject(\"Couldn't auto authenticate\"), 5000)\n",
              "            handshake.then(function(child) {\n",
              "                child.on('authorize', data => {\n",
              "                    clearTimeout(timeout)\n",
              "                    resolve(data)\n",
              "                });\n",
              "            });\n",
              "            })\n",
              "        });\n",
              "    "
            ]
          },
          "metadata": {}
        },
        {
          "output_type": "stream",
          "name": "stderr",
          "text": [
            "\u001b[34m\u001b[1mwandb\u001b[0m: You can find your API key in your browser here: https://wandb.ai/authorize\n"
          ]
        },
        {
          "name": "stdout",
          "output_type": "stream",
          "text": [
            "wandb: Paste an API key from your profile and hit enter, or press ctrl+c to quit: ··········\n"
          ]
        },
        {
          "output_type": "stream",
          "name": "stderr",
          "text": [
            "\u001b[34m\u001b[1mwandb\u001b[0m: Appending key for api.wandb.ai to your netrc file: /root/.netrc\n"
          ]
        },
        {
          "output_type": "display_data",
          "data": {
            "text/plain": [
              "<IPython.core.display.HTML object>"
            ],
            "text/html": [
              "Tracking run with wandb version 0.12.11"
            ]
          },
          "metadata": {}
        },
        {
          "output_type": "display_data",
          "data": {
            "text/plain": [
              "<IPython.core.display.HTML object>"
            ],
            "text/html": [
              "Run data is saved locally in <code>/content/wandb/run-20220328_110610-2xepd6ih</code>"
            ]
          },
          "metadata": {}
        },
        {
          "output_type": "display_data",
          "data": {
            "text/plain": [
              "<IPython.core.display.HTML object>"
            ],
            "text/html": [
              "Syncing run <strong><a href=\"https://wandb.ai/cs21s002-ee21s113-dlassignment-1/DLAssignment2/runs/2xepd6ih\" target=\"_blank\">sunny-sun-56</a></strong> to <a href=\"https://wandb.ai/cs21s002-ee21s113-dlassignment-1/DLAssignment2\" target=\"_blank\">Weights & Biases</a> (<a href=\"https://wandb.me/run\" target=\"_blank\">docs</a>)<br/>"
            ]
          },
          "metadata": {}
        },
        {
          "output_type": "execute_result",
          "data": {
            "text/html": [
              "<button onClick=\"this.nextSibling.style.display='block';this.style.display='none';\">Display W&B run</button><iframe src=\"https://wandb.ai/cs21s002-ee21s113-dlassignment-1/DLAssignment2/runs/2xepd6ih?jupyter=true\" style=\"border:none;width:100%;height:420px;display:none;\"></iframe>"
            ],
            "text/plain": [
              "<wandb.sdk.wandb_run.Run at 0x7fc001a9af10>"
            ]
          },
          "metadata": {},
          "execution_count": 17
        }
      ],
      "source": [
        "wandb.init(project=\"DLAssignment2\", entity='cs21s002-ee21s113-dlassignment-1')"
      ]
    },
    {
      "cell_type": "code",
      "execution_count": 18,
      "metadata": {
        "id": "L8r6VJxqt6Ti"
      },
      "outputs": [],
      "source": [
        "def get_model(filter_list=[64, 32, 48, 32, 32], dropout=0.2, batch_norm=False, dense_layer_size=512, conv_activations=[\"relu\", \"relu\", \"relu\", \"relu\", \"relu\"], dense_layer_activation=\"relu\", output_activation=\"softmax\"):\n",
        "    \n",
        "    model = Sequential()\n",
        "\n",
        "    for i in range(5):\n",
        "        model.add(Conv2D(filter_list[i], (3, 3), input_shape=(200,200,3), padding=\"same\"))\n",
        "        if batch_norm:\n",
        "            model.add(BatchNormalization())\n",
        "        model.add(Activation(conv_activations[i]))\n",
        "        model.add(MaxPooling2D(pool_size=(2, 2)))\n",
        "    \n",
        "    model.add(Flatten())\n",
        "    model.add(Dense(dense_layer_size))\n",
        "    model.add(Dropout(dropout))\n",
        "    model.add(Activation(dense_layer_activation))\n",
        "    model.add(Dense(10))\n",
        "    model.add(Activation(output_activation))\n",
        "\n",
        "    return model;"
      ]
    },
    {
      "cell_type": "code",
      "execution_count": 19,
      "metadata": {
        "id": "LsZnAaC9u5xQ"
      },
      "outputs": [],
      "source": [
        "def get_dataset_generators(train_data_aug=False):\n",
        "    if train_data_aug:\n",
        "        train_idg = ImageDataGenerator(\n",
        "            rescale=1. /255,\n",
        "            validation_split=0.1,               #10% is to be kept aside\n",
        "            horizontal_flip=True,\n",
        "            vertical_flip=False,\n",
        "            rotation_range=15,\n",
        "            shear_range=0.1,\n",
        "            zoom_range=0.1,\n",
        "            width_shift_range=0.2,\n",
        "            height_shift_range=0.2\n",
        "        )\n",
        "    else:\n",
        "        train_idg = ImageDataGenerator(\n",
        "            rescale=1. /255,\n",
        "            validation_split=0.1                 #10% is to be kept aside\n",
        "        )\n",
        "    \n",
        "    test_idg = ImageDataGenerator(\n",
        "            rescale=1. /255\n",
        "        )\n",
        "    \n",
        "    print(f\"{path_train_data}\")\n",
        "    train_generator = train_idg.flow_from_directory(\n",
        "        path_train_data,\n",
        "        batch_size=batch_size,\n",
        "        target_size=(width, height),\n",
        "        subset='training',\n",
        "        class_mode='categorical'\n",
        "    )\n",
        "\n",
        "    val_generator = train_idg.flow_from_directory(\n",
        "        path_train_data,\n",
        "        batch_size=batch_size,\n",
        "        target_size=(width, height),\n",
        "        subset='validation',\n",
        "        class_mode='categorical'\n",
        "    )\n",
        "\n",
        "    print(f\"{path_test_data}\")\n",
        "    test_generator = test_idg.flow_from_directory(\n",
        "        path_test_data,\n",
        "        batch_size=batch_size, \n",
        "        target_size=(width, height)\n",
        "    )\n",
        "    \n",
        "    return train_generator, val_generator, test_generator"
      ]
    },
    {
      "cell_type": "code",
      "execution_count": 20,
      "metadata": {
        "id": "qMaq3SoFvTOa"
      },
      "outputs": [],
      "source": [
        "default_config = {\n",
        "        \"filter_list\":[64, 32, 48, 32, 32], \n",
        "        \"dropout\":0.2, \n",
        "        \"batch_norm\":False, \n",
        "        \"dense_layer_size\":512,\n",
        "        \"epochs\": 10,\n",
        "        \"lr\": 0.001,\n",
        "        \"train_data_aug\":False\n",
        "    }\n",
        "\n",
        "#Keras callback    \n",
        "history = History()"
      ]
    },
    {
      "cell_type": "code",
      "execution_count": 21,
      "metadata": {
        "id": "XgpPLPqOwDfJ"
      },
      "outputs": [],
      "source": [
        "def run():\n",
        "    # Create a MirroredStrategy.\n",
        "    if tf.config.list_physical_devices('GPU'):\n",
        "        strategy = tf.distribute.MirroredStrategy()\n",
        "    else:  # use default strategy\n",
        "        strategy = tf.distribute.get_strategy()\n",
        "    print('Number of devices: {}'.format(strategy.num_replicas_in_sync))\n",
        "\n",
        "    wandb.init(config=default_config, magic=True, project='DLAssignment2', entity='cs21s002-ee21s113-dlassignment-1')\n",
        "    config = wandb.config\n",
        "    run_name = str(config).replace(\"{\", \"\").replace(\"}\",\"\").replace(\":\",\"-\")\n",
        "    wandb.run.name = run_name\n",
        "\n",
        "    # Open a strategy scope and create the model\n",
        "    with strategy.scope():\n",
        "        model = get_model(config.filter_list, config.dropout, config.batch_norm, config.dense_layer_size)\n",
        "\n",
        "    plot_model(model)\n",
        "\n",
        "    model.summary()\n",
        "\n",
        "    train_generator, val_generator, test_generator = get_dataset_generators(config.train_data_aug)\n",
        "\n",
        "    model.compile(loss=\"categorical_crossentropy\", optimizer=keras.optimizers.Adam(config.lr), metrics=\"categorical_accuracy\")\n",
        "\n",
        "    model.fit(train_generator, epochs=config.epochs, validation_data=val_generator, callbacks=[WandbCallback(), history])\n",
        "\n",
        "    model.evaluate(test_generator)\n",
        "\n",
        "    model.save(f'{run_name.replace(\",\",\"-\")}.h5')  # creates a HDF5 file 'my_model.h5'"
      ]
    },
    {
      "cell_type": "code",
      "execution_count": 22,
      "metadata": {
        "id": "CZ3SHcbUxjq4"
      },
      "outputs": [],
      "source": [
        "sweep_config = {\n",
        "    \"name\": \"Assignment 2 - alpha\",\n",
        "    \"metric\": \"categorical_accuracy\",\n",
        "    \"method\": \"random\",\n",
        "    \"project\": 'Assignment 2',\n",
        "    \"parameters\": {\n",
        "        \"filter_list\": {\n",
        "            \"values\": [[64, 64, 48, 32, 32], [128, 64, 48, 32, 32], [32, 32, 32, 32, 32], [64, 64, 64, 64, 64]]\n",
        "        },\n",
        "        \"dropout\": {\n",
        "            \"values\": [0.2, 0.3, 0.5]\n",
        "        },\n",
        "        \"batch_norm\": {\n",
        "            \"values\": [True,False]\n",
        "        },\n",
        "        \"dense_layer_size\": {\n",
        "            \"values\": [512, 1024]\n",
        "        },\n",
        "        \"train_data_aug\": {\n",
        "            \"values\": [True,False]\n",
        "        },\n",
        "        \"epochs\": {\n",
        "            \"values\": [1, 5, 7]\n",
        "        },\n",
        "        \"lr\": {\n",
        "            \"values\": [0.001, 0.0001, 0.00001, 0.01]\n",
        "        },\n",
        "        \n",
        "    }\n",
        "}"
      ]
    },
    {
      "cell_type": "code",
      "execution_count": 23,
      "metadata": {
        "id": "-e7FC_hPxu2P"
      },
      "outputs": [],
      "source": [
        "#sweep_id = wandb.sweep(sweep_config, project='DLAssignment2', entity='cs21s002-ee21s113-dlassignment-1')"
      ]
    },
    {
      "cell_type": "code",
      "execution_count": 24,
      "metadata": {
        "id": "vMbmfJsYzSQd"
      },
      "outputs": [],
      "source": [
        "#wandb.agent(sweep_id, function=run, project='DLAssignment2', entity='cs21s002-ee21s113-dlassignment-1')"
      ]
    },
    {
      "cell_type": "code",
      "execution_count": 25,
      "metadata": {
        "id": "WuuRxcjFx4ie"
      },
      "outputs": [],
      "source": [
        "sweep_config_v2 = {\n",
        "    \"name\": \"Assignment 2 - test\",\n",
        "    \"metric\": \"categorical_accuracy\",\n",
        "    \"method\": \"random\",\n",
        "    \"project\": 'Assignment 2',\n",
        "    \"parameters\": {\n",
        "        \"filter_list\": {\n",
        "            \"values\": [[64, 64, 64, 64, 64]]\n",
        "        },\n",
        "        \"dropout\": {\n",
        "            \"values\": [0.2, 0.3, 0.5]\n",
        "        },\n",
        "        \"batch_norm\": {\n",
        "            \"values\": [False]\n",
        "        },\n",
        "        \"dense_layer_size\": {\n",
        "            \"values\": [512]\n",
        "        },\n",
        "        \"train_data_aug\": {\n",
        "            \"values\": [True]\n",
        "        },\n",
        "        \"epochs\": {\n",
        "            \"values\": [7,10]\n",
        "        },\n",
        "        \"lr\": {\n",
        "            \"values\": [0.001, 0.0001]\n",
        "        },\n",
        "        \n",
        "    }\n",
        "}"
      ]
    },
    {
      "cell_type": "code",
      "execution_count": 26,
      "metadata": {
        "id": "UUmqgV4WyEyw"
      },
      "outputs": [],
      "source": [
        "def test():\n",
        "    # Create a MirroredStrategy.\n",
        "    if tf.config.list_physical_devices('GPU'):\n",
        "        strategy = tf.distribute.MirroredStrategy()\n",
        "    else:  # use default strategy\n",
        "        strategy = tf.distribute.get_strategy()\n",
        "    print('Number of devices: {}'.format(strategy.num_replicas_in_sync))\n",
        "\n",
        "    wandb.init(config=default_config, magic=True, project='DLAssignment2', entity='cs21s002-ee21s113-dlassignment-1')\n",
        "    config = wandb.config\n",
        "    run_name = str(config).replace(\"{\", \"\").replace(\"}\",\"\").replace(\":\",\"-\")\n",
        "    wandb.run.name = run_name\n",
        "\n",
        "    # Open a strategy scope and create the model\n",
        "    with strategy.scope():\n",
        "        model = get_model(config.filter_list, config.dropout, config.batch_norm, config.dense_layer_size)\n",
        "\n",
        "    plot_model(model, to_file=\"temp.png\")\n",
        "\n",
        "    model.summary()\n",
        "\n",
        "    train_generator, val_generator, test_generator = get_dataset_generators(config.train_data_aug)\n",
        "\n",
        "    model.compile(loss=\"categorical_crossentropy\", optimizer=keras.optimizers.Adam(config.lr), metrics=\"categorical_accuracy\")\n",
        "\n",
        "    model.fit(train_generator, epochs=config.epochs, validation_data=test_generator, callbacks=[WandbCallback()])"
      ]
    },
    {
      "cell_type": "code",
      "execution_count": 27,
      "metadata": {
        "id": "LBREsuJHyIXX",
        "colab": {
          "base_uri": "https://localhost:8080/"
        },
        "outputId": "674a22ac-c1ce-4087-c363-1243a13bcaa4"
      },
      "outputs": [
        {
          "output_type": "stream",
          "name": "stderr",
          "text": [
            "\u001b[34m\u001b[1mwandb\u001b[0m: \u001b[33mWARNING\u001b[0m Malformed sweep config detected! This may cause your sweep to behave in unexpected ways.\n",
            "\u001b[34m\u001b[1mwandb\u001b[0m: \u001b[33mWARNING\u001b[0m To avoid this, please fix the sweep config schema violations below:\n",
            "\u001b[34m\u001b[1mwandb\u001b[0m: \u001b[33mWARNING\u001b[0m   Violation 1. 'categorical_accuracy' is not of type 'object'\n"
          ]
        },
        {
          "output_type": "stream",
          "name": "stdout",
          "text": [
            "Create sweep with ID: 6rqpl4n9\n",
            "Sweep URL: https://wandb.ai/cs21s002-ee21s113-dlassignment-1/DLAssignment2/sweeps/6rqpl4n9\n"
          ]
        }
      ],
      "source": [
        "sweep_id = wandb.sweep(sweep_config_v2, project='DLAssignment2', entity='cs21s002-ee21s113-dlassignment-1')"
      ]
    },
    {
      "cell_type": "code",
      "execution_count": null,
      "metadata": {
        "id": "AJlvRPv1zI3u",
        "colab": {
          "base_uri": "https://localhost:8080/",
          "height": 1000,
          "referenced_widgets": [
            "8911b5d9e6424c4d96274013635e64a0",
            "80c259a5f242424c9dd1ac57280bc2cd",
            "c54ef4aeac624972ab6e9e4483b74d67",
            "72f8310f1ec44afe925b43d76327544b",
            "659324d21a314fbaaf3da4c9a87628fb",
            "e4071b9c389a4e99a29cde40027dc49c",
            "ab800aae04fb42949d8c922bde77936a",
            "6934ae7bafee4127bfee8fb92ce0905c",
            "72252bf067934303a07975e719a6eed8",
            "2a72def9b0de4334af8eab82cdd069ed",
            "a5e491dcf27441ebb9f21c34bcda6af7",
            "92984fdffee34aa8bc89a0e3a4514df2",
            "f7e33f6dbafe4578a45658c91ab33150",
            "07fb5f0e29d74dc6aff06421fb657c36",
            "bdf7f4e2320e4108b1a2e71b63a663a9",
            "1eac13d9cfbb4f46a1339fdc858f64cc",
            "71095338643d423fb51f61a207689799",
            "d933a9b379ed4c37bce50bdf498ec724",
            "3d2c88c0ce2445c7a974f31166dd502b",
            "dd0fedc287554014bf0f8a39d40a9506",
            "7027861f77f34f8d8360878eca0ca8bb",
            "85d1ab1e1035472584674f5cdaa7b832",
            "3e2069c12a1243b2a917403b50d0195c",
            "c3c94b7af50f48feae5d78c7231b6837",
            "9b64efe20c9b4e7284aac67957e17391",
            "f1bd7df4e7e141d7b7f4acffdf60df12",
            "674429732e3a45a2b6ad28c2544af5aa",
            "a7bf797df2034015a5491789137f6612",
            "e800098d5f204b1482d90fa1a7bedce7",
            "8fae423beaa94271873660512f496de0",
            "362c03fcd6154bcaa8b3b1a3f5232242",
            "bd39694b43304be48799117098347821",
            "ae03acfe39384f2791e3dbad726a5987",
            "c772d5d7be7c4cb8a00bc0c2ed3c4b70",
            "6e06365c7c9b48519f2305957e1a2a4b",
            "a5b1b77e388f4e868d659f2e2191cbbf",
            "d54fed6257694317bfb6cce20ae3a4cb",
            "e9d764873d354d46953a8faaccbc7244",
            "98305d749248460f96d73e5115c1a538",
            "dc2323c5d80a46c5abe6122237381144",
            "ae8c5c9f2e60409a9864cf05e61b761d",
            "9226c52169834885a30ea8ed3445bd6c",
            "3998749db59341479cc51b93a1ddf9ae",
            "1c481f08e12f416b83c6d0d2bd6ccb11",
            "a8c8381c061246b2b1a703e672d159e8",
            "62c70d27fbdf494b80ba7119b34e2f15",
            "8cd1b08d8b9a43f484aebf3e419ec394",
            "8a5b0b07c766465d88c9a993d0fdbb62",
            "75461707c3ef4aaf9105b1edfab079eb",
            "26abd91b2da94a4895926540814a290c",
            "6dee4396f7db40518ee869e9884d1151",
            "f8214679c2c247ae916af9b53d93e1d6",
            "e6b4a50f11c14370b6c03c05c3a8bc07",
            "8d4ba3c90b1d4d3ea1007b209d2bb253",
            "4a46fcc283ee41869aa21f4315d51406",
            "96630e480dc94f13955933e76f7a96e3"
          ]
        },
        "outputId": "b8ec1a0c-a596-4bd5-c9c4-13513fcb32eb"
      },
      "outputs": [
        {
          "metadata": {
            "tags": null
          },
          "name": "stderr",
          "output_type": "stream",
          "text": [
            "\u001b[34m\u001b[1mwandb\u001b[0m: \u001b[33mWARNING\u001b[0m Calling wandb.login() after wandb.init() has no effect.\n",
            "\u001b[34m\u001b[1mwandb\u001b[0m: Agent Starting Run: z8d1wghg with config:\n",
            "\u001b[34m\u001b[1mwandb\u001b[0m: \tbatch_norm: False\n",
            "\u001b[34m\u001b[1mwandb\u001b[0m: \tdense_layer_size: 512\n",
            "\u001b[34m\u001b[1mwandb\u001b[0m: \tdropout: 0.2\n",
            "\u001b[34m\u001b[1mwandb\u001b[0m: \tepochs: 10\n",
            "\u001b[34m\u001b[1mwandb\u001b[0m: \tfilter_list: [64, 64, 64, 64, 64]\n",
            "\u001b[34m\u001b[1mwandb\u001b[0m: \tlr: 0.0001\n",
            "\u001b[34m\u001b[1mwandb\u001b[0m: \ttrain_data_aug: True\n"
          ]
        },
        {
          "metadata": {
            "tags": null
          },
          "name": "stdout",
          "output_type": "stream",
          "text": [
            "INFO:tensorflow:Using MirroredStrategy with devices ('/job:localhost/replica:0/task:0/device:GPU:0',)\n",
            "Number of devices: 1\n"
          ]
        },
        {
          "metadata": {
            "tags": null
          },
          "name": "stderr",
          "output_type": "stream",
          "text": [
            "\u001b[34m\u001b[1mwandb\u001b[0m: \u001b[33mWARNING\u001b[0m Ignored wandb.init() arg project when running a sweep.\n",
            "\u001b[34m\u001b[1mwandb\u001b[0m: \u001b[33mWARNING\u001b[0m Ignored wandb.init() arg entity when running a sweep.\n"
          ]
        },
        {
          "data": {
            "text/html": [
              "Tracking run with wandb version 0.12.11"
            ],
            "text/plain": [
              "<IPython.core.display.HTML object>"
            ]
          },
          "metadata": {},
          "output_type": "display_data"
        },
        {
          "data": {
            "text/html": [
              "Run data is saved locally in <code>/content/wandb/run-20220328_110632-z8d1wghg</code>"
            ],
            "text/plain": [
              "<IPython.core.display.HTML object>"
            ]
          },
          "metadata": {},
          "output_type": "display_data"
        },
        {
          "data": {
            "text/html": [
              "Syncing run <strong><a href=\"https://wandb.ai/cs21s002-ee21s113-dlassignment-1/DLAssignment2/runs/z8d1wghg\" target=\"_blank\">giddy-sweep-1</a></strong> to <a href=\"https://wandb.ai/cs21s002-ee21s113-dlassignment-1/DLAssignment2\" target=\"_blank\">Weights & Biases</a> (<a href=\"https://wandb.me/run\" target=\"_blank\">docs</a>)<br/>Sweep page:  <a href=\"https://wandb.ai/cs21s002-ee21s113-dlassignment-1/DLAssignment2/sweeps/6rqpl4n9\" target=\"_blank\">https://wandb.ai/cs21s002-ee21s113-dlassignment-1/DLAssignment2/sweeps/6rqpl4n9</a>"
            ],
            "text/plain": [
              "<IPython.core.display.HTML object>"
            ]
          },
          "metadata": {},
          "output_type": "display_data"
        },
        {
          "metadata": {
            "tags": null
          },
          "name": "stderr",
          "output_type": "stream",
          "text": [
            "\u001b[34m\u001b[1mwandb\u001b[0m: \u001b[33mWARNING\u001b[0m Ignored wandb.init() arg project when running a sweep.\n",
            "\u001b[34m\u001b[1mwandb\u001b[0m: \u001b[33mWARNING\u001b[0m Ignored wandb.init() arg entity when running a sweep.\n"
          ]
        },
        {
          "data": {
            "text/html": [
              "Finishing last run (ID:z8d1wghg) before initializing another..."
            ],
            "text/plain": [
              "<IPython.core.display.HTML object>"
            ]
          },
          "metadata": {},
          "output_type": "display_data"
        },
        {
          "metadata": {
            "tags": null
          },
          "name": "stdout",
          "output_type": "stream",
          "text": [
            "\n"
          ]
        },
        {
          "data": {
            "text/html": [
              "Waiting for W&B process to finish... <strong style=\"color:green\">(success).</strong>"
            ],
            "text/plain": [
              "<IPython.core.display.HTML object>"
            ]
          },
          "metadata": {},
          "output_type": "display_data"
        },
        {
          "data": {
            "application/vnd.jupyter.widget-view+json": {
              "model_id": "8911b5d9e6424c4d96274013635e64a0",
              "version_major": 2,
              "version_minor": 0
            },
            "text/plain": [
              "VBox(children=(Label(value='0.001 MB of 0.001 MB uploaded (0.000 MB deduped)\\r'), FloatProgress(value=1.0, max…"
            ]
          },
          "metadata": {},
          "output_type": "display_data"
        },
        {
          "data": {
            "text/html": [
              "Synced <strong style=\"color:#cdcd00\">giddy-sweep-1</strong>: <a href=\"https://wandb.ai/cs21s002-ee21s113-dlassignment-1/DLAssignment2/runs/z8d1wghg\" target=\"_blank\">https://wandb.ai/cs21s002-ee21s113-dlassignment-1/DLAssignment2/runs/z8d1wghg</a><br/>Synced 5 W&B file(s), 0 media file(s), 0 artifact file(s) and 0 other file(s)"
            ],
            "text/plain": [
              "<IPython.core.display.HTML object>"
            ]
          },
          "metadata": {},
          "output_type": "display_data"
        },
        {
          "data": {
            "text/html": [
              "Find logs at: <code>./wandb/run-20220328_110632-z8d1wghg/logs</code>"
            ],
            "text/plain": [
              "<IPython.core.display.HTML object>"
            ]
          },
          "metadata": {},
          "output_type": "display_data"
        },
        {
          "data": {
            "text/html": [
              "Successfully finished last run (ID:z8d1wghg). Initializing new run:<br/>"
            ],
            "text/plain": [
              "<IPython.core.display.HTML object>"
            ]
          },
          "metadata": {},
          "output_type": "display_data"
        },
        {
          "data": {
            "text/html": [
              "Tracking run with wandb version 0.12.11"
            ],
            "text/plain": [
              "<IPython.core.display.HTML object>"
            ]
          },
          "metadata": {},
          "output_type": "display_data"
        },
        {
          "data": {
            "text/html": [
              "Run data is saved locally in <code>/content/wandb/run-20220328_110640-z8d1wghg</code>"
            ],
            "text/plain": [
              "<IPython.core.display.HTML object>"
            ]
          },
          "metadata": {},
          "output_type": "display_data"
        },
        {
          "data": {
            "text/html": [
              "Syncing run <strong><a href=\"https://wandb.ai/cs21s002-ee21s113-dlassignment-1/DLAssignment2/runs/z8d1wghg\" target=\"_blank\">giddy-sweep-1</a></strong> to <a href=\"https://wandb.ai/cs21s002-ee21s113-dlassignment-1/DLAssignment2\" target=\"_blank\">Weights & Biases</a> (<a href=\"https://wandb.me/run\" target=\"_blank\">docs</a>)<br/>Sweep page:  <a href=\"https://wandb.ai/cs21s002-ee21s113-dlassignment-1/DLAssignment2/sweeps/6rqpl4n9\" target=\"_blank\">https://wandb.ai/cs21s002-ee21s113-dlassignment-1/DLAssignment2/sweeps/6rqpl4n9</a>"
            ],
            "text/plain": [
              "<IPython.core.display.HTML object>"
            ]
          },
          "metadata": {},
          "output_type": "display_data"
        },
        {
          "metadata": {
            "tags": null
          },
          "name": "stdout",
          "output_type": "stream",
          "text": [
            "Model: \"sequential\"\n",
            "_________________________________________________________________\n",
            " Layer (type)                Output Shape              Param #   \n",
            "=================================================================\n",
            " conv2d (Conv2D)             (None, 200, 200, 64)      1792      \n",
            "                                                                 \n",
            " activation (Activation)     (None, 200, 200, 64)      0         \n",
            "                                                                 \n",
            " max_pooling2d (MaxPooling2D  (None, 100, 100, 64)     0         \n",
            " )                                                               \n",
            "                                                                 \n",
            " conv2d_1 (Conv2D)           (None, 100, 100, 64)      36928     \n",
            "                                                                 \n",
            " activation_1 (Activation)   (None, 100, 100, 64)      0         \n",
            "                                                                 \n",
            " max_pooling2d_1 (MaxPooling  (None, 50, 50, 64)       0         \n",
            " 2D)                                                             \n",
            "                                                                 \n",
            " conv2d_2 (Conv2D)           (None, 50, 50, 64)        36928     \n",
            "                                                                 \n",
            " activation_2 (Activation)   (None, 50, 50, 64)        0         \n",
            "                                                                 \n",
            " max_pooling2d_2 (MaxPooling  (None, 25, 25, 64)       0         \n",
            " 2D)                                                             \n",
            "                                                                 \n",
            " conv2d_3 (Conv2D)           (None, 25, 25, 64)        36928     \n",
            "                                                                 \n",
            " activation_3 (Activation)   (None, 25, 25, 64)        0         \n",
            "                                                                 \n",
            " max_pooling2d_3 (MaxPooling  (None, 12, 12, 64)       0         \n",
            " 2D)                                                             \n",
            "                                                                 \n",
            " conv2d_4 (Conv2D)           (None, 12, 12, 64)        36928     \n",
            "                                                                 \n",
            " activation_4 (Activation)   (None, 12, 12, 64)        0         \n",
            "                                                                 \n",
            " max_pooling2d_4 (MaxPooling  (None, 6, 6, 64)         0         \n",
            " 2D)                                                             \n",
            "                                                                 \n",
            " flatten (Flatten)           (None, 2304)              0         \n",
            "                                                                 \n",
            " dense (Dense)               (None, 512)               1180160   \n",
            "                                                                 \n",
            " dropout (Dropout)           (None, 512)               0         \n",
            "                                                                 \n",
            " activation_5 (Activation)   (None, 512)               0         \n",
            "                                                                 \n",
            " dense_1 (Dense)             (None, 10)                5130      \n",
            "                                                                 \n",
            " activation_6 (Activation)   (None, 10)                0         \n",
            "                                                                 \n",
            "=================================================================\n",
            "Total params: 1,334,794\n",
            "Trainable params: 1,334,794\n",
            "Non-trainable params: 0\n",
            "_________________________________________________________________\n",
            "/content/inaturalist_12K/train\n",
            "Found 9000 images belonging to 10 classes.\n",
            "Found 999 images belonging to 10 classes.\n",
            "/content/inaturalist_12K/val\n",
            "Found 2000 images belonging to 10 classes.\n",
            "INFO:tensorflow:Reduce to /job:localhost/replica:0/task:0/device:CPU:0 then broadcast to ('/job:localhost/replica:0/task:0/device:CPU:0',).\n",
            "INFO:tensorflow:Reduce to /job:localhost/replica:0/task:0/device:CPU:0 then broadcast to ('/job:localhost/replica:0/task:0/device:CPU:0',).\n",
            "INFO:tensorflow:Reduce to /job:localhost/replica:0/task:0/device:CPU:0 then broadcast to ('/job:localhost/replica:0/task:0/device:CPU:0',).\n",
            "INFO:tensorflow:Reduce to /job:localhost/replica:0/task:0/device:CPU:0 then broadcast to ('/job:localhost/replica:0/task:0/device:CPU:0',).\n",
            "Epoch 1/10\n",
            "INFO:tensorflow:Reduce to /job:localhost/replica:0/task:0/device:CPU:0 then broadcast to ('/job:localhost/replica:0/task:0/device:CPU:0',).\n",
            "INFO:tensorflow:Reduce to /job:localhost/replica:0/task:0/device:CPU:0 then broadcast to ('/job:localhost/replica:0/task:0/device:CPU:0',).\n",
            "INFO:tensorflow:Reduce to /job:localhost/replica:0/task:0/device:CPU:0 then broadcast to ('/job:localhost/replica:0/task:0/device:CPU:0',).\n",
            "INFO:tensorflow:Reduce to /job:localhost/replica:0/task:0/device:CPU:0 then broadcast to ('/job:localhost/replica:0/task:0/device:CPU:0',).\n",
            "INFO:tensorflow:Reduce to /job:localhost/replica:0/task:0/device:CPU:0 then broadcast to ('/job:localhost/replica:0/task:0/device:CPU:0',).\n",
            "INFO:tensorflow:Reduce to /job:localhost/replica:0/task:0/device:CPU:0 then broadcast to ('/job:localhost/replica:0/task:0/device:CPU:0',).\n",
            "71/71 [==============================] - 261s 3s/step - loss: 2.2699 - categorical_accuracy: 0.1467 - val_loss: 2.1953 - val_categorical_accuracy: 0.1925 - _timestamp: 1648465878.0000 - _runtime: 274.0000\n",
            "Epoch 2/10\n",
            "71/71 [==============================] - 218s 3s/step - loss: 2.1504 - categorical_accuracy: 0.2201 - val_loss: 2.1045 - val_categorical_accuracy: 0.2360 - _timestamp: 1648466096.0000 - _runtime: 492.0000\n",
            "Epoch 3/10\n",
            "71/71 [==============================] - 210s 3s/step - loss: 2.0822 - categorical_accuracy: 0.2530 - val_loss: 2.0483 - val_categorical_accuracy: 0.2780 - _timestamp: 1648466306.0000 - _runtime: 702.0000\n",
            "Epoch 4/10\n",
            "71/71 [==============================] - 211s 3s/step - loss: 2.0566 - categorical_accuracy: 0.2680 - val_loss: 2.0046 - val_categorical_accuracy: 0.2815 - _timestamp: 1648466516.0000 - _runtime: 912.0000\n",
            "Epoch 5/10\n",
            "71/71 [==============================] - 214s 3s/step - loss: 2.0354 - categorical_accuracy: 0.2794 - val_loss: 1.9866 - val_categorical_accuracy: 0.3135 - _timestamp: 1648466781.0000 - _runtime: 1177.0000\n",
            "Epoch 6/10\n",
            "71/71 [==============================] - 213s 3s/step - loss: 2.0103 - categorical_accuracy: 0.2871 - val_loss: 1.9619 - val_categorical_accuracy: 0.3200 - _timestamp: 1648466995.0000 - _runtime: 1391.0000\n",
            "Epoch 7/10\n",
            "71/71 [==============================] - 212s 3s/step - loss: 1.9910 - categorical_accuracy: 0.2946 - val_loss: 1.9636 - val_categorical_accuracy: 0.3110 - _timestamp: 1648467208.0000 - _runtime: 1604.0000\n",
            "Epoch 8/10\n",
            "71/71 [==============================] - 210s 3s/step - loss: 1.9792 - categorical_accuracy: 0.2979 - val_loss: 1.9478 - val_categorical_accuracy: 0.3275 - _timestamp: 1648467418.0000 - _runtime: 1814.0000\n",
            "Epoch 9/10\n",
            "71/71 [==============================] - 211s 3s/step - loss: 1.9595 - categorical_accuracy: 0.3082 - val_loss: 1.9127 - val_categorical_accuracy: 0.3415 - _timestamp: 1648467629.0000 - _runtime: 2025.0000\n",
            "Epoch 10/10\n",
            "71/71 [==============================] - 207s 3s/step - loss: 1.9489 - categorical_accuracy: 0.3102 - val_loss: 1.9092 - val_categorical_accuracy: 0.3455 - _timestamp: 1648467836.0000 - _runtime: 2232.0000\n",
            "\n"
          ]
        },
        {
          "data": {
            "text/html": [
              "Waiting for W&B process to finish... <strong style=\"color:green\">(success).</strong>"
            ],
            "text/plain": [
              "<IPython.core.display.HTML object>"
            ]
          },
          "metadata": {},
          "output_type": "display_data"
        },
        {
          "data": {
            "application/vnd.jupyter.widget-view+json": {
              "model_id": "72252bf067934303a07975e719a6eed8",
              "version_major": 2,
              "version_minor": 0
            },
            "text/plain": [
              "VBox(children=(Label(value='15.445 MB of 15.445 MB uploaded (0.000 MB deduped)\\r'), FloatProgress(value=1.0, m…"
            ]
          },
          "metadata": {},
          "output_type": "display_data"
        },
        {
          "data": {
            "text/html": [
              "<style>\n",
              "    table.wandb td:nth-child(1) { padding: 0 10px; text-align: right }\n",
              "    .wandb-row { display: flex; flex-direction: row; flex-wrap: wrap; width: 100% }\n",
              "    .wandb-col { display: flex; flex-direction: column; flex-basis: 100%; flex: 1; padding: 10px; }\n",
              "    </style>\n",
              "<div class=\"wandb-row\"><div class=\"wandb-col\"><h3>Run history:</h3><br/><table class=\"wandb\"><tr><td>categorical_accuracy</td><td>▁▄▆▆▇▇▇▇██</td></tr><tr><td>epoch</td><td>▁▂▃▃▄▅▆▆▇█</td></tr><tr><td>loss</td><td>█▅▄▃▃▂▂▂▁▁</td></tr><tr><td>val_categorical_accuracy</td><td>▁▃▅▅▇▇▆▇██</td></tr><tr><td>val_loss</td><td>█▆▄▃▃▂▂▂▁▁</td></tr></table><br/></div><div class=\"wandb-col\"><h3>Run summary:</h3><br/><table class=\"wandb\"><tr><td>best_epoch</td><td>9</td></tr><tr><td>best_val_loss</td><td>1.90917</td></tr><tr><td>categorical_accuracy</td><td>0.31022</td></tr><tr><td>epoch</td><td>9</td></tr><tr><td>loss</td><td>1.94888</td></tr><tr><td>val_categorical_accuracy</td><td>0.3455</td></tr><tr><td>val_loss</td><td>1.90917</td></tr></table><br/></div></div>"
            ],
            "text/plain": [
              "<IPython.core.display.HTML object>"
            ]
          },
          "metadata": {},
          "output_type": "display_data"
        },
        {
          "data": {
            "text/html": [
              "Synced <strong style=\"color:#cdcd00\">giddy-sweep-1</strong>: <a href=\"https://wandb.ai/cs21s002-ee21s113-dlassignment-1/DLAssignment2/runs/z8d1wghg\" target=\"_blank\">https://wandb.ai/cs21s002-ee21s113-dlassignment-1/DLAssignment2/runs/z8d1wghg</a><br/>Synced 5 W&B file(s), 1 media file(s), 0 artifact file(s) and 3 other file(s)"
            ],
            "text/plain": [
              "<IPython.core.display.HTML object>"
            ]
          },
          "metadata": {},
          "output_type": "display_data"
        },
        {
          "data": {
            "text/html": [
              "Find logs at: <code>./wandb/run-20220328_110640-z8d1wghg/logs</code>"
            ],
            "text/plain": [
              "<IPython.core.display.HTML object>"
            ]
          },
          "metadata": {},
          "output_type": "display_data"
        },
        {
          "metadata": {
            "tags": null
          },
          "name": "stderr",
          "output_type": "stream",
          "text": [
            "\u001b[34m\u001b[1mwandb\u001b[0m: Sweep Agent: Waiting for job.\n",
            "\u001b[34m\u001b[1mwandb\u001b[0m: Job received.\n",
            "\u001b[34m\u001b[1mwandb\u001b[0m: Agent Starting Run: 9s5h7nw3 with config:\n",
            "\u001b[34m\u001b[1mwandb\u001b[0m: \tbatch_norm: False\n",
            "\u001b[34m\u001b[1mwandb\u001b[0m: \tdense_layer_size: 512\n",
            "\u001b[34m\u001b[1mwandb\u001b[0m: \tdropout: 0.3\n",
            "\u001b[34m\u001b[1mwandb\u001b[0m: \tepochs: 7\n",
            "\u001b[34m\u001b[1mwandb\u001b[0m: \tfilter_list: [64, 64, 64, 64, 64]\n",
            "\u001b[34m\u001b[1mwandb\u001b[0m: \tlr: 0.0001\n",
            "\u001b[34m\u001b[1mwandb\u001b[0m: \ttrain_data_aug: True\n"
          ]
        },
        {
          "metadata": {
            "tags": null
          },
          "name": "stdout",
          "output_type": "stream",
          "text": [
            "INFO:tensorflow:Using MirroredStrategy with devices ('/job:localhost/replica:0/task:0/device:GPU:0',)\n",
            "Number of devices: 1\n"
          ]
        },
        {
          "metadata": {
            "tags": null
          },
          "name": "stderr",
          "output_type": "stream",
          "text": [
            "\u001b[34m\u001b[1mwandb\u001b[0m: Currently logged in as: \u001b[33mmanu_data_analyst\u001b[0m (use `wandb login --relogin` to force relogin)\n",
            "\u001b[34m\u001b[1mwandb\u001b[0m: \u001b[33mWARNING\u001b[0m Ignored wandb.init() arg project when running a sweep.\n",
            "\u001b[34m\u001b[1mwandb\u001b[0m: \u001b[33mWARNING\u001b[0m Ignored wandb.init() arg entity when running a sweep.\n"
          ]
        },
        {
          "data": {
            "text/html": [
              "Tracking run with wandb version 0.12.11"
            ],
            "text/plain": [
              "<IPython.core.display.HTML object>"
            ]
          },
          "metadata": {},
          "output_type": "display_data"
        },
        {
          "data": {
            "text/html": [
              "Run data is saved locally in <code>/content/wandb/run-20220328_114509-9s5h7nw3</code>"
            ],
            "text/plain": [
              "<IPython.core.display.HTML object>"
            ]
          },
          "metadata": {},
          "output_type": "display_data"
        },
        {
          "data": {
            "text/html": [
              "Syncing run <strong><a href=\"https://wandb.ai/cs21s002-ee21s113-dlassignment-1/DLAssignment2/runs/9s5h7nw3\" target=\"_blank\">deep-sweep-2</a></strong> to <a href=\"https://wandb.ai/cs21s002-ee21s113-dlassignment-1/DLAssignment2\" target=\"_blank\">Weights & Biases</a> (<a href=\"https://wandb.me/run\" target=\"_blank\">docs</a>)<br/>Sweep page:  <a href=\"https://wandb.ai/cs21s002-ee21s113-dlassignment-1/DLAssignment2/sweeps/6rqpl4n9\" target=\"_blank\">https://wandb.ai/cs21s002-ee21s113-dlassignment-1/DLAssignment2/sweeps/6rqpl4n9</a>"
            ],
            "text/plain": [
              "<IPython.core.display.HTML object>"
            ]
          },
          "metadata": {},
          "output_type": "display_data"
        },
        {
          "metadata": {
            "tags": null
          },
          "name": "stdout",
          "output_type": "stream",
          "text": [
            "Model: \"sequential\"\n",
            "_________________________________________________________________\n",
            " Layer (type)                Output Shape              Param #   \n",
            "=================================================================\n",
            " conv2d (Conv2D)             (None, 200, 200, 64)      1792      \n",
            "                                                                 \n",
            " activation (Activation)     (None, 200, 200, 64)      0         \n",
            "                                                                 \n",
            " max_pooling2d (MaxPooling2D  (None, 100, 100, 64)     0         \n",
            " )                                                               \n",
            "                                                                 \n",
            " conv2d_1 (Conv2D)           (None, 100, 100, 64)      36928     \n",
            "                                                                 \n",
            " activation_1 (Activation)   (None, 100, 100, 64)      0         \n",
            "                                                                 \n",
            " max_pooling2d_1 (MaxPooling  (None, 50, 50, 64)       0         \n",
            " 2D)                                                             \n",
            "                                                                 \n",
            " conv2d_2 (Conv2D)           (None, 50, 50, 64)        36928     \n",
            "                                                                 \n",
            " activation_2 (Activation)   (None, 50, 50, 64)        0         \n",
            "                                                                 \n",
            " max_pooling2d_2 (MaxPooling  (None, 25, 25, 64)       0         \n",
            " 2D)                                                             \n",
            "                                                                 \n",
            " conv2d_3 (Conv2D)           (None, 25, 25, 64)        36928     \n",
            "                                                                 \n",
            " activation_3 (Activation)   (None, 25, 25, 64)        0         \n",
            "                                                                 \n",
            " max_pooling2d_3 (MaxPooling  (None, 12, 12, 64)       0         \n",
            " 2D)                                                             \n",
            "                                                                 \n",
            " conv2d_4 (Conv2D)           (None, 12, 12, 64)        36928     \n",
            "                                                                 \n",
            " activation_4 (Activation)   (None, 12, 12, 64)        0         \n",
            "                                                                 \n",
            " max_pooling2d_4 (MaxPooling  (None, 6, 6, 64)         0         \n",
            " 2D)                                                             \n",
            "                                                                 \n",
            " flatten (Flatten)           (None, 2304)              0         \n",
            "                                                                 \n",
            " dense (Dense)               (None, 512)               1180160   \n",
            "                                                                 \n",
            " dropout (Dropout)           (None, 512)               0         \n",
            "                                                                 \n",
            " activation_5 (Activation)   (None, 512)               0         \n",
            "                                                                 \n",
            " dense_1 (Dense)             (None, 10)                5130      \n",
            "                                                                 \n",
            " activation_6 (Activation)   (None, 10)                0         \n",
            "                                                                 \n",
            "=================================================================\n",
            "Total params: 1,334,794\n",
            "Trainable params: 1,334,794\n",
            "Non-trainable params: 0\n",
            "_________________________________________________________________\n",
            "/content/inaturalist_12K/train\n",
            "Found 9000 images belonging to 10 classes.\n",
            "Found 999 images belonging to 10 classes.\n",
            "/content/inaturalist_12K/val\n",
            "Found 2000 images belonging to 10 classes.\n",
            "Epoch 1/7\n",
            "71/71 [==============================] - 208s 3s/step - loss: 2.2670 - categorical_accuracy: 0.1579 - val_loss: 2.1657 - val_categorical_accuracy: 0.2105 - _timestamp: 1648468127.0000 - _runtime: 218.0000\n",
            "Epoch 2/7\n",
            "71/71 [==============================] - 226s 3s/step - loss: 2.1342 - categorical_accuracy: 0.2280 - val_loss: 2.0916 - val_categorical_accuracy: 0.2490 - _timestamp: 1648468353.0000 - _runtime: 444.0000\n",
            "Epoch 3/7\n",
            "71/71 [==============================] - 206s 3s/step - loss: 2.0868 - categorical_accuracy: 0.2523 - val_loss: 2.0681 - val_categorical_accuracy: 0.2760 - _timestamp: 1648468558.0000 - _runtime: 649.0000\n",
            "Epoch 4/7\n",
            "71/71 [==============================] - 206s 3s/step - loss: 2.0654 - categorical_accuracy: 0.2601 - val_loss: 1.9979 - val_categorical_accuracy: 0.3010 - _timestamp: 1648468764.0000 - _runtime: 855.0000\n",
            "Epoch 5/7\n",
            "71/71 [==============================] - 201s 3s/step - loss: 2.0325 - categorical_accuracy: 0.2770 - val_loss: 2.0048 - val_categorical_accuracy: 0.2920 - _timestamp: 1648468966.0000 - _runtime: 1057.0000\n",
            "Epoch 6/7\n",
            "71/71 [==============================] - 202s 3s/step - loss: 2.0155 - categorical_accuracy: 0.2817 - val_loss: 1.9505 - val_categorical_accuracy: 0.3245 - _timestamp: 1648469167.0000 - _runtime: 1258.0000\n",
            "Epoch 7/7\n",
            "71/71 [==============================] - 201s 3s/step - loss: 1.9938 - categorical_accuracy: 0.2919 - val_loss: 1.9780 - val_categorical_accuracy: 0.3095 - _timestamp: 1648469369.0000 - _runtime: 1460.0000\n",
            "\n"
          ]
        },
        {
          "data": {
            "text/html": [
              "Waiting for W&B process to finish... <strong style=\"color:green\">(success).</strong>"
            ],
            "text/plain": [
              "<IPython.core.display.HTML object>"
            ]
          },
          "metadata": {},
          "output_type": "display_data"
        },
        {
          "data": {
            "application/vnd.jupyter.widget-view+json": {
              "model_id": "71095338643d423fb51f61a207689799",
              "version_major": 2,
              "version_minor": 0
            },
            "text/plain": [
              "VBox(children=(Label(value='15.444 MB of 15.444 MB uploaded (0.000 MB deduped)\\r'), FloatProgress(value=1.0, m…"
            ]
          },
          "metadata": {},
          "output_type": "display_data"
        },
        {
          "data": {
            "text/html": [
              "<style>\n",
              "    table.wandb td:nth-child(1) { padding: 0 10px; text-align: right }\n",
              "    .wandb-row { display: flex; flex-direction: row; flex-wrap: wrap; width: 100% }\n",
              "    .wandb-col { display: flex; flex-direction: column; flex-basis: 100%; flex: 1; padding: 10px; }\n",
              "    </style>\n",
              "<div class=\"wandb-row\"><div class=\"wandb-col\"><h3>Run history:</h3><br/><table class=\"wandb\"><tr><td>categorical_accuracy</td><td>▁▅▆▆▇▇█</td></tr><tr><td>epoch</td><td>▁▂▃▅▆▇█</td></tr><tr><td>loss</td><td>█▅▃▃▂▂▁</td></tr><tr><td>val_categorical_accuracy</td><td>▁▃▅▇▆█▇</td></tr><tr><td>val_loss</td><td>█▆▅▃▃▁▂</td></tr></table><br/></div><div class=\"wandb-col\"><h3>Run summary:</h3><br/><table class=\"wandb\"><tr><td>best_epoch</td><td>5</td></tr><tr><td>best_val_loss</td><td>1.95046</td></tr><tr><td>categorical_accuracy</td><td>0.29189</td></tr><tr><td>epoch</td><td>6</td></tr><tr><td>loss</td><td>1.99378</td></tr><tr><td>val_categorical_accuracy</td><td>0.3095</td></tr><tr><td>val_loss</td><td>1.97803</td></tr></table><br/></div></div>"
            ],
            "text/plain": [
              "<IPython.core.display.HTML object>"
            ]
          },
          "metadata": {},
          "output_type": "display_data"
        },
        {
          "data": {
            "text/html": [
              "Synced <strong style=\"color:#cdcd00\">deep-sweep-2</strong>: <a href=\"https://wandb.ai/cs21s002-ee21s113-dlassignment-1/DLAssignment2/runs/9s5h7nw3\" target=\"_blank\">https://wandb.ai/cs21s002-ee21s113-dlassignment-1/DLAssignment2/runs/9s5h7nw3</a><br/>Synced 5 W&B file(s), 1 media file(s), 0 artifact file(s) and 3 other file(s)"
            ],
            "text/plain": [
              "<IPython.core.display.HTML object>"
            ]
          },
          "metadata": {},
          "output_type": "display_data"
        },
        {
          "data": {
            "text/html": [
              "Find logs at: <code>./wandb/run-20220328_114509-9s5h7nw3/logs</code>"
            ],
            "text/plain": [
              "<IPython.core.display.HTML object>"
            ]
          },
          "metadata": {},
          "output_type": "display_data"
        },
        {
          "metadata": {
            "tags": null
          },
          "name": "stderr",
          "output_type": "stream",
          "text": [
            "\u001b[34m\u001b[1mwandb\u001b[0m: Agent Starting Run: 38rq7r1d with config:\n",
            "\u001b[34m\u001b[1mwandb\u001b[0m: \tbatch_norm: False\n",
            "\u001b[34m\u001b[1mwandb\u001b[0m: \tdense_layer_size: 512\n",
            "\u001b[34m\u001b[1mwandb\u001b[0m: \tdropout: 0.2\n",
            "\u001b[34m\u001b[1mwandb\u001b[0m: \tepochs: 7\n",
            "\u001b[34m\u001b[1mwandb\u001b[0m: \tfilter_list: [64, 64, 64, 64, 64]\n",
            "\u001b[34m\u001b[1mwandb\u001b[0m: \tlr: 0.0001\n",
            "\u001b[34m\u001b[1mwandb\u001b[0m: \ttrain_data_aug: True\n"
          ]
        },
        {
          "metadata": {
            "tags": null
          },
          "name": "stdout",
          "output_type": "stream",
          "text": [
            "INFO:tensorflow:Using MirroredStrategy with devices ('/job:localhost/replica:0/task:0/device:GPU:0',)\n",
            "Number of devices: 1\n"
          ]
        },
        {
          "metadata": {
            "tags": null
          },
          "name": "stderr",
          "output_type": "stream",
          "text": [
            "\u001b[34m\u001b[1mwandb\u001b[0m: \u001b[33mWARNING\u001b[0m Ignored wandb.init() arg project when running a sweep.\n",
            "\u001b[34m\u001b[1mwandb\u001b[0m: \u001b[33mWARNING\u001b[0m Ignored wandb.init() arg entity when running a sweep.\n"
          ]
        },
        {
          "data": {
            "text/html": [
              "Tracking run with wandb version 0.12.11"
            ],
            "text/plain": [
              "<IPython.core.display.HTML object>"
            ]
          },
          "metadata": {},
          "output_type": "display_data"
        },
        {
          "data": {
            "text/html": [
              "Run data is saved locally in <code>/content/wandb/run-20220328_120937-38rq7r1d</code>"
            ],
            "text/plain": [
              "<IPython.core.display.HTML object>"
            ]
          },
          "metadata": {},
          "output_type": "display_data"
        },
        {
          "data": {
            "text/html": [
              "Syncing run <strong><a href=\"https://wandb.ai/cs21s002-ee21s113-dlassignment-1/DLAssignment2/runs/38rq7r1d\" target=\"_blank\">wobbly-sweep-3</a></strong> to <a href=\"https://wandb.ai/cs21s002-ee21s113-dlassignment-1/DLAssignment2\" target=\"_blank\">Weights & Biases</a> (<a href=\"https://wandb.me/run\" target=\"_blank\">docs</a>)<br/>Sweep page:  <a href=\"https://wandb.ai/cs21s002-ee21s113-dlassignment-1/DLAssignment2/sweeps/6rqpl4n9\" target=\"_blank\">https://wandb.ai/cs21s002-ee21s113-dlassignment-1/DLAssignment2/sweeps/6rqpl4n9</a>"
            ],
            "text/plain": [
              "<IPython.core.display.HTML object>"
            ]
          },
          "metadata": {},
          "output_type": "display_data"
        },
        {
          "metadata": {
            "tags": null
          },
          "name": "stdout",
          "output_type": "stream",
          "text": [
            "Model: \"sequential\"\n",
            "_________________________________________________________________\n",
            " Layer (type)                Output Shape              Param #   \n",
            "=================================================================\n",
            " conv2d (Conv2D)             (None, 200, 200, 64)      1792      \n",
            "                                                                 \n",
            " activation (Activation)     (None, 200, 200, 64)      0         \n",
            "                                                                 \n",
            " max_pooling2d (MaxPooling2D  (None, 100, 100, 64)     0         \n",
            " )                                                               \n",
            "                                                                 \n",
            " conv2d_1 (Conv2D)           (None, 100, 100, 64)      36928     \n",
            "                                                                 \n",
            " activation_1 (Activation)   (None, 100, 100, 64)      0         \n",
            "                                                                 \n",
            " max_pooling2d_1 (MaxPooling  (None, 50, 50, 64)       0         \n",
            " 2D)                                                             \n",
            "                                                                 \n",
            " conv2d_2 (Conv2D)           (None, 50, 50, 64)        36928     \n",
            "                                                                 \n",
            " activation_2 (Activation)   (None, 50, 50, 64)        0         \n",
            "                                                                 \n",
            " max_pooling2d_2 (MaxPooling  (None, 25, 25, 64)       0         \n",
            " 2D)                                                             \n",
            "                                                                 \n",
            " conv2d_3 (Conv2D)           (None, 25, 25, 64)        36928     \n",
            "                                                                 \n",
            " activation_3 (Activation)   (None, 25, 25, 64)        0         \n",
            "                                                                 \n",
            " max_pooling2d_3 (MaxPooling  (None, 12, 12, 64)       0         \n",
            " 2D)                                                             \n",
            "                                                                 \n",
            " conv2d_4 (Conv2D)           (None, 12, 12, 64)        36928     \n",
            "                                                                 \n",
            " activation_4 (Activation)   (None, 12, 12, 64)        0         \n",
            "                                                                 \n",
            " max_pooling2d_4 (MaxPooling  (None, 6, 6, 64)         0         \n",
            " 2D)                                                             \n",
            "                                                                 \n",
            " flatten (Flatten)           (None, 2304)              0         \n",
            "                                                                 \n",
            " dense (Dense)               (None, 512)               1180160   \n",
            "                                                                 \n",
            " dropout (Dropout)           (None, 512)               0         \n",
            "                                                                 \n",
            " activation_5 (Activation)   (None, 512)               0         \n",
            "                                                                 \n",
            " dense_1 (Dense)             (None, 10)                5130      \n",
            "                                                                 \n",
            " activation_6 (Activation)   (None, 10)                0         \n",
            "                                                                 \n",
            "=================================================================\n",
            "Total params: 1,334,794\n",
            "Trainable params: 1,334,794\n",
            "Non-trainable params: 0\n",
            "_________________________________________________________________\n",
            "/content/inaturalist_12K/train\n",
            "Found 9000 images belonging to 10 classes.\n",
            "Found 999 images belonging to 10 classes.\n",
            "/content/inaturalist_12K/val\n",
            "Found 2000 images belonging to 10 classes.\n",
            "Epoch 1/7\n",
            "71/71 [==============================] - 209s 3s/step - loss: 2.2777 - categorical_accuracy: 0.1470 - val_loss: 2.2402 - val_categorical_accuracy: 0.1625 - _timestamp: 1648469595.0000 - _runtime: 218.0000\n",
            "Epoch 2/7\n",
            "71/71 [==============================] - 210s 3s/step - loss: 2.1615 - categorical_accuracy: 0.2104 - val_loss: 2.0986 - val_categorical_accuracy: 0.2535 - _timestamp: 1648469861.0000 - _runtime: 484.0000\n",
            "Epoch 3/7\n",
            "71/71 [==============================] - 207s 3s/step - loss: 2.0963 - categorical_accuracy: 0.2416 - val_loss: 2.0317 - val_categorical_accuracy: 0.2845 - _timestamp: 1648470067.0000 - _runtime: 690.0000\n",
            "Epoch 4/7\n",
            "71/71 [==============================] - 204s 3s/step - loss: 2.0705 - categorical_accuracy: 0.2541 - val_loss: 2.0291 - val_categorical_accuracy: 0.2795 - _timestamp: 1648470272.0000 - _runtime: 895.0000\n",
            "Epoch 5/7\n",
            "71/71 [==============================] - 203s 3s/step - loss: 2.0438 - categorical_accuracy: 0.2707 - val_loss: 2.0159 - val_categorical_accuracy: 0.2985 - _timestamp: 1648470475.0000 - _runtime: 1098.0000\n",
            "Epoch 6/7\n",
            "71/71 [==============================] - 206s 3s/step - loss: 2.0136 - categorical_accuracy: 0.2832 - val_loss: 1.9644 - val_categorical_accuracy: 0.3200 - _timestamp: 1648470680.0000 - _runtime: 1303.0000\n",
            "Epoch 7/7\n",
            "71/71 [==============================] - 206s 3s/step - loss: 2.0014 - categorical_accuracy: 0.2874 - val_loss: 1.9555 - val_categorical_accuracy: 0.3260 - _timestamp: 1648470886.0000 - _runtime: 1509.0000\n",
            "\n"
          ]
        },
        {
          "data": {
            "text/html": [
              "Waiting for W&B process to finish... <strong style=\"color:green\">(success).</strong>"
            ],
            "text/plain": [
              "<IPython.core.display.HTML object>"
            ]
          },
          "metadata": {},
          "output_type": "display_data"
        },
        {
          "data": {
            "application/vnd.jupyter.widget-view+json": {
              "model_id": "9b64efe20c9b4e7284aac67957e17391",
              "version_major": 2,
              "version_minor": 0
            },
            "text/plain": [
              "VBox(children=(Label(value='15.444 MB of 15.444 MB uploaded (0.000 MB deduped)\\r'), FloatProgress(value=1.0, m…"
            ]
          },
          "metadata": {},
          "output_type": "display_data"
        },
        {
          "data": {
            "text/html": [
              "<style>\n",
              "    table.wandb td:nth-child(1) { padding: 0 10px; text-align: right }\n",
              "    .wandb-row { display: flex; flex-direction: row; flex-wrap: wrap; width: 100% }\n",
              "    .wandb-col { display: flex; flex-direction: column; flex-basis: 100%; flex: 1; padding: 10px; }\n",
              "    </style>\n",
              "<div class=\"wandb-row\"><div class=\"wandb-col\"><h3>Run history:</h3><br/><table class=\"wandb\"><tr><td>categorical_accuracy</td><td>▁▄▆▆▇██</td></tr><tr><td>epoch</td><td>▁▂▃▅▆▇█</td></tr><tr><td>loss</td><td>█▅▃▃▂▁▁</td></tr><tr><td>val_categorical_accuracy</td><td>▁▅▆▆▇██</td></tr><tr><td>val_loss</td><td>█▅▃▃▂▁▁</td></tr></table><br/></div><div class=\"wandb-col\"><h3>Run summary:</h3><br/><table class=\"wandb\"><tr><td>best_epoch</td><td>6</td></tr><tr><td>best_val_loss</td><td>1.95553</td></tr><tr><td>categorical_accuracy</td><td>0.28744</td></tr><tr><td>epoch</td><td>6</td></tr><tr><td>loss</td><td>2.0014</td></tr><tr><td>val_categorical_accuracy</td><td>0.326</td></tr><tr><td>val_loss</td><td>1.95553</td></tr></table><br/></div></div>"
            ],
            "text/plain": [
              "<IPython.core.display.HTML object>"
            ]
          },
          "metadata": {},
          "output_type": "display_data"
        },
        {
          "data": {
            "text/html": [
              "Synced <strong style=\"color:#cdcd00\">wobbly-sweep-3</strong>: <a href=\"https://wandb.ai/cs21s002-ee21s113-dlassignment-1/DLAssignment2/runs/38rq7r1d\" target=\"_blank\">https://wandb.ai/cs21s002-ee21s113-dlassignment-1/DLAssignment2/runs/38rq7r1d</a><br/>Synced 5 W&B file(s), 1 media file(s), 0 artifact file(s) and 3 other file(s)"
            ],
            "text/plain": [
              "<IPython.core.display.HTML object>"
            ]
          },
          "metadata": {},
          "output_type": "display_data"
        },
        {
          "data": {
            "text/html": [
              "Find logs at: <code>./wandb/run-20220328_120937-38rq7r1d/logs</code>"
            ],
            "text/plain": [
              "<IPython.core.display.HTML object>"
            ]
          },
          "metadata": {},
          "output_type": "display_data"
        },
        {
          "metadata": {
            "tags": null
          },
          "name": "stderr",
          "output_type": "stream",
          "text": [
            "\u001b[34m\u001b[1mwandb\u001b[0m: Agent Starting Run: evkgkb3f with config:\n",
            "\u001b[34m\u001b[1mwandb\u001b[0m: \tbatch_norm: False\n",
            "\u001b[34m\u001b[1mwandb\u001b[0m: \tdense_layer_size: 512\n",
            "\u001b[34m\u001b[1mwandb\u001b[0m: \tdropout: 0.5\n",
            "\u001b[34m\u001b[1mwandb\u001b[0m: \tepochs: 7\n",
            "\u001b[34m\u001b[1mwandb\u001b[0m: \tfilter_list: [64, 64, 64, 64, 64]\n",
            "\u001b[34m\u001b[1mwandb\u001b[0m: \tlr: 0.001\n",
            "\u001b[34m\u001b[1mwandb\u001b[0m: \ttrain_data_aug: True\n"
          ]
        },
        {
          "metadata": {
            "tags": null
          },
          "name": "stdout",
          "output_type": "stream",
          "text": [
            "INFO:tensorflow:Using MirroredStrategy with devices ('/job:localhost/replica:0/task:0/device:GPU:0',)\n",
            "Number of devices: 1\n"
          ]
        },
        {
          "metadata": {
            "tags": null
          },
          "name": "stderr",
          "output_type": "stream",
          "text": [
            "\u001b[34m\u001b[1mwandb\u001b[0m: \u001b[33mWARNING\u001b[0m Ignored wandb.init() arg project when running a sweep.\n",
            "\u001b[34m\u001b[1mwandb\u001b[0m: \u001b[33mWARNING\u001b[0m Ignored wandb.init() arg entity when running a sweep.\n"
          ]
        },
        {
          "data": {
            "text/html": [
              "Tracking run with wandb version 0.12.11"
            ],
            "text/plain": [
              "<IPython.core.display.HTML object>"
            ]
          },
          "metadata": {},
          "output_type": "display_data"
        },
        {
          "data": {
            "text/html": [
              "Run data is saved locally in <code>/content/wandb/run-20220328_123552-evkgkb3f</code>"
            ],
            "text/plain": [
              "<IPython.core.display.HTML object>"
            ]
          },
          "metadata": {},
          "output_type": "display_data"
        },
        {
          "data": {
            "text/html": [
              "Syncing run <strong><a href=\"https://wandb.ai/cs21s002-ee21s113-dlassignment-1/DLAssignment2/runs/evkgkb3f\" target=\"_blank\">major-sweep-4</a></strong> to <a href=\"https://wandb.ai/cs21s002-ee21s113-dlassignment-1/DLAssignment2\" target=\"_blank\">Weights & Biases</a> (<a href=\"https://wandb.me/run\" target=\"_blank\">docs</a>)<br/>Sweep page:  <a href=\"https://wandb.ai/cs21s002-ee21s113-dlassignment-1/DLAssignment2/sweeps/6rqpl4n9\" target=\"_blank\">https://wandb.ai/cs21s002-ee21s113-dlassignment-1/DLAssignment2/sweeps/6rqpl4n9</a>"
            ],
            "text/plain": [
              "<IPython.core.display.HTML object>"
            ]
          },
          "metadata": {},
          "output_type": "display_data"
        },
        {
          "metadata": {
            "tags": null
          },
          "name": "stdout",
          "output_type": "stream",
          "text": [
            "Model: \"sequential\"\n",
            "_________________________________________________________________\n",
            " Layer (type)                Output Shape              Param #   \n",
            "=================================================================\n",
            " conv2d (Conv2D)             (None, 200, 200, 64)      1792      \n",
            "                                                                 \n",
            " activation (Activation)     (None, 200, 200, 64)      0         \n",
            "                                                                 \n",
            " max_pooling2d (MaxPooling2D  (None, 100, 100, 64)     0         \n",
            " )                                                               \n",
            "                                                                 \n",
            " conv2d_1 (Conv2D)           (None, 100, 100, 64)      36928     \n",
            "                                                                 \n",
            " activation_1 (Activation)   (None, 100, 100, 64)      0         \n",
            "                                                                 \n",
            " max_pooling2d_1 (MaxPooling  (None, 50, 50, 64)       0         \n",
            " 2D)                                                             \n",
            "                                                                 \n",
            " conv2d_2 (Conv2D)           (None, 50, 50, 64)        36928     \n",
            "                                                                 \n",
            " activation_2 (Activation)   (None, 50, 50, 64)        0         \n",
            "                                                                 \n",
            " max_pooling2d_2 (MaxPooling  (None, 25, 25, 64)       0         \n",
            " 2D)                                                             \n",
            "                                                                 \n",
            " conv2d_3 (Conv2D)           (None, 25, 25, 64)        36928     \n",
            "                                                                 \n",
            " activation_3 (Activation)   (None, 25, 25, 64)        0         \n",
            "                                                                 \n",
            " max_pooling2d_3 (MaxPooling  (None, 12, 12, 64)       0         \n",
            " 2D)                                                             \n",
            "                                                                 \n",
            " conv2d_4 (Conv2D)           (None, 12, 12, 64)        36928     \n",
            "                                                                 \n",
            " activation_4 (Activation)   (None, 12, 12, 64)        0         \n",
            "                                                                 \n",
            " max_pooling2d_4 (MaxPooling  (None, 6, 6, 64)         0         \n",
            " 2D)                                                             \n",
            "                                                                 \n",
            " flatten (Flatten)           (None, 2304)              0         \n",
            "                                                                 \n",
            " dense (Dense)               (None, 512)               1180160   \n",
            "                                                                 \n",
            " dropout (Dropout)           (None, 512)               0         \n",
            "                                                                 \n",
            " activation_5 (Activation)   (None, 512)               0         \n",
            "                                                                 \n",
            " dense_1 (Dense)             (None, 10)                5130      \n",
            "                                                                 \n",
            " activation_6 (Activation)   (None, 10)                0         \n",
            "                                                                 \n",
            "=================================================================\n",
            "Total params: 1,334,794\n",
            "Trainable params: 1,334,794\n",
            "Non-trainable params: 0\n",
            "_________________________________________________________________\n",
            "/content/inaturalist_12K/train\n",
            "Found 9000 images belonging to 10 classes.\n",
            "Found 999 images belonging to 10 classes.\n",
            "/content/inaturalist_12K/val\n",
            "Found 2000 images belonging to 10 classes.\n",
            "Epoch 1/7\n",
            "71/71 [==============================] - 217s 3s/step - loss: 2.2742 - categorical_accuracy: 0.1337 - val_loss: 2.2267 - val_categorical_accuracy: 0.1850 - _timestamp: 1648471177.0000 - _runtime: 225.0000\n",
            "Epoch 2/7\n",
            "71/71 [==============================] - 208s 3s/step - loss: 2.1935 - categorical_accuracy: 0.1874 - val_loss: 2.1483 - val_categorical_accuracy: 0.2055 - _timestamp: 1648471385.0000 - _runtime: 433.0000\n",
            "Epoch 3/7\n",
            "71/71 [==============================] - 203s 3s/step - loss: 2.1550 - categorical_accuracy: 0.2098 - val_loss: 2.1180 - val_categorical_accuracy: 0.2305 - _timestamp: 1648471589.0000 - _runtime: 637.0000\n",
            "Epoch 4/7\n",
            "71/71 [==============================] - 208s 3s/step - loss: 2.1337 - categorical_accuracy: 0.2171 - val_loss: 2.0671 - val_categorical_accuracy: 0.2490 - _timestamp: 1648471797.0000 - _runtime: 845.0000\n",
            "Epoch 5/7\n",
            "71/71 [==============================] - 206s 3s/step - loss: 2.0894 - categorical_accuracy: 0.2353 - val_loss: 2.0076 - val_categorical_accuracy: 0.2875 - _timestamp: 1648472003.0000 - _runtime: 1051.0000\n",
            "Epoch 6/7\n",
            "71/71 [==============================] - 202s 3s/step - loss: 2.0526 - categorical_accuracy: 0.2523 - val_loss: 2.0076 - val_categorical_accuracy: 0.2860 - _timestamp: 1648472205.0000 - _runtime: 1253.0000\n",
            "Epoch 7/7\n",
            "71/71 [==============================] - 201s 3s/step - loss: 2.0068 - categorical_accuracy: 0.2758 - val_loss: 1.9418 - val_categorical_accuracy: 0.3225 - _timestamp: 1648472407.0000 - _runtime: 1455.0000\n",
            "\n"
          ]
        },
        {
          "data": {
            "text/html": [
              "Waiting for W&B process to finish... <strong style=\"color:green\">(success).</strong>"
            ],
            "text/plain": [
              "<IPython.core.display.HTML object>"
            ]
          },
          "metadata": {},
          "output_type": "display_data"
        },
        {
          "data": {
            "application/vnd.jupyter.widget-view+json": {
              "model_id": "ae03acfe39384f2791e3dbad726a5987",
              "version_major": 2,
              "version_minor": 0
            },
            "text/plain": [
              "VBox(children=(Label(value='15.444 MB of 15.444 MB uploaded (0.000 MB deduped)\\r'), FloatProgress(value=1.0, m…"
            ]
          },
          "metadata": {},
          "output_type": "display_data"
        },
        {
          "data": {
            "text/html": [
              "<style>\n",
              "    table.wandb td:nth-child(1) { padding: 0 10px; text-align: right }\n",
              "    .wandb-row { display: flex; flex-direction: row; flex-wrap: wrap; width: 100% }\n",
              "    .wandb-col { display: flex; flex-direction: column; flex-basis: 100%; flex: 1; padding: 10px; }\n",
              "    </style>\n",
              "<div class=\"wandb-row\"><div class=\"wandb-col\"><h3>Run history:</h3><br/><table class=\"wandb\"><tr><td>categorical_accuracy</td><td>▁▄▅▅▆▇█</td></tr><tr><td>epoch</td><td>▁▂▃▅▆▇█</td></tr><tr><td>loss</td><td>█▆▅▄▃▂▁</td></tr><tr><td>val_categorical_accuracy</td><td>▁▂▃▄▆▆█</td></tr><tr><td>val_loss</td><td>█▆▅▄▃▃▁</td></tr></table><br/></div><div class=\"wandb-col\"><h3>Run summary:</h3><br/><table class=\"wandb\"><tr><td>best_epoch</td><td>6</td></tr><tr><td>best_val_loss</td><td>1.94177</td></tr><tr><td>categorical_accuracy</td><td>0.27578</td></tr><tr><td>epoch</td><td>6</td></tr><tr><td>loss</td><td>2.00675</td></tr><tr><td>val_categorical_accuracy</td><td>0.3225</td></tr><tr><td>val_loss</td><td>1.94177</td></tr></table><br/></div></div>"
            ],
            "text/plain": [
              "<IPython.core.display.HTML object>"
            ]
          },
          "metadata": {},
          "output_type": "display_data"
        },
        {
          "data": {
            "text/html": [
              "Synced <strong style=\"color:#cdcd00\">major-sweep-4</strong>: <a href=\"https://wandb.ai/cs21s002-ee21s113-dlassignment-1/DLAssignment2/runs/evkgkb3f\" target=\"_blank\">https://wandb.ai/cs21s002-ee21s113-dlassignment-1/DLAssignment2/runs/evkgkb3f</a><br/>Synced 5 W&B file(s), 1 media file(s), 0 artifact file(s) and 3 other file(s)"
            ],
            "text/plain": [
              "<IPython.core.display.HTML object>"
            ]
          },
          "metadata": {},
          "output_type": "display_data"
        },
        {
          "data": {
            "text/html": [
              "Find logs at: <code>./wandb/run-20220328_123552-evkgkb3f/logs</code>"
            ],
            "text/plain": [
              "<IPython.core.display.HTML object>"
            ]
          },
          "metadata": {},
          "output_type": "display_data"
        },
        {
          "metadata": {
            "tags": null
          },
          "name": "stderr",
          "output_type": "stream",
          "text": [
            "\u001b[34m\u001b[1mwandb\u001b[0m: Agent Starting Run: p5tly817 with config:\n",
            "\u001b[34m\u001b[1mwandb\u001b[0m: \tbatch_norm: False\n",
            "\u001b[34m\u001b[1mwandb\u001b[0m: \tdense_layer_size: 512\n",
            "\u001b[34m\u001b[1mwandb\u001b[0m: \tdropout: 0.2\n",
            "\u001b[34m\u001b[1mwandb\u001b[0m: \tepochs: 10\n",
            "\u001b[34m\u001b[1mwandb\u001b[0m: \tfilter_list: [64, 64, 64, 64, 64]\n",
            "\u001b[34m\u001b[1mwandb\u001b[0m: \tlr: 0.0001\n",
            "\u001b[34m\u001b[1mwandb\u001b[0m: \ttrain_data_aug: True\n"
          ]
        },
        {
          "metadata": {
            "tags": null
          },
          "name": "stdout",
          "output_type": "stream",
          "text": [
            "INFO:tensorflow:Using MirroredStrategy with devices ('/job:localhost/replica:0/task:0/device:GPU:0',)\n",
            "Number of devices: 1\n"
          ]
        },
        {
          "metadata": {
            "tags": null
          },
          "name": "stderr",
          "output_type": "stream",
          "text": [
            "\u001b[34m\u001b[1mwandb\u001b[0m: \u001b[33mWARNING\u001b[0m Ignored wandb.init() arg project when running a sweep.\n",
            "\u001b[34m\u001b[1mwandb\u001b[0m: \u001b[33mWARNING\u001b[0m Ignored wandb.init() arg entity when running a sweep.\n"
          ]
        },
        {
          "data": {
            "text/html": [
              "Tracking run with wandb version 0.12.11"
            ],
            "text/plain": [
              "<IPython.core.display.HTML object>"
            ]
          },
          "metadata": {},
          "output_type": "display_data"
        },
        {
          "data": {
            "text/html": [
              "Run data is saved locally in <code>/content/wandb/run-20220328_130021-p5tly817</code>"
            ],
            "text/plain": [
              "<IPython.core.display.HTML object>"
            ]
          },
          "metadata": {},
          "output_type": "display_data"
        },
        {
          "data": {
            "text/html": [
              "Syncing run <strong><a href=\"https://wandb.ai/cs21s002-ee21s113-dlassignment-1/DLAssignment2/runs/p5tly817\" target=\"_blank\">snowy-sweep-5</a></strong> to <a href=\"https://wandb.ai/cs21s002-ee21s113-dlassignment-1/DLAssignment2\" target=\"_blank\">Weights & Biases</a> (<a href=\"https://wandb.me/run\" target=\"_blank\">docs</a>)<br/>Sweep page:  <a href=\"https://wandb.ai/cs21s002-ee21s113-dlassignment-1/DLAssignment2/sweeps/6rqpl4n9\" target=\"_blank\">https://wandb.ai/cs21s002-ee21s113-dlassignment-1/DLAssignment2/sweeps/6rqpl4n9</a>"
            ],
            "text/plain": [
              "<IPython.core.display.HTML object>"
            ]
          },
          "metadata": {},
          "output_type": "display_data"
        },
        {
          "metadata": {
            "tags": null
          },
          "name": "stdout",
          "output_type": "stream",
          "text": [
            "Model: \"sequential\"\n",
            "_________________________________________________________________\n",
            " Layer (type)                Output Shape              Param #   \n",
            "=================================================================\n",
            " conv2d (Conv2D)             (None, 200, 200, 64)      1792      \n",
            "                                                                 \n",
            " activation (Activation)     (None, 200, 200, 64)      0         \n",
            "                                                                 \n",
            " max_pooling2d (MaxPooling2D  (None, 100, 100, 64)     0         \n",
            " )                                                               \n",
            "                                                                 \n",
            " conv2d_1 (Conv2D)           (None, 100, 100, 64)      36928     \n",
            "                                                                 \n",
            " activation_1 (Activation)   (None, 100, 100, 64)      0         \n",
            "                                                                 \n",
            " max_pooling2d_1 (MaxPooling  (None, 50, 50, 64)       0         \n",
            " 2D)                                                             \n",
            "                                                                 \n",
            " conv2d_2 (Conv2D)           (None, 50, 50, 64)        36928     \n",
            "                                                                 \n",
            " activation_2 (Activation)   (None, 50, 50, 64)        0         \n",
            "                                                                 \n",
            " max_pooling2d_2 (MaxPooling  (None, 25, 25, 64)       0         \n",
            " 2D)                                                             \n",
            "                                                                 \n",
            " conv2d_3 (Conv2D)           (None, 25, 25, 64)        36928     \n",
            "                                                                 \n",
            " activation_3 (Activation)   (None, 25, 25, 64)        0         \n",
            "                                                                 \n",
            " max_pooling2d_3 (MaxPooling  (None, 12, 12, 64)       0         \n",
            " 2D)                                                             \n",
            "                                                                 \n",
            " conv2d_4 (Conv2D)           (None, 12, 12, 64)        36928     \n",
            "                                                                 \n",
            " activation_4 (Activation)   (None, 12, 12, 64)        0         \n",
            "                                                                 \n",
            " max_pooling2d_4 (MaxPooling  (None, 6, 6, 64)         0         \n",
            " 2D)                                                             \n",
            "                                                                 \n",
            " flatten (Flatten)           (None, 2304)              0         \n",
            "                                                                 \n",
            " dense (Dense)               (None, 512)               1180160   \n",
            "                                                                 \n",
            " dropout (Dropout)           (None, 512)               0         \n",
            "                                                                 \n",
            " activation_5 (Activation)   (None, 512)               0         \n",
            "                                                                 \n",
            " dense_1 (Dense)             (None, 10)                5130      \n",
            "                                                                 \n",
            " activation_6 (Activation)   (None, 10)                0         \n",
            "                                                                 \n",
            "=================================================================\n",
            "Total params: 1,334,794\n",
            "Trainable params: 1,334,794\n",
            "Non-trainable params: 0\n",
            "_________________________________________________________________\n",
            "/content/inaturalist_12K/train\n",
            "Found 9000 images belonging to 10 classes.\n",
            "Found 999 images belonging to 10 classes.\n",
            "/content/inaturalist_12K/val\n",
            "Found 2000 images belonging to 10 classes.\n",
            "Epoch 1/10\n",
            "71/71 [==============================] - 206s 3s/step - loss: 2.2868 - categorical_accuracy: 0.1401 - val_loss: 2.2268 - val_categorical_accuracy: 0.1990 - _timestamp: 1648472639.0000 - _runtime: 218.0000\n",
            "Epoch 2/10\n",
            "71/71 [==============================] - 201s 3s/step - loss: 2.1732 - categorical_accuracy: 0.2143 - val_loss: 2.1026 - val_categorical_accuracy: 0.2480 - _timestamp: 1648472840.0000 - _runtime: 419.0000\n",
            "Epoch 3/10\n",
            "71/71 [==============================] - 200s 3s/step - loss: 2.0981 - categorical_accuracy: 0.2460 - val_loss: 2.1040 - val_categorical_accuracy: 0.2510 - _timestamp: 1648473040.0000 - _runtime: 619.0000\n",
            "Epoch 4/10\n",
            "71/71 [==============================] - 221s 3s/step - loss: 2.0672 - categorical_accuracy: 0.2581 - val_loss: 2.0546 - val_categorical_accuracy: 0.2755 - _timestamp: 1648473261.0000 - _runtime: 840.0000\n",
            "Epoch 5/10\n",
            "71/71 [==============================] - 201s 3s/step - loss: 2.0376 - categorical_accuracy: 0.2727 - val_loss: 1.9947 - val_categorical_accuracy: 0.2940 - _timestamp: 1648473463.0000 - _runtime: 1042.0000\n",
            "Epoch 6/10\n",
            "71/71 [==============================] - 199s 3s/step - loss: 2.0094 - categorical_accuracy: 0.2890 - val_loss: 1.9761 - val_categorical_accuracy: 0.3030 - _timestamp: 1648473661.0000 - _runtime: 1240.0000\n",
            "Epoch 7/10\n",
            "71/71 [==============================] - 203s 3s/step - loss: 2.0075 - categorical_accuracy: 0.2862 - val_loss: 1.9675 - val_categorical_accuracy: 0.3200 - _timestamp: 1648473864.0000 - _runtime: 1443.0000\n",
            "Epoch 8/10\n",
            "71/71 [==============================] - 208s 3s/step - loss: 1.9908 - categorical_accuracy: 0.2971 - val_loss: 2.0043 - val_categorical_accuracy: 0.3115 - _timestamp: 1648474073.0000 - _runtime: 1652.0000\n",
            "Epoch 9/10\n",
            "71/71 [==============================] - 220s 3s/step - loss: 1.9813 - categorical_accuracy: 0.3023 - val_loss: 1.9646 - val_categorical_accuracy: 0.3270 - _timestamp: 1648474292.0000 - _runtime: 1871.0000\n",
            "Epoch 10/10\n",
            "71/71 [==============================] - 222s 3s/step - loss: 1.9599 - categorical_accuracy: 0.3064 - val_loss: 1.9337 - val_categorical_accuracy: 0.3185 - _timestamp: 1648474514.0000 - _runtime: 2093.0000\n",
            "\n"
          ]
        },
        {
          "data": {
            "text/html": [
              "Waiting for W&B process to finish... <strong style=\"color:green\">(success).</strong>"
            ],
            "text/plain": [
              "<IPython.core.display.HTML object>"
            ]
          },
          "metadata": {},
          "output_type": "display_data"
        },
        {
          "data": {
            "application/vnd.jupyter.widget-view+json": {
              "model_id": "ae8c5c9f2e60409a9864cf05e61b761d",
              "version_major": 2,
              "version_minor": 0
            },
            "text/plain": [
              "VBox(children=(Label(value='15.444 MB of 15.444 MB uploaded (0.000 MB deduped)\\r'), FloatProgress(value=1.0, m…"
            ]
          },
          "metadata": {},
          "output_type": "display_data"
        },
        {
          "data": {
            "text/html": [
              "<style>\n",
              "    table.wandb td:nth-child(1) { padding: 0 10px; text-align: right }\n",
              "    .wandb-row { display: flex; flex-direction: row; flex-wrap: wrap; width: 100% }\n",
              "    .wandb-col { display: flex; flex-direction: column; flex-basis: 100%; flex: 1; padding: 10px; }\n",
              "    </style>\n",
              "<div class=\"wandb-row\"><div class=\"wandb-col\"><h3>Run history:</h3><br/><table class=\"wandb\"><tr><td>categorical_accuracy</td><td>▁▄▅▆▇▇▇███</td></tr><tr><td>epoch</td><td>▁▂▃▃▄▅▆▆▇█</td></tr><tr><td>loss</td><td>█▆▄▃▃▂▂▂▁▁</td></tr><tr><td>val_categorical_accuracy</td><td>▁▄▄▅▆▇█▇██</td></tr><tr><td>val_loss</td><td>█▅▅▄▂▂▂▃▂▁</td></tr></table><br/></div><div class=\"wandb-col\"><h3>Run summary:</h3><br/><table class=\"wandb\"><tr><td>best_epoch</td><td>9</td></tr><tr><td>best_val_loss</td><td>1.93371</td></tr><tr><td>categorical_accuracy</td><td>0.30644</td></tr><tr><td>epoch</td><td>9</td></tr><tr><td>loss</td><td>1.95992</td></tr><tr><td>val_categorical_accuracy</td><td>0.3185</td></tr><tr><td>val_loss</td><td>1.93371</td></tr></table><br/></div></div>"
            ],
            "text/plain": [
              "<IPython.core.display.HTML object>"
            ]
          },
          "metadata": {},
          "output_type": "display_data"
        },
        {
          "data": {
            "text/html": [
              "Synced <strong style=\"color:#cdcd00\">snowy-sweep-5</strong>: <a href=\"https://wandb.ai/cs21s002-ee21s113-dlassignment-1/DLAssignment2/runs/p5tly817\" target=\"_blank\">https://wandb.ai/cs21s002-ee21s113-dlassignment-1/DLAssignment2/runs/p5tly817</a><br/>Synced 5 W&B file(s), 1 media file(s), 0 artifact file(s) and 3 other file(s)"
            ],
            "text/plain": [
              "<IPython.core.display.HTML object>"
            ]
          },
          "metadata": {},
          "output_type": "display_data"
        },
        {
          "data": {
            "text/html": [
              "Find logs at: <code>./wandb/run-20220328_130021-p5tly817/logs</code>"
            ],
            "text/plain": [
              "<IPython.core.display.HTML object>"
            ]
          },
          "metadata": {},
          "output_type": "display_data"
        },
        {
          "metadata": {
            "tags": null
          },
          "name": "stderr",
          "output_type": "stream",
          "text": [
            "\u001b[34m\u001b[1mwandb\u001b[0m: Agent Starting Run: o91vuzf0 with config:\n",
            "\u001b[34m\u001b[1mwandb\u001b[0m: \tbatch_norm: False\n",
            "\u001b[34m\u001b[1mwandb\u001b[0m: \tdense_layer_size: 512\n",
            "\u001b[34m\u001b[1mwandb\u001b[0m: \tdropout: 0.5\n",
            "\u001b[34m\u001b[1mwandb\u001b[0m: \tepochs: 10\n",
            "\u001b[34m\u001b[1mwandb\u001b[0m: \tfilter_list: [64, 64, 64, 64, 64]\n",
            "\u001b[34m\u001b[1mwandb\u001b[0m: \tlr: 0.001\n",
            "\u001b[34m\u001b[1mwandb\u001b[0m: \ttrain_data_aug: True\n"
          ]
        },
        {
          "metadata": {
            "tags": null
          },
          "name": "stdout",
          "output_type": "stream",
          "text": [
            "INFO:tensorflow:Using MirroredStrategy with devices ('/job:localhost/replica:0/task:0/device:GPU:0',)\n",
            "Number of devices: 1\n"
          ]
        },
        {
          "metadata": {
            "tags": null
          },
          "name": "stderr",
          "output_type": "stream",
          "text": [
            "\u001b[34m\u001b[1mwandb\u001b[0m: \u001b[33mWARNING\u001b[0m Ignored wandb.init() arg project when running a sweep.\n",
            "\u001b[34m\u001b[1mwandb\u001b[0m: \u001b[33mWARNING\u001b[0m Ignored wandb.init() arg entity when running a sweep.\n"
          ]
        },
        {
          "data": {
            "text/html": [
              "Tracking run with wandb version 0.12.11"
            ],
            "text/plain": [
              "<IPython.core.display.HTML object>"
            ]
          },
          "metadata": {},
          "output_type": "display_data"
        },
        {
          "data": {
            "text/html": [
              "Run data is saved locally in <code>/content/wandb/run-20220328_133606-o91vuzf0</code>"
            ],
            "text/plain": [
              "<IPython.core.display.HTML object>"
            ]
          },
          "metadata": {},
          "output_type": "display_data"
        },
        {
          "data": {
            "text/html": [
              "Syncing run <strong><a href=\"https://wandb.ai/cs21s002-ee21s113-dlassignment-1/DLAssignment2/runs/o91vuzf0\" target=\"_blank\">cosmic-sweep-6</a></strong> to <a href=\"https://wandb.ai/cs21s002-ee21s113-dlassignment-1/DLAssignment2\" target=\"_blank\">Weights & Biases</a> (<a href=\"https://wandb.me/run\" target=\"_blank\">docs</a>)<br/>Sweep page:  <a href=\"https://wandb.ai/cs21s002-ee21s113-dlassignment-1/DLAssignment2/sweeps/6rqpl4n9\" target=\"_blank\">https://wandb.ai/cs21s002-ee21s113-dlassignment-1/DLAssignment2/sweeps/6rqpl4n9</a>"
            ],
            "text/plain": [
              "<IPython.core.display.HTML object>"
            ]
          },
          "metadata": {},
          "output_type": "display_data"
        },
        {
          "metadata": {
            "tags": null
          },
          "name": "stdout",
          "output_type": "stream",
          "text": [
            "Model: \"sequential\"\n",
            "_________________________________________________________________\n",
            " Layer (type)                Output Shape              Param #   \n",
            "=================================================================\n",
            " conv2d (Conv2D)             (None, 200, 200, 64)      1792      \n",
            "                                                                 \n",
            " activation (Activation)     (None, 200, 200, 64)      0         \n",
            "                                                                 \n",
            " max_pooling2d (MaxPooling2D  (None, 100, 100, 64)     0         \n",
            " )                                                               \n",
            "                                                                 \n",
            " conv2d_1 (Conv2D)           (None, 100, 100, 64)      36928     \n",
            "                                                                 \n",
            " activation_1 (Activation)   (None, 100, 100, 64)      0         \n",
            "                                                                 \n",
            " max_pooling2d_1 (MaxPooling  (None, 50, 50, 64)       0         \n",
            " 2D)                                                             \n",
            "                                                                 \n",
            " conv2d_2 (Conv2D)           (None, 50, 50, 64)        36928     \n",
            "                                                                 \n",
            " activation_2 (Activation)   (None, 50, 50, 64)        0         \n",
            "                                                                 \n",
            " max_pooling2d_2 (MaxPooling  (None, 25, 25, 64)       0         \n",
            " 2D)                                                             \n",
            "                                                                 \n",
            " conv2d_3 (Conv2D)           (None, 25, 25, 64)        36928     \n",
            "                                                                 \n",
            " activation_3 (Activation)   (None, 25, 25, 64)        0         \n",
            "                                                                 \n",
            " max_pooling2d_3 (MaxPooling  (None, 12, 12, 64)       0         \n",
            " 2D)                                                             \n",
            "                                                                 \n",
            " conv2d_4 (Conv2D)           (None, 12, 12, 64)        36928     \n",
            "                                                                 \n",
            " activation_4 (Activation)   (None, 12, 12, 64)        0         \n",
            "                                                                 \n",
            " max_pooling2d_4 (MaxPooling  (None, 6, 6, 64)         0         \n",
            " 2D)                                                             \n",
            "                                                                 \n",
            " flatten (Flatten)           (None, 2304)              0         \n",
            "                                                                 \n",
            " dense (Dense)               (None, 512)               1180160   \n",
            "                                                                 \n",
            " dropout (Dropout)           (None, 512)               0         \n",
            "                                                                 \n",
            " activation_5 (Activation)   (None, 512)               0         \n",
            "                                                                 \n",
            " dense_1 (Dense)             (None, 10)                5130      \n",
            "                                                                 \n",
            " activation_6 (Activation)   (None, 10)                0         \n",
            "                                                                 \n",
            "=================================================================\n",
            "Total params: 1,334,794\n",
            "Trainable params: 1,334,794\n",
            "Non-trainable params: 0\n",
            "_________________________________________________________________\n",
            "/content/inaturalist_12K/train\n",
            "Found 9000 images belonging to 10 classes.\n",
            "Found 999 images belonging to 10 classes.\n",
            "/content/inaturalist_12K/val\n",
            "Found 2000 images belonging to 10 classes.\n",
            "Epoch 1/10\n",
            "71/71 [==============================] - 222s 3s/step - loss: 2.2706 - categorical_accuracy: 0.1387 - val_loss: 2.1961 - val_categorical_accuracy: 0.1885 - _timestamp: 1648474801.0000 - _runtime: 235.0000\n",
            "Epoch 2/10\n",
            "71/71 [==============================] - 214s 3s/step - loss: 2.1797 - categorical_accuracy: 0.1972 - val_loss: 2.1188 - val_categorical_accuracy: 0.2265 - _timestamp: 1648475015.0000 - _runtime: 449.0000\n",
            "Epoch 3/10\n",
            "71/71 [==============================] - 213s 3s/step - loss: 2.1293 - categorical_accuracy: 0.2187 - val_loss: 2.0774 - val_categorical_accuracy: 0.2665 - _timestamp: 1648475228.0000 - _runtime: 662.0000\n",
            "Epoch 4/10\n",
            "71/71 [==============================] - 212s 3s/step - loss: 2.1207 - categorical_accuracy: 0.2270 - val_loss: 2.0747 - val_categorical_accuracy: 0.2430 - _timestamp: 1648475440.0000 - _runtime: 874.0000\n",
            "Epoch 5/10\n",
            "71/71 [==============================] - 212s 3s/step - loss: 2.0757 - categorical_accuracy: 0.2456 - val_loss: 1.9997 - val_categorical_accuracy: 0.2865 - _timestamp: 1648475652.0000 - _runtime: 1086.0000\n",
            "Epoch 6/10\n",
            "71/71 [==============================] - 213s 3s/step - loss: 2.0465 - categorical_accuracy: 0.2606 - val_loss: 1.9571 - val_categorical_accuracy: 0.3055 - _timestamp: 1648475865.0000 - _runtime: 1299.0000\n",
            "Epoch 7/10\n",
            "71/71 [==============================] - 212s 3s/step - loss: 2.0075 - categorical_accuracy: 0.2771 - val_loss: 1.9178 - val_categorical_accuracy: 0.3310 - _timestamp: 1648476078.0000 - _runtime: 1512.0000\n",
            "Epoch 8/10\n",
            "71/71 [==============================] - 212s 3s/step - loss: 1.9771 - categorical_accuracy: 0.2957 - val_loss: 1.9692 - val_categorical_accuracy: 0.2960 - _timestamp: 1648476290.0000 - _runtime: 1724.0000\n",
            "Epoch 9/10\n",
            "71/71 [==============================] - 212s 3s/step - loss: 1.9663 - categorical_accuracy: 0.3002 - val_loss: 1.8928 - val_categorical_accuracy: 0.3330 - _timestamp: 1648476502.0000 - _runtime: 1936.0000\n",
            "Epoch 10/10\n",
            "71/71 [==============================] - 212s 3s/step - loss: 1.9333 - categorical_accuracy: 0.3067 - val_loss: 1.8713 - val_categorical_accuracy: 0.3305 - _timestamp: 1648476715.0000 - _runtime: 2149.0000\n",
            "\n"
          ]
        },
        {
          "data": {
            "text/html": [
              "Waiting for W&B process to finish... <strong style=\"color:green\">(success).</strong>"
            ],
            "text/plain": [
              "<IPython.core.display.HTML object>"
            ]
          },
          "metadata": {},
          "output_type": "display_data"
        },
        {
          "data": {
            "application/vnd.jupyter.widget-view+json": {
              "model_id": "75461707c3ef4aaf9105b1edfab079eb",
              "version_major": 2,
              "version_minor": 0
            },
            "text/plain": [
              "VBox(children=(Label(value='15.444 MB of 15.444 MB uploaded (0.000 MB deduped)\\r'), FloatProgress(value=1.0, m…"
            ]
          },
          "metadata": {},
          "output_type": "display_data"
        },
        {
          "data": {
            "text/html": [
              "<style>\n",
              "    table.wandb td:nth-child(1) { padding: 0 10px; text-align: right }\n",
              "    .wandb-row { display: flex; flex-direction: row; flex-wrap: wrap; width: 100% }\n",
              "    .wandb-col { display: flex; flex-direction: column; flex-basis: 100%; flex: 1; padding: 10px; }\n",
              "    </style>\n",
              "<div class=\"wandb-row\"><div class=\"wandb-col\"><h3>Run history:</h3><br/><table class=\"wandb\"><tr><td>categorical_accuracy</td><td>▁▃▄▅▅▆▇███</td></tr><tr><td>epoch</td><td>▁▂▃▃▄▅▆▆▇█</td></tr><tr><td>loss</td><td>█▆▅▅▄▃▃▂▂▁</td></tr><tr><td>val_categorical_accuracy</td><td>▁▃▅▄▆▇█▆██</td></tr><tr><td>val_loss</td><td>█▆▅▅▄▃▂▃▁▁</td></tr></table><br/></div><div class=\"wandb-col\"><h3>Run summary:</h3><br/><table class=\"wandb\"><tr><td>best_epoch</td><td>9</td></tr><tr><td>best_val_loss</td><td>1.8713</td></tr><tr><td>categorical_accuracy</td><td>0.30667</td></tr><tr><td>epoch</td><td>9</td></tr><tr><td>loss</td><td>1.93333</td></tr><tr><td>val_categorical_accuracy</td><td>0.3305</td></tr><tr><td>val_loss</td><td>1.8713</td></tr></table><br/></div></div>"
            ],
            "text/plain": [
              "<IPython.core.display.HTML object>"
            ]
          },
          "metadata": {},
          "output_type": "display_data"
        },
        {
          "data": {
            "text/html": [
              "Synced <strong style=\"color:#cdcd00\">cosmic-sweep-6</strong>: <a href=\"https://wandb.ai/cs21s002-ee21s113-dlassignment-1/DLAssignment2/runs/o91vuzf0\" target=\"_blank\">https://wandb.ai/cs21s002-ee21s113-dlassignment-1/DLAssignment2/runs/o91vuzf0</a><br/>Synced 5 W&B file(s), 1 media file(s), 0 artifact file(s) and 3 other file(s)"
            ],
            "text/plain": [
              "<IPython.core.display.HTML object>"
            ]
          },
          "metadata": {},
          "output_type": "display_data"
        },
        {
          "data": {
            "text/html": [
              "Find logs at: <code>./wandb/run-20220328_133606-o91vuzf0/logs</code>"
            ],
            "text/plain": [
              "<IPython.core.display.HTML object>"
            ]
          },
          "metadata": {},
          "output_type": "display_data"
        },
        {
          "metadata": {
            "tags": null
          },
          "name": "stderr",
          "output_type": "stream",
          "text": [
            "\u001b[34m\u001b[1mwandb\u001b[0m: Agent Starting Run: 7wwhogp1 with config:\n",
            "\u001b[34m\u001b[1mwandb\u001b[0m: \tbatch_norm: False\n",
            "\u001b[34m\u001b[1mwandb\u001b[0m: \tdense_layer_size: 512\n",
            "\u001b[34m\u001b[1mwandb\u001b[0m: \tdropout: 0.3\n",
            "\u001b[34m\u001b[1mwandb\u001b[0m: \tepochs: 7\n",
            "\u001b[34m\u001b[1mwandb\u001b[0m: \tfilter_list: [64, 64, 64, 64, 64]\n",
            "\u001b[34m\u001b[1mwandb\u001b[0m: \tlr: 0.0001\n",
            "\u001b[34m\u001b[1mwandb\u001b[0m: \ttrain_data_aug: True\n"
          ]
        },
        {
          "metadata": {
            "tags": null
          },
          "name": "stdout",
          "output_type": "stream",
          "text": [
            "INFO:tensorflow:Using MirroredStrategy with devices ('/job:localhost/replica:0/task:0/device:GPU:0',)\n",
            "Number of devices: 1\n"
          ]
        },
        {
          "metadata": {
            "tags": null
          },
          "name": "stderr",
          "output_type": "stream",
          "text": [
            "\u001b[34m\u001b[1mwandb\u001b[0m: \u001b[33mWARNING\u001b[0m Ignored wandb.init() arg project when running a sweep.\n",
            "\u001b[34m\u001b[1mwandb\u001b[0m: \u001b[33mWARNING\u001b[0m Ignored wandb.init() arg entity when running a sweep.\n"
          ]
        },
        {
          "data": {
            "text/html": [
              "Tracking run with wandb version 0.12.11"
            ],
            "text/plain": [
              "<IPython.core.display.HTML object>"
            ]
          },
          "metadata": {},
          "output_type": "display_data"
        },
        {
          "data": {
            "text/html": [
              "Run data is saved locally in <code>/content/wandb/run-20220328_141257-7wwhogp1</code>"
            ],
            "text/plain": [
              "<IPython.core.display.HTML object>"
            ]
          },
          "metadata": {},
          "output_type": "display_data"
        },
        {
          "data": {
            "text/html": [
              "Syncing run <strong><a href=\"https://wandb.ai/cs21s002-ee21s113-dlassignment-1/DLAssignment2/runs/7wwhogp1\" target=\"_blank\">dark-sweep-7</a></strong> to <a href=\"https://wandb.ai/cs21s002-ee21s113-dlassignment-1/DLAssignment2\" target=\"_blank\">Weights & Biases</a> (<a href=\"https://wandb.me/run\" target=\"_blank\">docs</a>)<br/>Sweep page:  <a href=\"https://wandb.ai/cs21s002-ee21s113-dlassignment-1/DLAssignment2/sweeps/6rqpl4n9\" target=\"_blank\">https://wandb.ai/cs21s002-ee21s113-dlassignment-1/DLAssignment2/sweeps/6rqpl4n9</a>"
            ],
            "text/plain": [
              "<IPython.core.display.HTML object>"
            ]
          },
          "metadata": {},
          "output_type": "display_data"
        },
        {
          "output_type": "stream",
          "name": "stdout",
          "text": [
            "Model: \"sequential\"\n",
            "_________________________________________________________________\n",
            " Layer (type)                Output Shape              Param #   \n",
            "=================================================================\n",
            " conv2d (Conv2D)             (None, 200, 200, 64)      1792      \n",
            "                                                                 \n",
            " activation (Activation)     (None, 200, 200, 64)      0         \n",
            "                                                                 \n",
            " max_pooling2d (MaxPooling2D  (None, 100, 100, 64)     0         \n",
            " )                                                               \n",
            "                                                                 \n",
            " conv2d_1 (Conv2D)           (None, 100, 100, 64)      36928     \n",
            "                                                                 \n",
            " activation_1 (Activation)   (None, 100, 100, 64)      0         \n",
            "                                                                 \n",
            " max_pooling2d_1 (MaxPooling  (None, 50, 50, 64)       0         \n",
            " 2D)                                                             \n",
            "                                                                 \n",
            " conv2d_2 (Conv2D)           (None, 50, 50, 64)        36928     \n",
            "                                                                 \n",
            " activation_2 (Activation)   (None, 50, 50, 64)        0         \n",
            "                                                                 \n",
            " max_pooling2d_2 (MaxPooling  (None, 25, 25, 64)       0         \n",
            " 2D)                                                             \n",
            "                                                                 \n",
            " conv2d_3 (Conv2D)           (None, 25, 25, 64)        36928     \n",
            "                                                                 \n",
            " activation_3 (Activation)   (None, 25, 25, 64)        0         \n",
            "                                                                 \n",
            " max_pooling2d_3 (MaxPooling  (None, 12, 12, 64)       0         \n",
            " 2D)                                                             \n",
            "                                                                 \n",
            " conv2d_4 (Conv2D)           (None, 12, 12, 64)        36928     \n",
            "                                                                 \n",
            " activation_4 (Activation)   (None, 12, 12, 64)        0         \n",
            "                                                                 \n",
            " max_pooling2d_4 (MaxPooling  (None, 6, 6, 64)         0         \n",
            " 2D)                                                             \n",
            "                                                                 \n",
            " flatten (Flatten)           (None, 2304)              0         \n",
            "                                                                 \n",
            " dense (Dense)               (None, 512)               1180160   \n",
            "                                                                 \n",
            " dropout (Dropout)           (None, 512)               0         \n",
            "                                                                 \n",
            " activation_5 (Activation)   (None, 512)               0         \n",
            "                                                                 \n",
            " dense_1 (Dense)             (None, 10)                5130      \n",
            "                                                                 \n",
            " activation_6 (Activation)   (None, 10)                0         \n",
            "                                                                 \n",
            "=================================================================\n",
            "Total params: 1,334,794\n",
            "Trainable params: 1,334,794\n",
            "Non-trainable params: 0\n",
            "_________________________________________________________________\n",
            "/content/inaturalist_12K/train\n",
            "Found 9000 images belonging to 10 classes.\n",
            "Found 999 images belonging to 10 classes.\n",
            "/content/inaturalist_12K/val\n",
            "Found 2000 images belonging to 10 classes.\n",
            "Epoch 1/7\n",
            "71/71 [==============================] - 217s 3s/step - loss: 2.2793 - categorical_accuracy: 0.1423 - val_loss: 2.2074 - val_categorical_accuracy: 0.2110 - _timestamp: 1648477006.0000 - _runtime: 229.0000\n",
            "Epoch 2/7\n",
            "71/71 [==============================] - 217s 3s/step - loss: 2.1572 - categorical_accuracy: 0.2159 - val_loss: 2.1290 - val_categorical_accuracy: 0.2465 - _timestamp: 1648477224.0000 - _runtime: 447.0000\n",
            "Epoch 3/7\n",
            "71/71 [==============================] - 234s 3s/step - loss: 2.0967 - categorical_accuracy: 0.2436 - val_loss: 2.1490 - val_categorical_accuracy: 0.2335 - _timestamp: 1648477458.0000 - _runtime: 681.0000\n",
            "Epoch 4/7\n",
            "71/71 [==============================] - 210s 3s/step - loss: 2.0699 - categorical_accuracy: 0.2597 - val_loss: 2.0321 - val_categorical_accuracy: 0.2895 - _timestamp: 1648477669.0000 - _runtime: 892.0000\n",
            "Epoch 5/7\n",
            "71/71 [==============================] - 213s 3s/step - loss: 2.0491 - categorical_accuracy: 0.2706 - val_loss: 2.0331 - val_categorical_accuracy: 0.2840 - _timestamp: 1648477881.0000 - _runtime: 1104.0000\n",
            "Epoch 6/7\n",
            "58/71 [=======================>......] - ETA: 33s - loss: 2.0191 - categorical_accuracy: 0.2845"
          ]
        }
      ],
      "source": [
        "wandb.agent(sweep_id, function=test, project='DLAssignment2', entity='cs21s002-ee21s113-dlassignment-1')"
      ]
    },
    {
      "cell_type": "code",
      "execution_count": null,
      "metadata": {
        "id": "_SzEy6F8zKoJ"
      },
      "outputs": [],
      "source": [
        "# Create a MirroredStrategy.\n",
        "if tf.config.list_physical_devices('GPU'):\n",
        "    strategy = tf.distribute.MirroredStrategy()\n",
        "else:  # use default strategy\n",
        "    strategy = tf.distribute.get_strategy()\n",
        "print('Number of devices: {}'.format(strategy.num_replicas_in_sync))\n",
        "\n",
        "# Open a strategy scope and create the model\n",
        "with strategy.scope():\n",
        "    model = get_model([128, 64, 64, 48, 64], 0.2, True, 1024)\n",
        "\n",
        "plot_model(model)\n",
        "\n",
        "model.summary()\n",
        "\n",
        "train_generator, val_generator, test_generator = get_dataset_generators(True)\n",
        "\n",
        "model.compile(loss=\"categorical_crossentropy\", optimizer=keras.optimizers.Adam(0.001), metrics=\"accuracy\")\n",
        "\n",
        "model.fit(train_generator, epochs=10, validation_data=val_generator, callbacks=[history])\n",
        "\n",
        "model.evaluate(test_generator)"
      ]
    },
    {
      "cell_type": "code",
      "execution_count": null,
      "metadata": {
        "id": "paaV8ZuW0AqK"
      },
      "outputs": [],
      "source": [
        "classes = {0: 'Amphibia', 1: 'Animalia', 2: 'Arachnida', 3: 'Aves', 4: 'Fungi', 5: 'Insecta', 6: 'Mammalia', 7: 'Mollusca', 8: 'Plantae', 9: 'Reptilia'}\n",
        "\n",
        "images, labels = test_generator.next()\n",
        "predictions = model(images)"
      ]
    },
    {
      "cell_type": "code",
      "execution_count": null,
      "metadata": {
        "id": "wHDRe5Mk0EAR"
      },
      "outputs": [],
      "source": [
        "count = [0]*10\n",
        "images_list = []\n",
        "f, a = plt.subplots(nrows=10, ncols=3, figsize=(15,50))\n",
        "for i, img in enumerate(images):\n",
        "    class_label = np.argmax(labels[i], axis=0)\n",
        "    pred_label = np.argmax(predictions[i], axis=0)\n",
        "    if count[class_label] < 3:\n",
        "        a[class_label, count[class_label]].imshow(img)\n",
        "        a[class_label, count[class_label]].axis('off')\n",
        "        ttl = \"Actual: \" + classes[class_label] + \"\\nPredicted: \" + classes[pred_label]\n",
        "        a[class_label, count[class_label]].set_title(ttl)\n",
        "        count[class_label] += 1\n",
        "        images_list.append((img, ttl))\n",
        "plt.show()"
      ]
    },
    {
      "cell_type": "code",
      "execution_count": null,
      "metadata": {
        "id": "DkmD5Mes0M8D"
      },
      "outputs": [],
      "source": [
        "layer_outputs = [layer.output for layer in model.layers]\n",
        "\n",
        "activation_model = Model(inputs=model.input, outputs=layer_outputs) # Creates a model that will return these outputs, given the model input\n",
        "activations = activation_model.predict(images[55:56])\n",
        "first_layer_activation = activations[0]\n",
        "print(first_layer_activation.shape)\n",
        "plt.matshow(first_layer_activation[0, :, :, 127])"
      ]
    },
    {
      "cell_type": "code",
      "execution_count": null,
      "metadata": {
        "id": "8mMgTWnK0RE8"
      },
      "outputs": [],
      "source": [
        "plt.figure(figsize=(20,40))\n",
        "for d in range(128):\n",
        "  plt.subplot(16, 8, d+1)\n",
        "  plt.imshow(first_layer_activation[0, :, :, d])\n",
        "  wandb.log({\"Filters\": wandb.Image(first_layer_activation[0, :, :, d])})\n",
        "  plt.savefig(\"filters.png\")\n",
        "plt.show()"
      ]
    },
    {
      "cell_type": "code",
      "execution_count": null,
      "metadata": {
        "id": "WQpl-l-x0VMR"
      },
      "outputs": [],
      "source": [
        "filters_img = Image.open(\"filters.png\") \n",
        "wandb.log({\"Filters of Layer 1\": wandb.Image(filters_img)})"
      ]
    },
    {
      "cell_type": "code",
      "execution_count": null,
      "metadata": {
        "id": "0GKYilwu0WPw"
      },
      "outputs": [],
      "source": [
        "model_upto_conv5 = tf.keras.models.Model([model.inputs],[model.get_layer(\"conv2d_29\").output]) #conv2d_29\n",
        "@tf.custom_gradient\n",
        "def guidedRelU(x):\n",
        "    def grad(dy):\n",
        "        return tf.cast(dy>0, tf.float32) * tf.cast(x>0, tf.float32) * dy\n",
        "    return tf.nn.relu(x), grad\n",
        "\n",
        "for layer in model.layers[1:]:\n",
        "    if hasattr(layer, 'activation') and layer.activation==tf.keras.activations.relu:\n",
        "        layer.activation = guidedRelU\n",
        "\n",
        "f, a = plt.subplots(10, 2, figsize=(10, 40))\n",
        "inputs = tf.convert_to_tensor(images[55:65], dtype=tf.float32)\n",
        "\n",
        "for i in range(10):\n",
        "\n",
        "    with tf.GradientTape() as tape:\n",
        "        input = tf.expand_dims(inputs[i], 0)\n",
        "        tape.watch(input)\n",
        "        output = model_upto_conv5(input)[0]\n",
        "    \n",
        "    gradients = tape.gradient(output,input)[0]\n",
        "\n",
        "    a[i][0].set_title(\"Original\")\n",
        "    a[i][0].imshow(inputs[i])\n",
        "    a[i][1].set_title(\"Guided backpropagation\")\n",
        "    a[i][1].imshow(gradients)\n",
        "wandb.log({\"Guided Backpropagation\": wandb.Image(f)})\n",
        "f.savefig(\"guided_backprop.png\")\n",
        "plt.show()\n"
      ]
    }
  ],
  "metadata": {
    "accelerator": "GPU",
    "colab": {
      "collapsed_sections": [],
      "name": "PART_A.ipynb",
      "provenance": [],
      "authorship_tag": "ABX9TyPfCkIj5wuxW+7JMf9SIToZ",
      "include_colab_link": true
    },
    "kernelspec": {
      "display_name": "Python 3",
      "name": "python3"
    },
    "language_info": {
      "name": "python"
    },
    "widgets": {
      "application/vnd.jupyter.widget-state+json": {
        "8911b5d9e6424c4d96274013635e64a0": {
          "model_module": "@jupyter-widgets/controls",
          "model_name": "VBoxModel",
          "model_module_version": "1.5.0",
          "state": {
            "_dom_classes": [],
            "_model_module": "@jupyter-widgets/controls",
            "_model_module_version": "1.5.0",
            "_model_name": "VBoxModel",
            "_view_count": null,
            "_view_module": "@jupyter-widgets/controls",
            "_view_module_version": "1.5.0",
            "_view_name": "VBoxView",
            "box_style": "",
            "children": [
              "IPY_MODEL_80c259a5f242424c9dd1ac57280bc2cd",
              "IPY_MODEL_c54ef4aeac624972ab6e9e4483b74d67"
            ],
            "layout": "IPY_MODEL_72f8310f1ec44afe925b43d76327544b"
          }
        },
        "80c259a5f242424c9dd1ac57280bc2cd": {
          "model_module": "@jupyter-widgets/controls",
          "model_name": "LabelModel",
          "model_module_version": "1.5.0",
          "state": {
            "_dom_classes": [],
            "_model_module": "@jupyter-widgets/controls",
            "_model_module_version": "1.5.0",
            "_model_name": "LabelModel",
            "_view_count": null,
            "_view_module": "@jupyter-widgets/controls",
            "_view_module_version": "1.5.0",
            "_view_name": "LabelView",
            "description": "",
            "description_tooltip": null,
            "layout": "IPY_MODEL_659324d21a314fbaaf3da4c9a87628fb",
            "placeholder": "​",
            "style": "IPY_MODEL_e4071b9c389a4e99a29cde40027dc49c",
            "value": "0.008 MB of 0.008 MB uploaded (0.000 MB deduped)\r"
          }
        },
        "c54ef4aeac624972ab6e9e4483b74d67": {
          "model_module": "@jupyter-widgets/controls",
          "model_name": "FloatProgressModel",
          "model_module_version": "1.5.0",
          "state": {
            "_dom_classes": [],
            "_model_module": "@jupyter-widgets/controls",
            "_model_module_version": "1.5.0",
            "_model_name": "FloatProgressModel",
            "_view_count": null,
            "_view_module": "@jupyter-widgets/controls",
            "_view_module_version": "1.5.0",
            "_view_name": "ProgressView",
            "bar_style": "",
            "description": "",
            "description_tooltip": null,
            "layout": "IPY_MODEL_ab800aae04fb42949d8c922bde77936a",
            "max": 1,
            "min": 0,
            "orientation": "horizontal",
            "style": "IPY_MODEL_6934ae7bafee4127bfee8fb92ce0905c",
            "value": 1
          }
        },
        "72f8310f1ec44afe925b43d76327544b": {
          "model_module": "@jupyter-widgets/base",
          "model_name": "LayoutModel",
          "model_module_version": "1.2.0",
          "state": {
            "_model_module": "@jupyter-widgets/base",
            "_model_module_version": "1.2.0",
            "_model_name": "LayoutModel",
            "_view_count": null,
            "_view_module": "@jupyter-widgets/base",
            "_view_module_version": "1.2.0",
            "_view_name": "LayoutView",
            "align_content": null,
            "align_items": null,
            "align_self": null,
            "border": null,
            "bottom": null,
            "display": null,
            "flex": null,
            "flex_flow": null,
            "grid_area": null,
            "grid_auto_columns": null,
            "grid_auto_flow": null,
            "grid_auto_rows": null,
            "grid_column": null,
            "grid_gap": null,
            "grid_row": null,
            "grid_template_areas": null,
            "grid_template_columns": null,
            "grid_template_rows": null,
            "height": null,
            "justify_content": null,
            "justify_items": null,
            "left": null,
            "margin": null,
            "max_height": null,
            "max_width": null,
            "min_height": null,
            "min_width": null,
            "object_fit": null,
            "object_position": null,
            "order": null,
            "overflow": null,
            "overflow_x": null,
            "overflow_y": null,
            "padding": null,
            "right": null,
            "top": null,
            "visibility": null,
            "width": null
          }
        },
        "659324d21a314fbaaf3da4c9a87628fb": {
          "model_module": "@jupyter-widgets/base",
          "model_name": "LayoutModel",
          "model_module_version": "1.2.0",
          "state": {
            "_model_module": "@jupyter-widgets/base",
            "_model_module_version": "1.2.0",
            "_model_name": "LayoutModel",
            "_view_count": null,
            "_view_module": "@jupyter-widgets/base",
            "_view_module_version": "1.2.0",
            "_view_name": "LayoutView",
            "align_content": null,
            "align_items": null,
            "align_self": null,
            "border": null,
            "bottom": null,
            "display": null,
            "flex": null,
            "flex_flow": null,
            "grid_area": null,
            "grid_auto_columns": null,
            "grid_auto_flow": null,
            "grid_auto_rows": null,
            "grid_column": null,
            "grid_gap": null,
            "grid_row": null,
            "grid_template_areas": null,
            "grid_template_columns": null,
            "grid_template_rows": null,
            "height": null,
            "justify_content": null,
            "justify_items": null,
            "left": null,
            "margin": null,
            "max_height": null,
            "max_width": null,
            "min_height": null,
            "min_width": null,
            "object_fit": null,
            "object_position": null,
            "order": null,
            "overflow": null,
            "overflow_x": null,
            "overflow_y": null,
            "padding": null,
            "right": null,
            "top": null,
            "visibility": null,
            "width": null
          }
        },
        "e4071b9c389a4e99a29cde40027dc49c": {
          "model_module": "@jupyter-widgets/controls",
          "model_name": "DescriptionStyleModel",
          "model_module_version": "1.5.0",
          "state": {
            "_model_module": "@jupyter-widgets/controls",
            "_model_module_version": "1.5.0",
            "_model_name": "DescriptionStyleModel",
            "_view_count": null,
            "_view_module": "@jupyter-widgets/base",
            "_view_module_version": "1.2.0",
            "_view_name": "StyleView",
            "description_width": ""
          }
        },
        "ab800aae04fb42949d8c922bde77936a": {
          "model_module": "@jupyter-widgets/base",
          "model_name": "LayoutModel",
          "model_module_version": "1.2.0",
          "state": {
            "_model_module": "@jupyter-widgets/base",
            "_model_module_version": "1.2.0",
            "_model_name": "LayoutModel",
            "_view_count": null,
            "_view_module": "@jupyter-widgets/base",
            "_view_module_version": "1.2.0",
            "_view_name": "LayoutView",
            "align_content": null,
            "align_items": null,
            "align_self": null,
            "border": null,
            "bottom": null,
            "display": null,
            "flex": null,
            "flex_flow": null,
            "grid_area": null,
            "grid_auto_columns": null,
            "grid_auto_flow": null,
            "grid_auto_rows": null,
            "grid_column": null,
            "grid_gap": null,
            "grid_row": null,
            "grid_template_areas": null,
            "grid_template_columns": null,
            "grid_template_rows": null,
            "height": null,
            "justify_content": null,
            "justify_items": null,
            "left": null,
            "margin": null,
            "max_height": null,
            "max_width": null,
            "min_height": null,
            "min_width": null,
            "object_fit": null,
            "object_position": null,
            "order": null,
            "overflow": null,
            "overflow_x": null,
            "overflow_y": null,
            "padding": null,
            "right": null,
            "top": null,
            "visibility": null,
            "width": null
          }
        },
        "6934ae7bafee4127bfee8fb92ce0905c": {
          "model_module": "@jupyter-widgets/controls",
          "model_name": "ProgressStyleModel",
          "model_module_version": "1.5.0",
          "state": {
            "_model_module": "@jupyter-widgets/controls",
            "_model_module_version": "1.5.0",
            "_model_name": "ProgressStyleModel",
            "_view_count": null,
            "_view_module": "@jupyter-widgets/base",
            "_view_module_version": "1.2.0",
            "_view_name": "StyleView",
            "bar_color": null,
            "description_width": ""
          }
        },
        "72252bf067934303a07975e719a6eed8": {
          "model_module": "@jupyter-widgets/controls",
          "model_name": "VBoxModel",
          "model_module_version": "1.5.0",
          "state": {
            "_dom_classes": [],
            "_model_module": "@jupyter-widgets/controls",
            "_model_module_version": "1.5.0",
            "_model_name": "VBoxModel",
            "_view_count": null,
            "_view_module": "@jupyter-widgets/controls",
            "_view_module_version": "1.5.0",
            "_view_name": "VBoxView",
            "box_style": "",
            "children": [
              "IPY_MODEL_2a72def9b0de4334af8eab82cdd069ed",
              "IPY_MODEL_a5e491dcf27441ebb9f21c34bcda6af7"
            ],
            "layout": "IPY_MODEL_92984fdffee34aa8bc89a0e3a4514df2"
          }
        },
        "2a72def9b0de4334af8eab82cdd069ed": {
          "model_module": "@jupyter-widgets/controls",
          "model_name": "LabelModel",
          "model_module_version": "1.5.0",
          "state": {
            "_dom_classes": [],
            "_model_module": "@jupyter-widgets/controls",
            "_model_module_version": "1.5.0",
            "_model_name": "LabelModel",
            "_view_count": null,
            "_view_module": "@jupyter-widgets/controls",
            "_view_module_version": "1.5.0",
            "_view_name": "LabelView",
            "description": "",
            "description_tooltip": null,
            "layout": "IPY_MODEL_f7e33f6dbafe4578a45658c91ab33150",
            "placeholder": "​",
            "style": "IPY_MODEL_07fb5f0e29d74dc6aff06421fb657c36",
            "value": "15.461 MB of 15.461 MB uploaded (0.000 MB deduped)\r"
          }
        },
        "a5e491dcf27441ebb9f21c34bcda6af7": {
          "model_module": "@jupyter-widgets/controls",
          "model_name": "FloatProgressModel",
          "model_module_version": "1.5.0",
          "state": {
            "_dom_classes": [],
            "_model_module": "@jupyter-widgets/controls",
            "_model_module_version": "1.5.0",
            "_model_name": "FloatProgressModel",
            "_view_count": null,
            "_view_module": "@jupyter-widgets/controls",
            "_view_module_version": "1.5.0",
            "_view_name": "ProgressView",
            "bar_style": "",
            "description": "",
            "description_tooltip": null,
            "layout": "IPY_MODEL_bdf7f4e2320e4108b1a2e71b63a663a9",
            "max": 1,
            "min": 0,
            "orientation": "horizontal",
            "style": "IPY_MODEL_1eac13d9cfbb4f46a1339fdc858f64cc",
            "value": 1
          }
        },
        "92984fdffee34aa8bc89a0e3a4514df2": {
          "model_module": "@jupyter-widgets/base",
          "model_name": "LayoutModel",
          "model_module_version": "1.2.0",
          "state": {
            "_model_module": "@jupyter-widgets/base",
            "_model_module_version": "1.2.0",
            "_model_name": "LayoutModel",
            "_view_count": null,
            "_view_module": "@jupyter-widgets/base",
            "_view_module_version": "1.2.0",
            "_view_name": "LayoutView",
            "align_content": null,
            "align_items": null,
            "align_self": null,
            "border": null,
            "bottom": null,
            "display": null,
            "flex": null,
            "flex_flow": null,
            "grid_area": null,
            "grid_auto_columns": null,
            "grid_auto_flow": null,
            "grid_auto_rows": null,
            "grid_column": null,
            "grid_gap": null,
            "grid_row": null,
            "grid_template_areas": null,
            "grid_template_columns": null,
            "grid_template_rows": null,
            "height": null,
            "justify_content": null,
            "justify_items": null,
            "left": null,
            "margin": null,
            "max_height": null,
            "max_width": null,
            "min_height": null,
            "min_width": null,
            "object_fit": null,
            "object_position": null,
            "order": null,
            "overflow": null,
            "overflow_x": null,
            "overflow_y": null,
            "padding": null,
            "right": null,
            "top": null,
            "visibility": null,
            "width": null
          }
        },
        "f7e33f6dbafe4578a45658c91ab33150": {
          "model_module": "@jupyter-widgets/base",
          "model_name": "LayoutModel",
          "model_module_version": "1.2.0",
          "state": {
            "_model_module": "@jupyter-widgets/base",
            "_model_module_version": "1.2.0",
            "_model_name": "LayoutModel",
            "_view_count": null,
            "_view_module": "@jupyter-widgets/base",
            "_view_module_version": "1.2.0",
            "_view_name": "LayoutView",
            "align_content": null,
            "align_items": null,
            "align_self": null,
            "border": null,
            "bottom": null,
            "display": null,
            "flex": null,
            "flex_flow": null,
            "grid_area": null,
            "grid_auto_columns": null,
            "grid_auto_flow": null,
            "grid_auto_rows": null,
            "grid_column": null,
            "grid_gap": null,
            "grid_row": null,
            "grid_template_areas": null,
            "grid_template_columns": null,
            "grid_template_rows": null,
            "height": null,
            "justify_content": null,
            "justify_items": null,
            "left": null,
            "margin": null,
            "max_height": null,
            "max_width": null,
            "min_height": null,
            "min_width": null,
            "object_fit": null,
            "object_position": null,
            "order": null,
            "overflow": null,
            "overflow_x": null,
            "overflow_y": null,
            "padding": null,
            "right": null,
            "top": null,
            "visibility": null,
            "width": null
          }
        },
        "07fb5f0e29d74dc6aff06421fb657c36": {
          "model_module": "@jupyter-widgets/controls",
          "model_name": "DescriptionStyleModel",
          "model_module_version": "1.5.0",
          "state": {
            "_model_module": "@jupyter-widgets/controls",
            "_model_module_version": "1.5.0",
            "_model_name": "DescriptionStyleModel",
            "_view_count": null,
            "_view_module": "@jupyter-widgets/base",
            "_view_module_version": "1.2.0",
            "_view_name": "StyleView",
            "description_width": ""
          }
        },
        "bdf7f4e2320e4108b1a2e71b63a663a9": {
          "model_module": "@jupyter-widgets/base",
          "model_name": "LayoutModel",
          "model_module_version": "1.2.0",
          "state": {
            "_model_module": "@jupyter-widgets/base",
            "_model_module_version": "1.2.0",
            "_model_name": "LayoutModel",
            "_view_count": null,
            "_view_module": "@jupyter-widgets/base",
            "_view_module_version": "1.2.0",
            "_view_name": "LayoutView",
            "align_content": null,
            "align_items": null,
            "align_self": null,
            "border": null,
            "bottom": null,
            "display": null,
            "flex": null,
            "flex_flow": null,
            "grid_area": null,
            "grid_auto_columns": null,
            "grid_auto_flow": null,
            "grid_auto_rows": null,
            "grid_column": null,
            "grid_gap": null,
            "grid_row": null,
            "grid_template_areas": null,
            "grid_template_columns": null,
            "grid_template_rows": null,
            "height": null,
            "justify_content": null,
            "justify_items": null,
            "left": null,
            "margin": null,
            "max_height": null,
            "max_width": null,
            "min_height": null,
            "min_width": null,
            "object_fit": null,
            "object_position": null,
            "order": null,
            "overflow": null,
            "overflow_x": null,
            "overflow_y": null,
            "padding": null,
            "right": null,
            "top": null,
            "visibility": null,
            "width": null
          }
        },
        "1eac13d9cfbb4f46a1339fdc858f64cc": {
          "model_module": "@jupyter-widgets/controls",
          "model_name": "ProgressStyleModel",
          "model_module_version": "1.5.0",
          "state": {
            "_model_module": "@jupyter-widgets/controls",
            "_model_module_version": "1.5.0",
            "_model_name": "ProgressStyleModel",
            "_view_count": null,
            "_view_module": "@jupyter-widgets/base",
            "_view_module_version": "1.2.0",
            "_view_name": "StyleView",
            "bar_color": null,
            "description_width": ""
          }
        },
        "71095338643d423fb51f61a207689799": {
          "model_module": "@jupyter-widgets/controls",
          "model_name": "VBoxModel",
          "model_module_version": "1.5.0",
          "state": {
            "_dom_classes": [],
            "_model_module": "@jupyter-widgets/controls",
            "_model_module_version": "1.5.0",
            "_model_name": "VBoxModel",
            "_view_count": null,
            "_view_module": "@jupyter-widgets/controls",
            "_view_module_version": "1.5.0",
            "_view_name": "VBoxView",
            "box_style": "",
            "children": [
              "IPY_MODEL_d933a9b379ed4c37bce50bdf498ec724",
              "IPY_MODEL_3d2c88c0ce2445c7a974f31166dd502b"
            ],
            "layout": "IPY_MODEL_dd0fedc287554014bf0f8a39d40a9506"
          }
        },
        "d933a9b379ed4c37bce50bdf498ec724": {
          "model_module": "@jupyter-widgets/controls",
          "model_name": "LabelModel",
          "model_module_version": "1.5.0",
          "state": {
            "_dom_classes": [],
            "_model_module": "@jupyter-widgets/controls",
            "_model_module_version": "1.5.0",
            "_model_name": "LabelModel",
            "_view_count": null,
            "_view_module": "@jupyter-widgets/controls",
            "_view_module_version": "1.5.0",
            "_view_name": "LabelView",
            "description": "",
            "description_tooltip": null,
            "layout": "IPY_MODEL_7027861f77f34f8d8360878eca0ca8bb",
            "placeholder": "​",
            "style": "IPY_MODEL_85d1ab1e1035472584674f5cdaa7b832",
            "value": "15.457 MB of 15.457 MB uploaded (0.000 MB deduped)\r"
          }
        },
        "3d2c88c0ce2445c7a974f31166dd502b": {
          "model_module": "@jupyter-widgets/controls",
          "model_name": "FloatProgressModel",
          "model_module_version": "1.5.0",
          "state": {
            "_dom_classes": [],
            "_model_module": "@jupyter-widgets/controls",
            "_model_module_version": "1.5.0",
            "_model_name": "FloatProgressModel",
            "_view_count": null,
            "_view_module": "@jupyter-widgets/controls",
            "_view_module_version": "1.5.0",
            "_view_name": "ProgressView",
            "bar_style": "",
            "description": "",
            "description_tooltip": null,
            "layout": "IPY_MODEL_3e2069c12a1243b2a917403b50d0195c",
            "max": 1,
            "min": 0,
            "orientation": "horizontal",
            "style": "IPY_MODEL_c3c94b7af50f48feae5d78c7231b6837",
            "value": 1
          }
        },
        "dd0fedc287554014bf0f8a39d40a9506": {
          "model_module": "@jupyter-widgets/base",
          "model_name": "LayoutModel",
          "model_module_version": "1.2.0",
          "state": {
            "_model_module": "@jupyter-widgets/base",
            "_model_module_version": "1.2.0",
            "_model_name": "LayoutModel",
            "_view_count": null,
            "_view_module": "@jupyter-widgets/base",
            "_view_module_version": "1.2.0",
            "_view_name": "LayoutView",
            "align_content": null,
            "align_items": null,
            "align_self": null,
            "border": null,
            "bottom": null,
            "display": null,
            "flex": null,
            "flex_flow": null,
            "grid_area": null,
            "grid_auto_columns": null,
            "grid_auto_flow": null,
            "grid_auto_rows": null,
            "grid_column": null,
            "grid_gap": null,
            "grid_row": null,
            "grid_template_areas": null,
            "grid_template_columns": null,
            "grid_template_rows": null,
            "height": null,
            "justify_content": null,
            "justify_items": null,
            "left": null,
            "margin": null,
            "max_height": null,
            "max_width": null,
            "min_height": null,
            "min_width": null,
            "object_fit": null,
            "object_position": null,
            "order": null,
            "overflow": null,
            "overflow_x": null,
            "overflow_y": null,
            "padding": null,
            "right": null,
            "top": null,
            "visibility": null,
            "width": null
          }
        },
        "7027861f77f34f8d8360878eca0ca8bb": {
          "model_module": "@jupyter-widgets/base",
          "model_name": "LayoutModel",
          "model_module_version": "1.2.0",
          "state": {
            "_model_module": "@jupyter-widgets/base",
            "_model_module_version": "1.2.0",
            "_model_name": "LayoutModel",
            "_view_count": null,
            "_view_module": "@jupyter-widgets/base",
            "_view_module_version": "1.2.0",
            "_view_name": "LayoutView",
            "align_content": null,
            "align_items": null,
            "align_self": null,
            "border": null,
            "bottom": null,
            "display": null,
            "flex": null,
            "flex_flow": null,
            "grid_area": null,
            "grid_auto_columns": null,
            "grid_auto_flow": null,
            "grid_auto_rows": null,
            "grid_column": null,
            "grid_gap": null,
            "grid_row": null,
            "grid_template_areas": null,
            "grid_template_columns": null,
            "grid_template_rows": null,
            "height": null,
            "justify_content": null,
            "justify_items": null,
            "left": null,
            "margin": null,
            "max_height": null,
            "max_width": null,
            "min_height": null,
            "min_width": null,
            "object_fit": null,
            "object_position": null,
            "order": null,
            "overflow": null,
            "overflow_x": null,
            "overflow_y": null,
            "padding": null,
            "right": null,
            "top": null,
            "visibility": null,
            "width": null
          }
        },
        "85d1ab1e1035472584674f5cdaa7b832": {
          "model_module": "@jupyter-widgets/controls",
          "model_name": "DescriptionStyleModel",
          "model_module_version": "1.5.0",
          "state": {
            "_model_module": "@jupyter-widgets/controls",
            "_model_module_version": "1.5.0",
            "_model_name": "DescriptionStyleModel",
            "_view_count": null,
            "_view_module": "@jupyter-widgets/base",
            "_view_module_version": "1.2.0",
            "_view_name": "StyleView",
            "description_width": ""
          }
        },
        "3e2069c12a1243b2a917403b50d0195c": {
          "model_module": "@jupyter-widgets/base",
          "model_name": "LayoutModel",
          "model_module_version": "1.2.0",
          "state": {
            "_model_module": "@jupyter-widgets/base",
            "_model_module_version": "1.2.0",
            "_model_name": "LayoutModel",
            "_view_count": null,
            "_view_module": "@jupyter-widgets/base",
            "_view_module_version": "1.2.0",
            "_view_name": "LayoutView",
            "align_content": null,
            "align_items": null,
            "align_self": null,
            "border": null,
            "bottom": null,
            "display": null,
            "flex": null,
            "flex_flow": null,
            "grid_area": null,
            "grid_auto_columns": null,
            "grid_auto_flow": null,
            "grid_auto_rows": null,
            "grid_column": null,
            "grid_gap": null,
            "grid_row": null,
            "grid_template_areas": null,
            "grid_template_columns": null,
            "grid_template_rows": null,
            "height": null,
            "justify_content": null,
            "justify_items": null,
            "left": null,
            "margin": null,
            "max_height": null,
            "max_width": null,
            "min_height": null,
            "min_width": null,
            "object_fit": null,
            "object_position": null,
            "order": null,
            "overflow": null,
            "overflow_x": null,
            "overflow_y": null,
            "padding": null,
            "right": null,
            "top": null,
            "visibility": null,
            "width": null
          }
        },
        "c3c94b7af50f48feae5d78c7231b6837": {
          "model_module": "@jupyter-widgets/controls",
          "model_name": "ProgressStyleModel",
          "model_module_version": "1.5.0",
          "state": {
            "_model_module": "@jupyter-widgets/controls",
            "_model_module_version": "1.5.0",
            "_model_name": "ProgressStyleModel",
            "_view_count": null,
            "_view_module": "@jupyter-widgets/base",
            "_view_module_version": "1.2.0",
            "_view_name": "StyleView",
            "bar_color": null,
            "description_width": ""
          }
        },
        "9b64efe20c9b4e7284aac67957e17391": {
          "model_module": "@jupyter-widgets/controls",
          "model_name": "VBoxModel",
          "model_module_version": "1.5.0",
          "state": {
            "_dom_classes": [],
            "_model_module": "@jupyter-widgets/controls",
            "_model_module_version": "1.5.0",
            "_model_name": "VBoxModel",
            "_view_count": null,
            "_view_module": "@jupyter-widgets/controls",
            "_view_module_version": "1.5.0",
            "_view_name": "VBoxView",
            "box_style": "",
            "children": [
              "IPY_MODEL_f1bd7df4e7e141d7b7f4acffdf60df12",
              "IPY_MODEL_674429732e3a45a2b6ad28c2544af5aa"
            ],
            "layout": "IPY_MODEL_a7bf797df2034015a5491789137f6612"
          }
        },
        "f1bd7df4e7e141d7b7f4acffdf60df12": {
          "model_module": "@jupyter-widgets/controls",
          "model_name": "LabelModel",
          "model_module_version": "1.5.0",
          "state": {
            "_dom_classes": [],
            "_model_module": "@jupyter-widgets/controls",
            "_model_module_version": "1.5.0",
            "_model_name": "LabelModel",
            "_view_count": null,
            "_view_module": "@jupyter-widgets/controls",
            "_view_module_version": "1.5.0",
            "_view_name": "LabelView",
            "description": "",
            "description_tooltip": null,
            "layout": "IPY_MODEL_e800098d5f204b1482d90fa1a7bedce7",
            "placeholder": "​",
            "style": "IPY_MODEL_8fae423beaa94271873660512f496de0",
            "value": "15.457 MB of 15.457 MB uploaded (0.000 MB deduped)\r"
          }
        },
        "674429732e3a45a2b6ad28c2544af5aa": {
          "model_module": "@jupyter-widgets/controls",
          "model_name": "FloatProgressModel",
          "model_module_version": "1.5.0",
          "state": {
            "_dom_classes": [],
            "_model_module": "@jupyter-widgets/controls",
            "_model_module_version": "1.5.0",
            "_model_name": "FloatProgressModel",
            "_view_count": null,
            "_view_module": "@jupyter-widgets/controls",
            "_view_module_version": "1.5.0",
            "_view_name": "ProgressView",
            "bar_style": "",
            "description": "",
            "description_tooltip": null,
            "layout": "IPY_MODEL_362c03fcd6154bcaa8b3b1a3f5232242",
            "max": 1,
            "min": 0,
            "orientation": "horizontal",
            "style": "IPY_MODEL_bd39694b43304be48799117098347821",
            "value": 1
          }
        },
        "a7bf797df2034015a5491789137f6612": {
          "model_module": "@jupyter-widgets/base",
          "model_name": "LayoutModel",
          "model_module_version": "1.2.0",
          "state": {
            "_model_module": "@jupyter-widgets/base",
            "_model_module_version": "1.2.0",
            "_model_name": "LayoutModel",
            "_view_count": null,
            "_view_module": "@jupyter-widgets/base",
            "_view_module_version": "1.2.0",
            "_view_name": "LayoutView",
            "align_content": null,
            "align_items": null,
            "align_self": null,
            "border": null,
            "bottom": null,
            "display": null,
            "flex": null,
            "flex_flow": null,
            "grid_area": null,
            "grid_auto_columns": null,
            "grid_auto_flow": null,
            "grid_auto_rows": null,
            "grid_column": null,
            "grid_gap": null,
            "grid_row": null,
            "grid_template_areas": null,
            "grid_template_columns": null,
            "grid_template_rows": null,
            "height": null,
            "justify_content": null,
            "justify_items": null,
            "left": null,
            "margin": null,
            "max_height": null,
            "max_width": null,
            "min_height": null,
            "min_width": null,
            "object_fit": null,
            "object_position": null,
            "order": null,
            "overflow": null,
            "overflow_x": null,
            "overflow_y": null,
            "padding": null,
            "right": null,
            "top": null,
            "visibility": null,
            "width": null
          }
        },
        "e800098d5f204b1482d90fa1a7bedce7": {
          "model_module": "@jupyter-widgets/base",
          "model_name": "LayoutModel",
          "model_module_version": "1.2.0",
          "state": {
            "_model_module": "@jupyter-widgets/base",
            "_model_module_version": "1.2.0",
            "_model_name": "LayoutModel",
            "_view_count": null,
            "_view_module": "@jupyter-widgets/base",
            "_view_module_version": "1.2.0",
            "_view_name": "LayoutView",
            "align_content": null,
            "align_items": null,
            "align_self": null,
            "border": null,
            "bottom": null,
            "display": null,
            "flex": null,
            "flex_flow": null,
            "grid_area": null,
            "grid_auto_columns": null,
            "grid_auto_flow": null,
            "grid_auto_rows": null,
            "grid_column": null,
            "grid_gap": null,
            "grid_row": null,
            "grid_template_areas": null,
            "grid_template_columns": null,
            "grid_template_rows": null,
            "height": null,
            "justify_content": null,
            "justify_items": null,
            "left": null,
            "margin": null,
            "max_height": null,
            "max_width": null,
            "min_height": null,
            "min_width": null,
            "object_fit": null,
            "object_position": null,
            "order": null,
            "overflow": null,
            "overflow_x": null,
            "overflow_y": null,
            "padding": null,
            "right": null,
            "top": null,
            "visibility": null,
            "width": null
          }
        },
        "8fae423beaa94271873660512f496de0": {
          "model_module": "@jupyter-widgets/controls",
          "model_name": "DescriptionStyleModel",
          "model_module_version": "1.5.0",
          "state": {
            "_model_module": "@jupyter-widgets/controls",
            "_model_module_version": "1.5.0",
            "_model_name": "DescriptionStyleModel",
            "_view_count": null,
            "_view_module": "@jupyter-widgets/base",
            "_view_module_version": "1.2.0",
            "_view_name": "StyleView",
            "description_width": ""
          }
        },
        "362c03fcd6154bcaa8b3b1a3f5232242": {
          "model_module": "@jupyter-widgets/base",
          "model_name": "LayoutModel",
          "model_module_version": "1.2.0",
          "state": {
            "_model_module": "@jupyter-widgets/base",
            "_model_module_version": "1.2.0",
            "_model_name": "LayoutModel",
            "_view_count": null,
            "_view_module": "@jupyter-widgets/base",
            "_view_module_version": "1.2.0",
            "_view_name": "LayoutView",
            "align_content": null,
            "align_items": null,
            "align_self": null,
            "border": null,
            "bottom": null,
            "display": null,
            "flex": null,
            "flex_flow": null,
            "grid_area": null,
            "grid_auto_columns": null,
            "grid_auto_flow": null,
            "grid_auto_rows": null,
            "grid_column": null,
            "grid_gap": null,
            "grid_row": null,
            "grid_template_areas": null,
            "grid_template_columns": null,
            "grid_template_rows": null,
            "height": null,
            "justify_content": null,
            "justify_items": null,
            "left": null,
            "margin": null,
            "max_height": null,
            "max_width": null,
            "min_height": null,
            "min_width": null,
            "object_fit": null,
            "object_position": null,
            "order": null,
            "overflow": null,
            "overflow_x": null,
            "overflow_y": null,
            "padding": null,
            "right": null,
            "top": null,
            "visibility": null,
            "width": null
          }
        },
        "bd39694b43304be48799117098347821": {
          "model_module": "@jupyter-widgets/controls",
          "model_name": "ProgressStyleModel",
          "model_module_version": "1.5.0",
          "state": {
            "_model_module": "@jupyter-widgets/controls",
            "_model_module_version": "1.5.0",
            "_model_name": "ProgressStyleModel",
            "_view_count": null,
            "_view_module": "@jupyter-widgets/base",
            "_view_module_version": "1.2.0",
            "_view_name": "StyleView",
            "bar_color": null,
            "description_width": ""
          }
        },
        "ae03acfe39384f2791e3dbad726a5987": {
          "model_module": "@jupyter-widgets/controls",
          "model_name": "VBoxModel",
          "model_module_version": "1.5.0",
          "state": {
            "_dom_classes": [],
            "_model_module": "@jupyter-widgets/controls",
            "_model_module_version": "1.5.0",
            "_model_name": "VBoxModel",
            "_view_count": null,
            "_view_module": "@jupyter-widgets/controls",
            "_view_module_version": "1.5.0",
            "_view_name": "VBoxView",
            "box_style": "",
            "children": [
              "IPY_MODEL_c772d5d7be7c4cb8a00bc0c2ed3c4b70",
              "IPY_MODEL_6e06365c7c9b48519f2305957e1a2a4b"
            ],
            "layout": "IPY_MODEL_a5b1b77e388f4e868d659f2e2191cbbf"
          }
        },
        "c772d5d7be7c4cb8a00bc0c2ed3c4b70": {
          "model_module": "@jupyter-widgets/controls",
          "model_name": "LabelModel",
          "model_module_version": "1.5.0",
          "state": {
            "_dom_classes": [],
            "_model_module": "@jupyter-widgets/controls",
            "_model_module_version": "1.5.0",
            "_model_name": "LabelModel",
            "_view_count": null,
            "_view_module": "@jupyter-widgets/controls",
            "_view_module_version": "1.5.0",
            "_view_name": "LabelView",
            "description": "",
            "description_tooltip": null,
            "layout": "IPY_MODEL_d54fed6257694317bfb6cce20ae3a4cb",
            "placeholder": "​",
            "style": "IPY_MODEL_e9d764873d354d46953a8faaccbc7244",
            "value": "15.457 MB of 15.457 MB uploaded (0.000 MB deduped)\r"
          }
        },
        "6e06365c7c9b48519f2305957e1a2a4b": {
          "model_module": "@jupyter-widgets/controls",
          "model_name": "FloatProgressModel",
          "model_module_version": "1.5.0",
          "state": {
            "_dom_classes": [],
            "_model_module": "@jupyter-widgets/controls",
            "_model_module_version": "1.5.0",
            "_model_name": "FloatProgressModel",
            "_view_count": null,
            "_view_module": "@jupyter-widgets/controls",
            "_view_module_version": "1.5.0",
            "_view_name": "ProgressView",
            "bar_style": "",
            "description": "",
            "description_tooltip": null,
            "layout": "IPY_MODEL_98305d749248460f96d73e5115c1a538",
            "max": 1,
            "min": 0,
            "orientation": "horizontal",
            "style": "IPY_MODEL_dc2323c5d80a46c5abe6122237381144",
            "value": 1
          }
        },
        "a5b1b77e388f4e868d659f2e2191cbbf": {
          "model_module": "@jupyter-widgets/base",
          "model_name": "LayoutModel",
          "model_module_version": "1.2.0",
          "state": {
            "_model_module": "@jupyter-widgets/base",
            "_model_module_version": "1.2.0",
            "_model_name": "LayoutModel",
            "_view_count": null,
            "_view_module": "@jupyter-widgets/base",
            "_view_module_version": "1.2.0",
            "_view_name": "LayoutView",
            "align_content": null,
            "align_items": null,
            "align_self": null,
            "border": null,
            "bottom": null,
            "display": null,
            "flex": null,
            "flex_flow": null,
            "grid_area": null,
            "grid_auto_columns": null,
            "grid_auto_flow": null,
            "grid_auto_rows": null,
            "grid_column": null,
            "grid_gap": null,
            "grid_row": null,
            "grid_template_areas": null,
            "grid_template_columns": null,
            "grid_template_rows": null,
            "height": null,
            "justify_content": null,
            "justify_items": null,
            "left": null,
            "margin": null,
            "max_height": null,
            "max_width": null,
            "min_height": null,
            "min_width": null,
            "object_fit": null,
            "object_position": null,
            "order": null,
            "overflow": null,
            "overflow_x": null,
            "overflow_y": null,
            "padding": null,
            "right": null,
            "top": null,
            "visibility": null,
            "width": null
          }
        },
        "d54fed6257694317bfb6cce20ae3a4cb": {
          "model_module": "@jupyter-widgets/base",
          "model_name": "LayoutModel",
          "model_module_version": "1.2.0",
          "state": {
            "_model_module": "@jupyter-widgets/base",
            "_model_module_version": "1.2.0",
            "_model_name": "LayoutModel",
            "_view_count": null,
            "_view_module": "@jupyter-widgets/base",
            "_view_module_version": "1.2.0",
            "_view_name": "LayoutView",
            "align_content": null,
            "align_items": null,
            "align_self": null,
            "border": null,
            "bottom": null,
            "display": null,
            "flex": null,
            "flex_flow": null,
            "grid_area": null,
            "grid_auto_columns": null,
            "grid_auto_flow": null,
            "grid_auto_rows": null,
            "grid_column": null,
            "grid_gap": null,
            "grid_row": null,
            "grid_template_areas": null,
            "grid_template_columns": null,
            "grid_template_rows": null,
            "height": null,
            "justify_content": null,
            "justify_items": null,
            "left": null,
            "margin": null,
            "max_height": null,
            "max_width": null,
            "min_height": null,
            "min_width": null,
            "object_fit": null,
            "object_position": null,
            "order": null,
            "overflow": null,
            "overflow_x": null,
            "overflow_y": null,
            "padding": null,
            "right": null,
            "top": null,
            "visibility": null,
            "width": null
          }
        },
        "e9d764873d354d46953a8faaccbc7244": {
          "model_module": "@jupyter-widgets/controls",
          "model_name": "DescriptionStyleModel",
          "model_module_version": "1.5.0",
          "state": {
            "_model_module": "@jupyter-widgets/controls",
            "_model_module_version": "1.5.0",
            "_model_name": "DescriptionStyleModel",
            "_view_count": null,
            "_view_module": "@jupyter-widgets/base",
            "_view_module_version": "1.2.0",
            "_view_name": "StyleView",
            "description_width": ""
          }
        },
        "98305d749248460f96d73e5115c1a538": {
          "model_module": "@jupyter-widgets/base",
          "model_name": "LayoutModel",
          "model_module_version": "1.2.0",
          "state": {
            "_model_module": "@jupyter-widgets/base",
            "_model_module_version": "1.2.0",
            "_model_name": "LayoutModel",
            "_view_count": null,
            "_view_module": "@jupyter-widgets/base",
            "_view_module_version": "1.2.0",
            "_view_name": "LayoutView",
            "align_content": null,
            "align_items": null,
            "align_self": null,
            "border": null,
            "bottom": null,
            "display": null,
            "flex": null,
            "flex_flow": null,
            "grid_area": null,
            "grid_auto_columns": null,
            "grid_auto_flow": null,
            "grid_auto_rows": null,
            "grid_column": null,
            "grid_gap": null,
            "grid_row": null,
            "grid_template_areas": null,
            "grid_template_columns": null,
            "grid_template_rows": null,
            "height": null,
            "justify_content": null,
            "justify_items": null,
            "left": null,
            "margin": null,
            "max_height": null,
            "max_width": null,
            "min_height": null,
            "min_width": null,
            "object_fit": null,
            "object_position": null,
            "order": null,
            "overflow": null,
            "overflow_x": null,
            "overflow_y": null,
            "padding": null,
            "right": null,
            "top": null,
            "visibility": null,
            "width": null
          }
        },
        "dc2323c5d80a46c5abe6122237381144": {
          "model_module": "@jupyter-widgets/controls",
          "model_name": "ProgressStyleModel",
          "model_module_version": "1.5.0",
          "state": {
            "_model_module": "@jupyter-widgets/controls",
            "_model_module_version": "1.5.0",
            "_model_name": "ProgressStyleModel",
            "_view_count": null,
            "_view_module": "@jupyter-widgets/base",
            "_view_module_version": "1.2.0",
            "_view_name": "StyleView",
            "bar_color": null,
            "description_width": ""
          }
        },
        "ae8c5c9f2e60409a9864cf05e61b761d": {
          "model_module": "@jupyter-widgets/controls",
          "model_name": "VBoxModel",
          "model_module_version": "1.5.0",
          "state": {
            "_dom_classes": [],
            "_model_module": "@jupyter-widgets/controls",
            "_model_module_version": "1.5.0",
            "_model_name": "VBoxModel",
            "_view_count": null,
            "_view_module": "@jupyter-widgets/controls",
            "_view_module_version": "1.5.0",
            "_view_name": "VBoxView",
            "box_style": "",
            "children": [
              "IPY_MODEL_9226c52169834885a30ea8ed3445bd6c",
              "IPY_MODEL_3998749db59341479cc51b93a1ddf9ae"
            ],
            "layout": "IPY_MODEL_1c481f08e12f416b83c6d0d2bd6ccb11"
          }
        },
        "9226c52169834885a30ea8ed3445bd6c": {
          "model_module": "@jupyter-widgets/controls",
          "model_name": "LabelModel",
          "model_module_version": "1.5.0",
          "state": {
            "_dom_classes": [],
            "_model_module": "@jupyter-widgets/controls",
            "_model_module_version": "1.5.0",
            "_model_name": "LabelModel",
            "_view_count": null,
            "_view_module": "@jupyter-widgets/controls",
            "_view_module_version": "1.5.0",
            "_view_name": "LabelView",
            "description": "",
            "description_tooltip": null,
            "layout": "IPY_MODEL_a8c8381c061246b2b1a703e672d159e8",
            "placeholder": "​",
            "style": "IPY_MODEL_62c70d27fbdf494b80ba7119b34e2f15",
            "value": "15.460 MB of 15.460 MB uploaded (0.000 MB deduped)\r"
          }
        },
        "3998749db59341479cc51b93a1ddf9ae": {
          "model_module": "@jupyter-widgets/controls",
          "model_name": "FloatProgressModel",
          "model_module_version": "1.5.0",
          "state": {
            "_dom_classes": [],
            "_model_module": "@jupyter-widgets/controls",
            "_model_module_version": "1.5.0",
            "_model_name": "FloatProgressModel",
            "_view_count": null,
            "_view_module": "@jupyter-widgets/controls",
            "_view_module_version": "1.5.0",
            "_view_name": "ProgressView",
            "bar_style": "",
            "description": "",
            "description_tooltip": null,
            "layout": "IPY_MODEL_8cd1b08d8b9a43f484aebf3e419ec394",
            "max": 1,
            "min": 0,
            "orientation": "horizontal",
            "style": "IPY_MODEL_8a5b0b07c766465d88c9a993d0fdbb62",
            "value": 1
          }
        },
        "1c481f08e12f416b83c6d0d2bd6ccb11": {
          "model_module": "@jupyter-widgets/base",
          "model_name": "LayoutModel",
          "model_module_version": "1.2.0",
          "state": {
            "_model_module": "@jupyter-widgets/base",
            "_model_module_version": "1.2.0",
            "_model_name": "LayoutModel",
            "_view_count": null,
            "_view_module": "@jupyter-widgets/base",
            "_view_module_version": "1.2.0",
            "_view_name": "LayoutView",
            "align_content": null,
            "align_items": null,
            "align_self": null,
            "border": null,
            "bottom": null,
            "display": null,
            "flex": null,
            "flex_flow": null,
            "grid_area": null,
            "grid_auto_columns": null,
            "grid_auto_flow": null,
            "grid_auto_rows": null,
            "grid_column": null,
            "grid_gap": null,
            "grid_row": null,
            "grid_template_areas": null,
            "grid_template_columns": null,
            "grid_template_rows": null,
            "height": null,
            "justify_content": null,
            "justify_items": null,
            "left": null,
            "margin": null,
            "max_height": null,
            "max_width": null,
            "min_height": null,
            "min_width": null,
            "object_fit": null,
            "object_position": null,
            "order": null,
            "overflow": null,
            "overflow_x": null,
            "overflow_y": null,
            "padding": null,
            "right": null,
            "top": null,
            "visibility": null,
            "width": null
          }
        },
        "a8c8381c061246b2b1a703e672d159e8": {
          "model_module": "@jupyter-widgets/base",
          "model_name": "LayoutModel",
          "model_module_version": "1.2.0",
          "state": {
            "_model_module": "@jupyter-widgets/base",
            "_model_module_version": "1.2.0",
            "_model_name": "LayoutModel",
            "_view_count": null,
            "_view_module": "@jupyter-widgets/base",
            "_view_module_version": "1.2.0",
            "_view_name": "LayoutView",
            "align_content": null,
            "align_items": null,
            "align_self": null,
            "border": null,
            "bottom": null,
            "display": null,
            "flex": null,
            "flex_flow": null,
            "grid_area": null,
            "grid_auto_columns": null,
            "grid_auto_flow": null,
            "grid_auto_rows": null,
            "grid_column": null,
            "grid_gap": null,
            "grid_row": null,
            "grid_template_areas": null,
            "grid_template_columns": null,
            "grid_template_rows": null,
            "height": null,
            "justify_content": null,
            "justify_items": null,
            "left": null,
            "margin": null,
            "max_height": null,
            "max_width": null,
            "min_height": null,
            "min_width": null,
            "object_fit": null,
            "object_position": null,
            "order": null,
            "overflow": null,
            "overflow_x": null,
            "overflow_y": null,
            "padding": null,
            "right": null,
            "top": null,
            "visibility": null,
            "width": null
          }
        },
        "62c70d27fbdf494b80ba7119b34e2f15": {
          "model_module": "@jupyter-widgets/controls",
          "model_name": "DescriptionStyleModel",
          "model_module_version": "1.5.0",
          "state": {
            "_model_module": "@jupyter-widgets/controls",
            "_model_module_version": "1.5.0",
            "_model_name": "DescriptionStyleModel",
            "_view_count": null,
            "_view_module": "@jupyter-widgets/base",
            "_view_module_version": "1.2.0",
            "_view_name": "StyleView",
            "description_width": ""
          }
        },
        "8cd1b08d8b9a43f484aebf3e419ec394": {
          "model_module": "@jupyter-widgets/base",
          "model_name": "LayoutModel",
          "model_module_version": "1.2.0",
          "state": {
            "_model_module": "@jupyter-widgets/base",
            "_model_module_version": "1.2.0",
            "_model_name": "LayoutModel",
            "_view_count": null,
            "_view_module": "@jupyter-widgets/base",
            "_view_module_version": "1.2.0",
            "_view_name": "LayoutView",
            "align_content": null,
            "align_items": null,
            "align_self": null,
            "border": null,
            "bottom": null,
            "display": null,
            "flex": null,
            "flex_flow": null,
            "grid_area": null,
            "grid_auto_columns": null,
            "grid_auto_flow": null,
            "grid_auto_rows": null,
            "grid_column": null,
            "grid_gap": null,
            "grid_row": null,
            "grid_template_areas": null,
            "grid_template_columns": null,
            "grid_template_rows": null,
            "height": null,
            "justify_content": null,
            "justify_items": null,
            "left": null,
            "margin": null,
            "max_height": null,
            "max_width": null,
            "min_height": null,
            "min_width": null,
            "object_fit": null,
            "object_position": null,
            "order": null,
            "overflow": null,
            "overflow_x": null,
            "overflow_y": null,
            "padding": null,
            "right": null,
            "top": null,
            "visibility": null,
            "width": null
          }
        },
        "8a5b0b07c766465d88c9a993d0fdbb62": {
          "model_module": "@jupyter-widgets/controls",
          "model_name": "ProgressStyleModel",
          "model_module_version": "1.5.0",
          "state": {
            "_model_module": "@jupyter-widgets/controls",
            "_model_module_version": "1.5.0",
            "_model_name": "ProgressStyleModel",
            "_view_count": null,
            "_view_module": "@jupyter-widgets/base",
            "_view_module_version": "1.2.0",
            "_view_name": "StyleView",
            "bar_color": null,
            "description_width": ""
          }
        },
        "75461707c3ef4aaf9105b1edfab079eb": {
          "model_module": "@jupyter-widgets/controls",
          "model_name": "VBoxModel",
          "model_module_version": "1.5.0",
          "state": {
            "_dom_classes": [],
            "_model_module": "@jupyter-widgets/controls",
            "_model_module_version": "1.5.0",
            "_model_name": "VBoxModel",
            "_view_count": null,
            "_view_module": "@jupyter-widgets/controls",
            "_view_module_version": "1.5.0",
            "_view_name": "VBoxView",
            "box_style": "",
            "children": [
              "IPY_MODEL_26abd91b2da94a4895926540814a290c",
              "IPY_MODEL_6dee4396f7db40518ee869e9884d1151"
            ],
            "layout": "IPY_MODEL_f8214679c2c247ae916af9b53d93e1d6"
          }
        },
        "26abd91b2da94a4895926540814a290c": {
          "model_module": "@jupyter-widgets/controls",
          "model_name": "LabelModel",
          "model_module_version": "1.5.0",
          "state": {
            "_dom_classes": [],
            "_model_module": "@jupyter-widgets/controls",
            "_model_module_version": "1.5.0",
            "_model_name": "LabelModel",
            "_view_count": null,
            "_view_module": "@jupyter-widgets/controls",
            "_view_module_version": "1.5.0",
            "_view_name": "LabelView",
            "description": "",
            "description_tooltip": null,
            "layout": "IPY_MODEL_e6b4a50f11c14370b6c03c05c3a8bc07",
            "placeholder": "​",
            "style": "IPY_MODEL_8d4ba3c90b1d4d3ea1007b209d2bb253",
            "value": "15.460 MB of 15.460 MB uploaded (0.000 MB deduped)\r"
          }
        },
        "6dee4396f7db40518ee869e9884d1151": {
          "model_module": "@jupyter-widgets/controls",
          "model_name": "FloatProgressModel",
          "model_module_version": "1.5.0",
          "state": {
            "_dom_classes": [],
            "_model_module": "@jupyter-widgets/controls",
            "_model_module_version": "1.5.0",
            "_model_name": "FloatProgressModel",
            "_view_count": null,
            "_view_module": "@jupyter-widgets/controls",
            "_view_module_version": "1.5.0",
            "_view_name": "ProgressView",
            "bar_style": "",
            "description": "",
            "description_tooltip": null,
            "layout": "IPY_MODEL_4a46fcc283ee41869aa21f4315d51406",
            "max": 1,
            "min": 0,
            "orientation": "horizontal",
            "style": "IPY_MODEL_96630e480dc94f13955933e76f7a96e3",
            "value": 1
          }
        },
        "f8214679c2c247ae916af9b53d93e1d6": {
          "model_module": "@jupyter-widgets/base",
          "model_name": "LayoutModel",
          "model_module_version": "1.2.0",
          "state": {
            "_model_module": "@jupyter-widgets/base",
            "_model_module_version": "1.2.0",
            "_model_name": "LayoutModel",
            "_view_count": null,
            "_view_module": "@jupyter-widgets/base",
            "_view_module_version": "1.2.0",
            "_view_name": "LayoutView",
            "align_content": null,
            "align_items": null,
            "align_self": null,
            "border": null,
            "bottom": null,
            "display": null,
            "flex": null,
            "flex_flow": null,
            "grid_area": null,
            "grid_auto_columns": null,
            "grid_auto_flow": null,
            "grid_auto_rows": null,
            "grid_column": null,
            "grid_gap": null,
            "grid_row": null,
            "grid_template_areas": null,
            "grid_template_columns": null,
            "grid_template_rows": null,
            "height": null,
            "justify_content": null,
            "justify_items": null,
            "left": null,
            "margin": null,
            "max_height": null,
            "max_width": null,
            "min_height": null,
            "min_width": null,
            "object_fit": null,
            "object_position": null,
            "order": null,
            "overflow": null,
            "overflow_x": null,
            "overflow_y": null,
            "padding": null,
            "right": null,
            "top": null,
            "visibility": null,
            "width": null
          }
        },
        "e6b4a50f11c14370b6c03c05c3a8bc07": {
          "model_module": "@jupyter-widgets/base",
          "model_name": "LayoutModel",
          "model_module_version": "1.2.0",
          "state": {
            "_model_module": "@jupyter-widgets/base",
            "_model_module_version": "1.2.0",
            "_model_name": "LayoutModel",
            "_view_count": null,
            "_view_module": "@jupyter-widgets/base",
            "_view_module_version": "1.2.0",
            "_view_name": "LayoutView",
            "align_content": null,
            "align_items": null,
            "align_self": null,
            "border": null,
            "bottom": null,
            "display": null,
            "flex": null,
            "flex_flow": null,
            "grid_area": null,
            "grid_auto_columns": null,
            "grid_auto_flow": null,
            "grid_auto_rows": null,
            "grid_column": null,
            "grid_gap": null,
            "grid_row": null,
            "grid_template_areas": null,
            "grid_template_columns": null,
            "grid_template_rows": null,
            "height": null,
            "justify_content": null,
            "justify_items": null,
            "left": null,
            "margin": null,
            "max_height": null,
            "max_width": null,
            "min_height": null,
            "min_width": null,
            "object_fit": null,
            "object_position": null,
            "order": null,
            "overflow": null,
            "overflow_x": null,
            "overflow_y": null,
            "padding": null,
            "right": null,
            "top": null,
            "visibility": null,
            "width": null
          }
        },
        "8d4ba3c90b1d4d3ea1007b209d2bb253": {
          "model_module": "@jupyter-widgets/controls",
          "model_name": "DescriptionStyleModel",
          "model_module_version": "1.5.0",
          "state": {
            "_model_module": "@jupyter-widgets/controls",
            "_model_module_version": "1.5.0",
            "_model_name": "DescriptionStyleModel",
            "_view_count": null,
            "_view_module": "@jupyter-widgets/base",
            "_view_module_version": "1.2.0",
            "_view_name": "StyleView",
            "description_width": ""
          }
        },
        "4a46fcc283ee41869aa21f4315d51406": {
          "model_module": "@jupyter-widgets/base",
          "model_name": "LayoutModel",
          "model_module_version": "1.2.0",
          "state": {
            "_model_module": "@jupyter-widgets/base",
            "_model_module_version": "1.2.0",
            "_model_name": "LayoutModel",
            "_view_count": null,
            "_view_module": "@jupyter-widgets/base",
            "_view_module_version": "1.2.0",
            "_view_name": "LayoutView",
            "align_content": null,
            "align_items": null,
            "align_self": null,
            "border": null,
            "bottom": null,
            "display": null,
            "flex": null,
            "flex_flow": null,
            "grid_area": null,
            "grid_auto_columns": null,
            "grid_auto_flow": null,
            "grid_auto_rows": null,
            "grid_column": null,
            "grid_gap": null,
            "grid_row": null,
            "grid_template_areas": null,
            "grid_template_columns": null,
            "grid_template_rows": null,
            "height": null,
            "justify_content": null,
            "justify_items": null,
            "left": null,
            "margin": null,
            "max_height": null,
            "max_width": null,
            "min_height": null,
            "min_width": null,
            "object_fit": null,
            "object_position": null,
            "order": null,
            "overflow": null,
            "overflow_x": null,
            "overflow_y": null,
            "padding": null,
            "right": null,
            "top": null,
            "visibility": null,
            "width": null
          }
        },
        "96630e480dc94f13955933e76f7a96e3": {
          "model_module": "@jupyter-widgets/controls",
          "model_name": "ProgressStyleModel",
          "model_module_version": "1.5.0",
          "state": {
            "_model_module": "@jupyter-widgets/controls",
            "_model_module_version": "1.5.0",
            "_model_name": "ProgressStyleModel",
            "_view_count": null,
            "_view_module": "@jupyter-widgets/base",
            "_view_module_version": "1.2.0",
            "_view_name": "StyleView",
            "bar_color": null,
            "description_width": ""
          }
        }
      }
    }
  },
  "nbformat": 4,
  "nbformat_minor": 0
}