{
  "nbformat": 4,
  "nbformat_minor": 0,
  "metadata": {
    "colab": {
      "name": "Part_C.ipynb",
      "provenance": [],
      "authorship_tag": "ABX9TyPoH2vpgHoX5qD9hGncgJVs",
      "include_colab_link": true
    },
    "kernelspec": {
      "name": "python3",
      "display_name": "Python 3"
    },
    "language_info": {
      "name": "python"
    },
    "accelerator": "GPU"
  },
  "cells": [
    {
      "cell_type": "markdown",
      "metadata": {
        "id": "view-in-github",
        "colab_type": "text"
      },
      "source": [
        "<a href=\"https://colab.research.google.com/github/akshaygrao77/DeepLearning-Assignment2/blob/main/Part_C.ipynb\" target=\"_parent\"><img src=\"https://colab.research.google.com/assets/colab-badge.svg\" alt=\"Open In Colab\"/></a>"
      ]
    },
    {
      "cell_type": "code",
      "execution_count": 1,
      "metadata": {
        "id": "MytZi6dAKi9U"
      },
      "outputs": [],
      "source": [
        "import cv2\n",
        "import numpy as np \n",
        "import argparse\n",
        "import time\n",
        "import imutils\n",
        "import os"
      ]
    },
    {
      "cell_type": "code",
      "source": [
        "!pip install pytube"
      ],
      "metadata": {
        "colab": {
          "base_uri": "https://localhost:8080/"
        },
        "id": "ojBK6VLjD1i8",
        "outputId": "10bb79ee-d51e-47e4-c507-8a3d8493886f"
      },
      "execution_count": 2,
      "outputs": [
        {
          "output_type": "stream",
          "name": "stdout",
          "text": [
            "Collecting pytube\n",
            "  Downloading pytube-12.0.0-py3-none-any.whl (56 kB)\n",
            "\u001b[?25l\r\u001b[K     |█████▉                          | 10 kB 7.8 MB/s eta 0:00:01\r\u001b[K     |███████████▋                    | 20 kB 6.6 MB/s eta 0:00:01\r\u001b[K     |█████████████████▍              | 30 kB 6.6 MB/s eta 0:00:01\r\u001b[K     |███████████████████████▏        | 40 kB 6.5 MB/s eta 0:00:01\r\u001b[K     |█████████████████████████████   | 51 kB 5.2 MB/s eta 0:00:01\r\u001b[K     |████████████████████████████████| 56 kB 537 kB/s \n",
            "\u001b[?25hInstalling collected packages: pytube\n",
            "Successfully installed pytube-12.0.0\n"
          ]
        }
      ]
    },
    {
      "cell_type": "code",
      "source": [
        "from google.colab.patches import cv2_imshow\n",
        "from pytube import YouTube"
      ],
      "metadata": {
        "id": "Hm0YGf1Pm-dO"
      },
      "execution_count": 3,
      "outputs": []
    },
    {
      "cell_type": "code",
      "source": [
        "#Mount google drive\n",
        "from google.colab import drive\n",
        "drive.mount('/content/drive')"
      ],
      "metadata": {
        "colab": {
          "base_uri": "https://localhost:8080/"
        },
        "id": "ZdJCN6GiWfds",
        "outputId": "fc770e9e-f5e0-4386-a0e0-ef311b8cc27c"
      },
      "execution_count": 4,
      "outputs": [
        {
          "output_type": "stream",
          "name": "stdout",
          "text": [
            "Mounted at /content/drive\n"
          ]
        }
      ]
    },
    {
      "cell_type": "code",
      "source": [
        "from pytube import YouTube\n",
        "video = YouTube(\"https://www.youtube.com/watch?v=91VRyTvjoX4\") #insert your video url"
      ],
      "metadata": {
        "id": "oQE55VyXD7u0"
      },
      "execution_count": 5,
      "outputs": []
    },
    {
      "cell_type": "code",
      "source": [
        "video.streams.all() #show all available formats"
      ],
      "metadata": {
        "colab": {
          "base_uri": "https://localhost:8080/"
        },
        "id": "PjDTf26WEBtV",
        "outputId": "4879bc7d-fbbd-4126-970e-42d011b02a9f"
      },
      "execution_count": 6,
      "outputs": [
        {
          "output_type": "stream",
          "name": "stderr",
          "text": [
            "/usr/local/lib/python3.7/dist-packages/ipykernel_launcher.py:1: DeprecationWarning: Call to deprecated function all (This object can be treated as a list, all() is useless).\n",
            "  \"\"\"Entry point for launching an IPython kernel.\n"
          ]
        },
        {
          "output_type": "execute_result",
          "data": {
            "text/plain": [
              "[<Stream: itag=\"17\" mime_type=\"video/3gpp\" res=\"144p\" fps=\"12fps\" vcodec=\"mp4v.20.3\" acodec=\"mp4a.40.2\" progressive=\"True\" type=\"video\">,\n",
              " <Stream: itag=\"18\" mime_type=\"video/mp4\" res=\"360p\" fps=\"24fps\" vcodec=\"avc1.42001E\" acodec=\"mp4a.40.2\" progressive=\"True\" type=\"video\">,\n",
              " <Stream: itag=\"22\" mime_type=\"video/mp4\" res=\"720p\" fps=\"24fps\" vcodec=\"avc1.64001F\" acodec=\"mp4a.40.2\" progressive=\"True\" type=\"video\">,\n",
              " <Stream: itag=\"137\" mime_type=\"video/mp4\" res=\"1080p\" fps=\"24fps\" vcodec=\"avc1.640028\" progressive=\"False\" type=\"video\">,\n",
              " <Stream: itag=\"248\" mime_type=\"video/webm\" res=\"1080p\" fps=\"24fps\" vcodec=\"vp9\" progressive=\"False\" type=\"video\">,\n",
              " <Stream: itag=\"399\" mime_type=\"video/mp4\" res=\"1080p\" fps=\"24fps\" vcodec=\"av01.0.08M.08\" progressive=\"False\" type=\"video\">,\n",
              " <Stream: itag=\"136\" mime_type=\"video/mp4\" res=\"720p\" fps=\"24fps\" vcodec=\"avc1.4d401f\" progressive=\"False\" type=\"video\">,\n",
              " <Stream: itag=\"247\" mime_type=\"video/webm\" res=\"720p\" fps=\"24fps\" vcodec=\"vp9\" progressive=\"False\" type=\"video\">,\n",
              " <Stream: itag=\"398\" mime_type=\"video/mp4\" res=\"720p\" fps=\"24fps\" vcodec=\"av01.0.05M.08\" progressive=\"False\" type=\"video\">,\n",
              " <Stream: itag=\"135\" mime_type=\"video/mp4\" res=\"480p\" fps=\"24fps\" vcodec=\"avc1.4d401e\" progressive=\"False\" type=\"video\">,\n",
              " <Stream: itag=\"244\" mime_type=\"video/webm\" res=\"480p\" fps=\"24fps\" vcodec=\"vp9\" progressive=\"False\" type=\"video\">,\n",
              " <Stream: itag=\"397\" mime_type=\"video/mp4\" res=\"480p\" fps=\"24fps\" vcodec=\"av01.0.04M.08\" progressive=\"False\" type=\"video\">,\n",
              " <Stream: itag=\"134\" mime_type=\"video/mp4\" res=\"360p\" fps=\"24fps\" vcodec=\"avc1.4d401e\" progressive=\"False\" type=\"video\">,\n",
              " <Stream: itag=\"243\" mime_type=\"video/webm\" res=\"360p\" fps=\"24fps\" vcodec=\"vp9\" progressive=\"False\" type=\"video\">,\n",
              " <Stream: itag=\"396\" mime_type=\"video/mp4\" res=\"360p\" fps=\"24fps\" vcodec=\"av01.0.01M.08\" progressive=\"False\" type=\"video\">,\n",
              " <Stream: itag=\"133\" mime_type=\"video/mp4\" res=\"240p\" fps=\"24fps\" vcodec=\"avc1.4d4015\" progressive=\"False\" type=\"video\">,\n",
              " <Stream: itag=\"242\" mime_type=\"video/webm\" res=\"240p\" fps=\"24fps\" vcodec=\"vp9\" progressive=\"False\" type=\"video\">,\n",
              " <Stream: itag=\"395\" mime_type=\"video/mp4\" res=\"240p\" fps=\"24fps\" vcodec=\"av01.0.00M.08\" progressive=\"False\" type=\"video\">,\n",
              " <Stream: itag=\"160\" mime_type=\"video/mp4\" res=\"144p\" fps=\"24fps\" vcodec=\"avc1.4d400c\" progressive=\"False\" type=\"video\">,\n",
              " <Stream: itag=\"278\" mime_type=\"video/webm\" res=\"144p\" fps=\"24fps\" vcodec=\"vp9\" progressive=\"False\" type=\"video\">,\n",
              " <Stream: itag=\"394\" mime_type=\"video/mp4\" res=\"144p\" fps=\"24fps\" vcodec=\"av01.0.00M.08\" progressive=\"False\" type=\"video\">,\n",
              " <Stream: itag=\"139\" mime_type=\"audio/mp4\" abr=\"48kbps\" acodec=\"mp4a.40.5\" progressive=\"False\" type=\"audio\">,\n",
              " <Stream: itag=\"140\" mime_type=\"audio/mp4\" abr=\"128kbps\" acodec=\"mp4a.40.2\" progressive=\"False\" type=\"audio\">,\n",
              " <Stream: itag=\"249\" mime_type=\"audio/webm\" abr=\"50kbps\" acodec=\"opus\" progressive=\"False\" type=\"audio\">,\n",
              " <Stream: itag=\"250\" mime_type=\"audio/webm\" abr=\"70kbps\" acodec=\"opus\" progressive=\"False\" type=\"audio\">,\n",
              " <Stream: itag=\"251\" mime_type=\"audio/webm\" abr=\"160kbps\" acodec=\"opus\" progressive=\"False\" type=\"audio\">]"
            ]
          },
          "metadata": {},
          "execution_count": 6
        }
      ]
    },
    {
      "cell_type": "code",
      "source": [
        "download = video.streams.filter(res=\"1080p\") #download specific resolution\n",
        "download"
      ],
      "metadata": {
        "colab": {
          "base_uri": "https://localhost:8080/"
        },
        "id": "kRIxXe3yEax2",
        "outputId": "917f2535-fc4f-48ab-9660-de393a2c0f09"
      },
      "execution_count": 7,
      "outputs": [
        {
          "output_type": "execute_result",
          "data": {
            "text/plain": [
              "[<Stream: itag=\"137\" mime_type=\"video/mp4\" res=\"1080p\" fps=\"24fps\" vcodec=\"avc1.640028\" progressive=\"False\" type=\"video\">, <Stream: itag=\"248\" mime_type=\"video/webm\" res=\"1080p\" fps=\"24fps\" vcodec=\"vp9\" progressive=\"False\" type=\"video\">, <Stream: itag=\"399\" mime_type=\"video/mp4\" res=\"1080p\" fps=\"24fps\" vcodec=\"av01.0.08M.08\" progressive=\"False\" type=\"video\">]"
            ]
          },
          "metadata": {},
          "execution_count": 7
        }
      ]
    },
    {
      "cell_type": "code",
      "source": [
        "download.first().download()"
      ],
      "metadata": {
        "colab": {
          "base_uri": "https://localhost:8080/",
          "height": 35
        },
        "id": "re_KVBvZEcwE",
        "outputId": "0d3411b2-f4fc-4f9d-9b53-6927a7e48ad6"
      },
      "execution_count": 8,
      "outputs": [
        {
          "output_type": "execute_result",
          "data": {
            "text/plain": [
              "'/content/Selena Gomez - De Una Vez (Official Video).mp4'"
            ],
            "application/vnd.google.colaboratory.intrinsic+json": {
              "type": "string"
            }
          },
          "metadata": {},
          "execution_count": 8
        }
      ]
    },
    {
      "cell_type": "code",
      "source": [
        "ROOT_DIR = os.getcwd()"
      ],
      "metadata": {
        "id": "-l5xm894AhbT"
      },
      "execution_count": 9,
      "outputs": []
    },
    {
      "cell_type": "code",
      "source": [
        "\n",
        "#Load yolo\n",
        "def load_yolo():\n",
        "\tnet = cv2.dnn.readNet(\"drive/MyDrive/DL-assignment2/yolov3-spp.weights\", \"drive/MyDrive/DL-assignment2/yolov3-spp.cfg\")\n",
        "\tclasses = []\n",
        "\twith open(\"drive/MyDrive/DL-assignment2/coco.names\", \"r\") as f:\n",
        "\t\tclasses = [line.strip() for line in f.readlines()] \n",
        "\t\n",
        "\toutput_layers = [layer_name for layer_name in net.getUnconnectedOutLayersNames()]\n",
        "\tcolors = np.random.uniform(0, 255, size=(len(classes), 3))\n",
        "\treturn net, classes, colors, output_layers\n",
        "\n",
        "def load_image(img_path):\n",
        "\t# image loading\n",
        "\timg = cv2.imread(img_path)\n",
        "\timg = cv2.resize(img, None, fx=0.4, fy=0.4)\n",
        "\theight, width, channels = img.shape\n",
        "\treturn img, height, width, channels\n",
        "\n",
        "\n",
        "def display_blob(blob):\n",
        "\t'''\n",
        "\t\tThree images each for RED, GREEN, BLUE channel\n",
        "\t'''\n",
        "\tfor b in blob:\n",
        "\t\tfor n, imgb in enumerate(b):\n",
        "\t\t\tcv2.imshow(str(n), imgb)\n",
        "\n",
        "def detect_objects(img, net, outputLayers):\t\t\t\n",
        "\tblob = cv2.dnn.blobFromImage(img, scalefactor=0.00392, size=(320, 320), mean=(0, 0, 0), swapRB=True, crop=False)\n",
        "\tnet.setInput(blob)\n",
        "\toutputs = net.forward(outputLayers)\n",
        "\treturn blob, outputs\n",
        "\n",
        "def get_box_dimensions(outputs, height, width):\n",
        "\tboxes = []\n",
        "\tconfs = []\n",
        "\tclass_ids = []\n",
        "\tfor output in outputs:\n",
        "\t\tfor detect in output:\n",
        "\t\t\tscores = detect[5:]\n",
        "\t\t\tclass_id = np.argmax(scores)\n",
        "\t\t\tconf = scores[class_id]\n",
        "\t\t\tif conf > 0.3:\n",
        "\t\t\t\tcenter_x = int(detect[0] * width)\n",
        "\t\t\t\tcenter_y = int(detect[1] * height)\n",
        "\t\t\t\tw = int(detect[2] * width)\n",
        "\t\t\t\th = int(detect[3] * height)\n",
        "\t\t\t\tx = int(center_x - w/2)\n",
        "\t\t\t\ty = int(center_y - h / 2)\n",
        "\t\t\t\tboxes.append([x, y, w, h])\n",
        "\t\t\t\tconfs.append(float(conf))\n",
        "\t\t\t\tclass_ids.append(class_id)\n",
        "\treturn boxes, confs, class_ids\n",
        "\t\t\t\n",
        "def draw_labels(boxes, confs, colors, class_ids, classes, img): \n",
        "\tindexes = cv2.dnn.NMSBoxes(boxes, confs, 0.5, 0.4)\n",
        "\tfont = cv2.FONT_HERSHEY_PLAIN\n",
        "\tfor i in range(len(boxes)):\n",
        "\t\tif i in indexes:\n",
        "\t\t\tx, y, w, h = boxes[i]\n",
        "\t\t\tlabel = str(classes[class_ids[i]])\n",
        "\t\t\tcolor = colors[i]\n",
        "\t\t\tcv2.rectangle(img, (x,y), (x+w, y+h), color, 2)\n",
        "\t\t\tcv2.putText(img, label, (x, y - 5), font, 1, color, 1)\n",
        "\t# cv2_imshow(img)\n",
        "\n",
        "def image_detect(img_path): \n",
        "\tmodel, classes, colors, output_layers = load_yolo()\n",
        "\timage, height, width, channels = load_image(img_path)\n",
        "\tblob, outputs = detect_objects(image, model, output_layers)\n",
        "\tboxes, confs, class_ids = get_box_dimensions(outputs, height, width)\n",
        "\tdraw_labels(boxes, confs, colors, class_ids, classes, image)\n",
        "\twhile True:\n",
        "\t\tkey = cv2.waitKey(1)\n",
        "\t\tif key == 27:\n",
        "\t\t\tbreak\n",
        "\n",
        "def start_object_detection_in_video(video_path,output_file_name):\n",
        "  model, classes, colors, output_layers = load_yolo()\n",
        "  cap = cv2.VideoCapture(video_path)\n",
        "  writer = None\n",
        "  processed_frame_count = 0\n",
        "\n",
        "  # try to determine the total number of frames in the video file\n",
        "  try:\n",
        "    prop = cv2.cv.CV_CAP_PROP_FRAME_COUNT if imutils.is_cv2() \\\n",
        "    else cv2.CAP_PROP_FRAME_COUNT\n",
        "    total = int(cap.get(prop))\n",
        "    print(\"[INFO] {} total frames in video\".format(total))\n",
        "  # an error occurred while trying to determine the total\n",
        "  # number of frames in the video file\n",
        "  except:\n",
        "    print(\"[INFO] could not determine # of frames in video\")\n",
        "    print(\"[INFO] no approx. completion time can be provided\")\n",
        "    total = -1\n",
        "\n",
        "  while True:\n",
        "    processed_frame_count += 1\n",
        "    if(processed_frame_count %5 == 0):\n",
        "      print(\"Processed frames:\"+str(processed_frame_count))\n",
        "    \n",
        "    (grabbed, frame) = cap.read()\n",
        "    if not grabbed:\n",
        "      break\n",
        "    height, width, channels = frame.shape\n",
        "    blob, outputs = detect_objects(frame, model, output_layers)\n",
        "    boxes, confs, class_ids = get_box_dimensions(outputs, height, width)\n",
        "    draw_labels(boxes, confs, colors, class_ids, classes, frame)\n",
        "    # check if the video writer is None\n",
        "    if writer is None:\n",
        "\t\t# initialize our video writer\n",
        "      fourcc = cv2.VideoWriter_fourcc(*\"MJPG\")\n",
        "      # outvid = os.path.join(ROOT_DIR, \"out.mp4\")\n",
        "      writer = cv2.VideoWriter(output_file_name, fourcc, 30,\n",
        "                               (frame.shape[1], frame.shape[0]), True)\n",
        "      \n",
        "\t  # write the output frame to disk\n",
        "    writer.write(frame)\n",
        "  # release the file pointers\n",
        "  print(\"[INFO] cleaning up...\")\n",
        "  writer.release()\n"
      ],
      "metadata": {
        "id": "vYmanDdoSggu"
      },
      "execution_count": 10,
      "outputs": []
    },
    {
      "cell_type": "code",
      "source": [
        "def start_object_detection_on_youtube_video(video_link,download_video_file_name,output_file_name):\n",
        "  video = YouTube(video_link)\n",
        "  video_file_name = video.title\n",
        "  resolutions_order = [\"2160p\",\"1080p\",\"720p\",\"480p\",\"360p\"]\n",
        "  res_found = False\n",
        "  count = 0\n",
        "  while(not(res_found)):\n",
        "    download = video.streams.filter(res=resolutions_order[count])\n",
        "    if(len(download) >0):\n",
        "      print(\"Video format which will be downloaded:\"+str(download.first()))\n",
        "      res_found = True\n",
        "      download.first().download(filename=str(download_video_file_name)+\".mp4\" )\n",
        "    count += 1\n",
        "  start_object_detection_in_video(str(download_video_file_name)+\".mp4\",output_file_name)"
      ],
      "metadata": {
        "id": "GCC9wc8wE7gi"
      },
      "execution_count": 27,
      "outputs": []
    },
    {
      "cell_type": "code",
      "source": [
        "def get_stream_filters_of_video(video_link):\n",
        "  video = YouTube(video_link)\n",
        "  return video.streams.all()"
      ],
      "metadata": {
        "id": "KD-_5XyDT1aT"
      },
      "execution_count": 32,
      "outputs": []
    },
    {
      "cell_type": "code",
      "source": [
        "get_stream_filters_of_video(\"https://www.youtube.com/watch?v=qGCuCWDs1ts\")"
      ],
      "metadata": {
        "colab": {
          "base_uri": "https://localhost:8080/"
        },
        "id": "ulMqnJG2UGgw",
        "outputId": "83346884-79f7-4fb5-cef3-80aa0f29c6ad"
      },
      "execution_count": 33,
      "outputs": [
        {
          "output_type": "stream",
          "name": "stderr",
          "text": [
            "/usr/local/lib/python3.7/dist-packages/ipykernel_launcher.py:3: DeprecationWarning: Call to deprecated function all (This object can be treated as a list, all() is useless).\n",
            "  This is separate from the ipykernel package so we can avoid doing imports until\n"
          ]
        },
        {
          "output_type": "execute_result",
          "data": {
            "text/plain": [
              "[<Stream: itag=\"17\" mime_type=\"video/3gpp\" res=\"144p\" fps=\"7fps\" vcodec=\"mp4v.20.3\" acodec=\"mp4a.40.2\" progressive=\"True\" type=\"video\">,\n",
              " <Stream: itag=\"18\" mime_type=\"video/mp4\" res=\"360p\" fps=\"30fps\" vcodec=\"avc1.42001E\" acodec=\"mp4a.40.2\" progressive=\"True\" type=\"video\">,\n",
              " <Stream: itag=\"22\" mime_type=\"video/mp4\" res=\"720p\" fps=\"30fps\" vcodec=\"avc1.64001F\" acodec=\"mp4a.40.2\" progressive=\"True\" type=\"video\">,\n",
              " <Stream: itag=\"137\" mime_type=\"video/mp4\" res=\"1080p\" fps=\"30fps\" vcodec=\"avc1.640028\" progressive=\"False\" type=\"video\">,\n",
              " <Stream: itag=\"248\" mime_type=\"video/webm\" res=\"1080p\" fps=\"30fps\" vcodec=\"vp9\" progressive=\"False\" type=\"video\">,\n",
              " <Stream: itag=\"399\" mime_type=\"video/mp4\" res=\"1080p\" fps=\"30fps\" vcodec=\"av01.0.08M.08\" progressive=\"False\" type=\"video\">,\n",
              " <Stream: itag=\"136\" mime_type=\"video/mp4\" res=\"720p\" fps=\"30fps\" vcodec=\"avc1.4d401f\" progressive=\"False\" type=\"video\">,\n",
              " <Stream: itag=\"247\" mime_type=\"video/webm\" res=\"720p\" fps=\"30fps\" vcodec=\"vp9\" progressive=\"False\" type=\"video\">,\n",
              " <Stream: itag=\"398\" mime_type=\"video/mp4\" res=\"720p\" fps=\"30fps\" vcodec=\"av01.0.05M.08\" progressive=\"False\" type=\"video\">,\n",
              " <Stream: itag=\"135\" mime_type=\"video/mp4\" res=\"480p\" fps=\"30fps\" vcodec=\"avc1.4d401f\" progressive=\"False\" type=\"video\">,\n",
              " <Stream: itag=\"244\" mime_type=\"video/webm\" res=\"480p\" fps=\"30fps\" vcodec=\"vp9\" progressive=\"False\" type=\"video\">,\n",
              " <Stream: itag=\"397\" mime_type=\"video/mp4\" res=\"480p\" fps=\"30fps\" vcodec=\"av01.0.04M.08\" progressive=\"False\" type=\"video\">,\n",
              " <Stream: itag=\"134\" mime_type=\"video/mp4\" res=\"360p\" fps=\"30fps\" vcodec=\"avc1.4d401e\" progressive=\"False\" type=\"video\">,\n",
              " <Stream: itag=\"243\" mime_type=\"video/webm\" res=\"360p\" fps=\"30fps\" vcodec=\"vp9\" progressive=\"False\" type=\"video\">,\n",
              " <Stream: itag=\"396\" mime_type=\"video/mp4\" res=\"360p\" fps=\"30fps\" vcodec=\"av01.0.01M.08\" progressive=\"False\" type=\"video\">,\n",
              " <Stream: itag=\"133\" mime_type=\"video/mp4\" res=\"240p\" fps=\"30fps\" vcodec=\"avc1.4d4015\" progressive=\"False\" type=\"video\">,\n",
              " <Stream: itag=\"242\" mime_type=\"video/webm\" res=\"240p\" fps=\"30fps\" vcodec=\"vp9\" progressive=\"False\" type=\"video\">,\n",
              " <Stream: itag=\"395\" mime_type=\"video/mp4\" res=\"240p\" fps=\"30fps\" vcodec=\"av01.0.00M.08\" progressive=\"False\" type=\"video\">,\n",
              " <Stream: itag=\"160\" mime_type=\"video/mp4\" res=\"144p\" fps=\"30fps\" vcodec=\"avc1.4d400c\" progressive=\"False\" type=\"video\">,\n",
              " <Stream: itag=\"278\" mime_type=\"video/webm\" res=\"144p\" fps=\"30fps\" vcodec=\"vp9\" progressive=\"False\" type=\"video\">,\n",
              " <Stream: itag=\"394\" mime_type=\"video/mp4\" res=\"144p\" fps=\"30fps\" vcodec=\"av01.0.00M.08\" progressive=\"False\" type=\"video\">,\n",
              " <Stream: itag=\"139\" mime_type=\"audio/mp4\" abr=\"48kbps\" acodec=\"mp4a.40.5\" progressive=\"False\" type=\"audio\">,\n",
              " <Stream: itag=\"140\" mime_type=\"audio/mp4\" abr=\"128kbps\" acodec=\"mp4a.40.2\" progressive=\"False\" type=\"audio\">,\n",
              " <Stream: itag=\"249\" mime_type=\"audio/webm\" abr=\"50kbps\" acodec=\"opus\" progressive=\"False\" type=\"audio\">,\n",
              " <Stream: itag=\"250\" mime_type=\"audio/webm\" abr=\"70kbps\" acodec=\"opus\" progressive=\"False\" type=\"audio\">,\n",
              " <Stream: itag=\"251\" mime_type=\"audio/webm\" abr=\"160kbps\" acodec=\"opus\" progressive=\"False\" type=\"audio\">]"
            ]
          },
          "metadata": {},
          "execution_count": 33
        }
      ]
    },
    {
      "cell_type": "code",
      "source": [
        "start_object_detection_on_youtube_video(video_link=\"https://www.youtube.com/watch?v=qGCuCWDs1ts\",download_video_file_name=\"yt_sharpest_kid\",output_file_name=\"yt_sharpest_kid_detection.avi\")\n",
        "# start_object_detection_in_video(\"drive/MyDrive/DL-assignment2/bird.mp4\",output_file_name=\"bird_detection.avi\")"
      ],
      "metadata": {
        "colab": {
          "base_uri": "https://localhost:8080/"
        },
        "id": "oqjuq0CNSkVk",
        "outputId": "65f2c81e-4258-44bf-9259-039de0504032"
      },
      "execution_count": null,
      "outputs": [
        {
          "output_type": "stream",
          "name": "stdout",
          "text": [
            "Video format which will be downloaded:<Stream: itag=\"137\" mime_type=\"video/mp4\" res=\"1080p\" fps=\"30fps\" vcodec=\"avc1.640028\" progressive=\"False\" type=\"video\">\n",
            "[INFO] 2390 total frames in video\n",
            "Processed frames:5\n",
            "Processed frames:10\n",
            "Processed frames:15\n",
            "Processed frames:20\n",
            "Processed frames:25\n",
            "Processed frames:30\n",
            "Processed frames:35\n",
            "Processed frames:40\n",
            "Processed frames:45\n",
            "Processed frames:50\n",
            "Processed frames:55\n",
            "Processed frames:60\n",
            "Processed frames:65\n",
            "Processed frames:70\n",
            "Processed frames:75\n",
            "Processed frames:80\n",
            "Processed frames:85\n",
            "Processed frames:90\n",
            "Processed frames:95\n",
            "Processed frames:100\n",
            "Processed frames:105\n",
            "Processed frames:110\n",
            "Processed frames:115\n",
            "Processed frames:120\n",
            "Processed frames:125\n",
            "Processed frames:130\n",
            "Processed frames:135\n",
            "Processed frames:140\n",
            "Processed frames:145\n",
            "Processed frames:150\n",
            "Processed frames:155\n",
            "Processed frames:160\n",
            "Processed frames:165\n",
            "Processed frames:170\n",
            "Processed frames:175\n",
            "Processed frames:180\n",
            "Processed frames:185\n",
            "Processed frames:190\n",
            "Processed frames:195\n",
            "Processed frames:200\n",
            "Processed frames:205\n",
            "Processed frames:210\n",
            "Processed frames:215\n",
            "Processed frames:220\n",
            "Processed frames:225\n",
            "Processed frames:230\n",
            "Processed frames:235\n",
            "Processed frames:240\n",
            "Processed frames:245\n",
            "Processed frames:250\n",
            "Processed frames:255\n",
            "Processed frames:260\n",
            "Processed frames:265\n",
            "Processed frames:270\n",
            "Processed frames:275\n",
            "Processed frames:280\n",
            "Processed frames:285\n",
            "Processed frames:290\n",
            "Processed frames:295\n",
            "Processed frames:300\n",
            "Processed frames:305\n",
            "Processed frames:310\n",
            "Processed frames:315\n",
            "Processed frames:320\n",
            "Processed frames:325\n",
            "Processed frames:330\n",
            "Processed frames:335\n",
            "Processed frames:340\n",
            "Processed frames:345\n",
            "Processed frames:350\n",
            "Processed frames:355\n",
            "Processed frames:360\n",
            "Processed frames:365\n",
            "Processed frames:370\n",
            "Processed frames:375\n",
            "Processed frames:380\n",
            "Processed frames:385\n",
            "Processed frames:390\n",
            "Processed frames:395\n",
            "Processed frames:400\n",
            "Processed frames:405\n",
            "Processed frames:410\n",
            "Processed frames:415\n",
            "Processed frames:420\n",
            "Processed frames:425\n",
            "Processed frames:430\n",
            "Processed frames:435\n",
            "Processed frames:440\n",
            "Processed frames:445\n",
            "Processed frames:450\n",
            "Processed frames:455\n",
            "Processed frames:460\n",
            "Processed frames:465\n",
            "Processed frames:470\n",
            "Processed frames:475\n",
            "Processed frames:480\n",
            "Processed frames:485\n",
            "Processed frames:490\n",
            "Processed frames:495\n",
            "Processed frames:500\n",
            "Processed frames:505\n",
            "Processed frames:510\n",
            "Processed frames:515\n",
            "Processed frames:520\n",
            "Processed frames:525\n",
            "Processed frames:530\n",
            "Processed frames:535\n",
            "Processed frames:540\n",
            "Processed frames:545\n",
            "Processed frames:550\n",
            "Processed frames:555\n",
            "Processed frames:560\n",
            "Processed frames:565\n",
            "Processed frames:570\n",
            "Processed frames:575\n",
            "Processed frames:580\n",
            "Processed frames:585\n",
            "Processed frames:590\n",
            "Processed frames:595\n",
            "Processed frames:600\n",
            "Processed frames:605\n",
            "Processed frames:610\n",
            "Processed frames:615\n",
            "Processed frames:620\n",
            "Processed frames:625\n",
            "Processed frames:630\n",
            "Processed frames:635\n",
            "Processed frames:640\n",
            "Processed frames:645\n",
            "Processed frames:650\n",
            "Processed frames:655\n",
            "Processed frames:660\n",
            "Processed frames:665\n",
            "Processed frames:670\n",
            "Processed frames:675\n",
            "Processed frames:680\n",
            "Processed frames:685\n",
            "Processed frames:690\n",
            "Processed frames:695\n",
            "Processed frames:700\n",
            "Processed frames:705\n",
            "Processed frames:710\n",
            "Processed frames:715\n",
            "Processed frames:720\n",
            "Processed frames:725\n",
            "Processed frames:730\n",
            "Processed frames:735\n",
            "Processed frames:740\n",
            "Processed frames:745\n",
            "Processed frames:750\n"
          ]
        }
      ]
    },
    {
      "cell_type": "code",
      "source": [
        ""
      ],
      "metadata": {
        "id": "EWTNMHcSkCiv"
      },
      "execution_count": null,
      "outputs": []
    }
  ]
}