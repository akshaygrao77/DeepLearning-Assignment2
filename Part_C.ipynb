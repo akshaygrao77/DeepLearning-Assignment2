{
  "nbformat": 4,
  "nbformat_minor": 0,
  "metadata": {
    "colab": {
      "name": "Part_C.ipynb",
      "provenance": [],
      "collapsed_sections": [],
      "include_colab_link": true
    },
    "kernelspec": {
      "name": "python3",
      "display_name": "Python 3"
    },
    "language_info": {
      "name": "python"
    }
  },
  "cells": [
    {
      "cell_type": "markdown",
      "metadata": {
        "id": "view-in-github",
        "colab_type": "text"
      },
      "source": [
        "<a href=\"https://colab.research.google.com/github/akshaygrao77/DeepLearning-Assignment2/blob/main/Part_C.ipynb\" target=\"_parent\"><img src=\"https://colab.research.google.com/assets/colab-badge.svg\" alt=\"Open In Colab\"/></a>"
      ]
    },
    {
      "cell_type": "code",
      "execution_count": null,
      "metadata": {
        "id": "MytZi6dAKi9U"
      },
      "outputs": [],
      "source": [
        "import cv2\n",
        "import numpy as np \n",
        "import argparse\n",
        "import time\n",
        "import imutils\n",
        "import os\n",
        "from google.colab import files"
      ]
    },
    {
      "cell_type": "code",
      "source": [
        "!pip install pytube"
      ],
      "metadata": {
        "colab": {
          "base_uri": "https://localhost:8080/"
        },
        "id": "ojBK6VLjD1i8",
        "outputId": "f80bf987-098a-4c37-ec73-c698a31d01db"
      },
      "execution_count": null,
      "outputs": [
        {
          "output_type": "stream",
          "name": "stdout",
          "text": [
            "Collecting pytube\n",
            "  Downloading pytube-12.0.0-py3-none-any.whl (56 kB)\n",
            "\u001b[?25l\r\u001b[K     |█████▉                          | 10 kB 25.4 MB/s eta 0:00:01\r\u001b[K     |███████████▋                    | 20 kB 30.1 MB/s eta 0:00:01\r\u001b[K     |█████████████████▍              | 30 kB 32.0 MB/s eta 0:00:01\r\u001b[K     |███████████████████████▏        | 40 kB 35.0 MB/s eta 0:00:01\r\u001b[K     |█████████████████████████████   | 51 kB 37.8 MB/s eta 0:00:01\r\u001b[K     |████████████████████████████████| 56 kB 4.3 MB/s \n",
            "\u001b[?25hInstalling collected packages: pytube\n",
            "Successfully installed pytube-12.0.0\n"
          ]
        }
      ]
    },
    {
      "cell_type": "code",
      "source": [
        "from google.colab.patches import cv2_imshow\n",
        "from pytube import YouTube"
      ],
      "metadata": {
        "id": "Hm0YGf1Pm-dO"
      },
      "execution_count": null,
      "outputs": []
    },
    {
      "cell_type": "code",
      "source": [
        "#Mount google drive\n",
        "from google.colab import drive\n",
        "drive.mount('/content/drive')"
      ],
      "metadata": {
        "colab": {
          "base_uri": "https://localhost:8080/"
        },
        "id": "ZdJCN6GiWfds",
        "outputId": "55a82886-da32-4752-9b9e-9d27264b7254"
      },
      "execution_count": null,
      "outputs": [
        {
          "output_type": "stream",
          "name": "stdout",
          "text": [
            "Mounted at /content/drive\n"
          ]
        }
      ]
    },
    {
      "cell_type": "code",
      "source": [
        "from pytube import YouTube"
      ],
      "metadata": {
        "id": "oQE55VyXD7u0"
      },
      "execution_count": null,
      "outputs": []
    },
    {
      "cell_type": "code",
      "source": [
        "!pip install moviepy\n",
        "from moviepy.editor import *"
      ],
      "metadata": {
        "colab": {
          "base_uri": "https://localhost:8080/"
        },
        "id": "qfR27KMiIVlk",
        "outputId": "9997125b-25ce-4f59-9d15-fd913ae7878b"
      },
      "execution_count": null,
      "outputs": [
        {
          "output_type": "stream",
          "name": "stdout",
          "text": [
            "Requirement already satisfied: moviepy in /usr/local/lib/python3.7/dist-packages (0.2.3.5)\n",
            "Requirement already satisfied: imageio<3.0,>=2.1.2 in /usr/local/lib/python3.7/dist-packages (from moviepy) (2.4.1)\n",
            "Requirement already satisfied: tqdm<5.0,>=4.11.2 in /usr/local/lib/python3.7/dist-packages (from moviepy) (4.63.0)\n",
            "Requirement already satisfied: decorator<5.0,>=4.0.2 in /usr/local/lib/python3.7/dist-packages (from moviepy) (4.4.2)\n",
            "Requirement already satisfied: numpy in /usr/local/lib/python3.7/dist-packages (from moviepy) (1.21.5)\n",
            "Requirement already satisfied: pillow in /usr/local/lib/python3.7/dist-packages (from imageio<3.0,>=2.1.2->moviepy) (7.1.2)\n",
            "Imageio: 'ffmpeg-linux64-v3.3.1' was not found on your computer; downloading it now.\n",
            "Try 1. Download from https://github.com/imageio/imageio-binaries/raw/master/ffmpeg/ffmpeg-linux64-v3.3.1 (43.8 MB)\n",
            "Downloading: 8192/45929032 bytes (0.0%)\b\b\b\b\b\b\b\b\b\b\b\b\b\b\b\b\b\b\b\b\b\b\b\b\b\b3325952/45929032 bytes (7.2%)\b\b\b\b\b\b\b\b\b\b\b\b\b\b\b\b\b\b\b\b\b\b\b\b\b\b\b\b\b6881280/45929032 bytes (15.0%)\b\b\b\b\b\b\b\b\b\b\b\b\b\b\b\b\b\b\b\b\b\b\b\b\b\b\b\b\b\b10469376/45929032 bytes (22.8%)\b\b\b\b\b\b\b\b\b\b\b\b\b\b\b\b\b\b\b\b\b\b\b\b\b\b\b\b\b\b\b14049280/45929032 bytes (30.6%)\b\b\b\b\b\b\b\b\b\b\b\b\b\b\b\b\b\b\b\b\b\b\b\b\b\b\b\b\b\b\b17416192/45929032 bytes (37.9%)\b\b\b\b\b\b\b\b\b\b\b\b\b\b\b\b\b\b\b\b\b\b\b\b\b\b\b\b\b\b\b20725760/45929032 bytes (45.1%)\b\b\b\b\b\b\b\b\b\b\b\b\b\b\b\b\b\b\b\b\b\b\b\b\b\b\b\b\b\b\b24174592/45929032 bytes (52.6%)\b\b\b\b\b\b\b\b\b\b\b\b\b\b\b\b\b\b\b\b\b\b\b\b\b\b\b\b\b\b\b27525120/45929032 bytes (59.9%)\b\b\b\b\b\b\b\b\b\b\b\b\b\b\b\b\b\b\b\b\b\b\b\b\b\b\b\b\b\b\b30728192/45929032 bytes (66.9%)\b\b\b\b\b\b\b\b\b\b\b\b\b\b\b\b\b\b\b\b\b\b\b\b\b\b\b\b\b\b\b34152448/45929032 bytes (74.4%)\b\b\b\b\b\b\b\b\b\b\b\b\b\b\b\b\b\b\b\b\b\b\b\b\b\b\b\b\b\b\b37601280/45929032 bytes (81.9%)\b\b\b\b\b\b\b\b\b\b\b\b\b\b\b\b\b\b\b\b\b\b\b\b\b\b\b\b\b\b\b40878080/45929032 bytes (89.0%)\b\b\b\b\b\b\b\b\b\b\b\b\b\b\b\b\b\b\b\b\b\b\b\b\b\b\b\b\b\b\b44294144/45929032 bytes (96.4%)\b\b\b\b\b\b\b\b\b\b\b\b\b\b\b\b\b\b\b\b\b\b\b\b\b\b\b\b\b\b\b45929032/45929032 bytes (100.0%)\n",
            "  Done\n",
            "File saved as /root/.imageio/ffmpeg/ffmpeg-linux64-v3.3.1.\n"
          ]
        }
      ]
    },
    {
      "cell_type": "code",
      "source": [
        "ROOT_DIR = os.getcwd()"
      ],
      "metadata": {
        "id": "-l5xm894AhbT"
      },
      "execution_count": null,
      "outputs": []
    },
    {
      "cell_type": "code",
      "source": [
        "\n",
        "#Load yolo\n",
        "def load_yolo():\n",
        "\tnet = cv2.dnn.readNet(\"drive/MyDrive/DL-assignment2/yolov3-spp.weights\", \"drive/MyDrive/DL-assignment2/yolov3-spp.cfg\")\n",
        "\tclasses = []\n",
        "\twith open(\"drive/MyDrive/DL-assignment2/coco.names\", \"r\") as f:\n",
        "\t\tclasses = [line.strip() for line in f.readlines()] \n",
        "\t\n",
        "\toutput_layers = [layer_name for layer_name in net.getUnconnectedOutLayersNames()]\n",
        "\tcolors = np.random.uniform(0, 255, size=(len(classes), 3))\n",
        "\treturn net, classes, colors, output_layers\n",
        "\n",
        "def load_image(img_path):\n",
        "\t# image loading\n",
        "\timg = cv2.imread(img_path)\n",
        "\timg = cv2.resize(img, None, fx=0.4, fy=0.4)\n",
        "\theight, width, channels = img.shape\n",
        "\treturn img, height, width, channels\n",
        "\n",
        "\n",
        "def display_blob(blob):\n",
        "\t'''\n",
        "\t\tThree images each for RED, GREEN, BLUE channel\n",
        "\t'''\n",
        "\tfor b in blob:\n",
        "\t\tfor n, imgb in enumerate(b):\n",
        "\t\t\tcv2.imshow(str(n), imgb)\n",
        "\n",
        "def detect_objects(img, net, outputLayers):\t\t\t\n",
        "\tblob = cv2.dnn.blobFromImage(img, scalefactor=0.00392, size=(320, 320), mean=(0, 0, 0), swapRB=True, crop=False)\n",
        "\tnet.setInput(blob)\n",
        "\toutputs = net.forward(outputLayers)\n",
        "\treturn blob, outputs\n",
        "\n",
        "def get_box_dimensions(outputs, height, width):\n",
        "\tboxes = []\n",
        "\tconfs = []\n",
        "\tclass_ids = []\n",
        "\tfor output in outputs:\n",
        "\t\tfor detect in output:\n",
        "\t\t\tscores = detect[5:]\n",
        "\t\t\tclass_id = np.argmax(scores)\n",
        "\t\t\tconf = scores[class_id]\n",
        "\t\t\tif conf > 0.3:\n",
        "\t\t\t\tcenter_x = int(detect[0] * width)\n",
        "\t\t\t\tcenter_y = int(detect[1] * height)\n",
        "\t\t\t\tw = int(detect[2] * width)\n",
        "\t\t\t\th = int(detect[3] * height)\n",
        "\t\t\t\tx = int(center_x - w/2)\n",
        "\t\t\t\ty = int(center_y - h / 2)\n",
        "\t\t\t\tboxes.append([x, y, w, h])\n",
        "\t\t\t\tconfs.append(float(conf))\n",
        "\t\t\t\tclass_ids.append(class_id)\n",
        "\treturn boxes, confs, class_ids\n",
        "\t\t\t\n",
        "def draw_labels(boxes, confs, colors, class_ids, classes, img): \n",
        "\tindexes = cv2.dnn.NMSBoxes(boxes, confs, 0.5, 0.4)\n",
        "\tfont = cv2.FONT_HERSHEY_PLAIN\n",
        "\tfor i in range(len(boxes)):\n",
        "\t\tif i in indexes:\n",
        "\t\t\tx, y, w, h = boxes[i]\n",
        "\t\t\tlabel = str(classes[class_ids[i]])\n",
        "\t\t\tcolor = colors[i]\n",
        "\t\t\tcv2.rectangle(img, (x,y), (x+w, y+h), color, 2)\n",
        "\t\t\tcv2.putText(img, label, (x, y - 5), font, 1, color, 1)\n",
        "\t# cv2_imshow(img)\n",
        "\n",
        "def image_detect(img_path): \n",
        "\tmodel, classes, colors, output_layers = load_yolo()\n",
        "\timage, height, width, channels = load_image(img_path)\n",
        "\tblob, outputs = detect_objects(image, model, output_layers)\n",
        "\tboxes, confs, class_ids = get_box_dimensions(outputs, height, width)\n",
        "\tdraw_labels(boxes, confs, colors, class_ids, classes, image)\n",
        "\twhile True:\n",
        "\t\tkey = cv2.waitKey(1)\n",
        "\t\tif key == 27:\n",
        "\t\t\tbreak\n",
        "\n",
        "# def start_object_detection_in_video(video_path,output_file_name):\n",
        "#   model, classes, colors, output_layers = load_yolo()\n",
        "#   cap = cv2.VideoCapture(video_path)\n",
        "#   writer = None\n",
        "#   processed_frame_count = 0\n",
        "\n",
        "#   # try to determine the total number of frames in the video file\n",
        "#   try:\n",
        "#     prop = cv2.cv.CV_CAP_PROP_FRAME_COUNT if imutils.is_cv2() \\\n",
        "#     else cv2.CAP_PROP_FRAME_COUNT\n",
        "#     total = int(cap.get(prop))\n",
        "#     print(\"[INFO] {} total frames in video\".format(total))\n",
        "#   # an error occurred while trying to determine the total\n",
        "#   # number of frames in the video file\n",
        "#   except:\n",
        "#     print(\"[INFO] could not determine # of frames in video\")\n",
        "#     print(\"[INFO] no approx. completion time can be provided\")\n",
        "#     total = -1\n",
        "\n",
        "#   while True:\n",
        "#     processed_frame_count += 1\n",
        "#     if(processed_frame_count % 25 == 0):\n",
        "#       print(\"Processed frames:\"+str(processed_frame_count))\n",
        "    \n",
        "#     (grabbed, frame) = cap.read()\n",
        "#     if not grabbed:\n",
        "#       break\n",
        "#     height, width, channels = frame.shape\n",
        "#     blob, outputs = detect_objects(frame, model, output_layers)\n",
        "#     boxes, confs, class_ids = get_box_dimensions(outputs, height, width)\n",
        "#     draw_labels(boxes, confs, colors, class_ids, classes, frame)\n",
        "#     # check if the video writer is None\n",
        "#     if writer is None:\n",
        "# \t\t# initialize our video writer\n",
        "#       fourcc = cv2.VideoWriter_fourcc(*\"MJPG\")\n",
        "#       # outvid = os.path.join(ROOT_DIR, \"out.mp4\")\n",
        "#       writer = cv2.VideoWriter(output_file_name, fourcc, 30,\n",
        "#                                (frame.shape[1], frame.shape[0]), True)\n",
        "      \n",
        "# \t  # write the output frame to disk\n",
        "#     writer.write(frame)\n",
        "#   # release the file pointers\n",
        "#   print(\"[INFO] cleaning up...\")\n",
        "#   writer.release()\n"
      ],
      "metadata": {
        "id": "vYmanDdoSggu"
      },
      "execution_count": null,
      "outputs": []
    },
    {
      "cell_type": "code",
      "source": [
        "def start_object_detection_in_video(video_path,output_file_name,original_fps):\n",
        "  model, classes, colors, output_layers = load_yolo()\n",
        "  cap = cv2.VideoCapture(video_path)\n",
        "  writers = None\n",
        "  processed_frame_count = 0\n",
        "  part_output_file_name_list = []\n",
        "  part_output_file_name = \"\"\n",
        "  total_frames = -1\n",
        "  frame_per_part = original_fps * 10\n",
        "  \n",
        "\t# try to determine the total number of frames in the video file\n",
        "  try:\n",
        "    prop = cv2.cv.CV_CAP_PROP_FRAME_COUNT if imutils.is_cv2() \\\n",
        "    else cv2.CAP_PROP_FRAME_COUNT\n",
        "    total_frames = int(cap.get(prop))\n",
        "    writers = [None]*((total_frames // frame_per_part)+1)\n",
        "    print(\"[INFO] {} total frames in video\".format(total_frames))\n",
        "  # an error occurred while trying to determine the total\n",
        "  # number of frames in the video file\n",
        "  except:\n",
        "    print(\"[INFO] could not determine # of frames in video\")\n",
        "    print(\"[INFO] no approx. completion time can be provided\")\n",
        "    total_frames = -1\n",
        "\n",
        "  part_count = 0\n",
        "  while True:\n",
        "    processed_frame_count += 1\n",
        "    if(processed_frame_count % 25 == 0):\n",
        "      print(\"Processed frames:\"+str(processed_frame_count))\n",
        "    \n",
        "    (grabbed, frame) = cap.read()\n",
        "    if not grabbed:\n",
        "      break\n",
        "    height, width, channels = frame.shape\n",
        "    blob, outputs = detect_objects(frame, model, output_layers)\n",
        "    boxes, confs, class_ids = get_box_dimensions(outputs, height, width)\n",
        "    draw_labels(boxes, confs, colors, class_ids, classes, frame)\n",
        "    part_output_file_name = str(output_file_name)+str(\"_part\")+str(part_count)+\".avi\"\n",
        "    # check if the video writer is None\n",
        "    if writers[part_count] is None:\n",
        "\t\t# initialize our video writer\n",
        "      fourcc = cv2.VideoWriter_fourcc(*\"MJPG\")\n",
        "      # outvid = os.path.join(ROOT_DIR, \"out.mp4\")\n",
        "      writers[part_count] = cv2.VideoWriter(part_output_file_name, fourcc, original_fps,\n",
        "                               (frame.shape[1], frame.shape[0]), True)\n",
        "      \n",
        "\t  # write the output frame to disk\n",
        "    writers[part_count].write(frame)\n",
        "    if(processed_frame_count % frame_per_part == 0):\n",
        "        writers[part_count].release()\n",
        "        print(\"Wrote video:\"+str(part_output_file_name))\n",
        "        # files.download(part_output_file_name)\n",
        "        part_output_file_name_list.append(part_output_file_name)\n",
        "        part_count += 1\n",
        "  \n",
        "  if(total_frames % frame_per_part != 0):\n",
        "    writers[part_count].release()\n",
        "    print(\"Wrote video:\"+str(part_output_file_name))\n",
        "    # files.download(part_output_file_name)\n",
        "    part_output_file_name_list.append(part_output_file_name)\n",
        "\t\n",
        "  return part_output_file_name_list,original_fps"
      ],
      "metadata": {
        "id": "xpRmBr4GkFKR"
      },
      "execution_count": null,
      "outputs": []
    },
    {
      "cell_type": "code",
      "source": [
        "def merge_files(part_output_file_name_list,target_file_name,original_fps):\n",
        "  clips = [VideoFileClip(each_part_file_name) for each_part_file_name in part_output_file_name_list]\n",
        "  # concatenating both the clips\n",
        "  final = concatenate_videoclips(clips)\n",
        "  #writing the video into a file / saving the combined video\n",
        "  final.write_videofile(target_file_name, fps=original_fps,codec=\"libx264\")\n"
      ],
      "metadata": {
        "id": "HxMoSHfldOn4"
      },
      "execution_count": null,
      "outputs": []
    },
    {
      "cell_type": "code",
      "source": [
        "def start_object_detection_on_youtube_video(video_link,download_video_file_name,output_file_name,interval=None):\n",
        "  video = YouTube(video_link)\n",
        "  video_file_name = video.title\n",
        "  print(\"Video title: \"+str(video.title))\n",
        "  resolutions_order = [\"1080p\",\"720p\",\"480p\",\"360p\"]\n",
        "  res_found = False\n",
        "  count = 0\n",
        "  fps = 30\n",
        "  while(not(res_found)):\n",
        "    download = video.streams.filter(res=resolutions_order[count])\n",
        "    if(len(download) >0):\n",
        "      print(\"Video format which will be downloaded:\"+str(download.first()))\n",
        "      fps = download.first().fps\n",
        "      print(\"Frame per second:\"+str(fps))\n",
        "      res_found = True\n",
        "      download.first().download(filename=str(download_video_file_name)+\".mp4\" )\n",
        "    count += 1\n",
        "  if(not(interval is None)):\n",
        "    download_video_file_name = cut_and_save_video(interval,download_video_file_name,fps)\n",
        "  return start_object_detection_in_video(str(download_video_file_name)+\".mp4\",output_file_name,fps)"
      ],
      "metadata": {
        "id": "GCC9wc8wE7gi"
      },
      "execution_count": null,
      "outputs": []
    },
    {
      "cell_type": "code",
      "source": [
        "def get_stream_filters_of_video(video_link):\n",
        "  video = YouTube(video_link)\n",
        "  return video.streams.all()"
      ],
      "metadata": {
        "id": "KD-_5XyDT1aT"
      },
      "execution_count": null,
      "outputs": []
    },
    {
      "cell_type": "code",
      "source": [
        "def cut_and_save_video(interval,input_file,original_fps):\n",
        "  clip_path = input_file+\"_clip\"\n",
        "  clip = VideoFileClip(input_file+\".mp4\") \n",
        "      \n",
        "  clip = clip.subclip(interval[0],interval[1])\n",
        "  clip.write_videofile(clip_path+\".mp4\", fps=original_fps,codec=\"libx264\")\n",
        "  return clip_path"
      ],
      "metadata": {
        "id": "VuYsXrHC9gvW"
      },
      "execution_count": null,
      "outputs": []
    },
    {
      "cell_type": "code",
      "source": [
        "# https://www.youtube.com/watch?v=c0FtiZUO9Kg   botswana\n",
        "# https://www.youtube.com/watch?v=_EjWEwjak_Q wildfire\n",
        "# https://www.youtube.com/watch?v=gs415cKPASA 10second person clip\n",
        "# https://www.youtube.com/watch?v=EP90lkEwctw giraffe with zerbra\n",
        "input_file = \"giraffe_zebra\"\n",
        "target_file_name = \"giraffe_zebra_detection\"\n",
        "part_output_file_name_list,original_fps = start_object_detection_on_youtube_video(video_link=\"https://www.youtube.com/watch?v=EP90lkEwctw\",download_video_file_name=input_file,output_file_name=target_file_name,interval=(5,70))\n",
        "print(\"Out files:\"+str(part_output_file_name_list))\n",
        "merge_files(part_output_file_name_list,target_file_name+\".avi\",original_fps)\n",
        "files.download(target_file_name+\".avi\")\n",
        "# start_object_detection_in_video(\"drive/MyDrive/DL-assignment2/bird.mp4\",output_file_name=\"bird_detection.avi\")"
      ],
      "metadata": {
        "colab": {
          "base_uri": "https://localhost:8080/",
          "height": 1000
        },
        "id": "oqjuq0CNSkVk",
        "outputId": "f14a416b-b7ec-4dfd-929a-afb72d5d5054"
      },
      "execution_count": null,
      "outputs": [
        {
          "output_type": "stream",
          "name": "stdout",
          "text": [
            "Video title: Giraffe and Zebra and Wildebeest - Amazing & Beautiful Interaction\n",
            "Video format which will be downloaded:<Stream: itag=\"137\" mime_type=\"video/mp4\" res=\"1080p\" fps=\"25fps\" vcodec=\"avc1.640028\" progressive=\"False\" type=\"video\">\n",
            "Frame per second:25\n",
            "[MoviePy] >>>> Building video giraffe_zebra_clip.mp4\n",
            "[MoviePy] Writing video giraffe_zebra_clip.mp4\n"
          ]
        },
        {
          "output_type": "stream",
          "name": "stderr",
          "text": [
            "100%|█████████▉| 1625/1626 [02:54<00:00,  9.30it/s]\n"
          ]
        },
        {
          "output_type": "stream",
          "name": "stdout",
          "text": [
            "[MoviePy] Done.\n",
            "[MoviePy] >>>> Video ready: giraffe_zebra_clip.mp4 \n",
            "\n",
            "[INFO] 1625 total frames in video\n",
            "Processed frames:25\n",
            "Processed frames:50\n",
            "Processed frames:75\n",
            "Processed frames:100\n",
            "Processed frames:125\n",
            "Processed frames:150\n",
            "Processed frames:175\n",
            "Processed frames:200\n",
            "Processed frames:225\n",
            "Processed frames:250\n",
            "Wrote video:giraffe_zebra_detection_part0.avi\n",
            "Processed frames:275\n",
            "Processed frames:300\n",
            "Processed frames:325\n",
            "Processed frames:350\n",
            "Processed frames:375\n",
            "Processed frames:400\n",
            "Processed frames:425\n",
            "Processed frames:450\n",
            "Processed frames:475\n",
            "Processed frames:500\n",
            "Wrote video:giraffe_zebra_detection_part1.avi\n",
            "Processed frames:525\n",
            "Processed frames:550\n",
            "Processed frames:575\n",
            "Processed frames:600\n",
            "Processed frames:625\n",
            "Processed frames:650\n",
            "Processed frames:675\n",
            "Processed frames:700\n",
            "Processed frames:725\n",
            "Processed frames:750\n",
            "Wrote video:giraffe_zebra_detection_part2.avi\n",
            "Processed frames:775\n",
            "Processed frames:800\n",
            "Processed frames:825\n",
            "Processed frames:850\n",
            "Processed frames:875\n",
            "Processed frames:900\n",
            "Processed frames:925\n",
            "Processed frames:950\n",
            "Processed frames:975\n",
            "Processed frames:1000\n",
            "Wrote video:giraffe_zebra_detection_part3.avi\n",
            "Processed frames:1025\n",
            "Processed frames:1050\n",
            "Processed frames:1075\n",
            "Processed frames:1100\n",
            "Processed frames:1125\n",
            "Processed frames:1150\n",
            "Processed frames:1175\n",
            "Processed frames:1200\n",
            "Processed frames:1225\n",
            "Processed frames:1250\n",
            "Wrote video:giraffe_zebra_detection_part4.avi\n",
            "Processed frames:1275\n",
            "Processed frames:1300\n",
            "Processed frames:1325\n",
            "Processed frames:1350\n",
            "Processed frames:1375\n",
            "Processed frames:1400\n",
            "Processed frames:1425\n",
            "Processed frames:1450\n",
            "Processed frames:1475\n",
            "Processed frames:1500\n",
            "Wrote video:giraffe_zebra_detection_part5.avi\n",
            "Processed frames:1525\n",
            "Processed frames:1550\n",
            "Processed frames:1575\n",
            "Processed frames:1600\n",
            "Processed frames:1625\n",
            "Wrote video:giraffe_zebra_detection_part6.avi\n",
            "Out files:['giraffe_zebra_detection_part0.avi', 'giraffe_zebra_detection_part1.avi', 'giraffe_zebra_detection_part2.avi', 'giraffe_zebra_detection_part3.avi', 'giraffe_zebra_detection_part4.avi', 'giraffe_zebra_detection_part5.avi', 'giraffe_zebra_detection_part6.avi']\n",
            "[MoviePy] >>>> Building video giraffe_zebra_detection.avi\n",
            "[MoviePy] Writing video giraffe_zebra_detection.avi\n"
          ]
        },
        {
          "output_type": "stream",
          "name": "stderr",
          "text": [
            "100%|█████████▉| 1625/1626 [03:17<00:00,  8.22it/s]\n"
          ]
        },
        {
          "output_type": "stream",
          "name": "stdout",
          "text": [
            "[MoviePy] Done.\n",
            "[MoviePy] >>>> Video ready: giraffe_zebra_detection.avi \n",
            "\n"
          ]
        },
        {
          "output_type": "display_data",
          "data": {
            "text/plain": [
              "<IPython.core.display.Javascript object>"
            ],
            "application/javascript": [
              "\n",
              "    async function download(id, filename, size) {\n",
              "      if (!google.colab.kernel.accessAllowed) {\n",
              "        return;\n",
              "      }\n",
              "      const div = document.createElement('div');\n",
              "      const label = document.createElement('label');\n",
              "      label.textContent = `Downloading \"${filename}\": `;\n",
              "      div.appendChild(label);\n",
              "      const progress = document.createElement('progress');\n",
              "      progress.max = size;\n",
              "      div.appendChild(progress);\n",
              "      document.body.appendChild(div);\n",
              "\n",
              "      const buffers = [];\n",
              "      let downloaded = 0;\n",
              "\n",
              "      const channel = await google.colab.kernel.comms.open(id);\n",
              "      // Send a message to notify the kernel that we're ready.\n",
              "      channel.send({})\n",
              "\n",
              "      for await (const message of channel.messages) {\n",
              "        // Send a message to notify the kernel that we're ready.\n",
              "        channel.send({})\n",
              "        if (message.buffers) {\n",
              "          for (const buffer of message.buffers) {\n",
              "            buffers.push(buffer);\n",
              "            downloaded += buffer.byteLength;\n",
              "            progress.value = downloaded;\n",
              "          }\n",
              "        }\n",
              "      }\n",
              "      const blob = new Blob(buffers, {type: 'application/binary'});\n",
              "      const a = document.createElement('a');\n",
              "      a.href = window.URL.createObjectURL(blob);\n",
              "      a.download = filename;\n",
              "      div.appendChild(a);\n",
              "      a.click();\n",
              "      div.remove();\n",
              "    }\n",
              "  "
            ]
          },
          "metadata": {}
        },
        {
          "output_type": "display_data",
          "data": {
            "text/plain": [
              "<IPython.core.display.Javascript object>"
            ],
            "application/javascript": [
              "download(\"download_562d7885-f9f9-49e7-a30c-910f8be5e0c7\", \"giraffe_zebra_detection.avi\", 29414880)"
            ]
          },
          "metadata": {}
        }
      ]
    },
    {
      "cell_type": "code",
      "source": [
        ""
      ],
      "metadata": {
        "id": "EWTNMHcSkCiv"
      },
      "execution_count": null,
      "outputs": []
    }
  ]
}