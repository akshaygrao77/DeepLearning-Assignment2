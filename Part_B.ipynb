{
  "nbformat": 4,
  "nbformat_minor": 0,
  "metadata": {
    "colab": {
      "name": "Part_B.ipynb",
      "provenance": [],
      "collapsed_sections": [],
      "include_colab_link": true
    },
    "kernelspec": {
      "name": "python3",
      "display_name": "Python 3"
    },
    "language_info": {
      "name": "python"
    },
    "accelerator": "GPU",
    "widgets": {
      "application/vnd.jupyter.widget-state+json": {
        "d972826214194003a26d39e7c8be25e7": {
          "model_module": "@jupyter-widgets/controls",
          "model_name": "VBoxModel",
          "model_module_version": "1.5.0",
          "state": {
            "_dom_classes": [],
            "_model_module": "@jupyter-widgets/controls",
            "_model_module_version": "1.5.0",
            "_model_name": "VBoxModel",
            "_view_count": null,
            "_view_module": "@jupyter-widgets/controls",
            "_view_module_version": "1.5.0",
            "_view_name": "VBoxView",
            "box_style": "",
            "children": [
              "IPY_MODEL_6b655c2e14c3475c8e9abf97d825063c",
              "IPY_MODEL_c99966c175034041a665ee13eb064607"
            ],
            "layout": "IPY_MODEL_5cb890eb1c124a61b7699ee091c8b6b7"
          }
        },
        "6b655c2e14c3475c8e9abf97d825063c": {
          "model_module": "@jupyter-widgets/controls",
          "model_name": "LabelModel",
          "model_module_version": "1.5.0",
          "state": {
            "_dom_classes": [],
            "_model_module": "@jupyter-widgets/controls",
            "_model_module_version": "1.5.0",
            "_model_name": "LabelModel",
            "_view_count": null,
            "_view_module": "@jupyter-widgets/controls",
            "_view_module_version": "1.5.0",
            "_view_name": "LabelView",
            "description": "",
            "description_tooltip": null,
            "layout": "IPY_MODEL_2a26f16a2f7d40f59d1288322ceda444",
            "placeholder": "​",
            "style": "IPY_MODEL_d8cffdc492514e35867f1445b35b5a8f",
            "value": "0.008 MB of 0.008 MB uploaded (0.000 MB deduped)\r"
          }
        },
        "c99966c175034041a665ee13eb064607": {
          "model_module": "@jupyter-widgets/controls",
          "model_name": "FloatProgressModel",
          "model_module_version": "1.5.0",
          "state": {
            "_dom_classes": [],
            "_model_module": "@jupyter-widgets/controls",
            "_model_module_version": "1.5.0",
            "_model_name": "FloatProgressModel",
            "_view_count": null,
            "_view_module": "@jupyter-widgets/controls",
            "_view_module_version": "1.5.0",
            "_view_name": "ProgressView",
            "bar_style": "",
            "description": "",
            "description_tooltip": null,
            "layout": "IPY_MODEL_dd8cd86d01f14c52847e002502750c97",
            "max": 1,
            "min": 0,
            "orientation": "horizontal",
            "style": "IPY_MODEL_6beefa22e9f24cc1a7b820a993d8c8de",
            "value": 1
          }
        },
        "5cb890eb1c124a61b7699ee091c8b6b7": {
          "model_module": "@jupyter-widgets/base",
          "model_name": "LayoutModel",
          "model_module_version": "1.2.0",
          "state": {
            "_model_module": "@jupyter-widgets/base",
            "_model_module_version": "1.2.0",
            "_model_name": "LayoutModel",
            "_view_count": null,
            "_view_module": "@jupyter-widgets/base",
            "_view_module_version": "1.2.0",
            "_view_name": "LayoutView",
            "align_content": null,
            "align_items": null,
            "align_self": null,
            "border": null,
            "bottom": null,
            "display": null,
            "flex": null,
            "flex_flow": null,
            "grid_area": null,
            "grid_auto_columns": null,
            "grid_auto_flow": null,
            "grid_auto_rows": null,
            "grid_column": null,
            "grid_gap": null,
            "grid_row": null,
            "grid_template_areas": null,
            "grid_template_columns": null,
            "grid_template_rows": null,
            "height": null,
            "justify_content": null,
            "justify_items": null,
            "left": null,
            "margin": null,
            "max_height": null,
            "max_width": null,
            "min_height": null,
            "min_width": null,
            "object_fit": null,
            "object_position": null,
            "order": null,
            "overflow": null,
            "overflow_x": null,
            "overflow_y": null,
            "padding": null,
            "right": null,
            "top": null,
            "visibility": null,
            "width": null
          }
        },
        "2a26f16a2f7d40f59d1288322ceda444": {
          "model_module": "@jupyter-widgets/base",
          "model_name": "LayoutModel",
          "model_module_version": "1.2.0",
          "state": {
            "_model_module": "@jupyter-widgets/base",
            "_model_module_version": "1.2.0",
            "_model_name": "LayoutModel",
            "_view_count": null,
            "_view_module": "@jupyter-widgets/base",
            "_view_module_version": "1.2.0",
            "_view_name": "LayoutView",
            "align_content": null,
            "align_items": null,
            "align_self": null,
            "border": null,
            "bottom": null,
            "display": null,
            "flex": null,
            "flex_flow": null,
            "grid_area": null,
            "grid_auto_columns": null,
            "grid_auto_flow": null,
            "grid_auto_rows": null,
            "grid_column": null,
            "grid_gap": null,
            "grid_row": null,
            "grid_template_areas": null,
            "grid_template_columns": null,
            "grid_template_rows": null,
            "height": null,
            "justify_content": null,
            "justify_items": null,
            "left": null,
            "margin": null,
            "max_height": null,
            "max_width": null,
            "min_height": null,
            "min_width": null,
            "object_fit": null,
            "object_position": null,
            "order": null,
            "overflow": null,
            "overflow_x": null,
            "overflow_y": null,
            "padding": null,
            "right": null,
            "top": null,
            "visibility": null,
            "width": null
          }
        },
        "d8cffdc492514e35867f1445b35b5a8f": {
          "model_module": "@jupyter-widgets/controls",
          "model_name": "DescriptionStyleModel",
          "model_module_version": "1.5.0",
          "state": {
            "_model_module": "@jupyter-widgets/controls",
            "_model_module_version": "1.5.0",
            "_model_name": "DescriptionStyleModel",
            "_view_count": null,
            "_view_module": "@jupyter-widgets/base",
            "_view_module_version": "1.2.0",
            "_view_name": "StyleView",
            "description_width": ""
          }
        },
        "dd8cd86d01f14c52847e002502750c97": {
          "model_module": "@jupyter-widgets/base",
          "model_name": "LayoutModel",
          "model_module_version": "1.2.0",
          "state": {
            "_model_module": "@jupyter-widgets/base",
            "_model_module_version": "1.2.0",
            "_model_name": "LayoutModel",
            "_view_count": null,
            "_view_module": "@jupyter-widgets/base",
            "_view_module_version": "1.2.0",
            "_view_name": "LayoutView",
            "align_content": null,
            "align_items": null,
            "align_self": null,
            "border": null,
            "bottom": null,
            "display": null,
            "flex": null,
            "flex_flow": null,
            "grid_area": null,
            "grid_auto_columns": null,
            "grid_auto_flow": null,
            "grid_auto_rows": null,
            "grid_column": null,
            "grid_gap": null,
            "grid_row": null,
            "grid_template_areas": null,
            "grid_template_columns": null,
            "grid_template_rows": null,
            "height": null,
            "justify_content": null,
            "justify_items": null,
            "left": null,
            "margin": null,
            "max_height": null,
            "max_width": null,
            "min_height": null,
            "min_width": null,
            "object_fit": null,
            "object_position": null,
            "order": null,
            "overflow": null,
            "overflow_x": null,
            "overflow_y": null,
            "padding": null,
            "right": null,
            "top": null,
            "visibility": null,
            "width": null
          }
        },
        "6beefa22e9f24cc1a7b820a993d8c8de": {
          "model_module": "@jupyter-widgets/controls",
          "model_name": "ProgressStyleModel",
          "model_module_version": "1.5.0",
          "state": {
            "_model_module": "@jupyter-widgets/controls",
            "_model_module_version": "1.5.0",
            "_model_name": "ProgressStyleModel",
            "_view_count": null,
            "_view_module": "@jupyter-widgets/base",
            "_view_module_version": "1.2.0",
            "_view_name": "StyleView",
            "bar_color": null,
            "description_width": ""
          }
        }
      }
    }
  },
  "cells": [
    {
      "cell_type": "markdown",
      "metadata": {
        "id": "view-in-github",
        "colab_type": "text"
      },
      "source": [
        "<a href=\"https://colab.research.google.com/github/akshaygrao77/DeepLearning-Assignment2/blob/main/Part_B.ipynb\" target=\"_parent\"><img src=\"https://colab.research.google.com/assets/colab-badge.svg\" alt=\"Open In Colab\"/></a>"
      ]
    },
    {
      "cell_type": "code",
      "metadata": {
        "id": "hF46BbB2GM87"
      },
      "source": [
        "%%capture\n",
        "!curl -SL https://storage.googleapis.com/wandb_datasets/nature_12K.zip > dataset.zip\n",
        "!unzip dataset.zip"
      ],
      "execution_count": 1,
      "outputs": []
    },
    {
      "cell_type": "code",
      "metadata": {
        "id": "yTrrpj3IHaAa"
      },
      "source": [
        "!rm dataset.zip"
      ],
      "execution_count": 2,
      "outputs": []
    },
    {
      "cell_type": "markdown",
      "source": [
        "**IMPORT LIBRARIES**"
      ],
      "metadata": {
        "id": "4mQuLLW5S4wb"
      }
    },
    {
      "cell_type": "code",
      "metadata": {
        "id": "O3GhqEI_HCK5"
      },
      "source": [
        "import tensorflow as tf\n",
        "from tensorflow import keras\n",
        "from keras.models import Sequential, Model\n",
        "from tensorflow.keras import  models, optimizers, layers, activations\n",
        "from keras.preprocessing.image import ImageDataGenerator\n",
        "from keras.utils.vis_utils import plot_model\n",
        "from keras.callbacks import History\n",
        "import numpy as np\n",
        "import matplotlib.pyplot as plt\n",
        "from PIL import Image\n",
        "import os"
      ],
      "execution_count": 3,
      "outputs": []
    },
    {
      "cell_type": "markdown",
      "source": [
        "# IMPORT PRE_TRAINED MODELS "
      ],
      "metadata": {
        "id": "wr-tm2VlTFnR"
      }
    },
    {
      "cell_type": "code",
      "metadata": {
        "id": "Q1mSqJgtKZKM"
      },
      "source": [
        "from keras.applications.inception_v3 import InceptionV3\n",
        "from keras.applications.inception_resnet_v2 import InceptionResNetV2\n",
        "from keras.applications.resnet import ResNet50\n",
        "from keras.applications.xception import Xception"
      ],
      "execution_count": 4,
      "outputs": []
    },
    {
      "cell_type": "code",
      "metadata": {
        "colab": {
          "base_uri": "https://localhost:8080/"
        },
        "id": "Fymb6amqHEkG",
        "outputId": "b5b5fb2d-a42a-4acf-ba68-b4ce1d5411d7"
      },
      "source": [
        "!pip install wandb -qqq\n",
        "import wandb\n",
        "from wandb.keras import WandbCallback"
      ],
      "execution_count": 5,
      "outputs": [
        {
          "output_type": "stream",
          "name": "stdout",
          "text": [
            "\u001b[K     |████████████████████████████████| 1.7 MB 9.4 MB/s \n",
            "\u001b[K     |████████████████████████████████| 181 kB 56.5 MB/s \n",
            "\u001b[K     |████████████████████████████████| 144 kB 50.8 MB/s \n",
            "\u001b[K     |████████████████████████████████| 63 kB 1.8 MB/s \n",
            "\u001b[?25h  Building wheel for pathtools (setup.py) ... \u001b[?25l\u001b[?25hdone\n"
          ]
        }
      ]
    },
    {
      "cell_type": "code",
      "metadata": {
        "id": "x60QDZMNHHCf",
        "colab": {
          "base_uri": "https://localhost:8080/",
          "height": 125
        },
        "outputId": "d63c9d02-800f-469d-855c-261fe3c3153b"
      },
      "source": [
        "wandb.init(project=\"DLAssignment2-partb\", entity='cs21s002-ee21s113-dlassignment-1')"
      ],
      "execution_count": 6,
      "outputs": [
        {
          "output_type": "display_data",
          "data": {
            "text/plain": [
              "<IPython.core.display.Javascript object>"
            ],
            "application/javascript": [
              "\n",
              "        window._wandbApiKey = new Promise((resolve, reject) => {\n",
              "            function loadScript(url) {\n",
              "            return new Promise(function(resolve, reject) {\n",
              "                let newScript = document.createElement(\"script\");\n",
              "                newScript.onerror = reject;\n",
              "                newScript.onload = resolve;\n",
              "                document.body.appendChild(newScript);\n",
              "                newScript.src = url;\n",
              "            });\n",
              "            }\n",
              "            loadScript(\"https://cdn.jsdelivr.net/npm/postmate/build/postmate.min.js\").then(() => {\n",
              "            const iframe = document.createElement('iframe')\n",
              "            iframe.style.cssText = \"width:0;height:0;border:none\"\n",
              "            document.body.appendChild(iframe)\n",
              "            const handshake = new Postmate({\n",
              "                container: iframe,\n",
              "                url: 'https://wandb.ai/authorize'\n",
              "            });\n",
              "            const timeout = setTimeout(() => reject(\"Couldn't auto authenticate\"), 5000)\n",
              "            handshake.then(function(child) {\n",
              "                child.on('authorize', data => {\n",
              "                    clearTimeout(timeout)\n",
              "                    resolve(data)\n",
              "                });\n",
              "            });\n",
              "            })\n",
              "        });\n",
              "    "
            ]
          },
          "metadata": {}
        },
        {
          "output_type": "stream",
          "name": "stderr",
          "text": [
            "\u001b[34m\u001b[1mwandb\u001b[0m: Appending key for api.wandb.ai to your netrc file: /root/.netrc\n"
          ]
        },
        {
          "output_type": "display_data",
          "data": {
            "text/plain": [
              "<IPython.core.display.HTML object>"
            ],
            "text/html": [
              "Tracking run with wandb version 0.12.11"
            ]
          },
          "metadata": {}
        },
        {
          "output_type": "display_data",
          "data": {
            "text/plain": [
              "<IPython.core.display.HTML object>"
            ],
            "text/html": [
              "Run data is saved locally in <code>/content/wandb/run-20220403_120543-mr02w9e7</code>"
            ]
          },
          "metadata": {}
        },
        {
          "output_type": "display_data",
          "data": {
            "text/plain": [
              "<IPython.core.display.HTML object>"
            ],
            "text/html": [
              "Syncing run <strong><a href=\"https://wandb.ai/cs21s002-ee21s113-dlassignment-1/DLAssignment2-partb/runs/mr02w9e7\" target=\"_blank\">effortless-mountain-22</a></strong> to <a href=\"https://wandb.ai/cs21s002-ee21s113-dlassignment-1/DLAssignment2-partb\" target=\"_blank\">Weights & Biases</a> (<a href=\"https://wandb.me/run\" target=\"_blank\">docs</a>)<br/>"
            ]
          },
          "metadata": {}
        },
        {
          "output_type": "execute_result",
          "data": {
            "text/html": [
              "<button onClick=\"this.nextSibling.style.display='block';this.style.display='none';\">Display W&B run</button><iframe src=\"https://wandb.ai/cs21s002-ee21s113-dlassignment-1/DLAssignment2-partb/runs/mr02w9e7?jupyter=true\" style=\"border:none;width:100%;height:420px;display:none;\"></iframe>"
            ],
            "text/plain": [
              "<wandb.sdk.wandb_run.Run at 0x7fda30c2f190>"
            ]
          },
          "metadata": {},
          "execution_count": 6
        }
      ]
    },
    {
      "cell_type": "code",
      "metadata": {
        "id": "27t2ShQMHJhu"
      },
      "source": [
        "#Constants\n",
        "train_data_path = os.getcwd()+\"/inaturalist_12K/train\"\n",
        "test_data_path = os.getcwd()+\"/inaturalist_12K/val\"\n",
        "width, height = 200, 200\n",
        "batch_size = 128\n",
        "input_shape = (200, 200, 3)"
      ],
      "execution_count": 7,
      "outputs": []
    },
    {
      "cell_type": "markdown",
      "source": [
        "**IMAGE DATA PRE PROCESSING**"
      ],
      "metadata": {
        "id": "MNxXTcNvTWa8"
      }
    },
    {
      "cell_type": "code",
      "metadata": {
        "id": "OeYGyZHxMbJd"
      },
      "source": [
        "def dataset_Generators(train_data_aug=False):\n",
        "    if train_data_aug:\n",
        "        train_idg = ImageDataGenerator(\n",
        "            rescale=1. /255,\n",
        "            validation_split=0.1,              \n",
        "            horizontal_flip=True,\n",
        "            vertical_flip=False,\n",
        "            rotation_range=15,\n",
        "            shear_range=0.1,\n",
        "            zoom_range=0.1,\n",
        "            width_shift_range=0.2,\n",
        "            height_shift_range=0.2\n",
        "        )\n",
        "    else:\n",
        "        train_idg = ImageDataGenerator(\n",
        "            rescale=1. /255,\n",
        "            validation_split=0.1                 \n",
        "        )\n",
        "    \n",
        "    test_idg = ImageDataGenerator(\n",
        "            rescale=1. /255\n",
        "        )\n",
        "    \n",
        "    print(f\"{train_data_path}\")\n",
        "    train_generator = train_idg.flow_from_directory(\n",
        "        train_data_path,\n",
        "        batch_size=batch_size,\n",
        "        target_size=(width, height),\n",
        "        subset='training',\n",
        "        class_mode='categorical'\n",
        "    )\n",
        "\n",
        "    val_generator = train_idg.flow_from_directory(\n",
        "        train_data_path,\n",
        "        batch_size=batch_size,\n",
        "        target_size=(width, height),\n",
        "        subset='validation',\n",
        "        class_mode='categorical'\n",
        "    )\n",
        "\n",
        "    print(f\"{test_data_path}\")\n",
        "    test_generator = test_idg.flow_from_directory(\n",
        "        test_data_path,\n",
        "        batch_size=batch_size, \n",
        "        target_size=(width, height)\n",
        "    )\n",
        "    \n",
        "    return train_generator, val_generator, test_generator"
      ],
      "execution_count": 8,
      "outputs": []
    },
    {
      "cell_type": "markdown",
      "source": [
        "**BUILD A CNN_MODEL ON ALREADY EXISTING PRE TRAINED MODEL**"
      ],
      "metadata": {
        "id": "3ybFGJ4YTtOb"
      }
    },
    {
      "cell_type": "code",
      "metadata": {
        "id": "r70BS5z8Hrvj"
      },
      "source": [
        "inception_v3 = \"InceptionV3\"\n",
        "inception_resnet_v2 = \"InceptionResNetV2\"\n",
        "resnet50 = \"ResNet50\"\n",
        "xception = \"Xception\"\n",
        "\n",
        "def cnn_Model(model_name=xception, dropout=0.2):\n",
        "    global base_model\n",
        "\n",
        "    if model_name == xception:\n",
        "        base_model = Xception(\n",
        "            weights=\"imagenet\",  \n",
        "            input_shape=input_shape,\n",
        "            include_top=False,\n",
        "        ) \n",
        "    elif model_name == inception_v3:\n",
        "        base_model = InceptionV3(\n",
        "            weights=\"imagenet\", \n",
        "            input_shape=input_shape,\n",
        "            include_top=False,\n",
        "        )  \n",
        "    elif model_name == inception_resnet_v2:\n",
        "        base_model = InceptionResNetV2(\n",
        "            weights=\"imagenet\", \n",
        "            input_shape=input_shape,\n",
        "            include_top=False,\n",
        "        ) \n",
        "    else:\n",
        "        base_model = ResNet50(\n",
        "            weights=\"imagenet\", \n",
        "            input_shape=input_shape,\n",
        "            include_top=False,\n",
        "        )  \n",
        "\n",
        "    # Freeze the base_model\n",
        "    base_model.trainable = False\n",
        "\n",
        "    # Create new model on top\n",
        "    inputs = keras.Input(shape=input_shape)\n",
        "\n",
        "    x = base_model(inputs, training=False)\n",
        "    x = keras.layers.GlobalAveragePooling2D()(x)\n",
        "    x = keras.layers.Dropout(dropout)(x)\n",
        "\n",
        "    model = Sequential()\n",
        "    model.add(Model(inputs, x))\n",
        "    model.add(layers.Dense(10))\n",
        "    model.add(layers.Activation('softmax'))\n",
        "\n",
        "    return model"
      ],
      "execution_count": 9,
      "outputs": []
    },
    {
      "cell_type": "code",
      "metadata": {
        "id": "AhtO_Wwnytnd"
      },
      "source": [
        "sweep_config = {\n",
        "  'name': 'Assignment 2 - partb',  \n",
        "  'method': 'grid',\n",
        "  'parameters': {\n",
        "        'dataset_aug':{\n",
        "            'values':[True,False]   \n",
        "        },\n",
        "        'dropout':{\n",
        "            'values':[0.2, 0.5]\n",
        "        },\n",
        "        'model_name':{\n",
        "            'values':[inception_v3, inception_resnet_v2]\n",
        "        },\n",
        "        'epochs':{\n",
        "            'values':[5]\n",
        "        },\n",
        "        'lr':{\n",
        "            'values':[0.0015,0.0001]\n",
        "        }\n",
        "    }\n",
        "}"
      ],
      "execution_count": 10,
      "outputs": []
    },
    {
      "cell_type": "code",
      "metadata": {
        "id": "DxypnAUPz6It"
      },
      "source": [
        "default_config={\n",
        "    'dataset_aug':True,\n",
        "    'dropout':0.2,\n",
        "    'model_name':inception_v3,\n",
        "    'epochs':5,\n",
        "    'lr':0.00001\n",
        "}"
      ],
      "execution_count": 11,
      "outputs": []
    },
    {
      "cell_type": "markdown",
      "source": [
        "**HYPER PARAMETER FINE TUNING**"
      ],
      "metadata": {
        "id": "pccBC8yXTztu"
      }
    },
    {
      "cell_type": "code",
      "metadata": {
        "id": "VRqdhndcn1KH"
      },
      "source": [
        "def hyperparameter_run():\n",
        "    #  MirroredStrategy.\n",
        "    if tf.config.list_physical_devices('GPU'):\n",
        "        strategy = tf.distribute.MirroredStrategy()\n",
        "    else: \n",
        "        strategy = tf.distribute.get_strategy()\n",
        "    print('Number of devices: {}'.format(strategy.num_replicas_in_sync))\n",
        "\n",
        "    wandb.init(config=default_config, magic=True, project=\"DLAssignment2-partb\", entity='cs21s002-ee21s113-dlassignment-1')\n",
        "    config = wandb.config\n",
        "    run_name = str(config).replace(\"{\", \"\").replace(\"}\",\"\").replace(\":\",\"-\").replace(\",\",\"-\")\n",
        "    wandb.run.name = run_name\n",
        "\n",
        "    # Open a strategy scope and create the model\n",
        "    with strategy.scope():\n",
        "        model = cnn_Model(config.model_name, config.dropout)\n",
        "    \n",
        "    model.summary()\n",
        "\n",
        "    plot_model(model)\n",
        "\n",
        "    model.compile(loss=\"categorical_crossentropy\", optimizer=optimizers.Adam(), metrics=\"categorical_accuracy\")\n",
        "\n",
        "    history_callback = History()\n",
        "\n",
        "    train_generator, val_generator, test_generator = dataset_Generators(True)\n",
        "\n",
        "    model.fit(train_generator ,epochs=config.epochs, validation_data=val_generator, callbacks=[WandbCallback()])\n",
        "\n",
        "    base_model.trainable = True\n",
        "\n",
        "    model.summary()\n",
        "\n",
        "    model.compile(loss=\"categorical_crossentropy\", optimizer=optimizers.Adam(config.lr), metrics=\"accuracy\")\n",
        "\n",
        "    model.fit(train_generator ,epochs=config.epochs, validation_data=test_generator, callbacks=[WandbCallback()])\n",
        "\n",
        "    model.save(f'{run_name}.h5')  # creates a HDF5 file 'my_model.h5'"
      ],
      "execution_count": 12,
      "outputs": []
    },
    {
      "cell_type": "code",
      "metadata": {
        "colab": {
          "base_uri": "https://localhost:8080/"
        },
        "id": "8l1USgMhyskX",
        "outputId": "b821d0ae-35c1-410b-dde3-1d1afa406d20"
      },
      "source": [
        "sweep_id = wandb.sweep(sweep_config, project=\"DLAssignment2-partb\", entity='cs21s002-ee21s113-dlassignment-1')"
      ],
      "execution_count": 13,
      "outputs": [
        {
          "output_type": "stream",
          "name": "stdout",
          "text": [
            "Create sweep with ID: eivlxmcl\n",
            "Sweep URL: https://wandb.ai/cs21s002-ee21s113-dlassignment-1/DLAssignment2-partb/sweeps/eivlxmcl\n"
          ]
        }
      ]
    },
    {
      "cell_type": "code",
      "metadata": {
        "colab": {
          "base_uri": "https://localhost:8080/",
          "height": 939,
          "referenced_widgets": [
            "d972826214194003a26d39e7c8be25e7",
            "6b655c2e14c3475c8e9abf97d825063c",
            "c99966c175034041a665ee13eb064607",
            "5cb890eb1c124a61b7699ee091c8b6b7",
            "2a26f16a2f7d40f59d1288322ceda444",
            "d8cffdc492514e35867f1445b35b5a8f",
            "dd8cd86d01f14c52847e002502750c97",
            "6beefa22e9f24cc1a7b820a993d8c8de"
          ]
        },
        "id": "6niR723J33P8",
        "outputId": "8e96641e-0cc1-480c-ad08-b5caabc0d35a"
      },
      "source": [
        "wandb.agent(sweep_id, function=hyperparameter_run, project=\"DLAssignment2-partb\", entity='cs21s002-ee21s113-dlassignment-1')"
      ],
      "execution_count": 14,
      "outputs": [
        {
          "output_type": "stream",
          "name": "stderr",
          "text": [
            "\u001b[34m\u001b[1mwandb\u001b[0m: \u001b[33mWARNING\u001b[0m Calling wandb.login() after wandb.init() has no effect.\n",
            "\u001b[34m\u001b[1mwandb\u001b[0m: Agent Starting Run: eibuef76 with config:\n",
            "\u001b[34m\u001b[1mwandb\u001b[0m: \tdataset_aug: True\n",
            "\u001b[34m\u001b[1mwandb\u001b[0m: \tdropout: 0.2\n",
            "\u001b[34m\u001b[1mwandb\u001b[0m: \tepochs: 5\n",
            "\u001b[34m\u001b[1mwandb\u001b[0m: \tlr: 0.0015\n",
            "\u001b[34m\u001b[1mwandb\u001b[0m: \tmodel_name: InceptionV3\n"
          ]
        },
        {
          "output_type": "stream",
          "name": "stdout",
          "text": [
            "Number of devices: 1\n"
          ]
        },
        {
          "output_type": "stream",
          "name": "stderr",
          "text": [
            "\u001b[34m\u001b[1mwandb\u001b[0m: \u001b[33mWARNING\u001b[0m Ignored wandb.init() arg project when running a sweep.\n",
            "\u001b[34m\u001b[1mwandb\u001b[0m: \u001b[33mWARNING\u001b[0m Ignored wandb.init() arg entity when running a sweep.\n"
          ]
        },
        {
          "output_type": "display_data",
          "data": {
            "text/plain": [
              "<IPython.core.display.HTML object>"
            ],
            "text/html": [
              "Tracking run with wandb version 0.12.11"
            ]
          },
          "metadata": {}
        },
        {
          "output_type": "display_data",
          "data": {
            "text/plain": [
              "<IPython.core.display.HTML object>"
            ],
            "text/html": [
              "Run data is saved locally in <code>/content/wandb/run-20220403_120553-eibuef76</code>"
            ]
          },
          "metadata": {}
        },
        {
          "output_type": "display_data",
          "data": {
            "text/plain": [
              "<IPython.core.display.HTML object>"
            ],
            "text/html": [
              "Syncing run <strong><a href=\"https://wandb.ai/cs21s002-ee21s113-dlassignment-1/DLAssignment2-partb/runs/eibuef76\" target=\"_blank\">desert-sweep-1</a></strong> to <a href=\"https://wandb.ai/cs21s002-ee21s113-dlassignment-1/DLAssignment2-partb\" target=\"_blank\">Weights & Biases</a> (<a href=\"https://wandb.me/run\" target=\"_blank\">docs</a>)<br/>Sweep page:  <a href=\"https://wandb.ai/cs21s002-ee21s113-dlassignment-1/DLAssignment2-partb/sweeps/eivlxmcl\" target=\"_blank\">https://wandb.ai/cs21s002-ee21s113-dlassignment-1/DLAssignment2-partb/sweeps/eivlxmcl</a>"
            ]
          },
          "metadata": {}
        },
        {
          "output_type": "stream",
          "name": "stderr",
          "text": [
            "\u001b[34m\u001b[1mwandb\u001b[0m: \u001b[33mWARNING\u001b[0m Ignored wandb.init() arg project when running a sweep.\n",
            "\u001b[34m\u001b[1mwandb\u001b[0m: \u001b[33mWARNING\u001b[0m Ignored wandb.init() arg entity when running a sweep.\n"
          ]
        },
        {
          "output_type": "display_data",
          "data": {
            "text/plain": [
              "<IPython.core.display.HTML object>"
            ],
            "text/html": [
              "Finishing last run (ID:eibuef76) before initializing another..."
            ]
          },
          "metadata": {}
        },
        {
          "output_type": "stream",
          "name": "stdout",
          "text": [
            "\n"
          ]
        },
        {
          "output_type": "display_data",
          "data": {
            "text/plain": [
              "<IPython.core.display.HTML object>"
            ],
            "text/html": [
              "Waiting for W&B process to finish... <strong style=\"color:green\">(success).</strong>"
            ]
          },
          "metadata": {}
        },
        {
          "output_type": "display_data",
          "data": {
            "text/plain": [
              "VBox(children=(Label(value='0.001 MB of 0.001 MB uploaded (0.000 MB deduped)\\r'), FloatProgress(value=1.0, max…"
            ],
            "application/vnd.jupyter.widget-view+json": {
              "version_major": 2,
              "version_minor": 0,
              "model_id": "d972826214194003a26d39e7c8be25e7"
            }
          },
          "metadata": {}
        },
        {
          "output_type": "display_data",
          "data": {
            "text/plain": [
              "<IPython.core.display.HTML object>"
            ],
            "text/html": [
              "Synced <strong style=\"color:#cdcd00\">desert-sweep-1</strong>: <a href=\"https://wandb.ai/cs21s002-ee21s113-dlassignment-1/DLAssignment2-partb/runs/eibuef76\" target=\"_blank\">https://wandb.ai/cs21s002-ee21s113-dlassignment-1/DLAssignment2-partb/runs/eibuef76</a><br/>Synced 5 W&B file(s), 0 media file(s), 0 artifact file(s) and 0 other file(s)"
            ]
          },
          "metadata": {}
        },
        {
          "output_type": "display_data",
          "data": {
            "text/plain": [
              "<IPython.core.display.HTML object>"
            ],
            "text/html": [
              "Find logs at: <code>./wandb/run-20220403_120553-eibuef76/logs</code>"
            ]
          },
          "metadata": {}
        },
        {
          "output_type": "display_data",
          "data": {
            "text/plain": [
              "<IPython.core.display.HTML object>"
            ],
            "text/html": [
              "Successfully finished last run (ID:eibuef76). Initializing new run:<br/>"
            ]
          },
          "metadata": {}
        },
        {
          "output_type": "display_data",
          "data": {
            "text/plain": [
              "<IPython.core.display.HTML object>"
            ],
            "text/html": [
              "Tracking run with wandb version 0.12.11"
            ]
          },
          "metadata": {}
        },
        {
          "output_type": "display_data",
          "data": {
            "text/plain": [
              "<IPython.core.display.HTML object>"
            ],
            "text/html": [
              "Run data is saved locally in <code>/content/wandb/run-20220403_120559-eibuef76</code>"
            ]
          },
          "metadata": {}
        },
        {
          "output_type": "display_data",
          "data": {
            "text/plain": [
              "<IPython.core.display.HTML object>"
            ],
            "text/html": [
              "Syncing run <strong><a href=\"https://wandb.ai/cs21s002-ee21s113-dlassignment-1/DLAssignment2-partb/runs/eibuef76\" target=\"_blank\">desert-sweep-1</a></strong> to <a href=\"https://wandb.ai/cs21s002-ee21s113-dlassignment-1/DLAssignment2-partb\" target=\"_blank\">Weights & Biases</a> (<a href=\"https://wandb.me/run\" target=\"_blank\">docs</a>)<br/>Sweep page:  <a href=\"https://wandb.ai/cs21s002-ee21s113-dlassignment-1/DLAssignment2-partb/sweeps/eivlxmcl\" target=\"_blank\">https://wandb.ai/cs21s002-ee21s113-dlassignment-1/DLAssignment2-partb/sweeps/eivlxmcl</a>"
            ]
          },
          "metadata": {}
        },
        {
          "output_type": "stream",
          "name": "stdout",
          "text": [
            "Downloading data from https://storage.googleapis.com/tensorflow/keras-applications/inception_v3/inception_v3_weights_tf_dim_ordering_tf_kernels_notop.h5\n",
            "87916544/87910968 [==============================] - 1s 0us/step\n",
            "87924736/87910968 [==============================] - 1s 0us/step\n",
            "Model: \"sequential\"\n",
            "_________________________________________________________________\n",
            " Layer (type)                Output Shape              Param #   \n",
            "=================================================================\n",
            " model (Functional)          (None, 2048)              21802784  \n",
            "                                                                 \n",
            " dense (Dense)               (None, 10)                20490     \n",
            "                                                                 \n",
            " activation_94 (Activation)  (None, 10)                0         \n",
            "                                                                 \n",
            "=================================================================\n",
            "Total params: 21,823,274\n",
            "Trainable params: 20,490\n",
            "Non-trainable params: 21,802,784\n",
            "_________________________________________________________________\n",
            "/content/inaturalist_12K/train\n",
            "Found 9000 images belonging to 10 classes.\n",
            "Found 999 images belonging to 10 classes.\n",
            "/content/inaturalist_12K/val\n",
            "Found 2000 images belonging to 10 classes.\n",
            "Epoch 1/5\n",
            " 3/71 [>.............................] - ETA: 13:05 - loss: 3.0794 - categorical_accuracy: 0.0911"
          ]
        },
        {
          "output_type": "stream",
          "name": "stderr",
          "text": [
            "\u001b[34m\u001b[1mwandb\u001b[0m: Ctrl + C detected. Stopping sweep.\n"
          ]
        }
      ]
    }
  ]
}