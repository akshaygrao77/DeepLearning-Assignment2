{
  "nbformat": 4,
  "nbformat_minor": 0,
  "metadata": {
    "colab": {
      "name": "Part_B.ipynb",
      "provenance": [],
      "include_colab_link": true
    },
    "kernelspec": {
      "name": "python3",
      "display_name": "Python 3"
    },
    "language_info": {
      "name": "python"
    },
    "accelerator": "GPU",
    "widgets": {
      "application/vnd.jupyter.widget-state+json": {
        "3ef3070ed7ef481d8d3af71e71282297": {
          "model_module": "@jupyter-widgets/controls",
          "model_name": "VBoxModel",
          "model_module_version": "1.5.0",
          "state": {
            "_dom_classes": [],
            "_model_module": "@jupyter-widgets/controls",
            "_model_module_version": "1.5.0",
            "_model_name": "VBoxModel",
            "_view_count": null,
            "_view_module": "@jupyter-widgets/controls",
            "_view_module_version": "1.5.0",
            "_view_name": "VBoxView",
            "box_style": "",
            "children": [
              "IPY_MODEL_403174e5f71a499e9bc65dcecd110b83",
              "IPY_MODEL_d9a41f0debd540228e6ece9e84743819"
            ],
            "layout": "IPY_MODEL_3a5365b18c864ee489fcd1c2618b24a1"
          }
        },
        "403174e5f71a499e9bc65dcecd110b83": {
          "model_module": "@jupyter-widgets/controls",
          "model_name": "LabelModel",
          "model_module_version": "1.5.0",
          "state": {
            "_dom_classes": [],
            "_model_module": "@jupyter-widgets/controls",
            "_model_module_version": "1.5.0",
            "_model_name": "LabelModel",
            "_view_count": null,
            "_view_module": "@jupyter-widgets/controls",
            "_view_module_version": "1.5.0",
            "_view_name": "LabelView",
            "description": "",
            "description_tooltip": null,
            "layout": "IPY_MODEL_9d5e464a472f49f2ba826544424b4667",
            "placeholder": "​",
            "style": "IPY_MODEL_2c3307af0c744ceb8dfcb0f7d5d2cb82",
            "value": ""
          }
        },
        "d9a41f0debd540228e6ece9e84743819": {
          "model_module": "@jupyter-widgets/controls",
          "model_name": "FloatProgressModel",
          "model_module_version": "1.5.0",
          "state": {
            "_dom_classes": [],
            "_model_module": "@jupyter-widgets/controls",
            "_model_module_version": "1.5.0",
            "_model_name": "FloatProgressModel",
            "_view_count": null,
            "_view_module": "@jupyter-widgets/controls",
            "_view_module_version": "1.5.0",
            "_view_name": "ProgressView",
            "bar_style": "",
            "description": "",
            "description_tooltip": null,
            "layout": "IPY_MODEL_34065e7e326e47709d1d9aa82baa41fd",
            "max": 1,
            "min": 0,
            "orientation": "horizontal",
            "style": "IPY_MODEL_a65e773d0bd0464592141563eec53b0f",
            "value": 0
          }
        },
        "3a5365b18c864ee489fcd1c2618b24a1": {
          "model_module": "@jupyter-widgets/base",
          "model_name": "LayoutModel",
          "model_module_version": "1.2.0",
          "state": {
            "_model_module": "@jupyter-widgets/base",
            "_model_module_version": "1.2.0",
            "_model_name": "LayoutModel",
            "_view_count": null,
            "_view_module": "@jupyter-widgets/base",
            "_view_module_version": "1.2.0",
            "_view_name": "LayoutView",
            "align_content": null,
            "align_items": null,
            "align_self": null,
            "border": null,
            "bottom": null,
            "display": null,
            "flex": null,
            "flex_flow": null,
            "grid_area": null,
            "grid_auto_columns": null,
            "grid_auto_flow": null,
            "grid_auto_rows": null,
            "grid_column": null,
            "grid_gap": null,
            "grid_row": null,
            "grid_template_areas": null,
            "grid_template_columns": null,
            "grid_template_rows": null,
            "height": null,
            "justify_content": null,
            "justify_items": null,
            "left": null,
            "margin": null,
            "max_height": null,
            "max_width": null,
            "min_height": null,
            "min_width": null,
            "object_fit": null,
            "object_position": null,
            "order": null,
            "overflow": null,
            "overflow_x": null,
            "overflow_y": null,
            "padding": null,
            "right": null,
            "top": null,
            "visibility": null,
            "width": null
          }
        },
        "9d5e464a472f49f2ba826544424b4667": {
          "model_module": "@jupyter-widgets/base",
          "model_name": "LayoutModel",
          "model_module_version": "1.2.0",
          "state": {
            "_model_module": "@jupyter-widgets/base",
            "_model_module_version": "1.2.0",
            "_model_name": "LayoutModel",
            "_view_count": null,
            "_view_module": "@jupyter-widgets/base",
            "_view_module_version": "1.2.0",
            "_view_name": "LayoutView",
            "align_content": null,
            "align_items": null,
            "align_self": null,
            "border": null,
            "bottom": null,
            "display": null,
            "flex": null,
            "flex_flow": null,
            "grid_area": null,
            "grid_auto_columns": null,
            "grid_auto_flow": null,
            "grid_auto_rows": null,
            "grid_column": null,
            "grid_gap": null,
            "grid_row": null,
            "grid_template_areas": null,
            "grid_template_columns": null,
            "grid_template_rows": null,
            "height": null,
            "justify_content": null,
            "justify_items": null,
            "left": null,
            "margin": null,
            "max_height": null,
            "max_width": null,
            "min_height": null,
            "min_width": null,
            "object_fit": null,
            "object_position": null,
            "order": null,
            "overflow": null,
            "overflow_x": null,
            "overflow_y": null,
            "padding": null,
            "right": null,
            "top": null,
            "visibility": null,
            "width": null
          }
        },
        "2c3307af0c744ceb8dfcb0f7d5d2cb82": {
          "model_module": "@jupyter-widgets/controls",
          "model_name": "DescriptionStyleModel",
          "model_module_version": "1.5.0",
          "state": {
            "_model_module": "@jupyter-widgets/controls",
            "_model_module_version": "1.5.0",
            "_model_name": "DescriptionStyleModel",
            "_view_count": null,
            "_view_module": "@jupyter-widgets/base",
            "_view_module_version": "1.2.0",
            "_view_name": "StyleView",
            "description_width": ""
          }
        },
        "34065e7e326e47709d1d9aa82baa41fd": {
          "model_module": "@jupyter-widgets/base",
          "model_name": "LayoutModel",
          "model_module_version": "1.2.0",
          "state": {
            "_model_module": "@jupyter-widgets/base",
            "_model_module_version": "1.2.0",
            "_model_name": "LayoutModel",
            "_view_count": null,
            "_view_module": "@jupyter-widgets/base",
            "_view_module_version": "1.2.0",
            "_view_name": "LayoutView",
            "align_content": null,
            "align_items": null,
            "align_self": null,
            "border": null,
            "bottom": null,
            "display": null,
            "flex": null,
            "flex_flow": null,
            "grid_area": null,
            "grid_auto_columns": null,
            "grid_auto_flow": null,
            "grid_auto_rows": null,
            "grid_column": null,
            "grid_gap": null,
            "grid_row": null,
            "grid_template_areas": null,
            "grid_template_columns": null,
            "grid_template_rows": null,
            "height": null,
            "justify_content": null,
            "justify_items": null,
            "left": null,
            "margin": null,
            "max_height": null,
            "max_width": null,
            "min_height": null,
            "min_width": null,
            "object_fit": null,
            "object_position": null,
            "order": null,
            "overflow": null,
            "overflow_x": null,
            "overflow_y": null,
            "padding": null,
            "right": null,
            "top": null,
            "visibility": null,
            "width": null
          }
        },
        "a65e773d0bd0464592141563eec53b0f": {
          "model_module": "@jupyter-widgets/controls",
          "model_name": "ProgressStyleModel",
          "model_module_version": "1.5.0",
          "state": {
            "_model_module": "@jupyter-widgets/controls",
            "_model_module_version": "1.5.0",
            "_model_name": "ProgressStyleModel",
            "_view_count": null,
            "_view_module": "@jupyter-widgets/base",
            "_view_module_version": "1.2.0",
            "_view_name": "StyleView",
            "bar_color": null,
            "description_width": ""
          }
        }
      }
    }
  },
  "cells": [
    {
      "cell_type": "markdown",
      "metadata": {
        "id": "view-in-github",
        "colab_type": "text"
      },
      "source": [
        "<a href=\"https://colab.research.google.com/github/akshaygrao77/DeepLearning-Assignment2/blob/main/Part_B.ipynb\" target=\"_parent\"><img src=\"https://colab.research.google.com/assets/colab-badge.svg\" alt=\"Open In Colab\"/></a>"
      ]
    },
    {
      "cell_type": "code",
      "metadata": {
        "id": "hF46BbB2GM87"
      },
      "source": [
        "%%capture\n",
        "!curl -SL https://storage.googleapis.com/wandb_datasets/nature_12K.zip > dataset.zip\n",
        "!unzip dataset.zip"
      ],
      "execution_count": null,
      "outputs": []
    },
    {
      "cell_type": "code",
      "metadata": {
        "id": "yTrrpj3IHaAa"
      },
      "source": [
        "!rm dataset.zip"
      ],
      "execution_count": 2,
      "outputs": []
    },
    {
      "cell_type": "code",
      "metadata": {
        "id": "O3GhqEI_HCK5"
      },
      "source": [
        "import tensorflow as tf\n",
        "from tensorflow import keras\n",
        "from keras.models import Sequential, Model\n",
        "from tensorflow.keras import  models, optimizers, layers, activations\n",
        "from keras.preprocessing.image import ImageDataGenerator\n",
        "from keras.utils.vis_utils import plot_model\n",
        "from keras.callbacks import History\n",
        "import numpy as np\n",
        "import matplotlib.pyplot as plt\n",
        "from PIL import Image\n",
        "import os"
      ],
      "execution_count": 3,
      "outputs": []
    },
    {
      "cell_type": "code",
      "metadata": {
        "id": "Q1mSqJgtKZKM"
      },
      "source": [
        "from keras.applications.inception_v3 import InceptionV3\n",
        "from keras.applications.inception_resnet_v2 import InceptionResNetV2\n",
        "from keras.applications.resnet import ResNet50\n",
        "from keras.applications.xception import Xception"
      ],
      "execution_count": 5,
      "outputs": []
    },
    {
      "cell_type": "code",
      "metadata": {
        "colab": {
          "base_uri": "https://localhost:8080/"
        },
        "id": "Fymb6amqHEkG",
        "outputId": "9f266233-e0a6-4b64-c93c-bea9a4b933f4"
      },
      "source": [
        "!pip install wandb -qqq\n",
        "import wandb\n",
        "from wandb.keras import WandbCallback"
      ],
      "execution_count": 6,
      "outputs": [
        {
          "output_type": "stream",
          "name": "stdout",
          "text": [
            "\u001b[K     |████████████████████████████████| 1.7 MB 5.4 MB/s \n",
            "\u001b[K     |████████████████████████████████| 181 kB 37.7 MB/s \n",
            "\u001b[K     |████████████████████████████████| 144 kB 44.3 MB/s \n",
            "\u001b[K     |████████████████████████████████| 63 kB 1.6 MB/s \n",
            "\u001b[?25h  Building wheel for pathtools (setup.py) ... \u001b[?25l\u001b[?25hdone\n"
          ]
        }
      ]
    },
    {
      "cell_type": "code",
      "metadata": {
        "id": "x60QDZMNHHCf",
        "colab": {
          "base_uri": "https://localhost:8080/",
          "height": 160
        },
        "outputId": "4c1391ed-300c-4dbe-8107-fa9d22a5097c"
      },
      "source": [
        "wandb.init(project=\"DLAssignment2-partb\", entity='cs21s002-ee21s113-dlassignment-1')"
      ],
      "execution_count": 7,
      "outputs": [
        {
          "output_type": "display_data",
          "data": {
            "text/plain": [
              "<IPython.core.display.Javascript object>"
            ],
            "application/javascript": [
              "\n",
              "        window._wandbApiKey = new Promise((resolve, reject) => {\n",
              "            function loadScript(url) {\n",
              "            return new Promise(function(resolve, reject) {\n",
              "                let newScript = document.createElement(\"script\");\n",
              "                newScript.onerror = reject;\n",
              "                newScript.onload = resolve;\n",
              "                document.body.appendChild(newScript);\n",
              "                newScript.src = url;\n",
              "            });\n",
              "            }\n",
              "            loadScript(\"https://cdn.jsdelivr.net/npm/postmate/build/postmate.min.js\").then(() => {\n",
              "            const iframe = document.createElement('iframe')\n",
              "            iframe.style.cssText = \"width:0;height:0;border:none\"\n",
              "            document.body.appendChild(iframe)\n",
              "            const handshake = new Postmate({\n",
              "                container: iframe,\n",
              "                url: 'https://wandb.ai/authorize'\n",
              "            });\n",
              "            const timeout = setTimeout(() => reject(\"Couldn't auto authenticate\"), 5000)\n",
              "            handshake.then(function(child) {\n",
              "                child.on('authorize', data => {\n",
              "                    clearTimeout(timeout)\n",
              "                    resolve(data)\n",
              "                });\n",
              "            });\n",
              "            })\n",
              "        });\n",
              "    "
            ]
          },
          "metadata": {}
        },
        {
          "output_type": "stream",
          "name": "stderr",
          "text": [
            "\u001b[34m\u001b[1mwandb\u001b[0m: You can find your API key in your browser here: https://wandb.ai/authorize\n"
          ]
        },
        {
          "name": "stdout",
          "output_type": "stream",
          "text": [
            "wandb: Paste an API key from your profile and hit enter, or press ctrl+c to quit: ··········\n"
          ]
        },
        {
          "output_type": "stream",
          "name": "stderr",
          "text": [
            "\u001b[34m\u001b[1mwandb\u001b[0m: Appending key for api.wandb.ai to your netrc file: /root/.netrc\n"
          ]
        },
        {
          "output_type": "display_data",
          "data": {
            "text/plain": [
              "<IPython.core.display.HTML object>"
            ],
            "text/html": [
              "Tracking run with wandb version 0.12.11"
            ]
          },
          "metadata": {}
        },
        {
          "output_type": "display_data",
          "data": {
            "text/plain": [
              "<IPython.core.display.HTML object>"
            ],
            "text/html": [
              "Run data is saved locally in <code>/content/wandb/run-20220331_015244-3fbkr749</code>"
            ]
          },
          "metadata": {}
        },
        {
          "output_type": "display_data",
          "data": {
            "text/plain": [
              "<IPython.core.display.HTML object>"
            ],
            "text/html": [
              "Syncing run <strong><a href=\"https://wandb.ai/cs21s002-ee21s113-dlassignment-1/DLAssignment2-partb/runs/3fbkr749\" target=\"_blank\">clear-plant-1</a></strong> to <a href=\"https://wandb.ai/cs21s002-ee21s113-dlassignment-1/DLAssignment2-partb\" target=\"_blank\">Weights & Biases</a> (<a href=\"https://wandb.me/run\" target=\"_blank\">docs</a>)<br/>"
            ]
          },
          "metadata": {}
        },
        {
          "output_type": "execute_result",
          "data": {
            "text/html": [
              "<button onClick=\"this.nextSibling.style.display='block';this.style.display='none';\">Display W&B run</button><iframe src=\"https://wandb.ai/cs21s002-ee21s113-dlassignment-1/DLAssignment2-partb/runs/3fbkr749?jupyter=true\" style=\"border:none;width:100%;height:420px;display:none;\"></iframe>"
            ],
            "text/plain": [
              "<wandb.sdk.wandb_run.Run at 0x7f9952598b90>"
            ]
          },
          "metadata": {},
          "execution_count": 7
        }
      ]
    },
    {
      "cell_type": "code",
      "metadata": {
        "id": "27t2ShQMHJhu"
      },
      "source": [
        "#Constants\n",
        "path_train_data = os.getcwd()+\"/inaturalist_12K/train\"\n",
        "path_test_data = os.getcwd()+\"/inaturalist_12K/val\"\n",
        "width, height = 200, 200\n",
        "batch_size = 128\n",
        "input_shape = (200, 200, 3)"
      ],
      "execution_count": 9,
      "outputs": []
    },
    {
      "cell_type": "code",
      "metadata": {
        "id": "OeYGyZHxMbJd"
      },
      "source": [
        "def get_dataset_generators(train_data_aug=False):\n",
        "    if train_data_aug:\n",
        "        train_idg = ImageDataGenerator(\n",
        "            rescale=1. /255,\n",
        "            validation_split=0.1,               #10% is to be kept aside\n",
        "            horizontal_flip=True,\n",
        "            vertical_flip=False,\n",
        "            rotation_range=15,\n",
        "            shear_range=0.1,\n",
        "            zoom_range=0.1,\n",
        "            width_shift_range=0.2,\n",
        "            height_shift_range=0.2\n",
        "        )\n",
        "    else:\n",
        "        train_idg = ImageDataGenerator(\n",
        "            rescale=1. /255,\n",
        "            validation_split=0.1                 #10% is to be kept aside\n",
        "        )\n",
        "    \n",
        "    test_idg = ImageDataGenerator(\n",
        "            rescale=1. /255\n",
        "        )\n",
        "    \n",
        "    print(f\"{path_train_data}\")\n",
        "    train_generator = train_idg.flow_from_directory(\n",
        "        path_train_data,\n",
        "        batch_size=batch_size,\n",
        "        target_size=(width, height),\n",
        "        subset='training',\n",
        "        class_mode='categorical'\n",
        "    )\n",
        "\n",
        "    val_generator = train_idg.flow_from_directory(\n",
        "        path_train_data,\n",
        "        batch_size=batch_size,\n",
        "        target_size=(width, height),\n",
        "        subset='validation',\n",
        "        class_mode='categorical'\n",
        "    )\n",
        "\n",
        "    print(f\"{path_test_data}\")\n",
        "    test_generator = test_idg.flow_from_directory(\n",
        "        path_test_data,\n",
        "        batch_size=batch_size, \n",
        "        target_size=(width, height)\n",
        "    )\n",
        "    \n",
        "    return train_generator, val_generator, test_generator"
      ],
      "execution_count": 10,
      "outputs": []
    },
    {
      "cell_type": "code",
      "metadata": {
        "id": "r70BS5z8Hrvj"
      },
      "source": [
        "inception_v3 = \"InceptionV3\"\n",
        "inception_resnet_v2 = \"InceptionResNetV2\"\n",
        "resnet50 = \"ResNet50\"\n",
        "xception = \"Xception\"\n",
        "\n",
        "def get_model(model_name=xception, dropout=0.2):\n",
        "    global base_model\n",
        "\n",
        "    if model_name == xception:\n",
        "        base_model = Xception(\n",
        "            weights=\"imagenet\",  # Load weights pre-trained on ImageNet.\n",
        "            input_shape=input_shape,\n",
        "            include_top=False,\n",
        "        )  # Do not include the ImageNet classifier at the top.\n",
        "    elif model_name == inception_v3:\n",
        "        base_model = InceptionV3(\n",
        "            weights=\"imagenet\",  # Load weights pre-trained on ImageNet.\n",
        "            input_shape=input_shape,\n",
        "            include_top=False,\n",
        "        )  # Do not include the ImageNet classifier at the top.\n",
        "    elif model_name == inception_resnet_v2:\n",
        "        base_model = InceptionResNetV2(\n",
        "            weights=\"imagenet\",  # Load weights pre-trained on ImageNet.\n",
        "            input_shape=input_shape,\n",
        "            include_top=False,\n",
        "        )  # Do not include the ImageNet classifier at the top.\n",
        "    else:\n",
        "        base_model = ResNet50(\n",
        "            weights=\"imagenet\",  # Load weights pre-trained on ImageNet.\n",
        "            input_shape=input_shape,\n",
        "            include_top=False,\n",
        "        )  # Do not include the ImageNet classifier at the top.\n",
        "\n",
        "    # Freeze the base_model\n",
        "    base_model.trainable = False\n",
        "\n",
        "    # Create new model on top\n",
        "    inputs = keras.Input(shape=input_shape)\n",
        "\n",
        "    x = base_model(inputs, training=False)\n",
        "    x = keras.layers.GlobalAveragePooling2D()(x)\n",
        "    x = keras.layers.Dropout(dropout)(x)\n",
        "\n",
        "    model = Sequential()\n",
        "    model.add(Model(inputs, x))\n",
        "    model.add(layers.Dense(10))\n",
        "    model.add(layers.Activation('softmax'))\n",
        "\n",
        "    return model"
      ],
      "execution_count": 11,
      "outputs": []
    },
    {
      "cell_type": "code",
      "metadata": {
        "id": "vyUkVJ9vfJzM"
      },
      "source": [
        "# # Create a MirroredStrategy.\n",
        "# if tf.config.list_physical_devices('GPU'):\n",
        "#     strategy = tf.distribute.MirroredStrategy()\n",
        "# else:  # use default strategy\n",
        "#     strategy = tf.distribute.get_strategy()\n",
        "# print('Number of devices: {}'.format(strategy.num_replicas_in_sync))\n",
        "\n",
        "# # Open a strategy scope and create the model\n",
        "# with strategy.scope():\n",
        "#     model = get_model(inception_v3, 0.3)"
      ],
      "execution_count": 12,
      "outputs": []
    },
    {
      "cell_type": "code",
      "metadata": {
        "id": "uUbsdyKGfYdi"
      },
      "source": [
        "# model.summary()"
      ],
      "execution_count": 13,
      "outputs": []
    },
    {
      "cell_type": "code",
      "metadata": {
        "id": "63sbMIglftJX"
      },
      "source": [
        "# plot_model(model)"
      ],
      "execution_count": 14,
      "outputs": []
    },
    {
      "cell_type": "code",
      "metadata": {
        "id": "HsAz1vRvgJZH"
      },
      "source": [
        "# model.compile(loss=\"categorical_crossentropy\", optimizer=optimizers.Adam(), metrics=\"categorical_accuracy\")"
      ],
      "execution_count": 15,
      "outputs": []
    },
    {
      "cell_type": "code",
      "metadata": {
        "id": "ZqTNHUT5nDHI"
      },
      "source": [
        "# history = History()"
      ],
      "execution_count": 16,
      "outputs": []
    },
    {
      "cell_type": "code",
      "metadata": {
        "id": "qPBYfwxlnqc9"
      },
      "source": [
        "# train_generator, val_generator, test_generator = get_dataset_generators(True)"
      ],
      "execution_count": 17,
      "outputs": []
    },
    {
      "cell_type": "code",
      "metadata": {
        "id": "PiRx_JV8ne6V"
      },
      "source": [
        "# model.fit(train_generator ,epochs=10, validation_data=val_generator, callbacks=[history, WandbCallback()])"
      ],
      "execution_count": 18,
      "outputs": []
    },
    {
      "cell_type": "code",
      "metadata": {
        "id": "AhtO_Wwnytnd"
      },
      "source": [
        "sweep_config = {\n",
        "  'name': 'Assignment 2 - gamma',  \n",
        "  'method': 'grid',\n",
        "  'parameters': {\n",
        "        'dataset_aug':{\n",
        "            'values':[True]   \n",
        "        },\n",
        "        'dropout':{\n",
        "            'values':[0.2, 0.5]\n",
        "        },\n",
        "        'model_name':{\n",
        "            'values':[inception_v3, inception_resnet_v2, resnet50, xception]\n",
        "        },\n",
        "        'epochs':{\n",
        "            'values':[7]\n",
        "        },\n",
        "        'lr':{\n",
        "            'values':[0.0001, 0.00001]\n",
        "        }\n",
        "    }\n",
        "}"
      ],
      "execution_count": 19,
      "outputs": []
    },
    {
      "cell_type": "code",
      "metadata": {
        "id": "DxypnAUPz6It"
      },
      "source": [
        "default_config={\n",
        "    'dataset_aug':True,\n",
        "    'dropout':0.2,\n",
        "    'model_name':inception_v3,\n",
        "    'epochs':7,\n",
        "    'lr':0.00001\n",
        "}"
      ],
      "execution_count": 20,
      "outputs": []
    },
    {
      "cell_type": "code",
      "metadata": {
        "id": "VRqdhndcn1KH"
      },
      "source": [
        "def run():\n",
        "    # Create a MirroredStrategy.\n",
        "    if tf.config.list_physical_devices('GPU'):\n",
        "        strategy = tf.distribute.MirroredStrategy()\n",
        "    else:  # use default strategy\n",
        "        strategy = tf.distribute.get_strategy()\n",
        "    print('Number of devices: {}'.format(strategy.num_replicas_in_sync))\n",
        "\n",
        "    wandb.init(config=default_config, magic=True, project=\"DLAssignment2-partb\", entity='cs21s002-ee21s113-dlassignment-1')\n",
        "    config = wandb.config\n",
        "    run_name = str(config).replace(\"{\", \"\").replace(\"}\",\"\").replace(\":\",\"-\").replace(\",\",\"-\")\n",
        "    wandb.run.name = run_name\n",
        "\n",
        "    # Open a strategy scope and create the model\n",
        "    with strategy.scope():\n",
        "        model = get_model(config.model_name, config.dropout)\n",
        "    \n",
        "    model.summary()\n",
        "\n",
        "    plot_model(model)\n",
        "\n",
        "    model.compile(loss=\"categorical_crossentropy\", optimizer=optimizers.Adam(), metrics=\"categorical_accuracy\")\n",
        "\n",
        "    history_callback = History()\n",
        "\n",
        "    train_generator, val_generator, test_generator = get_dataset_generators(True)\n",
        "\n",
        "    model.fit(train_generator ,epochs=config.epochs, validation_data=val_generator, callbacks=[WandbCallback()])\n",
        "\n",
        "    base_model.trainable = True\n",
        "\n",
        "    model.summary()\n",
        "\n",
        "    model.compile(loss=\"categorical_crossentropy\", optimizer=optimizers.Adam(config.lr), metrics=\"accuracy\")\n",
        "\n",
        "    model.fit(train_generator ,epochs=config.epochs, validation_data=test_generator, callbacks=[WandbCallback()])\n",
        "\n",
        "    model.save(f'{run_name}.h5')  # creates a HDF5 file 'my_model.h5'"
      ],
      "execution_count": 21,
      "outputs": []
    },
    {
      "cell_type": "code",
      "metadata": {
        "colab": {
          "base_uri": "https://localhost:8080/"
        },
        "id": "8l1USgMhyskX",
        "outputId": "baf45977-893a-48e8-bd9e-41471df81032"
      },
      "source": [
        "sweep_id = wandb.sweep(sweep_config, project=\"DLAssignment2-partb\", entity='cs21s002-ee21s113-dlassignment-1')"
      ],
      "execution_count": 22,
      "outputs": [
        {
          "output_type": "stream",
          "name": "stdout",
          "text": [
            "Create sweep with ID: qhymx6la\n",
            "Sweep URL: https://wandb.ai/cs21s002-ee21s113-dlassignment-1/DLAssignment2-partb/sweeps/qhymx6la\n"
          ]
        }
      ]
    },
    {
      "cell_type": "code",
      "metadata": {
        "colab": {
          "base_uri": "https://localhost:8080/",
          "height": 1000,
          "referenced_widgets": [
            "3ef3070ed7ef481d8d3af71e71282297",
            "403174e5f71a499e9bc65dcecd110b83",
            "d9a41f0debd540228e6ece9e84743819",
            "3a5365b18c864ee489fcd1c2618b24a1",
            "9d5e464a472f49f2ba826544424b4667",
            "2c3307af0c744ceb8dfcb0f7d5d2cb82",
            "34065e7e326e47709d1d9aa82baa41fd",
            "a65e773d0bd0464592141563eec53b0f"
          ]
        },
        "id": "6niR723J33P8",
        "outputId": "1b1f3db3-af35-4e17-ff61-6f6bcd0bf293"
      },
      "source": [
        "wandb.agent(sweep_id, function=run, project=\"DLAssignment2-partb\", entity='cs21s002-ee21s113-dlassignment-1')"
      ],
      "execution_count": null,
      "outputs": [
        {
          "metadata": {
            "tags": null
          },
          "name": "stderr",
          "output_type": "stream",
          "text": [
            "\u001b[34m\u001b[1mwandb\u001b[0m: \u001b[33mWARNING\u001b[0m Calling wandb.login() after wandb.init() has no effect.\n",
            "\u001b[34m\u001b[1mwandb\u001b[0m: Agent Starting Run: eoaoek4k with config:\n",
            "\u001b[34m\u001b[1mwandb\u001b[0m: \tdataset_aug: True\n",
            "\u001b[34m\u001b[1mwandb\u001b[0m: \tdropout: 0.2\n",
            "\u001b[34m\u001b[1mwandb\u001b[0m: \tepochs: 7\n",
            "\u001b[34m\u001b[1mwandb\u001b[0m: \tlr: 0.0001\n",
            "\u001b[34m\u001b[1mwandb\u001b[0m: \tmodel_name: InceptionV3\n"
          ]
        },
        {
          "metadata": {
            "tags": null
          },
          "name": "stdout",
          "output_type": "stream",
          "text": [
            "INFO:tensorflow:Using MirroredStrategy with devices ('/job:localhost/replica:0/task:0/device:GPU:0',)\n",
            "Number of devices: 1\n"
          ]
        },
        {
          "metadata": {
            "tags": null
          },
          "name": "stderr",
          "output_type": "stream",
          "text": [
            "\u001b[34m\u001b[1mwandb\u001b[0m: \u001b[33mWARNING\u001b[0m Ignored wandb.init() arg project when running a sweep.\n",
            "\u001b[34m\u001b[1mwandb\u001b[0m: \u001b[33mWARNING\u001b[0m Ignored wandb.init() arg entity when running a sweep.\n"
          ]
        },
        {
          "data": {
            "text/html": [
              "Tracking run with wandb version 0.12.11"
            ],
            "text/plain": [
              "<IPython.core.display.HTML object>"
            ]
          },
          "metadata": {},
          "output_type": "display_data"
        },
        {
          "data": {
            "text/html": [
              "Run data is saved locally in <code>/content/wandb/run-20220331_015312-eoaoek4k</code>"
            ],
            "text/plain": [
              "<IPython.core.display.HTML object>"
            ]
          },
          "metadata": {},
          "output_type": "display_data"
        },
        {
          "data": {
            "text/html": [
              "Syncing run <strong><a href=\"https://wandb.ai/cs21s002-ee21s113-dlassignment-1/DLAssignment2-partb/runs/eoaoek4k\" target=\"_blank\">vibrant-sweep-1</a></strong> to <a href=\"https://wandb.ai/cs21s002-ee21s113-dlassignment-1/DLAssignment2-partb\" target=\"_blank\">Weights & Biases</a> (<a href=\"https://wandb.me/run\" target=\"_blank\">docs</a>)<br/>Sweep page:  <a href=\"https://wandb.ai/cs21s002-ee21s113-dlassignment-1/DLAssignment2-partb/sweeps/qhymx6la\" target=\"_blank\">https://wandb.ai/cs21s002-ee21s113-dlassignment-1/DLAssignment2-partb/sweeps/qhymx6la</a>"
            ],
            "text/plain": [
              "<IPython.core.display.HTML object>"
            ]
          },
          "metadata": {},
          "output_type": "display_data"
        },
        {
          "metadata": {
            "tags": null
          },
          "name": "stderr",
          "output_type": "stream",
          "text": [
            "\u001b[34m\u001b[1mwandb\u001b[0m: \u001b[33mWARNING\u001b[0m Ignored wandb.init() arg project when running a sweep.\n",
            "\u001b[34m\u001b[1mwandb\u001b[0m: \u001b[33mWARNING\u001b[0m Ignored wandb.init() arg entity when running a sweep.\n"
          ]
        },
        {
          "data": {
            "text/html": [
              "Finishing last run (ID:eoaoek4k) before initializing another..."
            ],
            "text/plain": [
              "<IPython.core.display.HTML object>"
            ]
          },
          "metadata": {},
          "output_type": "display_data"
        },
        {
          "metadata": {
            "tags": null
          },
          "name": "stdout",
          "output_type": "stream",
          "text": [
            "\n"
          ]
        },
        {
          "data": {
            "text/html": [
              "Waiting for W&B process to finish... <strong style=\"color:green\">(success).</strong>"
            ],
            "text/plain": [
              "<IPython.core.display.HTML object>"
            ]
          },
          "metadata": {},
          "output_type": "display_data"
        },
        {
          "data": {
            "application/vnd.jupyter.widget-view+json": {
              "model_id": "3ef3070ed7ef481d8d3af71e71282297",
              "version_major": 2,
              "version_minor": 0
            },
            "text/plain": [
              "VBox(children=(Label(value='0.001 MB of 0.001 MB uploaded (0.000 MB deduped)\\r'), FloatProgress(value=1.0, max…"
            ]
          },
          "metadata": {},
          "output_type": "display_data"
        },
        {
          "data": {
            "text/html": [
              "Synced <strong style=\"color:#cdcd00\">vibrant-sweep-1</strong>: <a href=\"https://wandb.ai/cs21s002-ee21s113-dlassignment-1/DLAssignment2-partb/runs/eoaoek4k\" target=\"_blank\">https://wandb.ai/cs21s002-ee21s113-dlassignment-1/DLAssignment2-partb/runs/eoaoek4k</a><br/>Synced 5 W&B file(s), 0 media file(s), 0 artifact file(s) and 0 other file(s)"
            ],
            "text/plain": [
              "<IPython.core.display.HTML object>"
            ]
          },
          "metadata": {},
          "output_type": "display_data"
        },
        {
          "data": {
            "text/html": [
              "Find logs at: <code>./wandb/run-20220331_015312-eoaoek4k/logs</code>"
            ],
            "text/plain": [
              "<IPython.core.display.HTML object>"
            ]
          },
          "metadata": {},
          "output_type": "display_data"
        },
        {
          "data": {
            "text/html": [
              "Successfully finished last run (ID:eoaoek4k). Initializing new run:<br/>"
            ],
            "text/plain": [
              "<IPython.core.display.HTML object>"
            ]
          },
          "metadata": {},
          "output_type": "display_data"
        },
        {
          "data": {
            "text/html": [
              "Tracking run with wandb version 0.12.11"
            ],
            "text/plain": [
              "<IPython.core.display.HTML object>"
            ]
          },
          "metadata": {},
          "output_type": "display_data"
        },
        {
          "data": {
            "text/html": [
              "Run data is saved locally in <code>/content/wandb/run-20220331_015318-eoaoek4k</code>"
            ],
            "text/plain": [
              "<IPython.core.display.HTML object>"
            ]
          },
          "metadata": {},
          "output_type": "display_data"
        },
        {
          "data": {
            "text/html": [
              "Syncing run <strong><a href=\"https://wandb.ai/cs21s002-ee21s113-dlassignment-1/DLAssignment2-partb/runs/eoaoek4k\" target=\"_blank\">vibrant-sweep-1</a></strong> to <a href=\"https://wandb.ai/cs21s002-ee21s113-dlassignment-1/DLAssignment2-partb\" target=\"_blank\">Weights & Biases</a> (<a href=\"https://wandb.me/run\" target=\"_blank\">docs</a>)<br/>Sweep page:  <a href=\"https://wandb.ai/cs21s002-ee21s113-dlassignment-1/DLAssignment2-partb/sweeps/qhymx6la\" target=\"_blank\">https://wandb.ai/cs21s002-ee21s113-dlassignment-1/DLAssignment2-partb/sweeps/qhymx6la</a>"
            ],
            "text/plain": [
              "<IPython.core.display.HTML object>"
            ]
          },
          "metadata": {},
          "output_type": "display_data"
        },
        {
          "output_type": "stream",
          "name": "stdout",
          "text": [
            "INFO:tensorflow:Reduce to /job:localhost/replica:0/task:0/device:CPU:0 then broadcast to ('/job:localhost/replica:0/task:0/device:CPU:0',).\n",
            "INFO:tensorflow:Reduce to /job:localhost/replica:0/task:0/device:CPU:0 then broadcast to ('/job:localhost/replica:0/task:0/device:CPU:0',).\n",
            "INFO:tensorflow:Reduce to /job:localhost/replica:0/task:0/device:CPU:0 then broadcast to ('/job:localhost/replica:0/task:0/device:CPU:0',).\n",
            "INFO:tensorflow:Reduce to /job:localhost/replica:0/task:0/device:CPU:0 then broadcast to ('/job:localhost/replica:0/task:0/device:CPU:0',).\n",
            "INFO:tensorflow:Reduce to /job:localhost/replica:0/task:0/device:CPU:0 then broadcast to ('/job:localhost/replica:0/task:0/device:CPU:0',).\n",
            "INFO:tensorflow:Reduce to /job:localhost/replica:0/task:0/device:CPU:0 then broadcast to ('/job:localhost/replica:0/task:0/device:CPU:0',).\n",
            "INFO:tensorflow:Reduce to /job:localhost/replica:0/task:0/device:CPU:0 then broadcast to ('/job:localhost/replica:0/task:0/device:CPU:0',).\n",
            "INFO:tensorflow:Reduce to /job:localhost/replica:0/task:0/device:CPU:0 then broadcast to ('/job:localhost/replica:0/task:0/device:CPU:0',).\n",
            "INFO:tensorflow:Reduce to /job:localhost/replica:0/task:0/device:CPU:0 then broadcast to ('/job:localhost/replica:0/task:0/device:CPU:0',).\n",
            "INFO:tensorflow:Reduce to /job:localhost/replica:0/task:0/device:CPU:0 then broadcast to ('/job:localhost/replica:0/task:0/device:CPU:0',).\n",
            "Downloading data from https://storage.googleapis.com/tensorflow/keras-applications/inception_v3/inception_v3_weights_tf_dim_ordering_tf_kernels_notop.h5\n",
            "87916544/87910968 [==============================] - 1s 0us/step\n",
            "87924736/87910968 [==============================] - 1s 0us/step\n",
            "Model: \"sequential\"\n",
            "_________________________________________________________________\n",
            " Layer (type)                Output Shape              Param #   \n",
            "=================================================================\n",
            " model (Functional)          (None, 2048)              21802784  \n",
            "                                                                 \n",
            " dense (Dense)               (None, 10)                20490     \n",
            "                                                                 \n",
            " activation_94 (Activation)  (None, 10)                0         \n",
            "                                                                 \n",
            "=================================================================\n",
            "Total params: 21,823,274\n",
            "Trainable params: 20,490\n",
            "Non-trainable params: 21,802,784\n",
            "_________________________________________________________________\n",
            "/content/inaturalist_12K/train\n",
            "Found 9000 images belonging to 10 classes.\n",
            "Found 999 images belonging to 10 classes.\n",
            "/content/inaturalist_12K/val\n",
            "Found 2000 images belonging to 10 classes.\n",
            "Epoch 1/7\n",
            "71/71 [==============================] - 260s 3s/step - loss: 1.7775 - categorical_accuracy: 0.4448 - val_loss: 1.1535 - val_categorical_accuracy: 0.6186 - _timestamp: 1648691888.0000 - _runtime: 282.0000\n",
            "Epoch 2/7\n",
            "71/71 [==============================] - 211s 3s/step - loss: 1.2434 - categorical_accuracy: 0.6029 - val_loss: 1.1530 - val_categorical_accuracy: 0.6256 - _timestamp: 1648692109.0000 - _runtime: 503.0000\n",
            "Epoch 3/7\n",
            "71/71 [==============================] - 208s 3s/step - loss: 1.1575 - categorical_accuracy: 0.6339 - val_loss: 1.0784 - val_categorical_accuracy: 0.6507 - _timestamp: 1648692317.0000 - _runtime: 711.0000\n",
            "Epoch 4/7\n",
            "71/71 [==============================] - 213s 3s/step - loss: 1.1428 - categorical_accuracy: 0.6332 - val_loss: 1.0643 - val_categorical_accuracy: 0.6537 - _timestamp: 1648692584.0000 - _runtime: 978.0000\n",
            "Epoch 5/7\n",
            "71/71 [==============================] - 212s 3s/step - loss: 1.0885 - categorical_accuracy: 0.6528 - val_loss: 1.0096 - val_categorical_accuracy: 0.6807 - _timestamp: 1648692797.0000 - _runtime: 1191.0000\n",
            "Epoch 6/7\n",
            "71/71 [==============================] - 228s 3s/step - loss: 1.0711 - categorical_accuracy: 0.6564 - val_loss: 1.0857 - val_categorical_accuracy: 0.6456 - _timestamp: 1648693026.0000 - _runtime: 1420.0000\n",
            "Epoch 7/7\n",
            "71/71 [==============================] - 209s 3s/step - loss: 1.0490 - categorical_accuracy: 0.6602 - val_loss: 0.9981 - val_categorical_accuracy: 0.6727 - _timestamp: 1648693234.0000 - _runtime: 1628.0000\n",
            "Model: \"sequential\"\n",
            "_________________________________________________________________\n",
            " Layer (type)                Output Shape              Param #   \n",
            "=================================================================\n",
            " model (Functional)          (None, 2048)              21802784  \n",
            "                                                                 \n",
            " dense (Dense)               (None, 10)                20490     \n",
            "                                                                 \n",
            " activation_94 (Activation)  (None, 10)                0         \n",
            "                                                                 \n",
            "=================================================================\n",
            "Total params: 21,823,274\n",
            "Trainable params: 21,788,842\n",
            "Non-trainable params: 34,432\n",
            "_________________________________________________________________\n",
            "Epoch 1/7\n",
            "71/71 [==============================] - 272s 4s/step - loss: 1.1109 - accuracy: 0.6354 - val_loss: 0.8429 - val_accuracy: 0.7260 - _timestamp: 1648693562.0000 - _runtime: 1956.0000\n",
            "Epoch 2/7\n",
            "12/71 [====>.........................] - ETA: 3:09 - loss: 0.8691 - accuracy: 0.6986"
          ]
        }
      ]
    }
  ]
}